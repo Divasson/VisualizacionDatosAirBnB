{
 "cells": [
  {
   "cell_type": "markdown",
   "metadata": {},
   "source": [
    "### PRICE REGRESSION MODELLING"
   ]
  },
  {
   "cell_type": "markdown",
   "metadata": {},
   "source": [
    "Librerías"
   ]
  },
  {
   "cell_type": "code",
   "execution_count": 10,
   "metadata": {},
   "outputs": [],
   "source": [
    "import numpy as np\n",
    "from sklearn.decomposition import PCA\n",
    "from urllib.parse import urlencode\n",
    "import pandas as pd\n",
    "import plotly.express as px\n",
    "import plotly.io as pio\n",
    "from sklearn.model_selection import train_test_split\n",
    "from sklearn.preprocessing import StandardScaler\n",
    "import plotly.graph_objects as go\n",
    "import math\n",
    "from plotly.subplots import make_subplots\n",
    "\n",
    "\n",
    "pio.renderers.default = 'vscode'\n",
    "pio.templates.default = 'plotly'\n",
    "\n",
    "from sklearn.linear_model import LogisticRegression\n",
    "from sklearn.ensemble import RandomForestClassifier\n",
    "\n",
    "\n",
    "from sklearn.metrics import accuracy_score\n",
    "from sklearn.metrics import classification_report\n",
    "from sklearn.metrics import roc_auc_score, roc_curve, auc\n",
    "from sklearn.metrics import confusion_matrix\n",
    "from sklearn.preprocessing import label_binarize\n",
    "\n",
    "\n",
    "import plotly.figure_factory as ff\n",
    "\n",
    "import geopandas \n",
    "import json\n",
    "\n",
    "from cv2 import mean\n",
    "from itertools import count\n",
    "\n",
    "import matplotlib.pyplot as plt\n",
    "from wordcloud import WordCloud, STOPWORDS\n",
    "\n",
    "from scipy.stats import uniform, randint\n",
    "\n",
    "from sklearn.metrics import auc, accuracy_score, confusion_matrix, mean_squared_error\n",
    "from sklearn.model_selection import cross_val_score, GridSearchCV, KFold, RandomizedSearchCV, train_test_split\n",
    "\n",
    "import xgboost as xgb"
   ]
  },
  {
   "cell_type": "markdown",
   "metadata": {},
   "source": [
    "Importación de datos"
   ]
  },
  {
   "cell_type": "code",
   "execution_count": 3,
   "metadata": {},
   "outputs": [
    {
     "data": {
      "text/html": [
       "<div>\n",
       "<style scoped>\n",
       "    .dataframe tbody tr th:only-of-type {\n",
       "        vertical-align: middle;\n",
       "    }\n",
       "\n",
       "    .dataframe tbody tr th {\n",
       "        vertical-align: top;\n",
       "    }\n",
       "\n",
       "    .dataframe thead th {\n",
       "        text-align: right;\n",
       "    }\n",
       "</style>\n",
       "<table border=\"1\" class=\"dataframe\">\n",
       "  <thead>\n",
       "    <tr style=\"text-align: right;\">\n",
       "      <th></th>\n",
       "      <th>id</th>\n",
       "      <th>listing_url</th>\n",
       "      <th>scrape_id</th>\n",
       "      <th>last_scraped</th>\n",
       "      <th>source</th>\n",
       "      <th>name</th>\n",
       "      <th>description</th>\n",
       "      <th>neighborhood_overview</th>\n",
       "      <th>picture_url</th>\n",
       "      <th>host_id</th>\n",
       "      <th>host_url</th>\n",
       "      <th>host_name</th>\n",
       "      <th>host_since</th>\n",
       "      <th>host_location</th>\n",
       "      <th>host_about</th>\n",
       "      <th>host_response_time</th>\n",
       "      <th>host_response_rate</th>\n",
       "      <th>host_acceptance_rate</th>\n",
       "      <th>host_is_superhost</th>\n",
       "      <th>host_thumbnail_url</th>\n",
       "      <th>host_picture_url</th>\n",
       "      <th>host_neighbourhood</th>\n",
       "      <th>host_listings_count</th>\n",
       "      <th>host_total_listings_count</th>\n",
       "      <th>host_verifications</th>\n",
       "      <th>host_has_profile_pic</th>\n",
       "      <th>host_identity_verified</th>\n",
       "      <th>neighbourhood</th>\n",
       "      <th>neighbourhood_cleansed</th>\n",
       "      <th>neighbourhood_group_cleansed</th>\n",
       "      <th>latitude</th>\n",
       "      <th>longitude</th>\n",
       "      <th>property_type</th>\n",
       "      <th>room_type</th>\n",
       "      <th>accommodates</th>\n",
       "      <th>bathrooms</th>\n",
       "      <th>bathrooms_text</th>\n",
       "      <th>bedrooms</th>\n",
       "      <th>beds</th>\n",
       "      <th>amenities</th>\n",
       "      <th>price</th>\n",
       "      <th>minimum_nights</th>\n",
       "      <th>maximum_nights</th>\n",
       "      <th>minimum_minimum_nights</th>\n",
       "      <th>maximum_minimum_nights</th>\n",
       "      <th>minimum_maximum_nights</th>\n",
       "      <th>maximum_maximum_nights</th>\n",
       "      <th>minimum_nights_avg_ntm</th>\n",
       "      <th>maximum_nights_avg_ntm</th>\n",
       "      <th>calendar_updated</th>\n",
       "      <th>has_availability</th>\n",
       "      <th>availability_30</th>\n",
       "      <th>availability_60</th>\n",
       "      <th>availability_90</th>\n",
       "      <th>availability_365</th>\n",
       "      <th>calendar_last_scraped</th>\n",
       "      <th>number_of_reviews</th>\n",
       "      <th>number_of_reviews_ltm</th>\n",
       "      <th>number_of_reviews_l30d</th>\n",
       "      <th>first_review</th>\n",
       "      <th>last_review</th>\n",
       "      <th>review_scores_rating</th>\n",
       "      <th>review_scores_accuracy</th>\n",
       "      <th>review_scores_cleanliness</th>\n",
       "      <th>review_scores_checkin</th>\n",
       "      <th>review_scores_communication</th>\n",
       "      <th>review_scores_location</th>\n",
       "      <th>review_scores_value</th>\n",
       "      <th>license</th>\n",
       "      <th>instant_bookable</th>\n",
       "      <th>calculated_host_listings_count</th>\n",
       "      <th>calculated_host_listings_count_entire_homes</th>\n",
       "      <th>calculated_host_listings_count_private_rooms</th>\n",
       "      <th>calculated_host_listings_count_shared_rooms</th>\n",
       "      <th>reviews_per_month</th>\n",
       "    </tr>\n",
       "  </thead>\n",
       "  <tbody>\n",
       "    <tr>\n",
       "      <th>0</th>\n",
       "      <td>2539</td>\n",
       "      <td>https://www.airbnb.com/rooms/2539</td>\n",
       "      <td>20220907064715</td>\n",
       "      <td>2022-09-07</td>\n",
       "      <td>city scrape</td>\n",
       "      <td>Clean &amp; quiet apt home by the park</td>\n",
       "      <td>Renovated apt home in elevator building.&lt;br /&gt;...</td>\n",
       "      <td>Close to Prospect Park and Historic Ditmas Park</td>\n",
       "      <td>https://a0.muscache.com/pictures/3949d073-a02e...</td>\n",
       "      <td>2787</td>\n",
       "      <td>https://www.airbnb.com/users/show/2787</td>\n",
       "      <td>John</td>\n",
       "      <td>2008-09-07</td>\n",
       "      <td>New York, NY</td>\n",
       "      <td>Educated professional living in Brooklyn.  I l...</td>\n",
       "      <td>within an hour</td>\n",
       "      <td>100%</td>\n",
       "      <td>90%</td>\n",
       "      <td>f</td>\n",
       "      <td>https://a0.muscache.com/im/pictures/user/86745...</td>\n",
       "      <td>https://a0.muscache.com/im/pictures/user/86745...</td>\n",
       "      <td>Gravesend</td>\n",
       "      <td>9.0</td>\n",
       "      <td>12.0</td>\n",
       "      <td>['email', 'phone']</td>\n",
       "      <td>t</td>\n",
       "      <td>t</td>\n",
       "      <td>Brooklyn , New York, United States</td>\n",
       "      <td>Kensington</td>\n",
       "      <td>Brooklyn</td>\n",
       "      <td>40.64529</td>\n",
       "      <td>-73.97238</td>\n",
       "      <td>Private room in rental unit</td>\n",
       "      <td>Private room</td>\n",
       "      <td>2</td>\n",
       "      <td>NaN</td>\n",
       "      <td>1 shared bath</td>\n",
       "      <td>1.0</td>\n",
       "      <td>1.0</td>\n",
       "      <td>[\"First aid kit\", \"Microwave\", \"Stove\", \"Coffe...</td>\n",
       "      <td>$299.00</td>\n",
       "      <td>30</td>\n",
       "      <td>730</td>\n",
       "      <td>30.0</td>\n",
       "      <td>30.0</td>\n",
       "      <td>730.0</td>\n",
       "      <td>730.0</td>\n",
       "      <td>30.0</td>\n",
       "      <td>730.0</td>\n",
       "      <td>NaN</td>\n",
       "      <td>t</td>\n",
       "      <td>21</td>\n",
       "      <td>51</td>\n",
       "      <td>81</td>\n",
       "      <td>356</td>\n",
       "      <td>2022-09-07</td>\n",
       "      <td>9</td>\n",
       "      <td>0</td>\n",
       "      <td>0</td>\n",
       "      <td>2015-12-04</td>\n",
       "      <td>2018-10-19</td>\n",
       "      <td>4.89</td>\n",
       "      <td>4.88</td>\n",
       "      <td>5.00</td>\n",
       "      <td>5.00</td>\n",
       "      <td>5.00</td>\n",
       "      <td>4.75</td>\n",
       "      <td>4.88</td>\n",
       "      <td>None</td>\n",
       "      <td>f</td>\n",
       "      <td>9</td>\n",
       "      <td>1</td>\n",
       "      <td>6</td>\n",
       "      <td>2</td>\n",
       "      <td>0.11</td>\n",
       "    </tr>\n",
       "    <tr>\n",
       "      <th>1</th>\n",
       "      <td>2595</td>\n",
       "      <td>https://www.airbnb.com/rooms/2595</td>\n",
       "      <td>20220907064715</td>\n",
       "      <td>2022-09-07</td>\n",
       "      <td>city scrape</td>\n",
       "      <td>Skylit Midtown Castle</td>\n",
       "      <td>Beautiful, spacious skylit studio in the heart...</td>\n",
       "      <td>Centrally located in the heart of Manhattan ju...</td>\n",
       "      <td>https://a0.muscache.com/pictures/f0813a11-40b2...</td>\n",
       "      <td>2845</td>\n",
       "      <td>https://www.airbnb.com/users/show/2845</td>\n",
       "      <td>Jennifer</td>\n",
       "      <td>2008-09-09</td>\n",
       "      <td>New York, NY</td>\n",
       "      <td>A New Yorker since (Phone number hidden by Air...</td>\n",
       "      <td>within a day</td>\n",
       "      <td>75%</td>\n",
       "      <td>23%</td>\n",
       "      <td>f</td>\n",
       "      <td>https://a0.muscache.com/im/pictures/user/50fc5...</td>\n",
       "      <td>https://a0.muscache.com/im/pictures/user/50fc5...</td>\n",
       "      <td>Midtown</td>\n",
       "      <td>6.0</td>\n",
       "      <td>9.0</td>\n",
       "      <td>['email', 'phone', 'work_email']</td>\n",
       "      <td>t</td>\n",
       "      <td>t</td>\n",
       "      <td>New York, United States</td>\n",
       "      <td>Midtown</td>\n",
       "      <td>Manhattan</td>\n",
       "      <td>40.75356</td>\n",
       "      <td>-73.98559</td>\n",
       "      <td>Entire rental unit</td>\n",
       "      <td>Entire home/apt</td>\n",
       "      <td>1</td>\n",
       "      <td>NaN</td>\n",
       "      <td>1 bath</td>\n",
       "      <td>NaN</td>\n",
       "      <td>1.0</td>\n",
       "      <td>[\"Stove\", \"Coffee maker\", \"Long term stays all...</td>\n",
       "      <td>$175.00</td>\n",
       "      <td>30</td>\n",
       "      <td>1125</td>\n",
       "      <td>30.0</td>\n",
       "      <td>30.0</td>\n",
       "      <td>1125.0</td>\n",
       "      <td>1125.0</td>\n",
       "      <td>30.0</td>\n",
       "      <td>1125.0</td>\n",
       "      <td>NaN</td>\n",
       "      <td>t</td>\n",
       "      <td>0</td>\n",
       "      <td>0</td>\n",
       "      <td>5</td>\n",
       "      <td>280</td>\n",
       "      <td>2022-09-07</td>\n",
       "      <td>49</td>\n",
       "      <td>1</td>\n",
       "      <td>0</td>\n",
       "      <td>2009-11-21</td>\n",
       "      <td>2022-06-21</td>\n",
       "      <td>4.68</td>\n",
       "      <td>4.73</td>\n",
       "      <td>4.63</td>\n",
       "      <td>4.77</td>\n",
       "      <td>4.80</td>\n",
       "      <td>4.81</td>\n",
       "      <td>4.40</td>\n",
       "      <td>None</td>\n",
       "      <td>f</td>\n",
       "      <td>3</td>\n",
       "      <td>3</td>\n",
       "      <td>0</td>\n",
       "      <td>0</td>\n",
       "      <td>0.31</td>\n",
       "    </tr>\n",
       "    <tr>\n",
       "      <th>2</th>\n",
       "      <td>5121</td>\n",
       "      <td>https://www.airbnb.com/rooms/5121</td>\n",
       "      <td>20220907064715</td>\n",
       "      <td>2022-09-07</td>\n",
       "      <td>city scrape</td>\n",
       "      <td>BlissArtsSpace!</td>\n",
       "      <td>One room available for rent in a 2 bedroom apt...</td>\n",
       "      <td>None</td>\n",
       "      <td>https://a0.muscache.com/pictures/2090980c-b68e...</td>\n",
       "      <td>7356</td>\n",
       "      <td>https://www.airbnb.com/users/show/7356</td>\n",
       "      <td>Garon</td>\n",
       "      <td>2009-02-03</td>\n",
       "      <td>New York, NY</td>\n",
       "      <td>I am an artist(painter, filmmaker) and curato...</td>\n",
       "      <td>within an hour</td>\n",
       "      <td>100%</td>\n",
       "      <td>100%</td>\n",
       "      <td>t</td>\n",
       "      <td>https://a0.muscache.com/im/pictures/user/72a61...</td>\n",
       "      <td>https://a0.muscache.com/im/pictures/user/72a61...</td>\n",
       "      <td>Bedford-Stuyvesant</td>\n",
       "      <td>2.0</td>\n",
       "      <td>2.0</td>\n",
       "      <td>['email', 'phone']</td>\n",
       "      <td>t</td>\n",
       "      <td>t</td>\n",
       "      <td>None</td>\n",
       "      <td>Bedford-Stuyvesant</td>\n",
       "      <td>Brooklyn</td>\n",
       "      <td>40.68535</td>\n",
       "      <td>-73.95512</td>\n",
       "      <td>Private room in rental unit</td>\n",
       "      <td>Private room</td>\n",
       "      <td>2</td>\n",
       "      <td>NaN</td>\n",
       "      <td>None</td>\n",
       "      <td>1.0</td>\n",
       "      <td>1.0</td>\n",
       "      <td>[\"Heating\", \"Kitchen\", \"Air conditioning\", \"Wi...</td>\n",
       "      <td>$60.00</td>\n",
       "      <td>30</td>\n",
       "      <td>730</td>\n",
       "      <td>30.0</td>\n",
       "      <td>30.0</td>\n",
       "      <td>730.0</td>\n",
       "      <td>730.0</td>\n",
       "      <td>30.0</td>\n",
       "      <td>730.0</td>\n",
       "      <td>NaN</td>\n",
       "      <td>t</td>\n",
       "      <td>5</td>\n",
       "      <td>30</td>\n",
       "      <td>60</td>\n",
       "      <td>335</td>\n",
       "      <td>2022-09-07</td>\n",
       "      <td>50</td>\n",
       "      <td>0</td>\n",
       "      <td>0</td>\n",
       "      <td>2009-05-28</td>\n",
       "      <td>2019-12-02</td>\n",
       "      <td>4.52</td>\n",
       "      <td>4.22</td>\n",
       "      <td>4.09</td>\n",
       "      <td>4.91</td>\n",
       "      <td>4.91</td>\n",
       "      <td>4.47</td>\n",
       "      <td>4.52</td>\n",
       "      <td>None</td>\n",
       "      <td>f</td>\n",
       "      <td>2</td>\n",
       "      <td>0</td>\n",
       "      <td>2</td>\n",
       "      <td>0</td>\n",
       "      <td>0.31</td>\n",
       "    </tr>\n",
       "    <tr>\n",
       "      <th>3</th>\n",
       "      <td>45910</td>\n",
       "      <td>https://www.airbnb.com/rooms/45910</td>\n",
       "      <td>20220907064715</td>\n",
       "      <td>2022-09-07</td>\n",
       "      <td>city scrape</td>\n",
       "      <td>Beautiful Queens Brownstone! - 5BR</td>\n",
       "      <td>&lt;b&gt;The space&lt;/b&gt;&lt;br /&gt;Beautiful, fully furnish...</td>\n",
       "      <td>None</td>\n",
       "      <td>https://a0.muscache.com/pictures/27117627/19ff...</td>\n",
       "      <td>204539</td>\n",
       "      <td>https://www.airbnb.com/users/show/204539</td>\n",
       "      <td>Mark</td>\n",
       "      <td>2010-08-17</td>\n",
       "      <td>New York, NY</td>\n",
       "      <td>Father of two boys - 9 &amp; 10.</td>\n",
       "      <td>within an hour</td>\n",
       "      <td>100%</td>\n",
       "      <td>19%</td>\n",
       "      <td>f</td>\n",
       "      <td>https://a0.muscache.com/im/users/204539/profil...</td>\n",
       "      <td>https://a0.muscache.com/im/users/204539/profil...</td>\n",
       "      <td>Ridgewood</td>\n",
       "      <td>7.0</td>\n",
       "      <td>7.0</td>\n",
       "      <td>['email', 'phone']</td>\n",
       "      <td>t</td>\n",
       "      <td>t</td>\n",
       "      <td>None</td>\n",
       "      <td>Ridgewood</td>\n",
       "      <td>Queens</td>\n",
       "      <td>40.70309</td>\n",
       "      <td>-73.89963</td>\n",
       "      <td>Entire townhouse</td>\n",
       "      <td>Entire home/apt</td>\n",
       "      <td>16</td>\n",
       "      <td>NaN</td>\n",
       "      <td>2.5 baths</td>\n",
       "      <td>5.0</td>\n",
       "      <td>10.0</td>\n",
       "      <td>[\"Hair dryer\", \"Essentials\", \"Carbon monoxide ...</td>\n",
       "      <td>$425.00</td>\n",
       "      <td>30</td>\n",
       "      <td>730</td>\n",
       "      <td>30.0</td>\n",
       "      <td>30.0</td>\n",
       "      <td>730.0</td>\n",
       "      <td>730.0</td>\n",
       "      <td>30.0</td>\n",
       "      <td>730.0</td>\n",
       "      <td>NaN</td>\n",
       "      <td>t</td>\n",
       "      <td>30</td>\n",
       "      <td>60</td>\n",
       "      <td>90</td>\n",
       "      <td>365</td>\n",
       "      <td>2022-09-07</td>\n",
       "      <td>13</td>\n",
       "      <td>0</td>\n",
       "      <td>0</td>\n",
       "      <td>2012-01-03</td>\n",
       "      <td>2019-11-12</td>\n",
       "      <td>4.42</td>\n",
       "      <td>4.64</td>\n",
       "      <td>4.36</td>\n",
       "      <td>4.82</td>\n",
       "      <td>5.00</td>\n",
       "      <td>4.82</td>\n",
       "      <td>4.55</td>\n",
       "      <td>None</td>\n",
       "      <td>f</td>\n",
       "      <td>6</td>\n",
       "      <td>6</td>\n",
       "      <td>0</td>\n",
       "      <td>0</td>\n",
       "      <td>0.10</td>\n",
       "    </tr>\n",
       "    <tr>\n",
       "      <th>4</th>\n",
       "      <td>5136</td>\n",
       "      <td>https://www.airbnb.com/rooms/5136</td>\n",
       "      <td>20220907064715</td>\n",
       "      <td>2022-09-07</td>\n",
       "      <td>city scrape</td>\n",
       "      <td>Spacious Brooklyn Duplex, Patio + Garden</td>\n",
       "      <td>We welcome you to stay in our lovely 2 br dupl...</td>\n",
       "      <td>None</td>\n",
       "      <td>https://a0.muscache.com/pictures/miso/Hosting-...</td>\n",
       "      <td>7378</td>\n",
       "      <td>https://www.airbnb.com/users/show/7378</td>\n",
       "      <td>Rebecca</td>\n",
       "      <td>2009-02-03</td>\n",
       "      <td>New York, NY</td>\n",
       "      <td>Rebecca is an artist/designer, and Henoch is i...</td>\n",
       "      <td>None</td>\n",
       "      <td>None</td>\n",
       "      <td>33%</td>\n",
       "      <td>f</td>\n",
       "      <td>https://a0.muscache.com/im/users/7378/profile_...</td>\n",
       "      <td>https://a0.muscache.com/im/users/7378/profile_...</td>\n",
       "      <td>Greenwood Heights</td>\n",
       "      <td>1.0</td>\n",
       "      <td>5.0</td>\n",
       "      <td>['email', 'phone']</td>\n",
       "      <td>t</td>\n",
       "      <td>t</td>\n",
       "      <td>None</td>\n",
       "      <td>Sunset Park</td>\n",
       "      <td>Brooklyn</td>\n",
       "      <td>40.66265</td>\n",
       "      <td>-73.99454</td>\n",
       "      <td>Entire rental unit</td>\n",
       "      <td>Entire home/apt</td>\n",
       "      <td>4</td>\n",
       "      <td>NaN</td>\n",
       "      <td>1.5 baths</td>\n",
       "      <td>2.0</td>\n",
       "      <td>2.0</td>\n",
       "      <td>[\"Hair dryer\", \"Cable TV\", \"Refrigerator\", \"BB...</td>\n",
       "      <td>$275.00</td>\n",
       "      <td>21</td>\n",
       "      <td>1125</td>\n",
       "      <td>21.0</td>\n",
       "      <td>21.0</td>\n",
       "      <td>1125.0</td>\n",
       "      <td>1125.0</td>\n",
       "      <td>21.0</td>\n",
       "      <td>1125.0</td>\n",
       "      <td>NaN</td>\n",
       "      <td>t</td>\n",
       "      <td>0</td>\n",
       "      <td>0</td>\n",
       "      <td>0</td>\n",
       "      <td>179</td>\n",
       "      <td>2022-09-07</td>\n",
       "      <td>3</td>\n",
       "      <td>1</td>\n",
       "      <td>1</td>\n",
       "      <td>2014-01-02</td>\n",
       "      <td>2022-08-10</td>\n",
       "      <td>5.00</td>\n",
       "      <td>5.00</td>\n",
       "      <td>5.00</td>\n",
       "      <td>5.00</td>\n",
       "      <td>5.00</td>\n",
       "      <td>4.67</td>\n",
       "      <td>5.00</td>\n",
       "      <td>None</td>\n",
       "      <td>f</td>\n",
       "      <td>1</td>\n",
       "      <td>1</td>\n",
       "      <td>0</td>\n",
       "      <td>0</td>\n",
       "      <td>0.03</td>\n",
       "    </tr>\n",
       "  </tbody>\n",
       "</table>\n",
       "</div>"
      ],
      "text/plain": [
       "      id                         listing_url       scrape_id last_scraped  \\\n",
       "0   2539   https://www.airbnb.com/rooms/2539  20220907064715   2022-09-07   \n",
       "1   2595   https://www.airbnb.com/rooms/2595  20220907064715   2022-09-07   \n",
       "2   5121   https://www.airbnb.com/rooms/5121  20220907064715   2022-09-07   \n",
       "3  45910  https://www.airbnb.com/rooms/45910  20220907064715   2022-09-07   \n",
       "4   5136   https://www.airbnb.com/rooms/5136  20220907064715   2022-09-07   \n",
       "\n",
       "        source                                      name  \\\n",
       "0  city scrape        Clean & quiet apt home by the park   \n",
       "1  city scrape                     Skylit Midtown Castle   \n",
       "2  city scrape                           BlissArtsSpace!   \n",
       "3  city scrape        Beautiful Queens Brownstone! - 5BR   \n",
       "4  city scrape  Spacious Brooklyn Duplex, Patio + Garden   \n",
       "\n",
       "                                         description  \\\n",
       "0  Renovated apt home in elevator building.<br />...   \n",
       "1  Beautiful, spacious skylit studio in the heart...   \n",
       "2  One room available for rent in a 2 bedroom apt...   \n",
       "3  <b>The space</b><br />Beautiful, fully furnish...   \n",
       "4  We welcome you to stay in our lovely 2 br dupl...   \n",
       "\n",
       "                               neighborhood_overview  \\\n",
       "0    Close to Prospect Park and Historic Ditmas Park   \n",
       "1  Centrally located in the heart of Manhattan ju...   \n",
       "2                                               None   \n",
       "3                                               None   \n",
       "4                                               None   \n",
       "\n",
       "                                         picture_url  host_id  \\\n",
       "0  https://a0.muscache.com/pictures/3949d073-a02e...     2787   \n",
       "1  https://a0.muscache.com/pictures/f0813a11-40b2...     2845   \n",
       "2  https://a0.muscache.com/pictures/2090980c-b68e...     7356   \n",
       "3  https://a0.muscache.com/pictures/27117627/19ff...   204539   \n",
       "4  https://a0.muscache.com/pictures/miso/Hosting-...     7378   \n",
       "\n",
       "                                   host_url host_name  host_since  \\\n",
       "0    https://www.airbnb.com/users/show/2787      John  2008-09-07   \n",
       "1    https://www.airbnb.com/users/show/2845  Jennifer  2008-09-09   \n",
       "2    https://www.airbnb.com/users/show/7356     Garon  2009-02-03   \n",
       "3  https://www.airbnb.com/users/show/204539      Mark  2010-08-17   \n",
       "4    https://www.airbnb.com/users/show/7378   Rebecca  2009-02-03   \n",
       "\n",
       "  host_location                                         host_about  \\\n",
       "0  New York, NY  Educated professional living in Brooklyn.  I l...   \n",
       "1  New York, NY  A New Yorker since (Phone number hidden by Air...   \n",
       "2  New York, NY   I am an artist(painter, filmmaker) and curato...   \n",
       "3  New York, NY                      Father of two boys - 9 & 10.    \n",
       "4  New York, NY  Rebecca is an artist/designer, and Henoch is i...   \n",
       "\n",
       "  host_response_time host_response_rate host_acceptance_rate  \\\n",
       "0     within an hour               100%                  90%   \n",
       "1       within a day                75%                  23%   \n",
       "2     within an hour               100%                 100%   \n",
       "3     within an hour               100%                  19%   \n",
       "4               None               None                  33%   \n",
       "\n",
       "  host_is_superhost                                 host_thumbnail_url  \\\n",
       "0                 f  https://a0.muscache.com/im/pictures/user/86745...   \n",
       "1                 f  https://a0.muscache.com/im/pictures/user/50fc5...   \n",
       "2                 t  https://a0.muscache.com/im/pictures/user/72a61...   \n",
       "3                 f  https://a0.muscache.com/im/users/204539/profil...   \n",
       "4                 f  https://a0.muscache.com/im/users/7378/profile_...   \n",
       "\n",
       "                                    host_picture_url  host_neighbourhood  \\\n",
       "0  https://a0.muscache.com/im/pictures/user/86745...           Gravesend   \n",
       "1  https://a0.muscache.com/im/pictures/user/50fc5...             Midtown   \n",
       "2  https://a0.muscache.com/im/pictures/user/72a61...  Bedford-Stuyvesant   \n",
       "3  https://a0.muscache.com/im/users/204539/profil...           Ridgewood   \n",
       "4  https://a0.muscache.com/im/users/7378/profile_...   Greenwood Heights   \n",
       "\n",
       "   host_listings_count  host_total_listings_count  \\\n",
       "0                  9.0                       12.0   \n",
       "1                  6.0                        9.0   \n",
       "2                  2.0                        2.0   \n",
       "3                  7.0                        7.0   \n",
       "4                  1.0                        5.0   \n",
       "\n",
       "                 host_verifications host_has_profile_pic  \\\n",
       "0                ['email', 'phone']                    t   \n",
       "1  ['email', 'phone', 'work_email']                    t   \n",
       "2                ['email', 'phone']                    t   \n",
       "3                ['email', 'phone']                    t   \n",
       "4                ['email', 'phone']                    t   \n",
       "\n",
       "  host_identity_verified                       neighbourhood  \\\n",
       "0                      t  Brooklyn , New York, United States   \n",
       "1                      t             New York, United States   \n",
       "2                      t                                None   \n",
       "3                      t                                None   \n",
       "4                      t                                None   \n",
       "\n",
       "  neighbourhood_cleansed neighbourhood_group_cleansed  latitude  longitude  \\\n",
       "0             Kensington                     Brooklyn  40.64529  -73.97238   \n",
       "1                Midtown                    Manhattan  40.75356  -73.98559   \n",
       "2     Bedford-Stuyvesant                     Brooklyn  40.68535  -73.95512   \n",
       "3              Ridgewood                       Queens  40.70309  -73.89963   \n",
       "4            Sunset Park                     Brooklyn  40.66265  -73.99454   \n",
       "\n",
       "                 property_type        room_type  accommodates  bathrooms  \\\n",
       "0  Private room in rental unit     Private room             2        NaN   \n",
       "1           Entire rental unit  Entire home/apt             1        NaN   \n",
       "2  Private room in rental unit     Private room             2        NaN   \n",
       "3             Entire townhouse  Entire home/apt            16        NaN   \n",
       "4           Entire rental unit  Entire home/apt             4        NaN   \n",
       "\n",
       "  bathrooms_text  bedrooms  beds  \\\n",
       "0  1 shared bath       1.0   1.0   \n",
       "1         1 bath       NaN   1.0   \n",
       "2           None       1.0   1.0   \n",
       "3      2.5 baths       5.0  10.0   \n",
       "4      1.5 baths       2.0   2.0   \n",
       "\n",
       "                                           amenities    price  minimum_nights  \\\n",
       "0  [\"First aid kit\", \"Microwave\", \"Stove\", \"Coffe...  $299.00              30   \n",
       "1  [\"Stove\", \"Coffee maker\", \"Long term stays all...  $175.00              30   \n",
       "2  [\"Heating\", \"Kitchen\", \"Air conditioning\", \"Wi...   $60.00              30   \n",
       "3  [\"Hair dryer\", \"Essentials\", \"Carbon monoxide ...  $425.00              30   \n",
       "4  [\"Hair dryer\", \"Cable TV\", \"Refrigerator\", \"BB...  $275.00              21   \n",
       "\n",
       "   maximum_nights  minimum_minimum_nights  maximum_minimum_nights  \\\n",
       "0             730                    30.0                    30.0   \n",
       "1            1125                    30.0                    30.0   \n",
       "2             730                    30.0                    30.0   \n",
       "3             730                    30.0                    30.0   \n",
       "4            1125                    21.0                    21.0   \n",
       "\n",
       "   minimum_maximum_nights  maximum_maximum_nights  minimum_nights_avg_ntm  \\\n",
       "0                   730.0                   730.0                    30.0   \n",
       "1                  1125.0                  1125.0                    30.0   \n",
       "2                   730.0                   730.0                    30.0   \n",
       "3                   730.0                   730.0                    30.0   \n",
       "4                  1125.0                  1125.0                    21.0   \n",
       "\n",
       "   maximum_nights_avg_ntm  calendar_updated has_availability  availability_30  \\\n",
       "0                   730.0               NaN                t               21   \n",
       "1                  1125.0               NaN                t                0   \n",
       "2                   730.0               NaN                t                5   \n",
       "3                   730.0               NaN                t               30   \n",
       "4                  1125.0               NaN                t                0   \n",
       "\n",
       "   availability_60  availability_90  availability_365 calendar_last_scraped  \\\n",
       "0               51               81               356            2022-09-07   \n",
       "1                0                5               280            2022-09-07   \n",
       "2               30               60               335            2022-09-07   \n",
       "3               60               90               365            2022-09-07   \n",
       "4                0                0               179            2022-09-07   \n",
       "\n",
       "   number_of_reviews  number_of_reviews_ltm  number_of_reviews_l30d  \\\n",
       "0                  9                      0                       0   \n",
       "1                 49                      1                       0   \n",
       "2                 50                      0                       0   \n",
       "3                 13                      0                       0   \n",
       "4                  3                      1                       1   \n",
       "\n",
       "  first_review last_review  review_scores_rating  review_scores_accuracy  \\\n",
       "0   2015-12-04  2018-10-19                  4.89                    4.88   \n",
       "1   2009-11-21  2022-06-21                  4.68                    4.73   \n",
       "2   2009-05-28  2019-12-02                  4.52                    4.22   \n",
       "3   2012-01-03  2019-11-12                  4.42                    4.64   \n",
       "4   2014-01-02  2022-08-10                  5.00                    5.00   \n",
       "\n",
       "   review_scores_cleanliness  review_scores_checkin  \\\n",
       "0                       5.00                   5.00   \n",
       "1                       4.63                   4.77   \n",
       "2                       4.09                   4.91   \n",
       "3                       4.36                   4.82   \n",
       "4                       5.00                   5.00   \n",
       "\n",
       "   review_scores_communication  review_scores_location  review_scores_value  \\\n",
       "0                         5.00                    4.75                 4.88   \n",
       "1                         4.80                    4.81                 4.40   \n",
       "2                         4.91                    4.47                 4.52   \n",
       "3                         5.00                    4.82                 4.55   \n",
       "4                         5.00                    4.67                 5.00   \n",
       "\n",
       "  license instant_bookable  calculated_host_listings_count  \\\n",
       "0    None                f                               9   \n",
       "1    None                f                               3   \n",
       "2    None                f                               2   \n",
       "3    None                f                               6   \n",
       "4    None                f                               1   \n",
       "\n",
       "   calculated_host_listings_count_entire_homes  \\\n",
       "0                                            1   \n",
       "1                                            3   \n",
       "2                                            0   \n",
       "3                                            6   \n",
       "4                                            1   \n",
       "\n",
       "   calculated_host_listings_count_private_rooms  \\\n",
       "0                                             6   \n",
       "1                                             0   \n",
       "2                                             2   \n",
       "3                                             0   \n",
       "4                                             0   \n",
       "\n",
       "   calculated_host_listings_count_shared_rooms  reviews_per_month  \n",
       "0                                            2               0.11  \n",
       "1                                            0               0.31  \n",
       "2                                            0               0.31  \n",
       "3                                            0               0.10  \n",
       "4                                            0               0.03  "
      ]
     },
     "execution_count": 3,
     "metadata": {},
     "output_type": "execute_result"
    }
   ],
   "source": [
    "listings_total_data = pd.read_parquet(\"../Data/total data/raw data parquet/listings.parquet\")\n",
    "pd.options.display.max_columns = None\n",
    "listings_total_data.head()"
   ]
  },
  {
   "cell_type": "code",
   "execution_count": 4,
   "metadata": {},
   "outputs": [
    {
     "name": "stderr",
     "output_type": "stream",
     "text": [
      "c:\\Users\\belen\\Anaconda3\\lib\\site-packages\\ipykernel_launcher.py:14: SettingWithCopyWarning:\n",
      "\n",
      "\n",
      "A value is trying to be set on a copy of a slice from a DataFrame.\n",
      "Try using .loc[row_indexer,col_indexer] = value instead\n",
      "\n",
      "See the caveats in the documentation: https://pandas.pydata.org/pandas-docs/stable/user_guide/indexing.html#returning-a-view-versus-a-copy\n",
      "\n",
      "c:\\Users\\belen\\Anaconda3\\lib\\site-packages\\ipykernel_launcher.py:15: FutureWarning:\n",
      "\n",
      "The default value of regex will change from True to False in a future version. In addition, single character regular expressions will *not* be treated as literal strings when regex=True.\n",
      "\n",
      "c:\\Users\\belen\\Anaconda3\\lib\\site-packages\\ipykernel_launcher.py:15: SettingWithCopyWarning:\n",
      "\n",
      "\n",
      "A value is trying to be set on a copy of a slice from a DataFrame.\n",
      "Try using .loc[row_indexer,col_indexer] = value instead\n",
      "\n",
      "See the caveats in the documentation: https://pandas.pydata.org/pandas-docs/stable/user_guide/indexing.html#returning-a-view-versus-a-copy\n",
      "\n",
      "c:\\Users\\belen\\Anaconda3\\lib\\site-packages\\ipykernel_launcher.py:16: SettingWithCopyWarning:\n",
      "\n",
      "\n",
      "A value is trying to be set on a copy of a slice from a DataFrame.\n",
      "Try using .loc[row_indexer,col_indexer] = value instead\n",
      "\n",
      "See the caveats in the documentation: https://pandas.pydata.org/pandas-docs/stable/user_guide/indexing.html#returning-a-view-versus-a-copy\n",
      "\n"
     ]
    },
    {
     "data": {
      "text/html": [
       "<div>\n",
       "<style scoped>\n",
       "    .dataframe tbody tr th:only-of-type {\n",
       "        vertical-align: middle;\n",
       "    }\n",
       "\n",
       "    .dataframe tbody tr th {\n",
       "        vertical-align: top;\n",
       "    }\n",
       "\n",
       "    .dataframe thead th {\n",
       "        text-align: right;\n",
       "    }\n",
       "</style>\n",
       "<table border=\"1\" class=\"dataframe\">\n",
       "  <thead>\n",
       "    <tr style=\"text-align: right;\">\n",
       "      <th></th>\n",
       "      <th>id</th>\n",
       "      <th>last_scraped</th>\n",
       "      <th>host_id</th>\n",
       "      <th>host_name</th>\n",
       "      <th>host_since</th>\n",
       "      <th>host_response_time</th>\n",
       "      <th>host_response_rate</th>\n",
       "      <th>host_acceptance_rate</th>\n",
       "      <th>host_is_superhost</th>\n",
       "      <th>host_neighbourhood</th>\n",
       "      <th>host_listings_count</th>\n",
       "      <th>host_total_listings_count</th>\n",
       "      <th>host_has_profile_pic</th>\n",
       "      <th>host_identity_verified</th>\n",
       "      <th>neighbourhood_cleansed</th>\n",
       "      <th>neighbourhood_group_cleansed</th>\n",
       "      <th>latitude</th>\n",
       "      <th>longitude</th>\n",
       "      <th>property_type</th>\n",
       "      <th>room_type</th>\n",
       "      <th>accommodates</th>\n",
       "      <th>bathrooms</th>\n",
       "      <th>bathrooms_text</th>\n",
       "      <th>bedrooms</th>\n",
       "      <th>beds</th>\n",
       "      <th>amenities</th>\n",
       "      <th>price</th>\n",
       "      <th>minimum_nights</th>\n",
       "      <th>maximum_nights</th>\n",
       "      <th>minimum_minimum_nights</th>\n",
       "      <th>maximum_minimum_nights</th>\n",
       "      <th>minimum_maximum_nights</th>\n",
       "      <th>maximum_maximum_nights</th>\n",
       "      <th>minimum_nights_avg_ntm</th>\n",
       "      <th>maximum_nights_avg_ntm</th>\n",
       "      <th>calendar_updated</th>\n",
       "      <th>has_availability</th>\n",
       "      <th>availability_30</th>\n",
       "      <th>availability_60</th>\n",
       "      <th>availability_90</th>\n",
       "      <th>availability_365</th>\n",
       "      <th>number_of_reviews</th>\n",
       "      <th>number_of_reviews_ltm</th>\n",
       "      <th>number_of_reviews_l30d</th>\n",
       "      <th>first_review</th>\n",
       "      <th>last_review</th>\n",
       "      <th>review_scores_rating</th>\n",
       "      <th>review_scores_accuracy</th>\n",
       "      <th>review_scores_cleanliness</th>\n",
       "      <th>review_scores_checkin</th>\n",
       "      <th>review_scores_communication</th>\n",
       "      <th>review_scores_location</th>\n",
       "      <th>review_scores_value</th>\n",
       "      <th>license</th>\n",
       "      <th>instant_bookable</th>\n",
       "      <th>calculated_host_listings_count</th>\n",
       "      <th>calculated_host_listings_count_entire_homes</th>\n",
       "      <th>calculated_host_listings_count_private_rooms</th>\n",
       "      <th>calculated_host_listings_count_shared_rooms</th>\n",
       "      <th>reviews_per_month</th>\n",
       "    </tr>\n",
       "  </thead>\n",
       "  <tbody>\n",
       "    <tr>\n",
       "      <th>0</th>\n",
       "      <td>2539</td>\n",
       "      <td>2022-09-07</td>\n",
       "      <td>2787</td>\n",
       "      <td>John</td>\n",
       "      <td>2008-09-07</td>\n",
       "      <td>within an hour</td>\n",
       "      <td>100%</td>\n",
       "      <td>90%</td>\n",
       "      <td>f</td>\n",
       "      <td>Gravesend</td>\n",
       "      <td>9.0</td>\n",
       "      <td>12.0</td>\n",
       "      <td>t</td>\n",
       "      <td>t</td>\n",
       "      <td>Kensington</td>\n",
       "      <td>Brooklyn</td>\n",
       "      <td>40.64529</td>\n",
       "      <td>-73.97238</td>\n",
       "      <td>Private room in rental unit</td>\n",
       "      <td>Private room</td>\n",
       "      <td>2</td>\n",
       "      <td>NaN</td>\n",
       "      <td>1 shared bath</td>\n",
       "      <td>1.0</td>\n",
       "      <td>1.0</td>\n",
       "      <td>[\"First aid kit\", \"Microwave\", \"Stove\", \"Coffe...</td>\n",
       "      <td>299.0</td>\n",
       "      <td>30</td>\n",
       "      <td>730</td>\n",
       "      <td>30.0</td>\n",
       "      <td>30.0</td>\n",
       "      <td>730.0</td>\n",
       "      <td>730.0</td>\n",
       "      <td>30.0</td>\n",
       "      <td>730.0</td>\n",
       "      <td>NaN</td>\n",
       "      <td>t</td>\n",
       "      <td>21</td>\n",
       "      <td>51</td>\n",
       "      <td>81</td>\n",
       "      <td>356</td>\n",
       "      <td>9</td>\n",
       "      <td>0</td>\n",
       "      <td>0</td>\n",
       "      <td>2015-12-04</td>\n",
       "      <td>2018-10-19</td>\n",
       "      <td>4.89</td>\n",
       "      <td>4.88</td>\n",
       "      <td>5.00</td>\n",
       "      <td>5.00</td>\n",
       "      <td>5.00</td>\n",
       "      <td>4.75</td>\n",
       "      <td>4.88</td>\n",
       "      <td>None</td>\n",
       "      <td>f</td>\n",
       "      <td>9</td>\n",
       "      <td>1</td>\n",
       "      <td>6</td>\n",
       "      <td>2</td>\n",
       "      <td>0.11</td>\n",
       "    </tr>\n",
       "    <tr>\n",
       "      <th>1</th>\n",
       "      <td>2595</td>\n",
       "      <td>2022-09-07</td>\n",
       "      <td>2845</td>\n",
       "      <td>Jennifer</td>\n",
       "      <td>2008-09-09</td>\n",
       "      <td>within a day</td>\n",
       "      <td>75%</td>\n",
       "      <td>23%</td>\n",
       "      <td>f</td>\n",
       "      <td>Midtown</td>\n",
       "      <td>6.0</td>\n",
       "      <td>9.0</td>\n",
       "      <td>t</td>\n",
       "      <td>t</td>\n",
       "      <td>Midtown</td>\n",
       "      <td>Manhattan</td>\n",
       "      <td>40.75356</td>\n",
       "      <td>-73.98559</td>\n",
       "      <td>Entire rental unit</td>\n",
       "      <td>Entire home/apt</td>\n",
       "      <td>1</td>\n",
       "      <td>NaN</td>\n",
       "      <td>1 bath</td>\n",
       "      <td>NaN</td>\n",
       "      <td>1.0</td>\n",
       "      <td>[\"Stove\", \"Coffee maker\", \"Long term stays all...</td>\n",
       "      <td>175.0</td>\n",
       "      <td>30</td>\n",
       "      <td>1125</td>\n",
       "      <td>30.0</td>\n",
       "      <td>30.0</td>\n",
       "      <td>1125.0</td>\n",
       "      <td>1125.0</td>\n",
       "      <td>30.0</td>\n",
       "      <td>1125.0</td>\n",
       "      <td>NaN</td>\n",
       "      <td>t</td>\n",
       "      <td>0</td>\n",
       "      <td>0</td>\n",
       "      <td>5</td>\n",
       "      <td>280</td>\n",
       "      <td>49</td>\n",
       "      <td>1</td>\n",
       "      <td>0</td>\n",
       "      <td>2009-11-21</td>\n",
       "      <td>2022-06-21</td>\n",
       "      <td>4.68</td>\n",
       "      <td>4.73</td>\n",
       "      <td>4.63</td>\n",
       "      <td>4.77</td>\n",
       "      <td>4.80</td>\n",
       "      <td>4.81</td>\n",
       "      <td>4.40</td>\n",
       "      <td>None</td>\n",
       "      <td>f</td>\n",
       "      <td>3</td>\n",
       "      <td>3</td>\n",
       "      <td>0</td>\n",
       "      <td>0</td>\n",
       "      <td>0.31</td>\n",
       "    </tr>\n",
       "    <tr>\n",
       "      <th>2</th>\n",
       "      <td>5121</td>\n",
       "      <td>2022-09-07</td>\n",
       "      <td>7356</td>\n",
       "      <td>Garon</td>\n",
       "      <td>2009-02-03</td>\n",
       "      <td>within an hour</td>\n",
       "      <td>100%</td>\n",
       "      <td>100%</td>\n",
       "      <td>t</td>\n",
       "      <td>Bedford-Stuyvesant</td>\n",
       "      <td>2.0</td>\n",
       "      <td>2.0</td>\n",
       "      <td>t</td>\n",
       "      <td>t</td>\n",
       "      <td>Bedford-Stuyvesant</td>\n",
       "      <td>Brooklyn</td>\n",
       "      <td>40.68535</td>\n",
       "      <td>-73.95512</td>\n",
       "      <td>Private room in rental unit</td>\n",
       "      <td>Private room</td>\n",
       "      <td>2</td>\n",
       "      <td>NaN</td>\n",
       "      <td>None</td>\n",
       "      <td>1.0</td>\n",
       "      <td>1.0</td>\n",
       "      <td>[\"Heating\", \"Kitchen\", \"Air conditioning\", \"Wi...</td>\n",
       "      <td>60.0</td>\n",
       "      <td>30</td>\n",
       "      <td>730</td>\n",
       "      <td>30.0</td>\n",
       "      <td>30.0</td>\n",
       "      <td>730.0</td>\n",
       "      <td>730.0</td>\n",
       "      <td>30.0</td>\n",
       "      <td>730.0</td>\n",
       "      <td>NaN</td>\n",
       "      <td>t</td>\n",
       "      <td>5</td>\n",
       "      <td>30</td>\n",
       "      <td>60</td>\n",
       "      <td>335</td>\n",
       "      <td>50</td>\n",
       "      <td>0</td>\n",
       "      <td>0</td>\n",
       "      <td>2009-05-28</td>\n",
       "      <td>2019-12-02</td>\n",
       "      <td>4.52</td>\n",
       "      <td>4.22</td>\n",
       "      <td>4.09</td>\n",
       "      <td>4.91</td>\n",
       "      <td>4.91</td>\n",
       "      <td>4.47</td>\n",
       "      <td>4.52</td>\n",
       "      <td>None</td>\n",
       "      <td>f</td>\n",
       "      <td>2</td>\n",
       "      <td>0</td>\n",
       "      <td>2</td>\n",
       "      <td>0</td>\n",
       "      <td>0.31</td>\n",
       "    </tr>\n",
       "    <tr>\n",
       "      <th>3</th>\n",
       "      <td>45910</td>\n",
       "      <td>2022-09-07</td>\n",
       "      <td>204539</td>\n",
       "      <td>Mark</td>\n",
       "      <td>2010-08-17</td>\n",
       "      <td>within an hour</td>\n",
       "      <td>100%</td>\n",
       "      <td>19%</td>\n",
       "      <td>f</td>\n",
       "      <td>Ridgewood</td>\n",
       "      <td>7.0</td>\n",
       "      <td>7.0</td>\n",
       "      <td>t</td>\n",
       "      <td>t</td>\n",
       "      <td>Ridgewood</td>\n",
       "      <td>Queens</td>\n",
       "      <td>40.70309</td>\n",
       "      <td>-73.89963</td>\n",
       "      <td>Entire townhouse</td>\n",
       "      <td>Entire home/apt</td>\n",
       "      <td>16</td>\n",
       "      <td>NaN</td>\n",
       "      <td>2.5 baths</td>\n",
       "      <td>5.0</td>\n",
       "      <td>10.0</td>\n",
       "      <td>[\"Hair dryer\", \"Essentials\", \"Carbon monoxide ...</td>\n",
       "      <td>425.0</td>\n",
       "      <td>30</td>\n",
       "      <td>730</td>\n",
       "      <td>30.0</td>\n",
       "      <td>30.0</td>\n",
       "      <td>730.0</td>\n",
       "      <td>730.0</td>\n",
       "      <td>30.0</td>\n",
       "      <td>730.0</td>\n",
       "      <td>NaN</td>\n",
       "      <td>t</td>\n",
       "      <td>30</td>\n",
       "      <td>60</td>\n",
       "      <td>90</td>\n",
       "      <td>365</td>\n",
       "      <td>13</td>\n",
       "      <td>0</td>\n",
       "      <td>0</td>\n",
       "      <td>2012-01-03</td>\n",
       "      <td>2019-11-12</td>\n",
       "      <td>4.42</td>\n",
       "      <td>4.64</td>\n",
       "      <td>4.36</td>\n",
       "      <td>4.82</td>\n",
       "      <td>5.00</td>\n",
       "      <td>4.82</td>\n",
       "      <td>4.55</td>\n",
       "      <td>None</td>\n",
       "      <td>f</td>\n",
       "      <td>6</td>\n",
       "      <td>6</td>\n",
       "      <td>0</td>\n",
       "      <td>0</td>\n",
       "      <td>0.10</td>\n",
       "    </tr>\n",
       "    <tr>\n",
       "      <th>4</th>\n",
       "      <td>5136</td>\n",
       "      <td>2022-09-07</td>\n",
       "      <td>7378</td>\n",
       "      <td>Rebecca</td>\n",
       "      <td>2009-02-03</td>\n",
       "      <td>None</td>\n",
       "      <td>None</td>\n",
       "      <td>33%</td>\n",
       "      <td>f</td>\n",
       "      <td>Greenwood Heights</td>\n",
       "      <td>1.0</td>\n",
       "      <td>5.0</td>\n",
       "      <td>t</td>\n",
       "      <td>t</td>\n",
       "      <td>Sunset Park</td>\n",
       "      <td>Brooklyn</td>\n",
       "      <td>40.66265</td>\n",
       "      <td>-73.99454</td>\n",
       "      <td>Entire rental unit</td>\n",
       "      <td>Entire home/apt</td>\n",
       "      <td>4</td>\n",
       "      <td>NaN</td>\n",
       "      <td>1.5 baths</td>\n",
       "      <td>2.0</td>\n",
       "      <td>2.0</td>\n",
       "      <td>[\"Hair dryer\", \"Cable TV\", \"Refrigerator\", \"BB...</td>\n",
       "      <td>275.0</td>\n",
       "      <td>21</td>\n",
       "      <td>1125</td>\n",
       "      <td>21.0</td>\n",
       "      <td>21.0</td>\n",
       "      <td>1125.0</td>\n",
       "      <td>1125.0</td>\n",
       "      <td>21.0</td>\n",
       "      <td>1125.0</td>\n",
       "      <td>NaN</td>\n",
       "      <td>t</td>\n",
       "      <td>0</td>\n",
       "      <td>0</td>\n",
       "      <td>0</td>\n",
       "      <td>179</td>\n",
       "      <td>3</td>\n",
       "      <td>1</td>\n",
       "      <td>1</td>\n",
       "      <td>2014-01-02</td>\n",
       "      <td>2022-08-10</td>\n",
       "      <td>5.00</td>\n",
       "      <td>5.00</td>\n",
       "      <td>5.00</td>\n",
       "      <td>5.00</td>\n",
       "      <td>5.00</td>\n",
       "      <td>4.67</td>\n",
       "      <td>5.00</td>\n",
       "      <td>None</td>\n",
       "      <td>f</td>\n",
       "      <td>1</td>\n",
       "      <td>1</td>\n",
       "      <td>0</td>\n",
       "      <td>0</td>\n",
       "      <td>0.03</td>\n",
       "    </tr>\n",
       "  </tbody>\n",
       "</table>\n",
       "</div>"
      ],
      "text/plain": [
       "      id last_scraped  host_id host_name  host_since host_response_time  \\\n",
       "0   2539   2022-09-07     2787      John  2008-09-07     within an hour   \n",
       "1   2595   2022-09-07     2845  Jennifer  2008-09-09       within a day   \n",
       "2   5121   2022-09-07     7356     Garon  2009-02-03     within an hour   \n",
       "3  45910   2022-09-07   204539      Mark  2010-08-17     within an hour   \n",
       "4   5136   2022-09-07     7378   Rebecca  2009-02-03               None   \n",
       "\n",
       "  host_response_rate host_acceptance_rate host_is_superhost  \\\n",
       "0               100%                  90%                 f   \n",
       "1                75%                  23%                 f   \n",
       "2               100%                 100%                 t   \n",
       "3               100%                  19%                 f   \n",
       "4               None                  33%                 f   \n",
       "\n",
       "   host_neighbourhood  host_listings_count  host_total_listings_count  \\\n",
       "0           Gravesend                  9.0                       12.0   \n",
       "1             Midtown                  6.0                        9.0   \n",
       "2  Bedford-Stuyvesant                  2.0                        2.0   \n",
       "3           Ridgewood                  7.0                        7.0   \n",
       "4   Greenwood Heights                  1.0                        5.0   \n",
       "\n",
       "  host_has_profile_pic host_identity_verified neighbourhood_cleansed  \\\n",
       "0                    t                      t             Kensington   \n",
       "1                    t                      t                Midtown   \n",
       "2                    t                      t     Bedford-Stuyvesant   \n",
       "3                    t                      t              Ridgewood   \n",
       "4                    t                      t            Sunset Park   \n",
       "\n",
       "  neighbourhood_group_cleansed  latitude  longitude  \\\n",
       "0                     Brooklyn  40.64529  -73.97238   \n",
       "1                    Manhattan  40.75356  -73.98559   \n",
       "2                     Brooklyn  40.68535  -73.95512   \n",
       "3                       Queens  40.70309  -73.89963   \n",
       "4                     Brooklyn  40.66265  -73.99454   \n",
       "\n",
       "                 property_type        room_type  accommodates  bathrooms  \\\n",
       "0  Private room in rental unit     Private room             2        NaN   \n",
       "1           Entire rental unit  Entire home/apt             1        NaN   \n",
       "2  Private room in rental unit     Private room             2        NaN   \n",
       "3             Entire townhouse  Entire home/apt            16        NaN   \n",
       "4           Entire rental unit  Entire home/apt             4        NaN   \n",
       "\n",
       "  bathrooms_text  bedrooms  beds  \\\n",
       "0  1 shared bath       1.0   1.0   \n",
       "1         1 bath       NaN   1.0   \n",
       "2           None       1.0   1.0   \n",
       "3      2.5 baths       5.0  10.0   \n",
       "4      1.5 baths       2.0   2.0   \n",
       "\n",
       "                                           amenities  price  minimum_nights  \\\n",
       "0  [\"First aid kit\", \"Microwave\", \"Stove\", \"Coffe...  299.0              30   \n",
       "1  [\"Stove\", \"Coffee maker\", \"Long term stays all...  175.0              30   \n",
       "2  [\"Heating\", \"Kitchen\", \"Air conditioning\", \"Wi...   60.0              30   \n",
       "3  [\"Hair dryer\", \"Essentials\", \"Carbon monoxide ...  425.0              30   \n",
       "4  [\"Hair dryer\", \"Cable TV\", \"Refrigerator\", \"BB...  275.0              21   \n",
       "\n",
       "   maximum_nights  minimum_minimum_nights  maximum_minimum_nights  \\\n",
       "0             730                    30.0                    30.0   \n",
       "1            1125                    30.0                    30.0   \n",
       "2             730                    30.0                    30.0   \n",
       "3             730                    30.0                    30.0   \n",
       "4            1125                    21.0                    21.0   \n",
       "\n",
       "   minimum_maximum_nights  maximum_maximum_nights  minimum_nights_avg_ntm  \\\n",
       "0                   730.0                   730.0                    30.0   \n",
       "1                  1125.0                  1125.0                    30.0   \n",
       "2                   730.0                   730.0                    30.0   \n",
       "3                   730.0                   730.0                    30.0   \n",
       "4                  1125.0                  1125.0                    21.0   \n",
       "\n",
       "   maximum_nights_avg_ntm  calendar_updated has_availability  availability_30  \\\n",
       "0                   730.0               NaN                t               21   \n",
       "1                  1125.0               NaN                t                0   \n",
       "2                   730.0               NaN                t                5   \n",
       "3                   730.0               NaN                t               30   \n",
       "4                  1125.0               NaN                t                0   \n",
       "\n",
       "   availability_60  availability_90  availability_365  number_of_reviews  \\\n",
       "0               51               81               356                  9   \n",
       "1                0                5               280                 49   \n",
       "2               30               60               335                 50   \n",
       "3               60               90               365                 13   \n",
       "4                0                0               179                  3   \n",
       "\n",
       "   number_of_reviews_ltm  number_of_reviews_l30d first_review last_review  \\\n",
       "0                      0                       0   2015-12-04  2018-10-19   \n",
       "1                      1                       0   2009-11-21  2022-06-21   \n",
       "2                      0                       0   2009-05-28  2019-12-02   \n",
       "3                      0                       0   2012-01-03  2019-11-12   \n",
       "4                      1                       1   2014-01-02  2022-08-10   \n",
       "\n",
       "   review_scores_rating  review_scores_accuracy  review_scores_cleanliness  \\\n",
       "0                  4.89                    4.88                       5.00   \n",
       "1                  4.68                    4.73                       4.63   \n",
       "2                  4.52                    4.22                       4.09   \n",
       "3                  4.42                    4.64                       4.36   \n",
       "4                  5.00                    5.00                       5.00   \n",
       "\n",
       "   review_scores_checkin  review_scores_communication  review_scores_location  \\\n",
       "0                   5.00                         5.00                    4.75   \n",
       "1                   4.77                         4.80                    4.81   \n",
       "2                   4.91                         4.91                    4.47   \n",
       "3                   4.82                         5.00                    4.82   \n",
       "4                   5.00                         5.00                    4.67   \n",
       "\n",
       "   review_scores_value license instant_bookable  \\\n",
       "0                 4.88    None                f   \n",
       "1                 4.40    None                f   \n",
       "2                 4.52    None                f   \n",
       "3                 4.55    None                f   \n",
       "4                 5.00    None                f   \n",
       "\n",
       "   calculated_host_listings_count  \\\n",
       "0                               9   \n",
       "1                               3   \n",
       "2                               2   \n",
       "3                               6   \n",
       "4                               1   \n",
       "\n",
       "   calculated_host_listings_count_entire_homes  \\\n",
       "0                                            1   \n",
       "1                                            3   \n",
       "2                                            0   \n",
       "3                                            6   \n",
       "4                                            1   \n",
       "\n",
       "   calculated_host_listings_count_private_rooms  \\\n",
       "0                                             6   \n",
       "1                                             0   \n",
       "2                                             2   \n",
       "3                                             0   \n",
       "4                                             0   \n",
       "\n",
       "   calculated_host_listings_count_shared_rooms  reviews_per_month  \n",
       "0                                            2               0.11  \n",
       "1                                            0               0.31  \n",
       "2                                            0               0.31  \n",
       "3                                            0               0.10  \n",
       "4                                            0               0.03  "
      ]
     },
     "execution_count": 4,
     "metadata": {},
     "output_type": "execute_result"
    }
   ],
   "source": [
    "#selección de las columnas que nos interesan\n",
    "columnList = [\"id\",\"last_scraped\",\"host_name\",\"host_since\",\"host_response_time\",\"host_id\",\"host_response_rate\",\"host_acceptance_rate\",\n",
    "              \"host_is_superhost\",\"host_neighbourhood\",\"host_listings_count\",\"host_total_listings_count\",\"host_has_profile_pic\",\n",
    "              \"host_identity_verified\",\"neighbourhood_cleansed\",\"neighbourhood_group_cleansed\",\"latitude\",\"longitude\",\"property_type\",\n",
    "              \"room_type\",\"accommodates\",\"bathrooms\",\"bathrooms_text\",\"bedrooms\",\"beds\",\"amenities\",\"price\",\"minimum_nights\",\"maximum_nights\",\n",
    "              \"minimum_minimum_nights\",\"maximum_minimum_nights\",\"minimum_maximum_nights\",\"maximum_maximum_nights\",\"minimum_nights_avg_ntm\",\"maximum_nights_avg_ntm\",\n",
    "              \"calendar_updated\",\"has_availability\",\"availability_30\",\"availability_60\",\"availability_90\",\"availability_365\",\"number_of_reviews\",\"number_of_reviews_ltm\",\n",
    "              \"number_of_reviews_l30d\",\"first_review\",\"last_review\",\"review_scores_rating\",\"review_scores_accuracy\",\"review_scores_cleanliness\",\"review_scores_checkin\",\n",
    "              \"review_scores_communication\",\"review_scores_location\",\"review_scores_value\",\"license\",\"instant_bookable\",\"calculated_host_listings_count\",\"calculated_host_listings_count_entire_homes\",\n",
    "              \"calculated_host_listings_count_private_rooms\",\"calculated_host_listings_count_shared_rooms\",\"reviews_per_month\"]\n",
    "\n",
    "\n",
    "listings_reduced_df = listings_total_data[[x for x in listings_total_data.columns if x in columnList]]\n",
    "listings_reduced_df[\"price\"] = listings_reduced_df[\"price\"].str.replace(pat=\",\",repl=\"\")\n",
    "listings_reduced_df[\"price\"] = listings_reduced_df[\"price\"].str.replace(pat=\"$\",repl=\"\")\n",
    "listings_reduced_df[\"price\"]=listings_reduced_df[\"price\"].astype(float)\n",
    "listings_reduced_df.head()"
   ]
  },
  {
   "cell_type": "code",
   "execution_count": 5,
   "metadata": {},
   "outputs": [
    {
     "name": "stderr",
     "output_type": "stream",
     "text": [
      "c:\\Users\\belen\\Anaconda3\\lib\\site-packages\\ipykernel_launcher.py:2: SettingWithCopyWarning:\n",
      "\n",
      "\n",
      "A value is trying to be set on a copy of a slice from a DataFrame.\n",
      "Try using .loc[row_indexer,col_indexer] = value instead\n",
      "\n",
      "See the caveats in the documentation: https://pandas.pydata.org/pandas-docs/stable/user_guide/indexing.html#returning-a-view-versus-a-copy\n",
      "\n",
      "c:\\Users\\belen\\Anaconda3\\lib\\site-packages\\ipykernel_launcher.py:3: SettingWithCopyWarning:\n",
      "\n",
      "\n",
      "A value is trying to be set on a copy of a slice from a DataFrame.\n",
      "Try using .loc[row_indexer,col_indexer] = value instead\n",
      "\n",
      "See the caveats in the documentation: https://pandas.pydata.org/pandas-docs/stable/user_guide/indexing.html#returning-a-view-versus-a-copy\n",
      "\n"
     ]
    },
    {
     "data": {
      "text/html": [
       "<div>\n",
       "<style scoped>\n",
       "    .dataframe tbody tr th:only-of-type {\n",
       "        vertical-align: middle;\n",
       "    }\n",
       "\n",
       "    .dataframe tbody tr th {\n",
       "        vertical-align: top;\n",
       "    }\n",
       "\n",
       "    .dataframe thead th {\n",
       "        text-align: right;\n",
       "    }\n",
       "</style>\n",
       "<table border=\"1\" class=\"dataframe\">\n",
       "  <thead>\n",
       "    <tr style=\"text-align: right;\">\n",
       "      <th></th>\n",
       "      <th>id</th>\n",
       "      <th>last_scraped</th>\n",
       "      <th>host_id</th>\n",
       "      <th>host_name</th>\n",
       "      <th>host_since</th>\n",
       "      <th>host_response_time</th>\n",
       "      <th>host_response_rate</th>\n",
       "      <th>host_acceptance_rate</th>\n",
       "      <th>host_is_superhost</th>\n",
       "      <th>host_neighbourhood</th>\n",
       "      <th>host_listings_count</th>\n",
       "      <th>host_total_listings_count</th>\n",
       "      <th>host_has_profile_pic</th>\n",
       "      <th>host_identity_verified</th>\n",
       "      <th>neighbourhood_cleansed</th>\n",
       "      <th>neighbourhood_group_cleansed</th>\n",
       "      <th>latitude</th>\n",
       "      <th>longitude</th>\n",
       "      <th>property_type</th>\n",
       "      <th>room_type</th>\n",
       "      <th>accommodates</th>\n",
       "      <th>bathrooms</th>\n",
       "      <th>bathrooms_text</th>\n",
       "      <th>bedrooms</th>\n",
       "      <th>beds</th>\n",
       "      <th>amenities</th>\n",
       "      <th>price</th>\n",
       "      <th>minimum_nights</th>\n",
       "      <th>maximum_nights</th>\n",
       "      <th>minimum_minimum_nights</th>\n",
       "      <th>maximum_minimum_nights</th>\n",
       "      <th>minimum_maximum_nights</th>\n",
       "      <th>maximum_maximum_nights</th>\n",
       "      <th>minimum_nights_avg_ntm</th>\n",
       "      <th>maximum_nights_avg_ntm</th>\n",
       "      <th>calendar_updated</th>\n",
       "      <th>has_availability</th>\n",
       "      <th>availability_30</th>\n",
       "      <th>availability_60</th>\n",
       "      <th>availability_90</th>\n",
       "      <th>availability_365</th>\n",
       "      <th>number_of_reviews</th>\n",
       "      <th>number_of_reviews_ltm</th>\n",
       "      <th>number_of_reviews_l30d</th>\n",
       "      <th>first_review</th>\n",
       "      <th>last_review</th>\n",
       "      <th>review_scores_rating</th>\n",
       "      <th>review_scores_accuracy</th>\n",
       "      <th>review_scores_cleanliness</th>\n",
       "      <th>review_scores_checkin</th>\n",
       "      <th>review_scores_communication</th>\n",
       "      <th>review_scores_location</th>\n",
       "      <th>review_scores_value</th>\n",
       "      <th>license</th>\n",
       "      <th>instant_bookable</th>\n",
       "      <th>calculated_host_listings_count</th>\n",
       "      <th>calculated_host_listings_count_entire_homes</th>\n",
       "      <th>calculated_host_listings_count_private_rooms</th>\n",
       "      <th>calculated_host_listings_count_shared_rooms</th>\n",
       "      <th>reviews_per_month</th>\n",
       "    </tr>\n",
       "  </thead>\n",
       "  <tbody>\n",
       "    <tr>\n",
       "      <th>0</th>\n",
       "      <td>2539</td>\n",
       "      <td>2022-09-07</td>\n",
       "      <td>2787</td>\n",
       "      <td>John</td>\n",
       "      <td>2008-09-07</td>\n",
       "      <td>within an hour</td>\n",
       "      <td>100</td>\n",
       "      <td>90</td>\n",
       "      <td>f</td>\n",
       "      <td>Gravesend</td>\n",
       "      <td>9.0</td>\n",
       "      <td>12.0</td>\n",
       "      <td>t</td>\n",
       "      <td>t</td>\n",
       "      <td>Kensington</td>\n",
       "      <td>Brooklyn</td>\n",
       "      <td>40.64529</td>\n",
       "      <td>-73.97238</td>\n",
       "      <td>Private room in rental unit</td>\n",
       "      <td>Private room</td>\n",
       "      <td>2</td>\n",
       "      <td>NaN</td>\n",
       "      <td>1 shared bath</td>\n",
       "      <td>1.0</td>\n",
       "      <td>1.0</td>\n",
       "      <td>[\"First aid kit\", \"Microwave\", \"Stove\", \"Coffe...</td>\n",
       "      <td>299.0</td>\n",
       "      <td>30</td>\n",
       "      <td>730</td>\n",
       "      <td>30.0</td>\n",
       "      <td>30.0</td>\n",
       "      <td>730.0</td>\n",
       "      <td>730.0</td>\n",
       "      <td>30.0</td>\n",
       "      <td>730.0</td>\n",
       "      <td>NaN</td>\n",
       "      <td>t</td>\n",
       "      <td>21</td>\n",
       "      <td>51</td>\n",
       "      <td>81</td>\n",
       "      <td>356</td>\n",
       "      <td>9</td>\n",
       "      <td>0</td>\n",
       "      <td>0</td>\n",
       "      <td>2015-12-04</td>\n",
       "      <td>2018-10-19</td>\n",
       "      <td>4.89</td>\n",
       "      <td>4.88</td>\n",
       "      <td>5.00</td>\n",
       "      <td>5.00</td>\n",
       "      <td>5.0</td>\n",
       "      <td>4.75</td>\n",
       "      <td>4.88</td>\n",
       "      <td>None</td>\n",
       "      <td>f</td>\n",
       "      <td>9</td>\n",
       "      <td>1</td>\n",
       "      <td>6</td>\n",
       "      <td>2</td>\n",
       "      <td>0.11</td>\n",
       "    </tr>\n",
       "    <tr>\n",
       "      <th>1</th>\n",
       "      <td>2595</td>\n",
       "      <td>2022-09-07</td>\n",
       "      <td>2845</td>\n",
       "      <td>Jennifer</td>\n",
       "      <td>2008-09-09</td>\n",
       "      <td>within a day</td>\n",
       "      <td>75</td>\n",
       "      <td>23</td>\n",
       "      <td>f</td>\n",
       "      <td>Midtown</td>\n",
       "      <td>6.0</td>\n",
       "      <td>9.0</td>\n",
       "      <td>t</td>\n",
       "      <td>t</td>\n",
       "      <td>Midtown</td>\n",
       "      <td>Manhattan</td>\n",
       "      <td>40.75356</td>\n",
       "      <td>-73.98559</td>\n",
       "      <td>Entire rental unit</td>\n",
       "      <td>Entire home/apt</td>\n",
       "      <td>1</td>\n",
       "      <td>NaN</td>\n",
       "      <td>1 bath</td>\n",
       "      <td>NaN</td>\n",
       "      <td>1.0</td>\n",
       "      <td>[\"Stove\", \"Coffee maker\", \"Long term stays all...</td>\n",
       "      <td>175.0</td>\n",
       "      <td>30</td>\n",
       "      <td>1125</td>\n",
       "      <td>30.0</td>\n",
       "      <td>30.0</td>\n",
       "      <td>1125.0</td>\n",
       "      <td>1125.0</td>\n",
       "      <td>30.0</td>\n",
       "      <td>1125.0</td>\n",
       "      <td>NaN</td>\n",
       "      <td>t</td>\n",
       "      <td>0</td>\n",
       "      <td>0</td>\n",
       "      <td>5</td>\n",
       "      <td>280</td>\n",
       "      <td>49</td>\n",
       "      <td>1</td>\n",
       "      <td>0</td>\n",
       "      <td>2009-11-21</td>\n",
       "      <td>2022-06-21</td>\n",
       "      <td>4.68</td>\n",
       "      <td>4.73</td>\n",
       "      <td>4.63</td>\n",
       "      <td>4.77</td>\n",
       "      <td>4.8</td>\n",
       "      <td>4.81</td>\n",
       "      <td>4.40</td>\n",
       "      <td>None</td>\n",
       "      <td>f</td>\n",
       "      <td>3</td>\n",
       "      <td>3</td>\n",
       "      <td>0</td>\n",
       "      <td>0</td>\n",
       "      <td>0.31</td>\n",
       "    </tr>\n",
       "  </tbody>\n",
       "</table>\n",
       "</div>"
      ],
      "text/plain": [
       "     id last_scraped  host_id host_name  host_since host_response_time  \\\n",
       "0  2539   2022-09-07     2787      John  2008-09-07     within an hour   \n",
       "1  2595   2022-09-07     2845  Jennifer  2008-09-09       within a day   \n",
       "\n",
       "  host_response_rate host_acceptance_rate host_is_superhost  \\\n",
       "0                100                   90                 f   \n",
       "1                 75                   23                 f   \n",
       "\n",
       "  host_neighbourhood  host_listings_count  host_total_listings_count  \\\n",
       "0          Gravesend                  9.0                       12.0   \n",
       "1            Midtown                  6.0                        9.0   \n",
       "\n",
       "  host_has_profile_pic host_identity_verified neighbourhood_cleansed  \\\n",
       "0                    t                      t             Kensington   \n",
       "1                    t                      t                Midtown   \n",
       "\n",
       "  neighbourhood_group_cleansed  latitude  longitude  \\\n",
       "0                     Brooklyn  40.64529  -73.97238   \n",
       "1                    Manhattan  40.75356  -73.98559   \n",
       "\n",
       "                 property_type        room_type  accommodates  bathrooms  \\\n",
       "0  Private room in rental unit     Private room             2        NaN   \n",
       "1           Entire rental unit  Entire home/apt             1        NaN   \n",
       "\n",
       "  bathrooms_text  bedrooms  beds  \\\n",
       "0  1 shared bath       1.0   1.0   \n",
       "1         1 bath       NaN   1.0   \n",
       "\n",
       "                                           amenities  price  minimum_nights  \\\n",
       "0  [\"First aid kit\", \"Microwave\", \"Stove\", \"Coffe...  299.0              30   \n",
       "1  [\"Stove\", \"Coffee maker\", \"Long term stays all...  175.0              30   \n",
       "\n",
       "   maximum_nights  minimum_minimum_nights  maximum_minimum_nights  \\\n",
       "0             730                    30.0                    30.0   \n",
       "1            1125                    30.0                    30.0   \n",
       "\n",
       "   minimum_maximum_nights  maximum_maximum_nights  minimum_nights_avg_ntm  \\\n",
       "0                   730.0                   730.0                    30.0   \n",
       "1                  1125.0                  1125.0                    30.0   \n",
       "\n",
       "   maximum_nights_avg_ntm  calendar_updated has_availability  availability_30  \\\n",
       "0                   730.0               NaN                t               21   \n",
       "1                  1125.0               NaN                t                0   \n",
       "\n",
       "   availability_60  availability_90  availability_365  number_of_reviews  \\\n",
       "0               51               81               356                  9   \n",
       "1                0                5               280                 49   \n",
       "\n",
       "   number_of_reviews_ltm  number_of_reviews_l30d first_review last_review  \\\n",
       "0                      0                       0   2015-12-04  2018-10-19   \n",
       "1                      1                       0   2009-11-21  2022-06-21   \n",
       "\n",
       "   review_scores_rating  review_scores_accuracy  review_scores_cleanliness  \\\n",
       "0                  4.89                    4.88                       5.00   \n",
       "1                  4.68                    4.73                       4.63   \n",
       "\n",
       "   review_scores_checkin  review_scores_communication  review_scores_location  \\\n",
       "0                   5.00                          5.0                    4.75   \n",
       "1                   4.77                          4.8                    4.81   \n",
       "\n",
       "   review_scores_value license instant_bookable  \\\n",
       "0                 4.88    None                f   \n",
       "1                 4.40    None                f   \n",
       "\n",
       "   calculated_host_listings_count  \\\n",
       "0                               9   \n",
       "1                               3   \n",
       "\n",
       "   calculated_host_listings_count_entire_homes  \\\n",
       "0                                            1   \n",
       "1                                            3   \n",
       "\n",
       "   calculated_host_listings_count_private_rooms  \\\n",
       "0                                             6   \n",
       "1                                             0   \n",
       "\n",
       "   calculated_host_listings_count_shared_rooms  reviews_per_month  \n",
       "0                                            2               0.11  \n",
       "1                                            0               0.31  "
      ]
     },
     "execution_count": 5,
     "metadata": {},
     "output_type": "execute_result"
    }
   ],
   "source": [
    "# reemplazamos los \"%\" para obtener valores numericos de los ratios\n",
    "listings_reduced_df[\"host_response_rate\"] = listings_reduced_df[\"host_response_rate\"].replace({'%':''}, regex=True)\n",
    "listings_reduced_df[\"host_acceptance_rate\"] = listings_reduced_df[\"host_acceptance_rate\"].replace({'%':''}, regex=True)\n",
    "listings_reduced_df.head(2)"
   ]
  },
  {
   "cell_type": "code",
   "execution_count": 6,
   "metadata": {},
   "outputs": [
    {
     "name": "stderr",
     "output_type": "stream",
     "text": [
      "c:\\Users\\belen\\Anaconda3\\lib\\site-packages\\ipykernel_launcher.py:2: SettingWithCopyWarning:\n",
      "\n",
      "\n",
      "A value is trying to be set on a copy of a slice from a DataFrame.\n",
      "Try using .loc[row_indexer,col_indexer] = value instead\n",
      "\n",
      "See the caveats in the documentation: https://pandas.pydata.org/pandas-docs/stable/user_guide/indexing.html#returning-a-view-versus-a-copy\n",
      "\n",
      "c:\\Users\\belen\\Anaconda3\\lib\\site-packages\\ipykernel_launcher.py:3: SettingWithCopyWarning:\n",
      "\n",
      "\n",
      "A value is trying to be set on a copy of a slice from a DataFrame.\n",
      "Try using .loc[row_indexer,col_indexer] = value instead\n",
      "\n",
      "See the caveats in the documentation: https://pandas.pydata.org/pandas-docs/stable/user_guide/indexing.html#returning-a-view-versus-a-copy\n",
      "\n"
     ]
    }
   ],
   "source": [
    "# sustituyo los NA por ceros\n",
    "listings_reduced_df[\"host_response_rate\"] = listings_reduced_df[\"host_response_rate\"].replace(np.nan, 0)\n",
    "listings_reduced_df[\"host_acceptance_rate\"] = listings_reduced_df[\"host_acceptance_rate\"].replace(np.nan, 0)"
   ]
  },
  {
   "cell_type": "code",
   "execution_count": 7,
   "metadata": {},
   "outputs": [
    {
     "name": "stderr",
     "output_type": "stream",
     "text": [
      "c:\\Users\\belen\\Anaconda3\\lib\\site-packages\\ipykernel_launcher.py:2: SettingWithCopyWarning:\n",
      "\n",
      "\n",
      "A value is trying to be set on a copy of a slice from a DataFrame.\n",
      "Try using .loc[row_indexer,col_indexer] = value instead\n",
      "\n",
      "See the caveats in the documentation: https://pandas.pydata.org/pandas-docs/stable/user_guide/indexing.html#returning-a-view-versus-a-copy\n",
      "\n",
      "c:\\Users\\belen\\Anaconda3\\lib\\site-packages\\ipykernel_launcher.py:3: SettingWithCopyWarning:\n",
      "\n",
      "\n",
      "A value is trying to be set on a copy of a slice from a DataFrame.\n",
      "Try using .loc[row_indexer,col_indexer] = value instead\n",
      "\n",
      "See the caveats in the documentation: https://pandas.pydata.org/pandas-docs/stable/user_guide/indexing.html#returning-a-view-versus-a-copy\n",
      "\n"
     ]
    }
   ],
   "source": [
    "# paso la variable a int\n",
    "listings_reduced_df[\"host_response_rate\"] = listings_reduced_df[\"host_response_rate\"].astype(\"int64\")\n",
    "listings_reduced_df[\"host_acceptance_rate\"] = listings_reduced_df[\"host_acceptance_rate\"].astype(\"int64\")"
   ]
  },
  {
   "cell_type": "markdown",
   "metadata": {},
   "source": [
    "MODELO DE REGRESIÓN"
   ]
  },
  {
   "cell_type": "markdown",
   "metadata": {},
   "source": [
    "Librerías"
   ]
  },
  {
   "cell_type": "code",
   "execution_count": 87,
   "metadata": {},
   "outputs": [],
   "source": [
    "import re\n",
    "import nltk\n",
    "import string\n",
    "import numpy as np\n",
    "import pandas as pd\n",
    "import matplotlib.pyplot as plt\n",
    "import seaborn as sns\n",
    "import plotly\n",
    "import plotly.express as px\n",
    "import ipywidgets as widgets\n",
    "from plotly.offline import init_notebook_mode\n",
    "from ipywidgets import interact, interactive, fixed, interact_manual\n",
    "from datetime import datetime\n",
    "from sklearn.model_selection import train_test_split, GridSearchCV\n",
    "from sklearn import metrics\n",
    "from sklearn.preprocessing import MinMaxScaler\n",
    "from sklearn.ensemble import RandomForestRegressor, GradientBoostingRegressor\n",
    "from sklearn.linear_model import LinearRegression\n",
    "from sklearn.svm import SVR\n",
    "from nltk.corpus import stopwords\n",
    "from sklearn.feature_extraction.text import CountVectorizer\n",
    "from sklearn.feature_extraction.text import TfidfTransformer\n",
    "from sklearn.naive_bayes import MultinomialNB\n",
    "from statsmodels.graphics.gofplots import qqplot\n",
    "from scipy import stats\n",
    "from tensorflow.keras.models import Sequential\n",
    "from tensorflow.keras.layers import Dense, Activation,Dropout\n",
    "from tensorflow.keras.callbacks import EarlyStopping\n",
    "pd.set_option('display.max_columns', None)"
   ]
  },
  {
   "cell_type": "markdown",
   "metadata": {},
   "source": [
    "Split"
   ]
  },
  {
   "cell_type": "code",
   "execution_count": 108,
   "metadata": {},
   "outputs": [
    {
     "data": {
      "text/html": [
       "<div>\n",
       "<style scoped>\n",
       "    .dataframe tbody tr th:only-of-type {\n",
       "        vertical-align: middle;\n",
       "    }\n",
       "\n",
       "    .dataframe tbody tr th {\n",
       "        vertical-align: top;\n",
       "    }\n",
       "\n",
       "    .dataframe thead th {\n",
       "        text-align: right;\n",
       "    }\n",
       "</style>\n",
       "<table border=\"1\" class=\"dataframe\">\n",
       "  <thead>\n",
       "    <tr style=\"text-align: right;\">\n",
       "      <th></th>\n",
       "      <th>price</th>\n",
       "      <th>host_response_rate</th>\n",
       "      <th>host_acceptance_rate</th>\n",
       "      <th>host_is_superhost</th>\n",
       "      <th>host_listings_count</th>\n",
       "      <th>host_total_listings_count</th>\n",
       "      <th>host_identity_verified</th>\n",
       "      <th>accommodates</th>\n",
       "      <th>bedrooms</th>\n",
       "      <th>beds</th>\n",
       "      <th>minimum_nights</th>\n",
       "      <th>maximum_nights</th>\n",
       "      <th>has_availability</th>\n",
       "      <th>availability_30</th>\n",
       "      <th>availability_60</th>\n",
       "      <th>availability_90</th>\n",
       "      <th>availability_365</th>\n",
       "      <th>number_of_reviews</th>\n",
       "      <th>review_scores_rating</th>\n",
       "      <th>review_scores_accuracy</th>\n",
       "      <th>review_scores_cleanliness</th>\n",
       "      <th>review_scores_checkin</th>\n",
       "      <th>review_scores_communication</th>\n",
       "      <th>review_scores_location</th>\n",
       "      <th>review_scores_value</th>\n",
       "      <th>instant_bookable</th>\n",
       "      <th>calculated_host_listings_count</th>\n",
       "      <th>calculated_host_listings_count_entire_homes</th>\n",
       "      <th>calculated_host_listings_count_private_rooms</th>\n",
       "      <th>calculated_host_listings_count_shared_rooms</th>\n",
       "      <th>reviews_per_month</th>\n",
       "      <th>baths</th>\n",
       "      <th>host_response_time_a few days or more</th>\n",
       "      <th>host_response_time_within a day</th>\n",
       "      <th>host_response_time_within a few hours</th>\n",
       "      <th>host_response_time_within an hour</th>\n",
       "      <th>neighbourhood_group_cleansed_Bronx</th>\n",
       "      <th>neighbourhood_group_cleansed_Brooklyn</th>\n",
       "      <th>neighbourhood_group_cleansed_Manhattan</th>\n",
       "      <th>neighbourhood_group_cleansed_Queens</th>\n",
       "      <th>neighbourhood_group_cleansed_Staten Island</th>\n",
       "      <th>room_type_Entire home/apt</th>\n",
       "      <th>room_type_Hotel room</th>\n",
       "      <th>room_type_Private room</th>\n",
       "      <th>room_type_Shared room</th>\n",
       "    </tr>\n",
       "  </thead>\n",
       "  <tbody>\n",
       "    <tr>\n",
       "      <th>0</th>\n",
       "      <td>299.0</td>\n",
       "      <td>100</td>\n",
       "      <td>90</td>\n",
       "      <td>0.0</td>\n",
       "      <td>9.0</td>\n",
       "      <td>12.0</td>\n",
       "      <td>1.0</td>\n",
       "      <td>2</td>\n",
       "      <td>1.0</td>\n",
       "      <td>1.0</td>\n",
       "      <td>30</td>\n",
       "      <td>730</td>\n",
       "      <td>1</td>\n",
       "      <td>21</td>\n",
       "      <td>51</td>\n",
       "      <td>81</td>\n",
       "      <td>356</td>\n",
       "      <td>9</td>\n",
       "      <td>4.89</td>\n",
       "      <td>4.88</td>\n",
       "      <td>5.00</td>\n",
       "      <td>5.00</td>\n",
       "      <td>5.00</td>\n",
       "      <td>4.75</td>\n",
       "      <td>4.88</td>\n",
       "      <td>0</td>\n",
       "      <td>9</td>\n",
       "      <td>1</td>\n",
       "      <td>6</td>\n",
       "      <td>2</td>\n",
       "      <td>0.11</td>\n",
       "      <td>1.0</td>\n",
       "      <td>0</td>\n",
       "      <td>0</td>\n",
       "      <td>0</td>\n",
       "      <td>1</td>\n",
       "      <td>0</td>\n",
       "      <td>1</td>\n",
       "      <td>0</td>\n",
       "      <td>0</td>\n",
       "      <td>0</td>\n",
       "      <td>0</td>\n",
       "      <td>0</td>\n",
       "      <td>1</td>\n",
       "      <td>0</td>\n",
       "    </tr>\n",
       "    <tr>\n",
       "      <th>2</th>\n",
       "      <td>60.0</td>\n",
       "      <td>100</td>\n",
       "      <td>100</td>\n",
       "      <td>1.0</td>\n",
       "      <td>2.0</td>\n",
       "      <td>2.0</td>\n",
       "      <td>1.0</td>\n",
       "      <td>2</td>\n",
       "      <td>1.0</td>\n",
       "      <td>1.0</td>\n",
       "      <td>30</td>\n",
       "      <td>730</td>\n",
       "      <td>1</td>\n",
       "      <td>5</td>\n",
       "      <td>30</td>\n",
       "      <td>60</td>\n",
       "      <td>335</td>\n",
       "      <td>50</td>\n",
       "      <td>4.52</td>\n",
       "      <td>4.22</td>\n",
       "      <td>4.09</td>\n",
       "      <td>4.91</td>\n",
       "      <td>4.91</td>\n",
       "      <td>4.47</td>\n",
       "      <td>4.52</td>\n",
       "      <td>0</td>\n",
       "      <td>2</td>\n",
       "      <td>0</td>\n",
       "      <td>2</td>\n",
       "      <td>0</td>\n",
       "      <td>0.31</td>\n",
       "      <td>0.0</td>\n",
       "      <td>0</td>\n",
       "      <td>0</td>\n",
       "      <td>0</td>\n",
       "      <td>1</td>\n",
       "      <td>0</td>\n",
       "      <td>1</td>\n",
       "      <td>0</td>\n",
       "      <td>0</td>\n",
       "      <td>0</td>\n",
       "      <td>0</td>\n",
       "      <td>0</td>\n",
       "      <td>1</td>\n",
       "      <td>0</td>\n",
       "    </tr>\n",
       "    <tr>\n",
       "      <th>3</th>\n",
       "      <td>425.0</td>\n",
       "      <td>100</td>\n",
       "      <td>19</td>\n",
       "      <td>0.0</td>\n",
       "      <td>7.0</td>\n",
       "      <td>7.0</td>\n",
       "      <td>1.0</td>\n",
       "      <td>16</td>\n",
       "      <td>5.0</td>\n",
       "      <td>10.0</td>\n",
       "      <td>30</td>\n",
       "      <td>730</td>\n",
       "      <td>1</td>\n",
       "      <td>30</td>\n",
       "      <td>60</td>\n",
       "      <td>90</td>\n",
       "      <td>365</td>\n",
       "      <td>13</td>\n",
       "      <td>4.42</td>\n",
       "      <td>4.64</td>\n",
       "      <td>4.36</td>\n",
       "      <td>4.82</td>\n",
       "      <td>5.00</td>\n",
       "      <td>4.82</td>\n",
       "      <td>4.55</td>\n",
       "      <td>0</td>\n",
       "      <td>6</td>\n",
       "      <td>6</td>\n",
       "      <td>0</td>\n",
       "      <td>0</td>\n",
       "      <td>0.10</td>\n",
       "      <td>2.5</td>\n",
       "      <td>0</td>\n",
       "      <td>0</td>\n",
       "      <td>0</td>\n",
       "      <td>1</td>\n",
       "      <td>0</td>\n",
       "      <td>0</td>\n",
       "      <td>0</td>\n",
       "      <td>1</td>\n",
       "      <td>0</td>\n",
       "      <td>1</td>\n",
       "      <td>0</td>\n",
       "      <td>0</td>\n",
       "      <td>0</td>\n",
       "    </tr>\n",
       "    <tr>\n",
       "      <th>4</th>\n",
       "      <td>275.0</td>\n",
       "      <td>0</td>\n",
       "      <td>33</td>\n",
       "      <td>0.0</td>\n",
       "      <td>1.0</td>\n",
       "      <td>5.0</td>\n",
       "      <td>1.0</td>\n",
       "      <td>4</td>\n",
       "      <td>2.0</td>\n",
       "      <td>2.0</td>\n",
       "      <td>21</td>\n",
       "      <td>1125</td>\n",
       "      <td>1</td>\n",
       "      <td>0</td>\n",
       "      <td>0</td>\n",
       "      <td>0</td>\n",
       "      <td>179</td>\n",
       "      <td>3</td>\n",
       "      <td>5.00</td>\n",
       "      <td>5.00</td>\n",
       "      <td>5.00</td>\n",
       "      <td>5.00</td>\n",
       "      <td>5.00</td>\n",
       "      <td>4.67</td>\n",
       "      <td>5.00</td>\n",
       "      <td>0</td>\n",
       "      <td>1</td>\n",
       "      <td>1</td>\n",
       "      <td>0</td>\n",
       "      <td>0</td>\n",
       "      <td>0.03</td>\n",
       "      <td>1.5</td>\n",
       "      <td>0</td>\n",
       "      <td>0</td>\n",
       "      <td>0</td>\n",
       "      <td>0</td>\n",
       "      <td>0</td>\n",
       "      <td>1</td>\n",
       "      <td>0</td>\n",
       "      <td>0</td>\n",
       "      <td>0</td>\n",
       "      <td>1</td>\n",
       "      <td>0</td>\n",
       "      <td>0</td>\n",
       "      <td>0</td>\n",
       "    </tr>\n",
       "    <tr>\n",
       "      <th>6</th>\n",
       "      <td>308.0</td>\n",
       "      <td>99</td>\n",
       "      <td>98</td>\n",
       "      <td>1.0</td>\n",
       "      <td>30.0</td>\n",
       "      <td>40.0</td>\n",
       "      <td>1.0</td>\n",
       "      <td>2</td>\n",
       "      <td>1.0</td>\n",
       "      <td>1.0</td>\n",
       "      <td>2</td>\n",
       "      <td>365</td>\n",
       "      <td>1</td>\n",
       "      <td>15</td>\n",
       "      <td>42</td>\n",
       "      <td>72</td>\n",
       "      <td>217</td>\n",
       "      <td>42</td>\n",
       "      <td>4.90</td>\n",
       "      <td>4.98</td>\n",
       "      <td>4.95</td>\n",
       "      <td>4.98</td>\n",
       "      <td>4.88</td>\n",
       "      <td>4.46</td>\n",
       "      <td>4.78</td>\n",
       "      <td>0</td>\n",
       "      <td>30</td>\n",
       "      <td>16</td>\n",
       "      <td>10</td>\n",
       "      <td>0</td>\n",
       "      <td>0.30</td>\n",
       "      <td>1.0</td>\n",
       "      <td>0</td>\n",
       "      <td>0</td>\n",
       "      <td>0</td>\n",
       "      <td>1</td>\n",
       "      <td>0</td>\n",
       "      <td>1</td>\n",
       "      <td>0</td>\n",
       "      <td>0</td>\n",
       "      <td>0</td>\n",
       "      <td>0</td>\n",
       "      <td>1</td>\n",
       "      <td>0</td>\n",
       "      <td>0</td>\n",
       "    </tr>\n",
       "    <tr>\n",
       "      <th>...</th>\n",
       "      <td>...</td>\n",
       "      <td>...</td>\n",
       "      <td>...</td>\n",
       "      <td>...</td>\n",
       "      <td>...</td>\n",
       "      <td>...</td>\n",
       "      <td>...</td>\n",
       "      <td>...</td>\n",
       "      <td>...</td>\n",
       "      <td>...</td>\n",
       "      <td>...</td>\n",
       "      <td>...</td>\n",
       "      <td>...</td>\n",
       "      <td>...</td>\n",
       "      <td>...</td>\n",
       "      <td>...</td>\n",
       "      <td>...</td>\n",
       "      <td>...</td>\n",
       "      <td>...</td>\n",
       "      <td>...</td>\n",
       "      <td>...</td>\n",
       "      <td>...</td>\n",
       "      <td>...</td>\n",
       "      <td>...</td>\n",
       "      <td>...</td>\n",
       "      <td>...</td>\n",
       "      <td>...</td>\n",
       "      <td>...</td>\n",
       "      <td>...</td>\n",
       "      <td>...</td>\n",
       "      <td>...</td>\n",
       "      <td>...</td>\n",
       "      <td>...</td>\n",
       "      <td>...</td>\n",
       "      <td>...</td>\n",
       "      <td>...</td>\n",
       "      <td>...</td>\n",
       "      <td>...</td>\n",
       "      <td>...</td>\n",
       "      <td>...</td>\n",
       "      <td>...</td>\n",
       "      <td>...</td>\n",
       "      <td>...</td>\n",
       "      <td>...</td>\n",
       "      <td>...</td>\n",
       "    </tr>\n",
       "    <tr>\n",
       "      <th>39871</th>\n",
       "      <td>125.0</td>\n",
       "      <td>100</td>\n",
       "      <td>100</td>\n",
       "      <td>0.0</td>\n",
       "      <td>1.0</td>\n",
       "      <td>1.0</td>\n",
       "      <td>1.0</td>\n",
       "      <td>2</td>\n",
       "      <td>2.0</td>\n",
       "      <td>3.0</td>\n",
       "      <td>27</td>\n",
       "      <td>30</td>\n",
       "      <td>1</td>\n",
       "      <td>3</td>\n",
       "      <td>3</td>\n",
       "      <td>14</td>\n",
       "      <td>14</td>\n",
       "      <td>6</td>\n",
       "      <td>5.00</td>\n",
       "      <td>5.00</td>\n",
       "      <td>5.00</td>\n",
       "      <td>5.00</td>\n",
       "      <td>5.00</td>\n",
       "      <td>5.00</td>\n",
       "      <td>5.00</td>\n",
       "      <td>0</td>\n",
       "      <td>1</td>\n",
       "      <td>0</td>\n",
       "      <td>1</td>\n",
       "      <td>0</td>\n",
       "      <td>0.65</td>\n",
       "      <td>1.0</td>\n",
       "      <td>0</td>\n",
       "      <td>0</td>\n",
       "      <td>0</td>\n",
       "      <td>1</td>\n",
       "      <td>0</td>\n",
       "      <td>0</td>\n",
       "      <td>0</td>\n",
       "      <td>1</td>\n",
       "      <td>0</td>\n",
       "      <td>0</td>\n",
       "      <td>0</td>\n",
       "      <td>1</td>\n",
       "      <td>0</td>\n",
       "    </tr>\n",
       "    <tr>\n",
       "      <th>39873</th>\n",
       "      <td>150.0</td>\n",
       "      <td>46</td>\n",
       "      <td>75</td>\n",
       "      <td>0.0</td>\n",
       "      <td>5.0</td>\n",
       "      <td>5.0</td>\n",
       "      <td>1.0</td>\n",
       "      <td>6</td>\n",
       "      <td>2.0</td>\n",
       "      <td>2.0</td>\n",
       "      <td>1</td>\n",
       "      <td>1125</td>\n",
       "      <td>1</td>\n",
       "      <td>0</td>\n",
       "      <td>0</td>\n",
       "      <td>0</td>\n",
       "      <td>0</td>\n",
       "      <td>3</td>\n",
       "      <td>5.00</td>\n",
       "      <td>5.00</td>\n",
       "      <td>5.00</td>\n",
       "      <td>5.00</td>\n",
       "      <td>5.00</td>\n",
       "      <td>5.00</td>\n",
       "      <td>5.00</td>\n",
       "      <td>0</td>\n",
       "      <td>4</td>\n",
       "      <td>1</td>\n",
       "      <td>3</td>\n",
       "      <td>0</td>\n",
       "      <td>0.11</td>\n",
       "      <td>1.0</td>\n",
       "      <td>1</td>\n",
       "      <td>0</td>\n",
       "      <td>0</td>\n",
       "      <td>0</td>\n",
       "      <td>0</td>\n",
       "      <td>0</td>\n",
       "      <td>1</td>\n",
       "      <td>0</td>\n",
       "      <td>0</td>\n",
       "      <td>0</td>\n",
       "      <td>0</td>\n",
       "      <td>1</td>\n",
       "      <td>0</td>\n",
       "    </tr>\n",
       "    <tr>\n",
       "      <th>39876</th>\n",
       "      <td>157.0</td>\n",
       "      <td>100</td>\n",
       "      <td>94</td>\n",
       "      <td>0.0</td>\n",
       "      <td>5.0</td>\n",
       "      <td>9.0</td>\n",
       "      <td>1.0</td>\n",
       "      <td>2</td>\n",
       "      <td>1.0</td>\n",
       "      <td>1.0</td>\n",
       "      <td>3</td>\n",
       "      <td>7</td>\n",
       "      <td>1</td>\n",
       "      <td>0</td>\n",
       "      <td>0</td>\n",
       "      <td>0</td>\n",
       "      <td>0</td>\n",
       "      <td>33</td>\n",
       "      <td>4.91</td>\n",
       "      <td>4.97</td>\n",
       "      <td>4.88</td>\n",
       "      <td>4.97</td>\n",
       "      <td>5.00</td>\n",
       "      <td>4.94</td>\n",
       "      <td>4.88</td>\n",
       "      <td>0</td>\n",
       "      <td>1</td>\n",
       "      <td>1</td>\n",
       "      <td>0</td>\n",
       "      <td>0</td>\n",
       "      <td>1.22</td>\n",
       "      <td>1.0</td>\n",
       "      <td>0</td>\n",
       "      <td>0</td>\n",
       "      <td>0</td>\n",
       "      <td>1</td>\n",
       "      <td>0</td>\n",
       "      <td>0</td>\n",
       "      <td>0</td>\n",
       "      <td>1</td>\n",
       "      <td>0</td>\n",
       "      <td>1</td>\n",
       "      <td>0</td>\n",
       "      <td>0</td>\n",
       "      <td>0</td>\n",
       "    </tr>\n",
       "    <tr>\n",
       "      <th>39877</th>\n",
       "      <td>108.0</td>\n",
       "      <td>100</td>\n",
       "      <td>96</td>\n",
       "      <td>1.0</td>\n",
       "      <td>1.0</td>\n",
       "      <td>1.0</td>\n",
       "      <td>1.0</td>\n",
       "      <td>4</td>\n",
       "      <td>1.0</td>\n",
       "      <td>2.0</td>\n",
       "      <td>3</td>\n",
       "      <td>1125</td>\n",
       "      <td>1</td>\n",
       "      <td>0</td>\n",
       "      <td>0</td>\n",
       "      <td>0</td>\n",
       "      <td>0</td>\n",
       "      <td>52</td>\n",
       "      <td>4.79</td>\n",
       "      <td>4.92</td>\n",
       "      <td>4.75</td>\n",
       "      <td>5.00</td>\n",
       "      <td>4.96</td>\n",
       "      <td>4.81</td>\n",
       "      <td>4.85</td>\n",
       "      <td>0</td>\n",
       "      <td>1</td>\n",
       "      <td>1</td>\n",
       "      <td>0</td>\n",
       "      <td>0</td>\n",
       "      <td>2.12</td>\n",
       "      <td>1.0</td>\n",
       "      <td>0</td>\n",
       "      <td>0</td>\n",
       "      <td>0</td>\n",
       "      <td>1</td>\n",
       "      <td>0</td>\n",
       "      <td>0</td>\n",
       "      <td>1</td>\n",
       "      <td>0</td>\n",
       "      <td>0</td>\n",
       "      <td>1</td>\n",
       "      <td>0</td>\n",
       "      <td>0</td>\n",
       "      <td>0</td>\n",
       "    </tr>\n",
       "    <tr>\n",
       "      <th>39878</th>\n",
       "      <td>140.0</td>\n",
       "      <td>100</td>\n",
       "      <td>71</td>\n",
       "      <td>0.0</td>\n",
       "      <td>1.0</td>\n",
       "      <td>1.0</td>\n",
       "      <td>1.0</td>\n",
       "      <td>2</td>\n",
       "      <td>1.0</td>\n",
       "      <td>2.0</td>\n",
       "      <td>3</td>\n",
       "      <td>30</td>\n",
       "      <td>1</td>\n",
       "      <td>0</td>\n",
       "      <td>0</td>\n",
       "      <td>4</td>\n",
       "      <td>184</td>\n",
       "      <td>11</td>\n",
       "      <td>4.45</td>\n",
       "      <td>4.64</td>\n",
       "      <td>4.27</td>\n",
       "      <td>4.64</td>\n",
       "      <td>4.36</td>\n",
       "      <td>4.36</td>\n",
       "      <td>4.55</td>\n",
       "      <td>1</td>\n",
       "      <td>1</td>\n",
       "      <td>1</td>\n",
       "      <td>0</td>\n",
       "      <td>0</td>\n",
       "      <td>0.50</td>\n",
       "      <td>1.0</td>\n",
       "      <td>0</td>\n",
       "      <td>0</td>\n",
       "      <td>0</td>\n",
       "      <td>1</td>\n",
       "      <td>0</td>\n",
       "      <td>0</td>\n",
       "      <td>0</td>\n",
       "      <td>1</td>\n",
       "      <td>0</td>\n",
       "      <td>1</td>\n",
       "      <td>0</td>\n",
       "      <td>0</td>\n",
       "      <td>0</td>\n",
       "    </tr>\n",
       "  </tbody>\n",
       "</table>\n",
       "<p>27596 rows × 45 columns</p>\n",
       "</div>"
      ],
      "text/plain": [
       "       price  host_response_rate  host_acceptance_rate  host_is_superhost  \\\n",
       "0      299.0                 100                    90                0.0   \n",
       "2       60.0                 100                   100                1.0   \n",
       "3      425.0                 100                    19                0.0   \n",
       "4      275.0                   0                    33                0.0   \n",
       "6      308.0                  99                    98                1.0   \n",
       "...      ...                 ...                   ...                ...   \n",
       "39871  125.0                 100                   100                0.0   \n",
       "39873  150.0                  46                    75                0.0   \n",
       "39876  157.0                 100                    94                0.0   \n",
       "39877  108.0                 100                    96                1.0   \n",
       "39878  140.0                 100                    71                0.0   \n",
       "\n",
       "       host_listings_count  host_total_listings_count  host_identity_verified  \\\n",
       "0                      9.0                       12.0                     1.0   \n",
       "2                      2.0                        2.0                     1.0   \n",
       "3                      7.0                        7.0                     1.0   \n",
       "4                      1.0                        5.0                     1.0   \n",
       "6                     30.0                       40.0                     1.0   \n",
       "...                    ...                        ...                     ...   \n",
       "39871                  1.0                        1.0                     1.0   \n",
       "39873                  5.0                        5.0                     1.0   \n",
       "39876                  5.0                        9.0                     1.0   \n",
       "39877                  1.0                        1.0                     1.0   \n",
       "39878                  1.0                        1.0                     1.0   \n",
       "\n",
       "       accommodates  bedrooms  beds  minimum_nights  maximum_nights  \\\n",
       "0                 2       1.0   1.0              30             730   \n",
       "2                 2       1.0   1.0              30             730   \n",
       "3                16       5.0  10.0              30             730   \n",
       "4                 4       2.0   2.0              21            1125   \n",
       "6                 2       1.0   1.0               2             365   \n",
       "...             ...       ...   ...             ...             ...   \n",
       "39871             2       2.0   3.0              27              30   \n",
       "39873             6       2.0   2.0               1            1125   \n",
       "39876             2       1.0   1.0               3               7   \n",
       "39877             4       1.0   2.0               3            1125   \n",
       "39878             2       1.0   2.0               3              30   \n",
       "\n",
       "       has_availability  availability_30  availability_60  availability_90  \\\n",
       "0                     1               21               51               81   \n",
       "2                     1                5               30               60   \n",
       "3                     1               30               60               90   \n",
       "4                     1                0                0                0   \n",
       "6                     1               15               42               72   \n",
       "...                 ...              ...              ...              ...   \n",
       "39871                 1                3                3               14   \n",
       "39873                 1                0                0                0   \n",
       "39876                 1                0                0                0   \n",
       "39877                 1                0                0                0   \n",
       "39878                 1                0                0                4   \n",
       "\n",
       "       availability_365  number_of_reviews  review_scores_rating  \\\n",
       "0                   356                  9                  4.89   \n",
       "2                   335                 50                  4.52   \n",
       "3                   365                 13                  4.42   \n",
       "4                   179                  3                  5.00   \n",
       "6                   217                 42                  4.90   \n",
       "...                 ...                ...                   ...   \n",
       "39871                14                  6                  5.00   \n",
       "39873                 0                  3                  5.00   \n",
       "39876                 0                 33                  4.91   \n",
       "39877                 0                 52                  4.79   \n",
       "39878               184                 11                  4.45   \n",
       "\n",
       "       review_scores_accuracy  review_scores_cleanliness  \\\n",
       "0                        4.88                       5.00   \n",
       "2                        4.22                       4.09   \n",
       "3                        4.64                       4.36   \n",
       "4                        5.00                       5.00   \n",
       "6                        4.98                       4.95   \n",
       "...                       ...                        ...   \n",
       "39871                    5.00                       5.00   \n",
       "39873                    5.00                       5.00   \n",
       "39876                    4.97                       4.88   \n",
       "39877                    4.92                       4.75   \n",
       "39878                    4.64                       4.27   \n",
       "\n",
       "       review_scores_checkin  review_scores_communication  \\\n",
       "0                       5.00                         5.00   \n",
       "2                       4.91                         4.91   \n",
       "3                       4.82                         5.00   \n",
       "4                       5.00                         5.00   \n",
       "6                       4.98                         4.88   \n",
       "...                      ...                          ...   \n",
       "39871                   5.00                         5.00   \n",
       "39873                   5.00                         5.00   \n",
       "39876                   4.97                         5.00   \n",
       "39877                   5.00                         4.96   \n",
       "39878                   4.64                         4.36   \n",
       "\n",
       "       review_scores_location  review_scores_value  instant_bookable  \\\n",
       "0                        4.75                 4.88                 0   \n",
       "2                        4.47                 4.52                 0   \n",
       "3                        4.82                 4.55                 0   \n",
       "4                        4.67                 5.00                 0   \n",
       "6                        4.46                 4.78                 0   \n",
       "...                       ...                  ...               ...   \n",
       "39871                    5.00                 5.00                 0   \n",
       "39873                    5.00                 5.00                 0   \n",
       "39876                    4.94                 4.88                 0   \n",
       "39877                    4.81                 4.85                 0   \n",
       "39878                    4.36                 4.55                 1   \n",
       "\n",
       "       calculated_host_listings_count  \\\n",
       "0                                   9   \n",
       "2                                   2   \n",
       "3                                   6   \n",
       "4                                   1   \n",
       "6                                  30   \n",
       "...                               ...   \n",
       "39871                               1   \n",
       "39873                               4   \n",
       "39876                               1   \n",
       "39877                               1   \n",
       "39878                               1   \n",
       "\n",
       "       calculated_host_listings_count_entire_homes  \\\n",
       "0                                                1   \n",
       "2                                                0   \n",
       "3                                                6   \n",
       "4                                                1   \n",
       "6                                               16   \n",
       "...                                            ...   \n",
       "39871                                            0   \n",
       "39873                                            1   \n",
       "39876                                            1   \n",
       "39877                                            1   \n",
       "39878                                            1   \n",
       "\n",
       "       calculated_host_listings_count_private_rooms  \\\n",
       "0                                                 6   \n",
       "2                                                 2   \n",
       "3                                                 0   \n",
       "4                                                 0   \n",
       "6                                                10   \n",
       "...                                             ...   \n",
       "39871                                             1   \n",
       "39873                                             3   \n",
       "39876                                             0   \n",
       "39877                                             0   \n",
       "39878                                             0   \n",
       "\n",
       "       calculated_host_listings_count_shared_rooms  reviews_per_month  baths  \\\n",
       "0                                                2               0.11    1.0   \n",
       "2                                                0               0.31    0.0   \n",
       "3                                                0               0.10    2.5   \n",
       "4                                                0               0.03    1.5   \n",
       "6                                                0               0.30    1.0   \n",
       "...                                            ...                ...    ...   \n",
       "39871                                            0               0.65    1.0   \n",
       "39873                                            0               0.11    1.0   \n",
       "39876                                            0               1.22    1.0   \n",
       "39877                                            0               2.12    1.0   \n",
       "39878                                            0               0.50    1.0   \n",
       "\n",
       "       host_response_time_a few days or more  host_response_time_within a day  \\\n",
       "0                                          0                                0   \n",
       "2                                          0                                0   \n",
       "3                                          0                                0   \n",
       "4                                          0                                0   \n",
       "6                                          0                                0   \n",
       "...                                      ...                              ...   \n",
       "39871                                      0                                0   \n",
       "39873                                      1                                0   \n",
       "39876                                      0                                0   \n",
       "39877                                      0                                0   \n",
       "39878                                      0                                0   \n",
       "\n",
       "       host_response_time_within a few hours  \\\n",
       "0                                          0   \n",
       "2                                          0   \n",
       "3                                          0   \n",
       "4                                          0   \n",
       "6                                          0   \n",
       "...                                      ...   \n",
       "39871                                      0   \n",
       "39873                                      0   \n",
       "39876                                      0   \n",
       "39877                                      0   \n",
       "39878                                      0   \n",
       "\n",
       "       host_response_time_within an hour  neighbourhood_group_cleansed_Bronx  \\\n",
       "0                                      1                                   0   \n",
       "2                                      1                                   0   \n",
       "3                                      1                                   0   \n",
       "4                                      0                                   0   \n",
       "6                                      1                                   0   \n",
       "...                                  ...                                 ...   \n",
       "39871                                  1                                   0   \n",
       "39873                                  0                                   0   \n",
       "39876                                  1                                   0   \n",
       "39877                                  1                                   0   \n",
       "39878                                  1                                   0   \n",
       "\n",
       "       neighbourhood_group_cleansed_Brooklyn  \\\n",
       "0                                          1   \n",
       "2                                          1   \n",
       "3                                          0   \n",
       "4                                          1   \n",
       "6                                          1   \n",
       "...                                      ...   \n",
       "39871                                      0   \n",
       "39873                                      0   \n",
       "39876                                      0   \n",
       "39877                                      0   \n",
       "39878                                      0   \n",
       "\n",
       "       neighbourhood_group_cleansed_Manhattan  \\\n",
       "0                                           0   \n",
       "2                                           0   \n",
       "3                                           0   \n",
       "4                                           0   \n",
       "6                                           0   \n",
       "...                                       ...   \n",
       "39871                                       0   \n",
       "39873                                       1   \n",
       "39876                                       0   \n",
       "39877                                       1   \n",
       "39878                                       0   \n",
       "\n",
       "       neighbourhood_group_cleansed_Queens  \\\n",
       "0                                        0   \n",
       "2                                        0   \n",
       "3                                        1   \n",
       "4                                        0   \n",
       "6                                        0   \n",
       "...                                    ...   \n",
       "39871                                    1   \n",
       "39873                                    0   \n",
       "39876                                    1   \n",
       "39877                                    0   \n",
       "39878                                    1   \n",
       "\n",
       "       neighbourhood_group_cleansed_Staten Island  room_type_Entire home/apt  \\\n",
       "0                                               0                          0   \n",
       "2                                               0                          0   \n",
       "3                                               0                          1   \n",
       "4                                               0                          1   \n",
       "6                                               0                          0   \n",
       "...                                           ...                        ...   \n",
       "39871                                           0                          0   \n",
       "39873                                           0                          0   \n",
       "39876                                           0                          1   \n",
       "39877                                           0                          1   \n",
       "39878                                           0                          1   \n",
       "\n",
       "       room_type_Hotel room  room_type_Private room  room_type_Shared room  \n",
       "0                         0                       1                      0  \n",
       "2                         0                       1                      0  \n",
       "3                         0                       0                      0  \n",
       "4                         0                       0                      0  \n",
       "6                         1                       0                      0  \n",
       "...                     ...                     ...                    ...  \n",
       "39871                     0                       1                      0  \n",
       "39873                     0                       1                      0  \n",
       "39876                     0                       0                      0  \n",
       "39877                     0                       0                      0  \n",
       "39878                     0                       0                      0  \n",
       "\n",
       "[27596 rows x 45 columns]"
      ]
     },
     "execution_count": 108,
     "metadata": {},
     "output_type": "execute_result"
    }
   ],
   "source": [
    "data_model_num.dropna()"
   ]
  },
  {
   "cell_type": "code",
   "execution_count": 130,
   "metadata": {},
   "outputs": [
    {
     "data": {
      "text/html": [
       "<div>\n",
       "<style scoped>\n",
       "    .dataframe tbody tr th:only-of-type {\n",
       "        vertical-align: middle;\n",
       "    }\n",
       "\n",
       "    .dataframe tbody tr th {\n",
       "        vertical-align: top;\n",
       "    }\n",
       "\n",
       "    .dataframe thead th {\n",
       "        text-align: right;\n",
       "    }\n",
       "</style>\n",
       "<table border=\"1\" class=\"dataframe\">\n",
       "  <thead>\n",
       "    <tr style=\"text-align: right;\">\n",
       "      <th></th>\n",
       "      <th>price</th>\n",
       "      <th>host_response_rate</th>\n",
       "      <th>host_acceptance_rate</th>\n",
       "      <th>host_is_superhost</th>\n",
       "      <th>host_listings_count</th>\n",
       "      <th>host_total_listings_count</th>\n",
       "      <th>host_identity_verified</th>\n",
       "      <th>accommodates</th>\n",
       "      <th>bedrooms</th>\n",
       "      <th>beds</th>\n",
       "      <th>minimum_nights</th>\n",
       "      <th>maximum_nights</th>\n",
       "      <th>has_availability</th>\n",
       "      <th>availability_30</th>\n",
       "      <th>availability_60</th>\n",
       "      <th>availability_90</th>\n",
       "      <th>availability_365</th>\n",
       "      <th>number_of_reviews</th>\n",
       "      <th>review_scores_rating</th>\n",
       "      <th>review_scores_accuracy</th>\n",
       "      <th>review_scores_cleanliness</th>\n",
       "      <th>review_scores_checkin</th>\n",
       "      <th>review_scores_communication</th>\n",
       "      <th>review_scores_location</th>\n",
       "      <th>review_scores_value</th>\n",
       "      <th>instant_bookable</th>\n",
       "      <th>calculated_host_listings_count</th>\n",
       "      <th>calculated_host_listings_count_entire_homes</th>\n",
       "      <th>calculated_host_listings_count_private_rooms</th>\n",
       "      <th>calculated_host_listings_count_shared_rooms</th>\n",
       "      <th>reviews_per_month</th>\n",
       "      <th>baths</th>\n",
       "      <th>host_response_time_a few days or more</th>\n",
       "      <th>host_response_time_within a day</th>\n",
       "      <th>host_response_time_within a few hours</th>\n",
       "      <th>host_response_time_within an hour</th>\n",
       "      <th>neighbourhood_group_cleansed_Bronx</th>\n",
       "      <th>neighbourhood_group_cleansed_Brooklyn</th>\n",
       "      <th>neighbourhood_group_cleansed_Manhattan</th>\n",
       "      <th>neighbourhood_group_cleansed_Queens</th>\n",
       "      <th>neighbourhood_group_cleansed_Staten Island</th>\n",
       "      <th>room_type_Entire home/apt</th>\n",
       "      <th>room_type_Hotel room</th>\n",
       "      <th>room_type_Private room</th>\n",
       "      <th>room_type_Shared room</th>\n",
       "    </tr>\n",
       "  </thead>\n",
       "  <tbody>\n",
       "    <tr>\n",
       "      <th>0</th>\n",
       "      <td>299.0</td>\n",
       "      <td>100</td>\n",
       "      <td>90</td>\n",
       "      <td>0.0</td>\n",
       "      <td>9.0</td>\n",
       "      <td>12.0</td>\n",
       "      <td>1.0</td>\n",
       "      <td>2</td>\n",
       "      <td>1.0</td>\n",
       "      <td>1.0</td>\n",
       "      <td>30</td>\n",
       "      <td>730</td>\n",
       "      <td>1</td>\n",
       "      <td>21</td>\n",
       "      <td>51</td>\n",
       "      <td>81</td>\n",
       "      <td>356</td>\n",
       "      <td>9</td>\n",
       "      <td>4.89</td>\n",
       "      <td>4.88</td>\n",
       "      <td>5.00</td>\n",
       "      <td>5.00</td>\n",
       "      <td>5.00</td>\n",
       "      <td>4.75</td>\n",
       "      <td>4.88</td>\n",
       "      <td>0</td>\n",
       "      <td>9</td>\n",
       "      <td>1</td>\n",
       "      <td>6</td>\n",
       "      <td>2</td>\n",
       "      <td>0.11</td>\n",
       "      <td>1.0</td>\n",
       "      <td>0</td>\n",
       "      <td>0</td>\n",
       "      <td>0</td>\n",
       "      <td>1</td>\n",
       "      <td>0</td>\n",
       "      <td>1</td>\n",
       "      <td>0</td>\n",
       "      <td>0</td>\n",
       "      <td>0</td>\n",
       "      <td>0</td>\n",
       "      <td>0</td>\n",
       "      <td>1</td>\n",
       "      <td>0</td>\n",
       "    </tr>\n",
       "    <tr>\n",
       "      <th>1</th>\n",
       "      <td>175.0</td>\n",
       "      <td>75</td>\n",
       "      <td>23</td>\n",
       "      <td>0.0</td>\n",
       "      <td>6.0</td>\n",
       "      <td>9.0</td>\n",
       "      <td>1.0</td>\n",
       "      <td>1</td>\n",
       "      <td>NaN</td>\n",
       "      <td>1.0</td>\n",
       "      <td>30</td>\n",
       "      <td>1125</td>\n",
       "      <td>1</td>\n",
       "      <td>0</td>\n",
       "      <td>0</td>\n",
       "      <td>5</td>\n",
       "      <td>280</td>\n",
       "      <td>49</td>\n",
       "      <td>4.68</td>\n",
       "      <td>4.73</td>\n",
       "      <td>4.63</td>\n",
       "      <td>4.77</td>\n",
       "      <td>4.80</td>\n",
       "      <td>4.81</td>\n",
       "      <td>4.40</td>\n",
       "      <td>0</td>\n",
       "      <td>3</td>\n",
       "      <td>3</td>\n",
       "      <td>0</td>\n",
       "      <td>0</td>\n",
       "      <td>0.31</td>\n",
       "      <td>1.0</td>\n",
       "      <td>0</td>\n",
       "      <td>1</td>\n",
       "      <td>0</td>\n",
       "      <td>0</td>\n",
       "      <td>0</td>\n",
       "      <td>0</td>\n",
       "      <td>1</td>\n",
       "      <td>0</td>\n",
       "      <td>0</td>\n",
       "      <td>1</td>\n",
       "      <td>0</td>\n",
       "      <td>0</td>\n",
       "      <td>0</td>\n",
       "    </tr>\n",
       "    <tr>\n",
       "      <th>2</th>\n",
       "      <td>60.0</td>\n",
       "      <td>100</td>\n",
       "      <td>100</td>\n",
       "      <td>1.0</td>\n",
       "      <td>2.0</td>\n",
       "      <td>2.0</td>\n",
       "      <td>1.0</td>\n",
       "      <td>2</td>\n",
       "      <td>1.0</td>\n",
       "      <td>1.0</td>\n",
       "      <td>30</td>\n",
       "      <td>730</td>\n",
       "      <td>1</td>\n",
       "      <td>5</td>\n",
       "      <td>30</td>\n",
       "      <td>60</td>\n",
       "      <td>335</td>\n",
       "      <td>50</td>\n",
       "      <td>4.52</td>\n",
       "      <td>4.22</td>\n",
       "      <td>4.09</td>\n",
       "      <td>4.91</td>\n",
       "      <td>4.91</td>\n",
       "      <td>4.47</td>\n",
       "      <td>4.52</td>\n",
       "      <td>0</td>\n",
       "      <td>2</td>\n",
       "      <td>0</td>\n",
       "      <td>2</td>\n",
       "      <td>0</td>\n",
       "      <td>0.31</td>\n",
       "      <td>0.0</td>\n",
       "      <td>0</td>\n",
       "      <td>0</td>\n",
       "      <td>0</td>\n",
       "      <td>1</td>\n",
       "      <td>0</td>\n",
       "      <td>1</td>\n",
       "      <td>0</td>\n",
       "      <td>0</td>\n",
       "      <td>0</td>\n",
       "      <td>0</td>\n",
       "      <td>0</td>\n",
       "      <td>1</td>\n",
       "      <td>0</td>\n",
       "    </tr>\n",
       "    <tr>\n",
       "      <th>3</th>\n",
       "      <td>425.0</td>\n",
       "      <td>100</td>\n",
       "      <td>19</td>\n",
       "      <td>0.0</td>\n",
       "      <td>7.0</td>\n",
       "      <td>7.0</td>\n",
       "      <td>1.0</td>\n",
       "      <td>16</td>\n",
       "      <td>5.0</td>\n",
       "      <td>10.0</td>\n",
       "      <td>30</td>\n",
       "      <td>730</td>\n",
       "      <td>1</td>\n",
       "      <td>30</td>\n",
       "      <td>60</td>\n",
       "      <td>90</td>\n",
       "      <td>365</td>\n",
       "      <td>13</td>\n",
       "      <td>4.42</td>\n",
       "      <td>4.64</td>\n",
       "      <td>4.36</td>\n",
       "      <td>4.82</td>\n",
       "      <td>5.00</td>\n",
       "      <td>4.82</td>\n",
       "      <td>4.55</td>\n",
       "      <td>0</td>\n",
       "      <td>6</td>\n",
       "      <td>6</td>\n",
       "      <td>0</td>\n",
       "      <td>0</td>\n",
       "      <td>0.10</td>\n",
       "      <td>2.5</td>\n",
       "      <td>0</td>\n",
       "      <td>0</td>\n",
       "      <td>0</td>\n",
       "      <td>1</td>\n",
       "      <td>0</td>\n",
       "      <td>0</td>\n",
       "      <td>0</td>\n",
       "      <td>1</td>\n",
       "      <td>0</td>\n",
       "      <td>1</td>\n",
       "      <td>0</td>\n",
       "      <td>0</td>\n",
       "      <td>0</td>\n",
       "    </tr>\n",
       "    <tr>\n",
       "      <th>4</th>\n",
       "      <td>275.0</td>\n",
       "      <td>0</td>\n",
       "      <td>33</td>\n",
       "      <td>0.0</td>\n",
       "      <td>1.0</td>\n",
       "      <td>5.0</td>\n",
       "      <td>1.0</td>\n",
       "      <td>4</td>\n",
       "      <td>2.0</td>\n",
       "      <td>2.0</td>\n",
       "      <td>21</td>\n",
       "      <td>1125</td>\n",
       "      <td>1</td>\n",
       "      <td>0</td>\n",
       "      <td>0</td>\n",
       "      <td>0</td>\n",
       "      <td>179</td>\n",
       "      <td>3</td>\n",
       "      <td>5.00</td>\n",
       "      <td>5.00</td>\n",
       "      <td>5.00</td>\n",
       "      <td>5.00</td>\n",
       "      <td>5.00</td>\n",
       "      <td>4.67</td>\n",
       "      <td>5.00</td>\n",
       "      <td>0</td>\n",
       "      <td>1</td>\n",
       "      <td>1</td>\n",
       "      <td>0</td>\n",
       "      <td>0</td>\n",
       "      <td>0.03</td>\n",
       "      <td>1.5</td>\n",
       "      <td>0</td>\n",
       "      <td>0</td>\n",
       "      <td>0</td>\n",
       "      <td>0</td>\n",
       "      <td>0</td>\n",
       "      <td>1</td>\n",
       "      <td>0</td>\n",
       "      <td>0</td>\n",
       "      <td>0</td>\n",
       "      <td>1</td>\n",
       "      <td>0</td>\n",
       "      <td>0</td>\n",
       "      <td>0</td>\n",
       "    </tr>\n",
       "    <tr>\n",
       "      <th>...</th>\n",
       "      <td>...</td>\n",
       "      <td>...</td>\n",
       "      <td>...</td>\n",
       "      <td>...</td>\n",
       "      <td>...</td>\n",
       "      <td>...</td>\n",
       "      <td>...</td>\n",
       "      <td>...</td>\n",
       "      <td>...</td>\n",
       "      <td>...</td>\n",
       "      <td>...</td>\n",
       "      <td>...</td>\n",
       "      <td>...</td>\n",
       "      <td>...</td>\n",
       "      <td>...</td>\n",
       "      <td>...</td>\n",
       "      <td>...</td>\n",
       "      <td>...</td>\n",
       "      <td>...</td>\n",
       "      <td>...</td>\n",
       "      <td>...</td>\n",
       "      <td>...</td>\n",
       "      <td>...</td>\n",
       "      <td>...</td>\n",
       "      <td>...</td>\n",
       "      <td>...</td>\n",
       "      <td>...</td>\n",
       "      <td>...</td>\n",
       "      <td>...</td>\n",
       "      <td>...</td>\n",
       "      <td>...</td>\n",
       "      <td>...</td>\n",
       "      <td>...</td>\n",
       "      <td>...</td>\n",
       "      <td>...</td>\n",
       "      <td>...</td>\n",
       "      <td>...</td>\n",
       "      <td>...</td>\n",
       "      <td>...</td>\n",
       "      <td>...</td>\n",
       "      <td>...</td>\n",
       "      <td>...</td>\n",
       "      <td>...</td>\n",
       "      <td>...</td>\n",
       "      <td>...</td>\n",
       "    </tr>\n",
       "    <tr>\n",
       "      <th>39876</th>\n",
       "      <td>157.0</td>\n",
       "      <td>100</td>\n",
       "      <td>94</td>\n",
       "      <td>0.0</td>\n",
       "      <td>5.0</td>\n",
       "      <td>9.0</td>\n",
       "      <td>1.0</td>\n",
       "      <td>2</td>\n",
       "      <td>1.0</td>\n",
       "      <td>1.0</td>\n",
       "      <td>3</td>\n",
       "      <td>7</td>\n",
       "      <td>1</td>\n",
       "      <td>0</td>\n",
       "      <td>0</td>\n",
       "      <td>0</td>\n",
       "      <td>0</td>\n",
       "      <td>33</td>\n",
       "      <td>4.91</td>\n",
       "      <td>4.97</td>\n",
       "      <td>4.88</td>\n",
       "      <td>4.97</td>\n",
       "      <td>5.00</td>\n",
       "      <td>4.94</td>\n",
       "      <td>4.88</td>\n",
       "      <td>0</td>\n",
       "      <td>1</td>\n",
       "      <td>1</td>\n",
       "      <td>0</td>\n",
       "      <td>0</td>\n",
       "      <td>1.22</td>\n",
       "      <td>1.0</td>\n",
       "      <td>0</td>\n",
       "      <td>0</td>\n",
       "      <td>0</td>\n",
       "      <td>1</td>\n",
       "      <td>0</td>\n",
       "      <td>0</td>\n",
       "      <td>0</td>\n",
       "      <td>1</td>\n",
       "      <td>0</td>\n",
       "      <td>1</td>\n",
       "      <td>0</td>\n",
       "      <td>0</td>\n",
       "      <td>0</td>\n",
       "    </tr>\n",
       "    <tr>\n",
       "      <th>39877</th>\n",
       "      <td>108.0</td>\n",
       "      <td>100</td>\n",
       "      <td>96</td>\n",
       "      <td>1.0</td>\n",
       "      <td>1.0</td>\n",
       "      <td>1.0</td>\n",
       "      <td>1.0</td>\n",
       "      <td>4</td>\n",
       "      <td>1.0</td>\n",
       "      <td>2.0</td>\n",
       "      <td>3</td>\n",
       "      <td>1125</td>\n",
       "      <td>1</td>\n",
       "      <td>0</td>\n",
       "      <td>0</td>\n",
       "      <td>0</td>\n",
       "      <td>0</td>\n",
       "      <td>52</td>\n",
       "      <td>4.79</td>\n",
       "      <td>4.92</td>\n",
       "      <td>4.75</td>\n",
       "      <td>5.00</td>\n",
       "      <td>4.96</td>\n",
       "      <td>4.81</td>\n",
       "      <td>4.85</td>\n",
       "      <td>0</td>\n",
       "      <td>1</td>\n",
       "      <td>1</td>\n",
       "      <td>0</td>\n",
       "      <td>0</td>\n",
       "      <td>2.12</td>\n",
       "      <td>1.0</td>\n",
       "      <td>0</td>\n",
       "      <td>0</td>\n",
       "      <td>0</td>\n",
       "      <td>1</td>\n",
       "      <td>0</td>\n",
       "      <td>0</td>\n",
       "      <td>1</td>\n",
       "      <td>0</td>\n",
       "      <td>0</td>\n",
       "      <td>1</td>\n",
       "      <td>0</td>\n",
       "      <td>0</td>\n",
       "      <td>0</td>\n",
       "    </tr>\n",
       "    <tr>\n",
       "      <th>39878</th>\n",
       "      <td>140.0</td>\n",
       "      <td>100</td>\n",
       "      <td>71</td>\n",
       "      <td>0.0</td>\n",
       "      <td>1.0</td>\n",
       "      <td>1.0</td>\n",
       "      <td>1.0</td>\n",
       "      <td>2</td>\n",
       "      <td>1.0</td>\n",
       "      <td>2.0</td>\n",
       "      <td>3</td>\n",
       "      <td>30</td>\n",
       "      <td>1</td>\n",
       "      <td>0</td>\n",
       "      <td>0</td>\n",
       "      <td>4</td>\n",
       "      <td>184</td>\n",
       "      <td>11</td>\n",
       "      <td>4.45</td>\n",
       "      <td>4.64</td>\n",
       "      <td>4.27</td>\n",
       "      <td>4.64</td>\n",
       "      <td>4.36</td>\n",
       "      <td>4.36</td>\n",
       "      <td>4.55</td>\n",
       "      <td>1</td>\n",
       "      <td>1</td>\n",
       "      <td>1</td>\n",
       "      <td>0</td>\n",
       "      <td>0</td>\n",
       "      <td>0.50</td>\n",
       "      <td>1.0</td>\n",
       "      <td>0</td>\n",
       "      <td>0</td>\n",
       "      <td>0</td>\n",
       "      <td>1</td>\n",
       "      <td>0</td>\n",
       "      <td>0</td>\n",
       "      <td>0</td>\n",
       "      <td>1</td>\n",
       "      <td>0</td>\n",
       "      <td>1</td>\n",
       "      <td>0</td>\n",
       "      <td>0</td>\n",
       "      <td>0</td>\n",
       "    </tr>\n",
       "    <tr>\n",
       "      <th>39879</th>\n",
       "      <td>400.0</td>\n",
       "      <td>0</td>\n",
       "      <td>0</td>\n",
       "      <td>0.0</td>\n",
       "      <td>1.0</td>\n",
       "      <td>1.0</td>\n",
       "      <td>1.0</td>\n",
       "      <td>4</td>\n",
       "      <td>2.0</td>\n",
       "      <td>2.0</td>\n",
       "      <td>30</td>\n",
       "      <td>365</td>\n",
       "      <td>1</td>\n",
       "      <td>0</td>\n",
       "      <td>6</td>\n",
       "      <td>36</td>\n",
       "      <td>311</td>\n",
       "      <td>0</td>\n",
       "      <td>NaN</td>\n",
       "      <td>NaN</td>\n",
       "      <td>NaN</td>\n",
       "      <td>NaN</td>\n",
       "      <td>NaN</td>\n",
       "      <td>NaN</td>\n",
       "      <td>NaN</td>\n",
       "      <td>0</td>\n",
       "      <td>1</td>\n",
       "      <td>1</td>\n",
       "      <td>0</td>\n",
       "      <td>0</td>\n",
       "      <td>NaN</td>\n",
       "      <td>2.0</td>\n",
       "      <td>0</td>\n",
       "      <td>0</td>\n",
       "      <td>0</td>\n",
       "      <td>0</td>\n",
       "      <td>0</td>\n",
       "      <td>1</td>\n",
       "      <td>0</td>\n",
       "      <td>0</td>\n",
       "      <td>0</td>\n",
       "      <td>1</td>\n",
       "      <td>0</td>\n",
       "      <td>0</td>\n",
       "      <td>0</td>\n",
       "    </tr>\n",
       "    <tr>\n",
       "      <th>39880</th>\n",
       "      <td>40.0</td>\n",
       "      <td>100</td>\n",
       "      <td>46</td>\n",
       "      <td>0.0</td>\n",
       "      <td>3.0</td>\n",
       "      <td>4.0</td>\n",
       "      <td>1.0</td>\n",
       "      <td>1</td>\n",
       "      <td>1.0</td>\n",
       "      <td>NaN</td>\n",
       "      <td>1</td>\n",
       "      <td>1125</td>\n",
       "      <td>1</td>\n",
       "      <td>0</td>\n",
       "      <td>0</td>\n",
       "      <td>0</td>\n",
       "      <td>0</td>\n",
       "      <td>15</td>\n",
       "      <td>4.47</td>\n",
       "      <td>4.73</td>\n",
       "      <td>4.53</td>\n",
       "      <td>4.67</td>\n",
       "      <td>4.73</td>\n",
       "      <td>4.87</td>\n",
       "      <td>4.47</td>\n",
       "      <td>0</td>\n",
       "      <td>1</td>\n",
       "      <td>0</td>\n",
       "      <td>1</td>\n",
       "      <td>0</td>\n",
       "      <td>0.91</td>\n",
       "      <td>1.0</td>\n",
       "      <td>0</td>\n",
       "      <td>0</td>\n",
       "      <td>1</td>\n",
       "      <td>0</td>\n",
       "      <td>0</td>\n",
       "      <td>0</td>\n",
       "      <td>1</td>\n",
       "      <td>0</td>\n",
       "      <td>0</td>\n",
       "      <td>0</td>\n",
       "      <td>0</td>\n",
       "      <td>1</td>\n",
       "      <td>0</td>\n",
       "    </tr>\n",
       "  </tbody>\n",
       "</table>\n",
       "<p>39722 rows × 45 columns</p>\n",
       "</div>"
      ],
      "text/plain": [
       "       price  host_response_rate  host_acceptance_rate  host_is_superhost  \\\n",
       "0      299.0                 100                    90                0.0   \n",
       "1      175.0                  75                    23                0.0   \n",
       "2       60.0                 100                   100                1.0   \n",
       "3      425.0                 100                    19                0.0   \n",
       "4      275.0                   0                    33                0.0   \n",
       "...      ...                 ...                   ...                ...   \n",
       "39876  157.0                 100                    94                0.0   \n",
       "39877  108.0                 100                    96                1.0   \n",
       "39878  140.0                 100                    71                0.0   \n",
       "39879  400.0                   0                     0                0.0   \n",
       "39880   40.0                 100                    46                0.0   \n",
       "\n",
       "       host_listings_count  host_total_listings_count  host_identity_verified  \\\n",
       "0                      9.0                       12.0                     1.0   \n",
       "1                      6.0                        9.0                     1.0   \n",
       "2                      2.0                        2.0                     1.0   \n",
       "3                      7.0                        7.0                     1.0   \n",
       "4                      1.0                        5.0                     1.0   \n",
       "...                    ...                        ...                     ...   \n",
       "39876                  5.0                        9.0                     1.0   \n",
       "39877                  1.0                        1.0                     1.0   \n",
       "39878                  1.0                        1.0                     1.0   \n",
       "39879                  1.0                        1.0                     1.0   \n",
       "39880                  3.0                        4.0                     1.0   \n",
       "\n",
       "       accommodates  bedrooms  beds  minimum_nights  maximum_nights  \\\n",
       "0                 2       1.0   1.0              30             730   \n",
       "1                 1       NaN   1.0              30            1125   \n",
       "2                 2       1.0   1.0              30             730   \n",
       "3                16       5.0  10.0              30             730   \n",
       "4                 4       2.0   2.0              21            1125   \n",
       "...             ...       ...   ...             ...             ...   \n",
       "39876             2       1.0   1.0               3               7   \n",
       "39877             4       1.0   2.0               3            1125   \n",
       "39878             2       1.0   2.0               3              30   \n",
       "39879             4       2.0   2.0              30             365   \n",
       "39880             1       1.0   NaN               1            1125   \n",
       "\n",
       "       has_availability  availability_30  availability_60  availability_90  \\\n",
       "0                     1               21               51               81   \n",
       "1                     1                0                0                5   \n",
       "2                     1                5               30               60   \n",
       "3                     1               30               60               90   \n",
       "4                     1                0                0                0   \n",
       "...                 ...              ...              ...              ...   \n",
       "39876                 1                0                0                0   \n",
       "39877                 1                0                0                0   \n",
       "39878                 1                0                0                4   \n",
       "39879                 1                0                6               36   \n",
       "39880                 1                0                0                0   \n",
       "\n",
       "       availability_365  number_of_reviews  review_scores_rating  \\\n",
       "0                   356                  9                  4.89   \n",
       "1                   280                 49                  4.68   \n",
       "2                   335                 50                  4.52   \n",
       "3                   365                 13                  4.42   \n",
       "4                   179                  3                  5.00   \n",
       "...                 ...                ...                   ...   \n",
       "39876                 0                 33                  4.91   \n",
       "39877                 0                 52                  4.79   \n",
       "39878               184                 11                  4.45   \n",
       "39879               311                  0                   NaN   \n",
       "39880                 0                 15                  4.47   \n",
       "\n",
       "       review_scores_accuracy  review_scores_cleanliness  \\\n",
       "0                        4.88                       5.00   \n",
       "1                        4.73                       4.63   \n",
       "2                        4.22                       4.09   \n",
       "3                        4.64                       4.36   \n",
       "4                        5.00                       5.00   \n",
       "...                       ...                        ...   \n",
       "39876                    4.97                       4.88   \n",
       "39877                    4.92                       4.75   \n",
       "39878                    4.64                       4.27   \n",
       "39879                     NaN                        NaN   \n",
       "39880                    4.73                       4.53   \n",
       "\n",
       "       review_scores_checkin  review_scores_communication  \\\n",
       "0                       5.00                         5.00   \n",
       "1                       4.77                         4.80   \n",
       "2                       4.91                         4.91   \n",
       "3                       4.82                         5.00   \n",
       "4                       5.00                         5.00   \n",
       "...                      ...                          ...   \n",
       "39876                   4.97                         5.00   \n",
       "39877                   5.00                         4.96   \n",
       "39878                   4.64                         4.36   \n",
       "39879                    NaN                          NaN   \n",
       "39880                   4.67                         4.73   \n",
       "\n",
       "       review_scores_location  review_scores_value  instant_bookable  \\\n",
       "0                        4.75                 4.88                 0   \n",
       "1                        4.81                 4.40                 0   \n",
       "2                        4.47                 4.52                 0   \n",
       "3                        4.82                 4.55                 0   \n",
       "4                        4.67                 5.00                 0   \n",
       "...                       ...                  ...               ...   \n",
       "39876                    4.94                 4.88                 0   \n",
       "39877                    4.81                 4.85                 0   \n",
       "39878                    4.36                 4.55                 1   \n",
       "39879                     NaN                  NaN                 0   \n",
       "39880                    4.87                 4.47                 0   \n",
       "\n",
       "       calculated_host_listings_count  \\\n",
       "0                                   9   \n",
       "1                                   3   \n",
       "2                                   2   \n",
       "3                                   6   \n",
       "4                                   1   \n",
       "...                               ...   \n",
       "39876                               1   \n",
       "39877                               1   \n",
       "39878                               1   \n",
       "39879                               1   \n",
       "39880                               1   \n",
       "\n",
       "       calculated_host_listings_count_entire_homes  \\\n",
       "0                                                1   \n",
       "1                                                3   \n",
       "2                                                0   \n",
       "3                                                6   \n",
       "4                                                1   \n",
       "...                                            ...   \n",
       "39876                                            1   \n",
       "39877                                            1   \n",
       "39878                                            1   \n",
       "39879                                            1   \n",
       "39880                                            0   \n",
       "\n",
       "       calculated_host_listings_count_private_rooms  \\\n",
       "0                                                 6   \n",
       "1                                                 0   \n",
       "2                                                 2   \n",
       "3                                                 0   \n",
       "4                                                 0   \n",
       "...                                             ...   \n",
       "39876                                             0   \n",
       "39877                                             0   \n",
       "39878                                             0   \n",
       "39879                                             0   \n",
       "39880                                             1   \n",
       "\n",
       "       calculated_host_listings_count_shared_rooms  reviews_per_month  baths  \\\n",
       "0                                                2               0.11    1.0   \n",
       "1                                                0               0.31    1.0   \n",
       "2                                                0               0.31    0.0   \n",
       "3                                                0               0.10    2.5   \n",
       "4                                                0               0.03    1.5   \n",
       "...                                            ...                ...    ...   \n",
       "39876                                            0               1.22    1.0   \n",
       "39877                                            0               2.12    1.0   \n",
       "39878                                            0               0.50    1.0   \n",
       "39879                                            0                NaN    2.0   \n",
       "39880                                            0               0.91    1.0   \n",
       "\n",
       "       host_response_time_a few days or more  host_response_time_within a day  \\\n",
       "0                                          0                                0   \n",
       "1                                          0                                1   \n",
       "2                                          0                                0   \n",
       "3                                          0                                0   \n",
       "4                                          0                                0   \n",
       "...                                      ...                              ...   \n",
       "39876                                      0                                0   \n",
       "39877                                      0                                0   \n",
       "39878                                      0                                0   \n",
       "39879                                      0                                0   \n",
       "39880                                      0                                0   \n",
       "\n",
       "       host_response_time_within a few hours  \\\n",
       "0                                          0   \n",
       "1                                          0   \n",
       "2                                          0   \n",
       "3                                          0   \n",
       "4                                          0   \n",
       "...                                      ...   \n",
       "39876                                      0   \n",
       "39877                                      0   \n",
       "39878                                      0   \n",
       "39879                                      0   \n",
       "39880                                      1   \n",
       "\n",
       "       host_response_time_within an hour  neighbourhood_group_cleansed_Bronx  \\\n",
       "0                                      1                                   0   \n",
       "1                                      0                                   0   \n",
       "2                                      1                                   0   \n",
       "3                                      1                                   0   \n",
       "4                                      0                                   0   \n",
       "...                                  ...                                 ...   \n",
       "39876                                  1                                   0   \n",
       "39877                                  1                                   0   \n",
       "39878                                  1                                   0   \n",
       "39879                                  0                                   0   \n",
       "39880                                  0                                   0   \n",
       "\n",
       "       neighbourhood_group_cleansed_Brooklyn  \\\n",
       "0                                          1   \n",
       "1                                          0   \n",
       "2                                          1   \n",
       "3                                          0   \n",
       "4                                          1   \n",
       "...                                      ...   \n",
       "39876                                      0   \n",
       "39877                                      0   \n",
       "39878                                      0   \n",
       "39879                                      1   \n",
       "39880                                      0   \n",
       "\n",
       "       neighbourhood_group_cleansed_Manhattan  \\\n",
       "0                                           0   \n",
       "1                                           1   \n",
       "2                                           0   \n",
       "3                                           0   \n",
       "4                                           0   \n",
       "...                                       ...   \n",
       "39876                                       0   \n",
       "39877                                       1   \n",
       "39878                                       0   \n",
       "39879                                       0   \n",
       "39880                                       1   \n",
       "\n",
       "       neighbourhood_group_cleansed_Queens  \\\n",
       "0                                        0   \n",
       "1                                        0   \n",
       "2                                        0   \n",
       "3                                        1   \n",
       "4                                        0   \n",
       "...                                    ...   \n",
       "39876                                    1   \n",
       "39877                                    0   \n",
       "39878                                    1   \n",
       "39879                                    0   \n",
       "39880                                    0   \n",
       "\n",
       "       neighbourhood_group_cleansed_Staten Island  room_type_Entire home/apt  \\\n",
       "0                                               0                          0   \n",
       "1                                               0                          1   \n",
       "2                                               0                          0   \n",
       "3                                               0                          1   \n",
       "4                                               0                          1   \n",
       "...                                           ...                        ...   \n",
       "39876                                           0                          1   \n",
       "39877                                           0                          1   \n",
       "39878                                           0                          1   \n",
       "39879                                           0                          1   \n",
       "39880                                           0                          0   \n",
       "\n",
       "       room_type_Hotel room  room_type_Private room  room_type_Shared room  \n",
       "0                         0                       1                      0  \n",
       "1                         0                       0                      0  \n",
       "2                         0                       1                      0  \n",
       "3                         0                       0                      0  \n",
       "4                         0                       0                      0  \n",
       "...                     ...                     ...                    ...  \n",
       "39876                     0                       0                      0  \n",
       "39877                     0                       0                      0  \n",
       "39878                     0                       0                      0  \n",
       "39879                     0                       0                      0  \n",
       "39880                     0                       1                      0  \n",
       "\n",
       "[39722 rows x 45 columns]"
      ]
     },
     "execution_count": 130,
     "metadata": {},
     "output_type": "execute_result"
    }
   ],
   "source": [
    "data_model_num_no_outliers = data_model_num[data_model_num[\"price\"]<2000]\n",
    "data_model_num_no_outliers"
   ]
  },
  {
   "cell_type": "code",
   "execution_count": 126,
   "metadata": {},
   "outputs": [],
   "source": [
    "df, validation_df  = train_test_split(data_model_num_no_outliers.dropna(),\n",
    "                                test_size=0.25,\n",
    "                                random_state = 101)"
   ]
  },
  {
   "cell_type": "code",
   "execution_count": 127,
   "metadata": {},
   "outputs": [],
   "source": [
    "df_train, df_test  = train_test_split(df,\n",
    "                                test_size=0.25,\n",
    "                                random_state = 101)"
   ]
  },
  {
   "cell_type": "code",
   "execution_count": 128,
   "metadata": {},
   "outputs": [],
   "source": [
    "#division entre train y test \n",
    "X_train = df_train.drop(\"price\", axis = 1)\n",
    "y_train = df_train[\"price\"]\n",
    "\n",
    "X_test = df_test.drop(\"price\", axis = 1)\n",
    "y_test = df_test[\"price\"]\n",
    "\n",
    "X_val = validation_df.drop(\"price\", axis = 1)\n",
    "y_val = validation_df[\"price\"]"
   ]
  },
  {
   "cell_type": "markdown",
   "metadata": {},
   "source": [
    "Funciones"
   ]
  },
  {
   "cell_type": "code",
   "execution_count": 123,
   "metadata": {},
   "outputs": [],
   "source": [
    "def show_metrics(prediction_test, prediction_train, y_test, y_train):\n",
    "    MAE = round(metrics.mean_absolute_error(y_test, prediction_test), 2)\n",
    "    MSE = round(metrics.mean_squared_error(y_test, prediction_test), 2)\n",
    "    RMSE = round(np.sqrt(metrics.mean_squared_error(y_test, prediction_test)), 2)\n",
    "    RMSE_ratio_test= round(np.sqrt(metrics.mean_squared_error(y_test, prediction_test)) / np.mean(y_test),3)\n",
    "    RMSE_ratio_train = round(np.sqrt(metrics.mean_squared_error(y_train, prediction_train)) / np.mean(y_train),3)\n",
    "    R_2_test = round(metrics.explained_variance_score(y_test, prediction_test), 2)\n",
    "    R_2_train = round(metrics.explained_variance_score(y_train, prediction_train), 2)\n",
    "    \n",
    "    metrics_data = pd.DataFrame(data = [MAE, MSE, RMSE, RMSE_ratio_test, \n",
    "                                    RMSE_ratio_train, R_2_test, R_2_train]).T\n",
    "    \n",
    "    metrics_data.columns = ['MAE', 'MSE', 'RMSE', 'RMSE_ratio_test', \n",
    "                                    'RMSE_ratio_train', 'R_2_test', 'R_2_train']\n",
    "    display(metrics_data)"
   ]
  },
  {
   "cell_type": "code",
   "execution_count": 124,
   "metadata": {},
   "outputs": [],
   "source": [
    "def analysis(model, X_train, X_test, y_train, y_test):\n",
    "    \n",
    "    prediction_test = model.predict(X_test)\n",
    "    prediction_train = model.predict(X_train)\n",
    "        \n",
    "    \n",
    "    show_metrics(prediction_test, prediction_train, y_test, y_train)\n",
    "    \n",
    "    sns.regplot(x = y_test, y = prediction_test, fit_reg=True)\n",
    "    plt.title('Prediction and real')\n",
    "    plt.show()\n",
    "\n",
    "    sns.distplot(y_test - prediction_test, bins = 50)\n",
    "    plt.title('Error variance')\n",
    "    plt.show()"
   ]
  },
  {
   "cell_type": "code",
   "execution_count": 129,
   "metadata": {},
   "outputs": [
    {
     "data": {
      "text/html": [
       "<div>\n",
       "<style scoped>\n",
       "    .dataframe tbody tr th:only-of-type {\n",
       "        vertical-align: middle;\n",
       "    }\n",
       "\n",
       "    .dataframe tbody tr th {\n",
       "        vertical-align: top;\n",
       "    }\n",
       "\n",
       "    .dataframe thead th {\n",
       "        text-align: right;\n",
       "    }\n",
       "</style>\n",
       "<table border=\"1\" class=\"dataframe\">\n",
       "  <thead>\n",
       "    <tr style=\"text-align: right;\">\n",
       "      <th></th>\n",
       "      <th>MAE</th>\n",
       "      <th>MSE</th>\n",
       "      <th>RMSE</th>\n",
       "      <th>RMSE_ratio_test</th>\n",
       "      <th>RMSE_ratio_train</th>\n",
       "      <th>R_2_test</th>\n",
       "      <th>R_2_train</th>\n",
       "    </tr>\n",
       "  </thead>\n",
       "  <tbody>\n",
       "    <tr>\n",
       "      <th>0</th>\n",
       "      <td>87.2</td>\n",
       "      <td>1380921.09</td>\n",
       "      <td>1175.13</td>\n",
       "      <td>6.8</td>\n",
       "      <td>0.695</td>\n",
       "      <td>-50.29</td>\n",
       "      <td>0.46</td>\n",
       "    </tr>\n",
       "  </tbody>\n",
       "</table>\n",
       "</div>"
      ],
      "text/plain": [
       "    MAE         MSE     RMSE  RMSE_ratio_test  RMSE_ratio_train  R_2_test  \\\n",
       "0  87.2  1380921.09  1175.13              6.8             0.695    -50.29   \n",
       "\n",
       "   R_2_train  \n",
       "0       0.46  "
      ]
     },
     "metadata": {},
     "output_type": "display_data"
    },
    {
     "data": {
      "image/png": "[encoded data removed]",
      "text/plain": [
       "<Figure size 432x288 with 1 Axes>"
      ]
     },
     "metadata": {
      "needs_background": "light"
     },
     "output_type": "display_data"
    },
    {
     "data": {
      "image/png": "[encoded data removed]",
      "text/plain": [
       "<Figure size 432x288 with 1 Axes>"
      ]
     },
     "metadata": {
      "needs_background": "light"
     },
     "output_type": "display_data"
    }
   ],
   "source": [
    "lm = LinearRegression(\n",
    "        n_jobs = -1,\n",
    "        normalize = True\n",
    ")\n",
    "\n",
    "lm.fit(X_train, y_train)\n",
    "\n",
    "comment = ''\n",
    "\n",
    "analysis(\n",
    "    model = lm, \n",
    "    X_train = X_train, \n",
    "    X_test = X_test, \n",
    "    y_train = y_train, \n",
    "    y_test = y_test\n",
    ")"
   ]
  },
  {
   "cell_type": "markdown",
   "metadata": {},
   "source": [
    "Random Forest Regressor"
   ]
  },
  {
   "cell_type": "code",
   "execution_count": 131,
   "metadata": {},
   "outputs": [
    {
     "data": {
      "text/html": [
       "<div>\n",
       "<style scoped>\n",
       "    .dataframe tbody tr th:only-of-type {\n",
       "        vertical-align: middle;\n",
       "    }\n",
       "\n",
       "    .dataframe tbody tr th {\n",
       "        vertical-align: top;\n",
       "    }\n",
       "\n",
       "    .dataframe thead th {\n",
       "        text-align: right;\n",
       "    }\n",
       "</style>\n",
       "<table border=\"1\" class=\"dataframe\">\n",
       "  <thead>\n",
       "    <tr style=\"text-align: right;\">\n",
       "      <th></th>\n",
       "      <th>MAE</th>\n",
       "      <th>MSE</th>\n",
       "      <th>RMSE</th>\n",
       "      <th>RMSE_ratio_test</th>\n",
       "      <th>RMSE_ratio_train</th>\n",
       "      <th>R_2_test</th>\n",
       "      <th>R_2_train</th>\n",
       "    </tr>\n",
       "  </thead>\n",
       "  <tbody>\n",
       "    <tr>\n",
       "      <th>0</th>\n",
       "      <td>57.14</td>\n",
       "      <td>10833.82</td>\n",
       "      <td>104.09</td>\n",
       "      <td>0.602</td>\n",
       "      <td>0.404</td>\n",
       "      <td>0.6</td>\n",
       "      <td>0.82</td>\n",
       "    </tr>\n",
       "  </tbody>\n",
       "</table>\n",
       "</div>"
      ],
      "text/plain": [
       "     MAE       MSE    RMSE  RMSE_ratio_test  RMSE_ratio_train  R_2_test  \\\n",
       "0  57.14  10833.82  104.09            0.602             0.404       0.6   \n",
       "\n",
       "   R_2_train  \n",
       "0       0.82  "
      ]
     },
     "metadata": {},
     "output_type": "display_data"
    },
    {
     "data": {
      "image/png": "[encoded data removed]",
      "text/plain": [
       "<Figure size 432x288 with 1 Axes>"
      ]
     },
     "metadata": {
      "needs_background": "light"
     },
     "output_type": "display_data"
    },
    {
     "data": {
      "image/png": "[encoded data removed]",
      "text/plain": [
       "<Figure size 432x288 with 1 Axes>"
      ]
     },
     "metadata": {
      "needs_background": "light"
     },
     "output_type": "display_data"
    }
   ],
   "source": [
    "rfm = RandomForestRegressor(\n",
    "          max_depth = 10,\n",
    "          n_jobs = -1, \n",
    "          random_state = 101,\n",
    "          n_estimators = 700\n",
    "    \n",
    ")\n",
    "rfm.fit(X_train, y_train)\n",
    "\n",
    "comment = ''\n",
    "\n",
    "analysis(\n",
    "    model = rfm, \n",
    "    X_train =X_train, \n",
    "    X_test = X_test, \n",
    "    y_train = y_train, \n",
    "    y_test = y_test\n",
    ")"
   ]
  },
  {
   "cell_type": "code",
   "execution_count": 145,
   "metadata": {},
   "outputs": [
    {
     "name": "stdout",
     "output_type": "stream",
     "text": [
      "Importancia de los predictores en el modelo\n"
     ]
    },
    {
     "data": {
      "text/html": [
       "<div>\n",
       "<style scoped>\n",
       "    .dataframe tbody tr th:only-of-type {\n",
       "        vertical-align: middle;\n",
       "    }\n",
       "\n",
       "    .dataframe tbody tr th {\n",
       "        vertical-align: top;\n",
       "    }\n",
       "\n",
       "    .dataframe thead th {\n",
       "        text-align: right;\n",
       "    }\n",
       "</style>\n",
       "<table border=\"1\" class=\"dataframe\">\n",
       "  <thead>\n",
       "    <tr style=\"text-align: right;\">\n",
       "      <th></th>\n",
       "      <th>predictor</th>\n",
       "      <th>importancia</th>\n",
       "    </tr>\n",
       "  </thead>\n",
       "  <tbody>\n",
       "    <tr>\n",
       "      <th>6</th>\n",
       "      <td>accommodates</td>\n",
       "      <td>0.220639</td>\n",
       "    </tr>\n",
       "    <tr>\n",
       "      <th>30</th>\n",
       "      <td>baths</td>\n",
       "      <td>0.158029</td>\n",
       "    </tr>\n",
       "    <tr>\n",
       "      <th>37</th>\n",
       "      <td>neighbourhood_group_cleansed_Manhattan</td>\n",
       "      <td>0.077612</td>\n",
       "    </tr>\n",
       "    <tr>\n",
       "      <th>9</th>\n",
       "      <td>minimum_nights</td>\n",
       "      <td>0.057394</td>\n",
       "    </tr>\n",
       "    <tr>\n",
       "      <th>40</th>\n",
       "      <td>room_type_Entire home/apt</td>\n",
       "      <td>0.045249</td>\n",
       "    </tr>\n",
       "    <tr>\n",
       "      <th>12</th>\n",
       "      <td>availability_30</td>\n",
       "      <td>0.042553</td>\n",
       "    </tr>\n",
       "    <tr>\n",
       "      <th>7</th>\n",
       "      <td>bedrooms</td>\n",
       "      <td>0.036066</td>\n",
       "    </tr>\n",
       "    <tr>\n",
       "      <th>22</th>\n",
       "      <td>review_scores_location</td>\n",
       "      <td>0.030332</td>\n",
       "    </tr>\n",
       "    <tr>\n",
       "      <th>14</th>\n",
       "      <td>availability_90</td>\n",
       "      <td>0.024974</td>\n",
       "    </tr>\n",
       "    <tr>\n",
       "      <th>15</th>\n",
       "      <td>availability_365</td>\n",
       "      <td>0.024888</td>\n",
       "    </tr>\n",
       "  </tbody>\n",
       "</table>\n",
       "</div>"
      ],
      "text/plain": [
       "                                 predictor  importancia\n",
       "6                             accommodates     0.220639\n",
       "30                                   baths     0.158029\n",
       "37  neighbourhood_group_cleansed_Manhattan     0.077612\n",
       "9                           minimum_nights     0.057394\n",
       "40               room_type_Entire home/apt     0.045249\n",
       "12                         availability_30     0.042553\n",
       "7                                 bedrooms     0.036066\n",
       "22                  review_scores_location     0.030332\n",
       "14                         availability_90     0.024974\n",
       "15                        availability_365     0.024888"
      ]
     },
     "execution_count": 145,
     "metadata": {},
     "output_type": "execute_result"
    }
   ],
   "source": [
    "importancia_predictores = pd.DataFrame(\n",
    "                            {'predictor': data_model_num_no_outliers.drop(columns = \"price\").columns,\n",
    "                             'importancia': rfm.feature_importances_}\n",
    "                            )\n",
    "print(\"Importancia de los predictores en el modelo\")\n",
    "importancia_predictores = importancia_predictores.sort_values('importancia', ascending=False).head(10)\n",
    "importancia_predictores"
   ]
  },
  {
   "cell_type": "code",
   "execution_count": 146,
   "metadata": {},
   "outputs": [
    {
     "data": {
      "application/vnd.plotly.v1+json": {
       "config": {
        "plotlyServerURL": "https://plot.ly"
       },
       "data": [
        {
         "marker": {
          "color": "steelblue"
         },
         "name": "Importancia de variables",
         "orientation": "h",
         "type": "bar",
         "x": [
          0.22063914450725836,
          0.15802921491796051,
          0.07761175316834529,
          0.05739369015309271,
          0.04524928273945074,
          0.04255255258342065,
          0.03606580786196821,
          0.030332135702980812,
          0.024974436130160177,
          0.024887501709213555
         ],
         "y": [
          "accommodates",
          "baths",
          "neighbourhood_group_cleansed_Manhattan",
          "minimum_nights",
          "room_type_Entire home/apt",
          "availability_30",
          "bedrooms",
          "review_scores_location",
          "availability_90",
          "availability_365"
         ]
        }
       ],
       "layout": {
        "template": {
         "data": {
          "bar": [
           {
            "error_x": {
             "color": "#2a3f5f"
            },
            "error_y": {
             "color": "#2a3f5f"
            },
            "marker": {
             "line": {
              "color": "#E5ECF6",
              "width": 0.5
             },
             "pattern": {
              "fillmode": "overlay",
              "size": 10,
              "solidity": 0.2
             }
            },
            "type": "bar"
           }
          ],
          "barpolar": [
           {
            "marker": {
             "line": {
              "color": "#E5ECF6",
              "width": 0.5
             },
             "pattern": {
              "fillmode": "overlay",
              "size": 10,
              "solidity": 0.2
             }
            },
            "type": "barpolar"
           }
          ],
          "carpet": [
           {
            "aaxis": {
             "endlinecolor": "#2a3f5f",
             "gridcolor": "white",
             "linecolor": "white",
             "minorgridcolor": "white",
             "startlinecolor": "#2a3f5f"
            },
            "baxis": {
             "endlinecolor": "#2a3f5f",
             "gridcolor": "white",
             "linecolor": "white",
             "minorgridcolor": "white",
             "startlinecolor": "#2a3f5f"
            },
            "type": "carpet"
           }
          ],
          "choropleth": [
           {
            "colorbar": {
             "outlinewidth": 0,
             "ticks": ""
            },
            "type": "choropleth"
           }
          ],
          "contour": [
           {
            "colorbar": {
             "outlinewidth": 0,
             "ticks": ""
            },
            "colorscale": [
             [
              0,
              "#0d0887"
             ],
             [
              0.1111111111111111,
              "#46039f"
             ],
             [
              0.2222222222222222,
              "#7201a8"
             ],
             [
              0.3333333333333333,
              "#9c179e"
             ],
             [
              0.4444444444444444,
              "#bd3786"
             ],
             [
              0.5555555555555556,
              "#d8576b"
             ],
             [
              0.6666666666666666,
              "#ed7953"
             ],
             [
              0.7777777777777778,
              "#fb9f3a"
             ],
             [
              0.8888888888888888,
              "#fdca26"
             ],
             [
              1,
              "#f0f921"
             ]
            ],
            "type": "contour"
           }
          ],
          "contourcarpet": [
           {
            "colorbar": {
             "outlinewidth": 0,
             "ticks": ""
            },
            "type": "contourcarpet"
           }
          ],
          "heatmap": [
           {
            "colorbar": {
             "outlinewidth": 0,
             "ticks": ""
            },
            "colorscale": [
             [
              0,
              "#0d0887"
             ],
             [
              0.1111111111111111,
              "#46039f"
             ],
             [
              0.2222222222222222,
              "#7201a8"
             ],
             [
              0.3333333333333333,
              "#9c179e"
             ],
             [
              0.4444444444444444,
              "#bd3786"
             ],
             [
              0.5555555555555556,
              "#d8576b"
             ],
             [
              0.6666666666666666,
              "#ed7953"
             ],
             [
              0.7777777777777778,
              "#fb9f3a"
             ],
             [
              0.8888888888888888,
              "#fdca26"
             ],
             [
              1,
              "#f0f921"
             ]
            ],
            "type": "heatmap"
           }
          ],
          "heatmapgl": [
           {
            "colorbar": {
             "outlinewidth": 0,
             "ticks": ""
            },
            "colorscale": [
             [
              0,
              "#0d0887"
             ],
             [
              0.1111111111111111,
              "#46039f"
             ],
             [
              0.2222222222222222,
              "#7201a8"
             ],
             [
              0.3333333333333333,
              "#9c179e"
             ],
             [
              0.4444444444444444,
              "#bd3786"
             ],
             [
              0.5555555555555556,
              "#d8576b"
             ],
             [
              0.6666666666666666,
              "#ed7953"
             ],
             [
              0.7777777777777778,
              "#fb9f3a"
             ],
             [
              0.8888888888888888,
              "#fdca26"
             ],
             [
              1,
              "#f0f921"
             ]
            ],
            "type": "heatmapgl"
           }
          ],
          "histogram": [
           {
            "marker": {
             "pattern": {
              "fillmode": "overlay",
              "size": 10,
              "solidity": 0.2
             }
            },
            "type": "histogram"
           }
          ],
          "histogram2d": [
           {
            "colorbar": {
             "outlinewidth": 0,
             "ticks": ""
            },
            "colorscale": [
             [
              0,
              "#0d0887"
             ],
             [
              0.1111111111111111,
              "#46039f"
             ],
             [
              0.2222222222222222,
              "#7201a8"
             ],
             [
              0.3333333333333333,
              "#9c179e"
             ],
             [
              0.4444444444444444,
              "#bd3786"
             ],
             [
              0.5555555555555556,
              "#d8576b"
             ],
             [
              0.6666666666666666,
              "#ed7953"
             ],
             [
              0.7777777777777778,
              "#fb9f3a"
             ],
             [
              0.8888888888888888,
              "#fdca26"
             ],
             [
              1,
              "#f0f921"
             ]
            ],
            "type": "histogram2d"
           }
          ],
          "histogram2dcontour": [
           {
            "colorbar": {
             "outlinewidth": 0,
             "ticks": ""
            },
            "colorscale": [
             [
              0,
              "#0d0887"
             ],
             [
              0.1111111111111111,
              "#46039f"
             ],
             [
              0.2222222222222222,
              "#7201a8"
             ],
             [
              0.3333333333333333,
              "#9c179e"
             ],
             [
              0.4444444444444444,
              "#bd3786"
             ],
             [
              0.5555555555555556,
              "#d8576b"
             ],
             [
              0.6666666666666666,
              "#ed7953"
             ],
             [
              0.7777777777777778,
              "#fb9f3a"
             ],
             [
              0.8888888888888888,
              "#fdca26"
             ],
             [
              1,
              "#f0f921"
             ]
            ],
            "type": "histogram2dcontour"
           }
          ],
          "mesh3d": [
           {
            "colorbar": {
             "outlinewidth": 0,
             "ticks": ""
            },
            "type": "mesh3d"
           }
          ],
          "parcoords": [
           {
            "line": {
             "colorbar": {
              "outlinewidth": 0,
              "ticks": ""
             }
            },
            "type": "parcoords"
           }
          ],
          "pie": [
           {
            "automargin": true,
            "type": "pie"
           }
          ],
          "scatter": [
           {
            "fillpattern": {
             "fillmode": "overlay",
             "size": 10,
             "solidity": 0.2
            },
            "type": "scatter"
           }
          ],
          "scatter3d": [
           {
            "line": {
             "colorbar": {
              "outlinewidth": 0,
              "ticks": ""
             }
            },
            "marker": {
             "colorbar": {
              "outlinewidth": 0,
              "ticks": ""
             }
            },
            "type": "scatter3d"
           }
          ],
          "scattercarpet": [
           {
            "marker": {
             "colorbar": {
              "outlinewidth": 0,
              "ticks": ""
             }
            },
            "type": "scattercarpet"
           }
          ],
          "scattergeo": [
           {
            "marker": {
             "colorbar": {
              "outlinewidth": 0,
              "ticks": ""
             }
            },
            "type": "scattergeo"
           }
          ],
          "scattergl": [
           {
            "marker": {
             "colorbar": {
              "outlinewidth": 0,
              "ticks": ""
             }
            },
            "type": "scattergl"
           }
          ],
          "scattermapbox": [
           {
            "marker": {
             "colorbar": {
              "outlinewidth": 0,
              "ticks": ""
             }
            },
            "type": "scattermapbox"
           }
          ],
          "scatterpolar": [
           {
            "marker": {
             "colorbar": {
              "outlinewidth": 0,
              "ticks": ""
             }
            },
            "type": "scatterpolar"
           }
          ],
          "scatterpolargl": [
           {
            "marker": {
             "colorbar": {
              "outlinewidth": 0,
              "ticks": ""
             }
            },
            "type": "scatterpolargl"
           }
          ],
          "scatterternary": [
           {
            "marker": {
             "colorbar": {
              "outlinewidth": 0,
              "ticks": ""
             }
            },
            "type": "scatterternary"
           }
          ],
          "surface": [
           {
            "colorbar": {
             "outlinewidth": 0,
             "ticks": ""
            },
            "colorscale": [
             [
              0,
              "#0d0887"
             ],
             [
              0.1111111111111111,
              "#46039f"
             ],
             [
              0.2222222222222222,
              "#7201a8"
             ],
             [
              0.3333333333333333,
              "#9c179e"
             ],
             [
              0.4444444444444444,
              "#bd3786"
             ],
             [
              0.5555555555555556,
              "#d8576b"
             ],
             [
              0.6666666666666666,
              "#ed7953"
             ],
             [
              0.7777777777777778,
              "#fb9f3a"
             ],
             [
              0.8888888888888888,
              "#fdca26"
             ],
             [
              1,
              "#f0f921"
             ]
            ],
            "type": "surface"
           }
          ],
          "table": [
           {
            "cells": {
             "fill": {
              "color": "#EBF0F8"
             },
             "line": {
              "color": "white"
             }
            },
            "header": {
             "fill": {
              "color": "#C8D4E3"
             },
             "line": {
              "color": "white"
             }
            },
            "type": "table"
           }
          ]
         },
         "layout": {
          "annotationdefaults": {
           "arrowcolor": "#2a3f5f",
           "arrowhead": 0,
           "arrowwidth": 1
          },
          "autotypenumbers": "strict",
          "coloraxis": {
           "colorbar": {
            "outlinewidth": 0,
            "ticks": ""
           }
          },
          "colorscale": {
           "diverging": [
            [
             0,
             "#8e0152"
            ],
            [
             0.1,
             "#c51b7d"
            ],
            [
             0.2,
             "#de77ae"
            ],
            [
             0.3,
             "#f1b6da"
            ],
            [
             0.4,
             "#fde0ef"
            ],
            [
             0.5,
             "#f7f7f7"
            ],
            [
             0.6,
             "#e6f5d0"
            ],
            [
             0.7,
             "#b8e186"
            ],
            [
             0.8,
             "#7fbc41"
            ],
            [
             0.9,
             "#4d9221"
            ],
            [
             1,
             "#276419"
            ]
           ],
           "sequential": [
            [
             0,
             "#0d0887"
            ],
            [
             0.1111111111111111,
             "#46039f"
            ],
            [
             0.2222222222222222,
             "#7201a8"
            ],
            [
             0.3333333333333333,
             "#9c179e"
            ],
            [
             0.4444444444444444,
             "#bd3786"
            ],
            [
             0.5555555555555556,
             "#d8576b"
            ],
            [
             0.6666666666666666,
             "#ed7953"
            ],
            [
             0.7777777777777778,
             "#fb9f3a"
            ],
            [
             0.8888888888888888,
             "#fdca26"
            ],
            [
             1,
             "#f0f921"
            ]
           ],
           "sequentialminus": [
            [
             0,
             "#0d0887"
            ],
            [
             0.1111111111111111,
             "#46039f"
            ],
            [
             0.2222222222222222,
             "#7201a8"
            ],
            [
             0.3333333333333333,
             "#9c179e"
            ],
            [
             0.4444444444444444,
             "#bd3786"
            ],
            [
             0.5555555555555556,
             "#d8576b"
            ],
            [
             0.6666666666666666,
             "#ed7953"
            ],
            [
             0.7777777777777778,
             "#fb9f3a"
            ],
            [
             0.8888888888888888,
             "#fdca26"
            ],
            [
             1,
             "#f0f921"
            ]
           ]
          },
          "colorway": [
           "#636efa",
           "#EF553B",
           "#00cc96",
           "#ab63fa",
           "#FFA15A",
           "#19d3f3",
           "#FF6692",
           "#B6E880",
           "#FF97FF",
           "#FECB52"
          ],
          "font": {
           "color": "#2a3f5f"
          },
          "geo": {
           "bgcolor": "white",
           "lakecolor": "white",
           "landcolor": "#E5ECF6",
           "showlakes": true,
           "showland": true,
           "subunitcolor": "white"
          },
          "hoverlabel": {
           "align": "left"
          },
          "hovermode": "closest",
          "mapbox": {
           "style": "light"
          },
          "paper_bgcolor": "white",
          "plot_bgcolor": "#E5ECF6",
          "polar": {
           "angularaxis": {
            "gridcolor": "white",
            "linecolor": "white",
            "ticks": ""
           },
           "bgcolor": "#E5ECF6",
           "radialaxis": {
            "gridcolor": "white",
            "linecolor": "white",
            "ticks": ""
           }
          },
          "scene": {
           "xaxis": {
            "backgroundcolor": "#E5ECF6",
            "gridcolor": "white",
            "gridwidth": 2,
            "linecolor": "white",
            "showbackground": true,
            "ticks": "",
            "zerolinecolor": "white"
           },
           "yaxis": {
            "backgroundcolor": "#E5ECF6",
            "gridcolor": "white",
            "gridwidth": 2,
            "linecolor": "white",
            "showbackground": true,
            "ticks": "",
            "zerolinecolor": "white"
           },
           "zaxis": {
            "backgroundcolor": "#E5ECF6",
            "gridcolor": "white",
            "gridwidth": 2,
            "linecolor": "white",
            "showbackground": true,
            "ticks": "",
            "zerolinecolor": "white"
           }
          },
          "shapedefaults": {
           "line": {
            "color": "#2a3f5f"
           }
          },
          "ternary": {
           "aaxis": {
            "gridcolor": "white",
            "linecolor": "white",
            "ticks": ""
           },
           "baxis": {
            "gridcolor": "white",
            "linecolor": "white",
            "ticks": ""
           },
           "bgcolor": "#E5ECF6",
           "caxis": {
            "gridcolor": "white",
            "linecolor": "white",
            "ticks": ""
           }
          },
          "title": {
           "x": 0.05
          },
          "xaxis": {
           "automargin": true,
           "gridcolor": "white",
           "linecolor": "white",
           "ticks": "",
           "title": {
            "standoff": 15
           },
           "zerolinecolor": "white",
           "zerolinewidth": 2
          },
          "yaxis": {
           "automargin": true,
           "gridcolor": "white",
           "linecolor": "white",
           "ticks": "",
           "title": {
            "standoff": 15
           },
           "zerolinecolor": "white",
           "zerolinewidth": 2
          }
         }
        },
        "title": {
         "text": "Importancia de variables en el Random Forest"
        },
        "xaxis": {
         "title": {
          "text": "Importancia"
         }
        },
        "yaxis": {
         "title": {
          "text": "Variables"
         }
        }
       }
      }
     },
     "metadata": {},
     "output_type": "display_data"
    }
   ],
   "source": [
    "# visualizacion de la importancia mediante un grafico de barras\n",
    "data = [\n",
    "    go.Bar(\n",
    "        y = importancia_predictores[\"predictor\"],\n",
    "        x = importancia_predictores[\"importancia\"],\n",
    "        marker_color = \"steelblue\",\n",
    "        orientation='h',\n",
    "        name = \"Importancia de variables\"\n",
    "    )      \n",
    "]\n",
    "\n",
    "layout = go.Layout(title = \"Importancia de variables en el Random Forest\", xaxis_title = \"Importancia\", yaxis_title = \"Variables\")\n",
    "\n",
    "fig = go.Figure(data = data, layout = layout)\n",
    "\n",
    "fig.show()"
   ]
  },
  {
   "cell_type": "markdown",
   "metadata": {},
   "source": [
    "Gradient Boosting Regressor"
   ]
  },
  {
   "cell_type": "code",
   "execution_count": 132,
   "metadata": {},
   "outputs": [
    {
     "data": {
      "text/html": [
       "<div>\n",
       "<style scoped>\n",
       "    .dataframe tbody tr th:only-of-type {\n",
       "        vertical-align: middle;\n",
       "    }\n",
       "\n",
       "    .dataframe tbody tr th {\n",
       "        vertical-align: top;\n",
       "    }\n",
       "\n",
       "    .dataframe thead th {\n",
       "        text-align: right;\n",
       "    }\n",
       "</style>\n",
       "<table border=\"1\" class=\"dataframe\">\n",
       "  <thead>\n",
       "    <tr style=\"text-align: right;\">\n",
       "      <th></th>\n",
       "      <th>MAE</th>\n",
       "      <th>MSE</th>\n",
       "      <th>RMSE</th>\n",
       "      <th>RMSE_ratio_test</th>\n",
       "      <th>RMSE_ratio_train</th>\n",
       "      <th>R_2_test</th>\n",
       "      <th>R_2_train</th>\n",
       "    </tr>\n",
       "  </thead>\n",
       "  <tbody>\n",
       "    <tr>\n",
       "      <th>0</th>\n",
       "      <td>58.42</td>\n",
       "      <td>11569.75</td>\n",
       "      <td>107.56</td>\n",
       "      <td>0.622</td>\n",
       "      <td>0.588</td>\n",
       "      <td>0.57</td>\n",
       "      <td>0.61</td>\n",
       "    </tr>\n",
       "  </tbody>\n",
       "</table>\n",
       "</div>"
      ],
      "text/plain": [
       "     MAE       MSE    RMSE  RMSE_ratio_test  RMSE_ratio_train  R_2_test  \\\n",
       "0  58.42  11569.75  107.56            0.622             0.588      0.57   \n",
       "\n",
       "   R_2_train  \n",
       "0       0.61  "
      ]
     },
     "metadata": {},
     "output_type": "display_data"
    },
    {
     "data": {
      "image/png": "[encoded data removed]",
      "text/plain": [
       "<Figure size 432x288 with 1 Axes>"
      ]
     },
     "metadata": {
      "needs_background": "light"
     },
     "output_type": "display_data"
    },
    {
     "data": {
      "image/png": "[encoded data removed]",
      "text/plain": [
       "<Figure size 432x288 with 1 Axes>"
      ]
     },
     "metadata": {
      "needs_background": "light"
     },
     "output_type": "display_data"
    }
   ],
   "source": [
    "gbr_model = GradientBoostingRegressor(random_state = 101)\n",
    "gbr_model.fit(X_train, y_train)\n",
    "\n",
    "comment = ''\n",
    "\n",
    "analysis(\n",
    "    model = gbr_model, \n",
    "    X_train = X_train, \n",
    "    X_test = X_test,\n",
    "    y_train = y_train, \n",
    "    y_test = y_test\n",
    ")"
   ]
  },
  {
   "cell_type": "code",
   "execution_count": 143,
   "metadata": {},
   "outputs": [
    {
     "name": "stdout",
     "output_type": "stream",
     "text": [
      "Importancia de los predictores en el modelo\n"
     ]
    },
    {
     "data": {
      "text/html": [
       "<div>\n",
       "<style scoped>\n",
       "    .dataframe tbody tr th:only-of-type {\n",
       "        vertical-align: middle;\n",
       "    }\n",
       "\n",
       "    .dataframe tbody tr th {\n",
       "        vertical-align: top;\n",
       "    }\n",
       "\n",
       "    .dataframe thead th {\n",
       "        text-align: right;\n",
       "    }\n",
       "</style>\n",
       "<table border=\"1\" class=\"dataframe\">\n",
       "  <thead>\n",
       "    <tr style=\"text-align: right;\">\n",
       "      <th></th>\n",
       "      <th>predictor</th>\n",
       "      <th>importancia</th>\n",
       "    </tr>\n",
       "  </thead>\n",
       "  <tbody>\n",
       "    <tr>\n",
       "      <th>6</th>\n",
       "      <td>accommodates</td>\n",
       "      <td>0.277723</td>\n",
       "    </tr>\n",
       "    <tr>\n",
       "      <th>30</th>\n",
       "      <td>baths</td>\n",
       "      <td>0.169129</td>\n",
       "    </tr>\n",
       "    <tr>\n",
       "      <th>37</th>\n",
       "      <td>neighbourhood_group_cleansed_Manhattan</td>\n",
       "      <td>0.122333</td>\n",
       "    </tr>\n",
       "    <tr>\n",
       "      <th>7</th>\n",
       "      <td>bedrooms</td>\n",
       "      <td>0.098131</td>\n",
       "    </tr>\n",
       "    <tr>\n",
       "      <th>12</th>\n",
       "      <td>availability_30</td>\n",
       "      <td>0.063380</td>\n",
       "    </tr>\n",
       "    <tr>\n",
       "      <th>40</th>\n",
       "      <td>room_type_Entire home/apt</td>\n",
       "      <td>0.057010</td>\n",
       "    </tr>\n",
       "    <tr>\n",
       "      <th>22</th>\n",
       "      <td>review_scores_location</td>\n",
       "      <td>0.038451</td>\n",
       "    </tr>\n",
       "    <tr>\n",
       "      <th>9</th>\n",
       "      <td>minimum_nights</td>\n",
       "      <td>0.029823</td>\n",
       "    </tr>\n",
       "    <tr>\n",
       "      <th>42</th>\n",
       "      <td>room_type_Private room</td>\n",
       "      <td>0.022541</td>\n",
       "    </tr>\n",
       "    <tr>\n",
       "      <th>13</th>\n",
       "      <td>availability_60</td>\n",
       "      <td>0.012584</td>\n",
       "    </tr>\n",
       "  </tbody>\n",
       "</table>\n",
       "</div>"
      ],
      "text/plain": [
       "                                 predictor  importancia\n",
       "6                             accommodates     0.277723\n",
       "30                                   baths     0.169129\n",
       "37  neighbourhood_group_cleansed_Manhattan     0.122333\n",
       "7                                 bedrooms     0.098131\n",
       "12                         availability_30     0.063380\n",
       "40               room_type_Entire home/apt     0.057010\n",
       "22                  review_scores_location     0.038451\n",
       "9                           minimum_nights     0.029823\n",
       "42                  room_type_Private room     0.022541\n",
       "13                         availability_60     0.012584"
      ]
     },
     "execution_count": 143,
     "metadata": {},
     "output_type": "execute_result"
    }
   ],
   "source": [
    "importancia_predictores = pd.DataFrame(\n",
    "                            {'predictor': data_model_num_no_outliers.drop(columns = \"price\").columns,\n",
    "                             'importancia': gbr_model.feature_importances_}\n",
    "                            )\n",
    "print(\"Importancia de los predictores en el modelo\")\n",
    "importancia_predictores = importancia_predictores.sort_values('importancia', ascending=False).head(10)\n",
    "importancia_predictores "
   ]
  },
  {
   "cell_type": "code",
   "execution_count": 144,
   "metadata": {},
   "outputs": [
    {
     "data": {
      "application/vnd.plotly.v1+json": {
       "config": {
        "plotlyServerURL": "https://plot.ly"
       },
       "data": [
        {
         "marker": {
          "color": "steelblue"
         },
         "name": "Importancia de variables",
         "orientation": "h",
         "type": "bar",
         "x": [
          0.2777230718284026,
          0.16912915860788424,
          0.12233306976985248,
          0.09813087543212853,
          0.0633801086224461,
          0.05701004273644796,
          0.038450698019757014,
          0.029822562537549082,
          0.022541171980425566,
          0.012584477915946315
         ],
         "y": [
          "accommodates",
          "baths",
          "neighbourhood_group_cleansed_Manhattan",
          "bedrooms",
          "availability_30",
          "room_type_Entire home/apt",
          "review_scores_location",
          "minimum_nights",
          "room_type_Private room",
          "availability_60"
         ]
        }
       ],
       "layout": {
        "template": {
         "data": {
          "bar": [
           {
            "error_x": {
             "color": "#2a3f5f"
            },
            "error_y": {
             "color": "#2a3f5f"
            },
            "marker": {
             "line": {
              "color": "#E5ECF6",
              "width": 0.5
             },
             "pattern": {
              "fillmode": "overlay",
              "size": 10,
              "solidity": 0.2
             }
            },
            "type": "bar"
           }
          ],
          "barpolar": [
           {
            "marker": {
             "line": {
              "color": "#E5ECF6",
              "width": 0.5
             },
             "pattern": {
              "fillmode": "overlay",
              "size": 10,
              "solidity": 0.2
             }
            },
            "type": "barpolar"
           }
          ],
          "carpet": [
           {
            "aaxis": {
             "endlinecolor": "#2a3f5f",
             "gridcolor": "white",
             "linecolor": "white",
             "minorgridcolor": "white",
             "startlinecolor": "#2a3f5f"
            },
            "baxis": {
             "endlinecolor": "#2a3f5f",
             "gridcolor": "white",
             "linecolor": "white",
             "minorgridcolor": "white",
             "startlinecolor": "#2a3f5f"
            },
            "type": "carpet"
           }
          ],
          "choropleth": [
           {
            "colorbar": {
             "outlinewidth": 0,
             "ticks": ""
            },
            "type": "choropleth"
           }
          ],
          "contour": [
           {
            "colorbar": {
             "outlinewidth": 0,
             "ticks": ""
            },
            "colorscale": [
             [
              0,
              "#0d0887"
             ],
             [
              0.1111111111111111,
              "#46039f"
             ],
             [
              0.2222222222222222,
              "#7201a8"
             ],
             [
              0.3333333333333333,
              "#9c179e"
             ],
             [
              0.4444444444444444,
              "#bd3786"
             ],
             [
              0.5555555555555556,
              "#d8576b"
             ],
             [
              0.6666666666666666,
              "#ed7953"
             ],
             [
              0.7777777777777778,
              "#fb9f3a"
             ],
             [
              0.8888888888888888,
              "#fdca26"
             ],
             [
              1,
              "#f0f921"
             ]
            ],
            "type": "contour"
           }
          ],
          "contourcarpet": [
           {
            "colorbar": {
             "outlinewidth": 0,
             "ticks": ""
            },
            "type": "contourcarpet"
           }
          ],
          "heatmap": [
           {
            "colorbar": {
             "outlinewidth": 0,
             "ticks": ""
            },
            "colorscale": [
             [
              0,
              "#0d0887"
             ],
             [
              0.1111111111111111,
              "#46039f"
             ],
             [
              0.2222222222222222,
              "#7201a8"
             ],
             [
              0.3333333333333333,
              "#9c179e"
             ],
             [
              0.4444444444444444,
              "#bd3786"
             ],
             [
              0.5555555555555556,
              "#d8576b"
             ],
             [
              0.6666666666666666,
              "#ed7953"
             ],
             [
              0.7777777777777778,
              "#fb9f3a"
             ],
             [
              0.8888888888888888,
              "#fdca26"
             ],
             [
              1,
              "#f0f921"
             ]
            ],
            "type": "heatmap"
           }
          ],
          "heatmapgl": [
           {
            "colorbar": {
             "outlinewidth": 0,
             "ticks": ""
            },
            "colorscale": [
             [
              0,
              "#0d0887"
             ],
             [
              0.1111111111111111,
              "#46039f"
             ],
             [
              0.2222222222222222,
              "#7201a8"
             ],
             [
              0.3333333333333333,
              "#9c179e"
             ],
             [
              0.4444444444444444,
              "#bd3786"
             ],
             [
              0.5555555555555556,
              "#d8576b"
             ],
             [
              0.6666666666666666,
              "#ed7953"
             ],
             [
              0.7777777777777778,
              "#fb9f3a"
             ],
             [
              0.8888888888888888,
              "#fdca26"
             ],
             [
              1,
              "#f0f921"
             ]
            ],
            "type": "heatmapgl"
           }
          ],
          "histogram": [
           {
            "marker": {
             "pattern": {
              "fillmode": "overlay",
              "size": 10,
              "solidity": 0.2
             }
            },
            "type": "histogram"
           }
          ],
          "histogram2d": [
           {
            "colorbar": {
             "outlinewidth": 0,
             "ticks": ""
            },
            "colorscale": [
             [
              0,
              "#0d0887"
             ],
             [
              0.1111111111111111,
              "#46039f"
             ],
             [
              0.2222222222222222,
              "#7201a8"
             ],
             [
              0.3333333333333333,
              "#9c179e"
             ],
             [
              0.4444444444444444,
              "#bd3786"
             ],
             [
              0.5555555555555556,
              "#d8576b"
             ],
             [
              0.6666666666666666,
              "#ed7953"
             ],
             [
              0.7777777777777778,
              "#fb9f3a"
             ],
             [
              0.8888888888888888,
              "#fdca26"
             ],
             [
              1,
              "#f0f921"
             ]
            ],
            "type": "histogram2d"
           }
          ],
          "histogram2dcontour": [
           {
            "colorbar": {
             "outlinewidth": 0,
             "ticks": ""
            },
            "colorscale": [
             [
              0,
              "#0d0887"
             ],
             [
              0.1111111111111111,
              "#46039f"
             ],
             [
              0.2222222222222222,
              "#7201a8"
             ],
             [
              0.3333333333333333,
              "#9c179e"
             ],
             [
              0.4444444444444444,
              "#bd3786"
             ],
             [
              0.5555555555555556,
              "#d8576b"
             ],
             [
              0.6666666666666666,
              "#ed7953"
             ],
             [
              0.7777777777777778,
              "#fb9f3a"
             ],
             [
              0.8888888888888888,
              "#fdca26"
             ],
             [
              1,
              "#f0f921"
             ]
            ],
            "type": "histogram2dcontour"
           }
          ],
          "mesh3d": [
           {
            "colorbar": {
             "outlinewidth": 0,
             "ticks": ""
            },
            "type": "mesh3d"
           }
          ],
          "parcoords": [
           {
            "line": {
             "colorbar": {
              "outlinewidth": 0,
              "ticks": ""
             }
            },
            "type": "parcoords"
           }
          ],
          "pie": [
           {
            "automargin": true,
            "type": "pie"
           }
          ],
          "scatter": [
           {
            "fillpattern": {
             "fillmode": "overlay",
             "size": 10,
             "solidity": 0.2
            },
            "type": "scatter"
           }
          ],
          "scatter3d": [
           {
            "line": {
             "colorbar": {
              "outlinewidth": 0,
              "ticks": ""
             }
            },
            "marker": {
             "colorbar": {
              "outlinewidth": 0,
              "ticks": ""
             }
            },
            "type": "scatter3d"
           }
          ],
          "scattercarpet": [
           {
            "marker": {
             "colorbar": {
              "outlinewidth": 0,
              "ticks": ""
             }
            },
            "type": "scattercarpet"
           }
          ],
          "scattergeo": [
           {
            "marker": {
             "colorbar": {
              "outlinewidth": 0,
              "ticks": ""
             }
            },
            "type": "scattergeo"
           }
          ],
          "scattergl": [
           {
            "marker": {
             "colorbar": {
              "outlinewidth": 0,
              "ticks": ""
             }
            },
            "type": "scattergl"
           }
          ],
          "scattermapbox": [
           {
            "marker": {
             "colorbar": {
              "outlinewidth": 0,
              "ticks": ""
             }
            },
            "type": "scattermapbox"
           }
          ],
          "scatterpolar": [
           {
            "marker": {
             "colorbar": {
              "outlinewidth": 0,
              "ticks": ""
             }
            },
            "type": "scatterpolar"
           }
          ],
          "scatterpolargl": [
           {
            "marker": {
             "colorbar": {
              "outlinewidth": 0,
              "ticks": ""
             }
            },
            "type": "scatterpolargl"
           }
          ],
          "scatterternary": [
           {
            "marker": {
             "colorbar": {
              "outlinewidth": 0,
              "ticks": ""
             }
            },
            "type": "scatterternary"
           }
          ],
          "surface": [
           {
            "colorbar": {
             "outlinewidth": 0,
             "ticks": ""
            },
            "colorscale": [
             [
              0,
              "#0d0887"
             ],
             [
              0.1111111111111111,
              "#46039f"
             ],
             [
              0.2222222222222222,
              "#7201a8"
             ],
             [
              0.3333333333333333,
              "#9c179e"
             ],
             [
              0.4444444444444444,
              "#bd3786"
             ],
             [
              0.5555555555555556,
              "#d8576b"
             ],
             [
              0.6666666666666666,
              "#ed7953"
             ],
             [
              0.7777777777777778,
              "#fb9f3a"
             ],
             [
              0.8888888888888888,
              "#fdca26"
             ],
             [
              1,
              "#f0f921"
             ]
            ],
            "type": "surface"
           }
          ],
          "table": [
           {
            "cells": {
             "fill": {
              "color": "#EBF0F8"
             },
             "line": {
              "color": "white"
             }
            },
            "header": {
             "fill": {
              "color": "#C8D4E3"
             },
             "line": {
              "color": "white"
             }
            },
            "type": "table"
           }
          ]
         },
         "layout": {
          "annotationdefaults": {
           "arrowcolor": "#2a3f5f",
           "arrowhead": 0,
           "arrowwidth": 1
          },
          "autotypenumbers": "strict",
          "coloraxis": {
           "colorbar": {
            "outlinewidth": 0,
            "ticks": ""
           }
          },
          "colorscale": {
           "diverging": [
            [
             0,
             "#8e0152"
            ],
            [
             0.1,
             "#c51b7d"
            ],
            [
             0.2,
             "#de77ae"
            ],
            [
             0.3,
             "#f1b6da"
            ],
            [
             0.4,
             "#fde0ef"
            ],
            [
             0.5,
             "#f7f7f7"
            ],
            [
             0.6,
             "#e6f5d0"
            ],
            [
             0.7,
             "#b8e186"
            ],
            [
             0.8,
             "#7fbc41"
            ],
            [
             0.9,
             "#4d9221"
            ],
            [
             1,
             "#276419"
            ]
           ],
           "sequential": [
            [
             0,
             "#0d0887"
            ],
            [
             0.1111111111111111,
             "#46039f"
            ],
            [
             0.2222222222222222,
             "#7201a8"
            ],
            [
             0.3333333333333333,
             "#9c179e"
            ],
            [
             0.4444444444444444,
             "#bd3786"
            ],
            [
             0.5555555555555556,
             "#d8576b"
            ],
            [
             0.6666666666666666,
             "#ed7953"
            ],
            [
             0.7777777777777778,
             "#fb9f3a"
            ],
            [
             0.8888888888888888,
             "#fdca26"
            ],
            [
             1,
             "#f0f921"
            ]
           ],
           "sequentialminus": [
            [
             0,
             "#0d0887"
            ],
            [
             0.1111111111111111,
             "#46039f"
            ],
            [
             0.2222222222222222,
             "#7201a8"
            ],
            [
             0.3333333333333333,
             "#9c179e"
            ],
            [
             0.4444444444444444,
             "#bd3786"
            ],
            [
             0.5555555555555556,
             "#d8576b"
            ],
            [
             0.6666666666666666,
             "#ed7953"
            ],
            [
             0.7777777777777778,
             "#fb9f3a"
            ],
            [
             0.8888888888888888,
             "#fdca26"
            ],
            [
             1,
             "#f0f921"
            ]
           ]
          },
          "colorway": [
           "#636efa",
           "#EF553B",
           "#00cc96",
           "#ab63fa",
           "#FFA15A",
           "#19d3f3",
           "#FF6692",
           "#B6E880",
           "#FF97FF",
           "#FECB52"
          ],
          "font": {
           "color": "#2a3f5f"
          },
          "geo": {
           "bgcolor": "white",
           "lakecolor": "white",
           "landcolor": "#E5ECF6",
           "showlakes": true,
           "showland": true,
           "subunitcolor": "white"
          },
          "hoverlabel": {
           "align": "left"
          },
          "hovermode": "closest",
          "mapbox": {
           "style": "light"
          },
          "paper_bgcolor": "white",
          "plot_bgcolor": "#E5ECF6",
          "polar": {
           "angularaxis": {
            "gridcolor": "white",
            "linecolor": "white",
            "ticks": ""
           },
           "bgcolor": "#E5ECF6",
           "radialaxis": {
            "gridcolor": "white",
            "linecolor": "white",
            "ticks": ""
           }
          },
          "scene": {
           "xaxis": {
            "backgroundcolor": "#E5ECF6",
            "gridcolor": "white",
            "gridwidth": 2,
            "linecolor": "white",
            "showbackground": true,
            "ticks": "",
            "zerolinecolor": "white"
           },
           "yaxis": {
            "backgroundcolor": "#E5ECF6",
            "gridcolor": "white",
            "gridwidth": 2,
            "linecolor": "white",
            "showbackground": true,
            "ticks": "",
            "zerolinecolor": "white"
           },
           "zaxis": {
            "backgroundcolor": "#E5ECF6",
            "gridcolor": "white",
            "gridwidth": 2,
            "linecolor": "white",
            "showbackground": true,
            "ticks": "",
            "zerolinecolor": "white"
           }
          },
          "shapedefaults": {
           "line": {
            "color": "#2a3f5f"
           }
          },
          "ternary": {
           "aaxis": {
            "gridcolor": "white",
            "linecolor": "white",
            "ticks": ""
           },
           "baxis": {
            "gridcolor": "white",
            "linecolor": "white",
            "ticks": ""
           },
           "bgcolor": "#E5ECF6",
           "caxis": {
            "gridcolor": "white",
            "linecolor": "white",
            "ticks": ""
           }
          },
          "title": {
           "x": 0.05
          },
          "xaxis": {
           "automargin": true,
           "gridcolor": "white",
           "linecolor": "white",
           "ticks": "",
           "title": {
            "standoff": 15
           },
           "zerolinecolor": "white",
           "zerolinewidth": 2
          },
          "yaxis": {
           "automargin": true,
           "gridcolor": "white",
           "linecolor": "white",
           "ticks": "",
           "title": {
            "standoff": 15
           },
           "zerolinecolor": "white",
           "zerolinewidth": 2
          }
         }
        },
        "title": {
         "text": "Importancia de variables en el Random Forest"
        },
        "xaxis": {
         "title": {
          "text": "Importancia"
         }
        },
        "yaxis": {
         "title": {
          "text": "Variables"
         }
        }
       }
      }
     },
     "metadata": {},
     "output_type": "display_data"
    }
   ],
   "source": [
    "# visualizacion de la importancia mediante un grafico de barras\n",
    "data = [\n",
    "    go.Bar(\n",
    "        y = importancia_predictores[\"predictor\"],\n",
    "        x = importancia_predictores[\"importancia\"],\n",
    "        marker_color = \"steelblue\",\n",
    "        orientation='h',\n",
    "        name = \"Importancia de variables\"\n",
    "    )      \n",
    "]\n",
    "\n",
    "layout = go.Layout(title = \"Importancia de variables en el Random Forest\", xaxis_title = \"Importancia\", yaxis_title = \"Variables\")\n",
    "\n",
    "fig = go.Figure(data = data, layout = layout)\n",
    "\n",
    "fig.show()"
   ]
  },
  {
   "cell_type": "markdown",
   "metadata": {},
   "source": [
    "XG Boost"
   ]
  },
  {
   "cell_type": "code",
   "execution_count": 133,
   "metadata": {},
   "outputs": [
    {
     "data": {
      "text/html": [
       "<div>\n",
       "<style scoped>\n",
       "    .dataframe tbody tr th:only-of-type {\n",
       "        vertical-align: middle;\n",
       "    }\n",
       "\n",
       "    .dataframe tbody tr th {\n",
       "        vertical-align: top;\n",
       "    }\n",
       "\n",
       "    .dataframe thead th {\n",
       "        text-align: right;\n",
       "    }\n",
       "</style>\n",
       "<table border=\"1\" class=\"dataframe\">\n",
       "  <thead>\n",
       "    <tr style=\"text-align: right;\">\n",
       "      <th></th>\n",
       "      <th>MAE</th>\n",
       "      <th>MSE</th>\n",
       "      <th>RMSE</th>\n",
       "      <th>RMSE_ratio_test</th>\n",
       "      <th>RMSE_ratio_train</th>\n",
       "      <th>R_2_test</th>\n",
       "      <th>R_2_train</th>\n",
       "    </tr>\n",
       "  </thead>\n",
       "  <tbody>\n",
       "    <tr>\n",
       "      <th>0</th>\n",
       "      <td>58.42</td>\n",
       "      <td>11569.75</td>\n",
       "      <td>107.56</td>\n",
       "      <td>0.622</td>\n",
       "      <td>0.588</td>\n",
       "      <td>0.57</td>\n",
       "      <td>0.61</td>\n",
       "    </tr>\n",
       "  </tbody>\n",
       "</table>\n",
       "</div>"
      ],
      "text/plain": [
       "     MAE       MSE    RMSE  RMSE_ratio_test  RMSE_ratio_train  R_2_test  \\\n",
       "0  58.42  11569.75  107.56            0.622             0.588      0.57   \n",
       "\n",
       "   R_2_train  \n",
       "0       0.61  "
      ]
     },
     "metadata": {},
     "output_type": "display_data"
    },
    {
     "data": {
      "image/png": "[encoded data removed]",
      "text/plain": [
       "<Figure size 432x288 with 1 Axes>"
      ]
     },
     "metadata": {
      "needs_background": "light"
     },
     "output_type": "display_data"
    },
    {
     "data": {
      "image/png": "[encoded data removed]",
      "text/plain": [
       "<Figure size 432x288 with 1 Axes>"
      ]
     },
     "metadata": {
      "needs_background": "light"
     },
     "output_type": "display_data"
    }
   ],
   "source": [
    "xg_model = xgb.XGBRegressor(random_state = 101)\n",
    "xg_model.fit(X_train, y_train)\n",
    "\n",
    "comment = ''\n",
    "\n",
    "analysis(\n",
    "    model = gbr_model, \n",
    "    X_train = X_train, \n",
    "    X_test = X_test,\n",
    "    y_train = y_train, \n",
    "    y_test = y_test\n",
    ")"
   ]
  },
  {
   "cell_type": "code",
   "execution_count": 147,
   "metadata": {},
   "outputs": [
    {
     "name": "stdout",
     "output_type": "stream",
     "text": [
      "Importancia de los predictores en el modelo\n"
     ]
    },
    {
     "data": {
      "text/html": [
       "<div>\n",
       "<style scoped>\n",
       "    .dataframe tbody tr th:only-of-type {\n",
       "        vertical-align: middle;\n",
       "    }\n",
       "\n",
       "    .dataframe tbody tr th {\n",
       "        vertical-align: top;\n",
       "    }\n",
       "\n",
       "    .dataframe thead th {\n",
       "        text-align: right;\n",
       "    }\n",
       "</style>\n",
       "<table border=\"1\" class=\"dataframe\">\n",
       "  <thead>\n",
       "    <tr style=\"text-align: right;\">\n",
       "      <th></th>\n",
       "      <th>predictor</th>\n",
       "      <th>importancia</th>\n",
       "    </tr>\n",
       "  </thead>\n",
       "  <tbody>\n",
       "    <tr>\n",
       "      <th>40</th>\n",
       "      <td>room_type_Entire home/apt</td>\n",
       "      <td>0.188835</td>\n",
       "    </tr>\n",
       "    <tr>\n",
       "      <th>42</th>\n",
       "      <td>room_type_Private room</td>\n",
       "      <td>0.104890</td>\n",
       "    </tr>\n",
       "    <tr>\n",
       "      <th>30</th>\n",
       "      <td>baths</td>\n",
       "      <td>0.093189</td>\n",
       "    </tr>\n",
       "    <tr>\n",
       "      <th>37</th>\n",
       "      <td>neighbourhood_group_cleansed_Manhattan</td>\n",
       "      <td>0.089170</td>\n",
       "    </tr>\n",
       "    <tr>\n",
       "      <th>6</th>\n",
       "      <td>accommodates</td>\n",
       "      <td>0.062587</td>\n",
       "    </tr>\n",
       "    <tr>\n",
       "      <th>7</th>\n",
       "      <td>bedrooms</td>\n",
       "      <td>0.060096</td>\n",
       "    </tr>\n",
       "    <tr>\n",
       "      <th>41</th>\n",
       "      <td>room_type_Hotel room</td>\n",
       "      <td>0.032474</td>\n",
       "    </tr>\n",
       "    <tr>\n",
       "      <th>9</th>\n",
       "      <td>minimum_nights</td>\n",
       "      <td>0.025485</td>\n",
       "    </tr>\n",
       "    <tr>\n",
       "      <th>12</th>\n",
       "      <td>availability_30</td>\n",
       "      <td>0.023031</td>\n",
       "    </tr>\n",
       "    <tr>\n",
       "      <th>36</th>\n",
       "      <td>neighbourhood_group_cleansed_Brooklyn</td>\n",
       "      <td>0.020519</td>\n",
       "    </tr>\n",
       "  </tbody>\n",
       "</table>\n",
       "</div>"
      ],
      "text/plain": [
       "                                 predictor  importancia\n",
       "40               room_type_Entire home/apt     0.188835\n",
       "42                  room_type_Private room     0.104890\n",
       "30                                   baths     0.093189\n",
       "37  neighbourhood_group_cleansed_Manhattan     0.089170\n",
       "6                             accommodates     0.062587\n",
       "7                                 bedrooms     0.060096\n",
       "41                    room_type_Hotel room     0.032474\n",
       "9                           minimum_nights     0.025485\n",
       "12                         availability_30     0.023031\n",
       "36   neighbourhood_group_cleansed_Brooklyn     0.020519"
      ]
     },
     "execution_count": 147,
     "metadata": {},
     "output_type": "execute_result"
    }
   ],
   "source": [
    "importancia_predictores = pd.DataFrame(\n",
    "                            {'predictor': data_model_num_no_outliers.drop(columns = \"price\").columns,\n",
    "                             'importancia': xg_model.feature_importances_}\n",
    "                            )\n",
    "print(\"Importancia de los predictores en el modelo\")\n",
    "importancia_predictores = importancia_predictores.sort_values('importancia', ascending=False).head(10)\n",
    "importancia_predictores"
   ]
  },
  {
   "cell_type": "code",
   "execution_count": 148,
   "metadata": {},
   "outputs": [
    {
     "data": {
      "application/vnd.plotly.v1+json": {
       "config": {
        "plotlyServerURL": "https://plot.ly"
       },
       "data": [
        {
         "marker": {
          "color": "steelblue"
         },
         "name": "Importancia de variables",
         "orientation": "h",
         "type": "bar",
         "x": [
          0.1888349950313568,
          0.10488969087600708,
          0.09318947046995163,
          0.0891704186797142,
          0.06258722394704819,
          0.06009582802653313,
          0.03247447684407234,
          0.025484908372163773,
          0.023031307384371758,
          0.020519260317087173
         ],
         "y": [
          "room_type_Entire home/apt",
          "room_type_Private room",
          "baths",
          "neighbourhood_group_cleansed_Manhattan",
          "accommodates",
          "bedrooms",
          "room_type_Hotel room",
          "minimum_nights",
          "availability_30",
          "neighbourhood_group_cleansed_Brooklyn"
         ]
        }
       ],
       "layout": {
        "template": {
         "data": {
          "bar": [
           {
            "error_x": {
             "color": "#2a3f5f"
            },
            "error_y": {
             "color": "#2a3f5f"
            },
            "marker": {
             "line": {
              "color": "#E5ECF6",
              "width": 0.5
             },
             "pattern": {
              "fillmode": "overlay",
              "size": 10,
              "solidity": 0.2
             }
            },
            "type": "bar"
           }
          ],
          "barpolar": [
           {
            "marker": {
             "line": {
              "color": "#E5ECF6",
              "width": 0.5
             },
             "pattern": {
              "fillmode": "overlay",
              "size": 10,
              "solidity": 0.2
             }
            },
            "type": "barpolar"
           }
          ],
          "carpet": [
           {
            "aaxis": {
             "endlinecolor": "#2a3f5f",
             "gridcolor": "white",
             "linecolor": "white",
             "minorgridcolor": "white",
             "startlinecolor": "#2a3f5f"
            },
            "baxis": {
             "endlinecolor": "#2a3f5f",
             "gridcolor": "white",
             "linecolor": "white",
             "minorgridcolor": "white",
             "startlinecolor": "#2a3f5f"
            },
            "type": "carpet"
           }
          ],
          "choropleth": [
           {
            "colorbar": {
             "outlinewidth": 0,
             "ticks": ""
            },
            "type": "choropleth"
           }
          ],
          "contour": [
           {
            "colorbar": {
             "outlinewidth": 0,
             "ticks": ""
            },
            "colorscale": [
             [
              0,
              "#0d0887"
             ],
             [
              0.1111111111111111,
              "#46039f"
             ],
             [
              0.2222222222222222,
              "#7201a8"
             ],
             [
              0.3333333333333333,
              "#9c179e"
             ],
             [
              0.4444444444444444,
              "#bd3786"
             ],
             [
              0.5555555555555556,
              "#d8576b"
             ],
             [
              0.6666666666666666,
              "#ed7953"
             ],
             [
              0.7777777777777778,
              "#fb9f3a"
             ],
             [
              0.8888888888888888,
              "#fdca26"
             ],
             [
              1,
              "#f0f921"
             ]
            ],
            "type": "contour"
           }
          ],
          "contourcarpet": [
           {
            "colorbar": {
             "outlinewidth": 0,
             "ticks": ""
            },
            "type": "contourcarpet"
           }
          ],
          "heatmap": [
           {
            "colorbar": {
             "outlinewidth": 0,
             "ticks": ""
            },
            "colorscale": [
             [
              0,
              "#0d0887"
             ],
             [
              0.1111111111111111,
              "#46039f"
             ],
             [
              0.2222222222222222,
              "#7201a8"
             ],
             [
              0.3333333333333333,
              "#9c179e"
             ],
             [
              0.4444444444444444,
              "#bd3786"
             ],
             [
              0.5555555555555556,
              "#d8576b"
             ],
             [
              0.6666666666666666,
              "#ed7953"
             ],
             [
              0.7777777777777778,
              "#fb9f3a"
             ],
             [
              0.8888888888888888,
              "#fdca26"
             ],
             [
              1,
              "#f0f921"
             ]
            ],
            "type": "heatmap"
           }
          ],
          "heatmapgl": [
           {
            "colorbar": {
             "outlinewidth": 0,
             "ticks": ""
            },
            "colorscale": [
             [
              0,
              "#0d0887"
             ],
             [
              0.1111111111111111,
              "#46039f"
             ],
             [
              0.2222222222222222,
              "#7201a8"
             ],
             [
              0.3333333333333333,
              "#9c179e"
             ],
             [
              0.4444444444444444,
              "#bd3786"
             ],
             [
              0.5555555555555556,
              "#d8576b"
             ],
             [
              0.6666666666666666,
              "#ed7953"
             ],
             [
              0.7777777777777778,
              "#fb9f3a"
             ],
             [
              0.8888888888888888,
              "#fdca26"
             ],
             [
              1,
              "#f0f921"
             ]
            ],
            "type": "heatmapgl"
           }
          ],
          "histogram": [
           {
            "marker": {
             "pattern": {
              "fillmode": "overlay",
              "size": 10,
              "solidity": 0.2
             }
            },
            "type": "histogram"
           }
          ],
          "histogram2d": [
           {
            "colorbar": {
             "outlinewidth": 0,
             "ticks": ""
            },
            "colorscale": [
             [
              0,
              "#0d0887"
             ],
             [
              0.1111111111111111,
              "#46039f"
             ],
             [
              0.2222222222222222,
              "#7201a8"
             ],
             [
              0.3333333333333333,
              "#9c179e"
             ],
             [
              0.4444444444444444,
              "#bd3786"
             ],
             [
              0.5555555555555556,
              "#d8576b"
             ],
             [
              0.6666666666666666,
              "#ed7953"
             ],
             [
              0.7777777777777778,
              "#fb9f3a"
             ],
             [
              0.8888888888888888,
              "#fdca26"
             ],
             [
              1,
              "#f0f921"
             ]
            ],
            "type": "histogram2d"
           }
          ],
          "histogram2dcontour": [
           {
            "colorbar": {
             "outlinewidth": 0,
             "ticks": ""
            },
            "colorscale": [
             [
              0,
              "#0d0887"
             ],
             [
              0.1111111111111111,
              "#46039f"
             ],
             [
              0.2222222222222222,
              "#7201a8"
             ],
             [
              0.3333333333333333,
              "#9c179e"
             ],
             [
              0.4444444444444444,
              "#bd3786"
             ],
             [
              0.5555555555555556,
              "#d8576b"
             ],
             [
              0.6666666666666666,
              "#ed7953"
             ],
             [
              0.7777777777777778,
              "#fb9f3a"
             ],
             [
              0.8888888888888888,
              "#fdca26"
             ],
             [
              1,
              "#f0f921"
             ]
            ],
            "type": "histogram2dcontour"
           }
          ],
          "mesh3d": [
           {
            "colorbar": {
             "outlinewidth": 0,
             "ticks": ""
            },
            "type": "mesh3d"
           }
          ],
          "parcoords": [
           {
            "line": {
             "colorbar": {
              "outlinewidth": 0,
              "ticks": ""
             }
            },
            "type": "parcoords"
           }
          ],
          "pie": [
           {
            "automargin": true,
            "type": "pie"
           }
          ],
          "scatter": [
           {
            "fillpattern": {
             "fillmode": "overlay",
             "size": 10,
             "solidity": 0.2
            },
            "type": "scatter"
           }
          ],
          "scatter3d": [
           {
            "line": {
             "colorbar": {
              "outlinewidth": 0,
              "ticks": ""
             }
            },
            "marker": {
             "colorbar": {
              "outlinewidth": 0,
              "ticks": ""
             }
            },
            "type": "scatter3d"
           }
          ],
          "scattercarpet": [
           {
            "marker": {
             "colorbar": {
              "outlinewidth": 0,
              "ticks": ""
             }
            },
            "type": "scattercarpet"
           }
          ],
          "scattergeo": [
           {
            "marker": {
             "colorbar": {
              "outlinewidth": 0,
              "ticks": ""
             }
            },
            "type": "scattergeo"
           }
          ],
          "scattergl": [
           {
            "marker": {
             "colorbar": {
              "outlinewidth": 0,
              "ticks": ""
             }
            },
            "type": "scattergl"
           }
          ],
          "scattermapbox": [
           {
            "marker": {
             "colorbar": {
              "outlinewidth": 0,
              "ticks": ""
             }
            },
            "type": "scattermapbox"
           }
          ],
          "scatterpolar": [
           {
            "marker": {
             "colorbar": {
              "outlinewidth": 0,
              "ticks": ""
             }
            },
            "type": "scatterpolar"
           }
          ],
          "scatterpolargl": [
           {
            "marker": {
             "colorbar": {
              "outlinewidth": 0,
              "ticks": ""
             }
            },
            "type": "scatterpolargl"
           }
          ],
          "scatterternary": [
           {
            "marker": {
             "colorbar": {
              "outlinewidth": 0,
              "ticks": ""
             }
            },
            "type": "scatterternary"
           }
          ],
          "surface": [
           {
            "colorbar": {
             "outlinewidth": 0,
             "ticks": ""
            },
            "colorscale": [
             [
              0,
              "#0d0887"
             ],
             [
              0.1111111111111111,
              "#46039f"
             ],
             [
              0.2222222222222222,
              "#7201a8"
             ],
             [
              0.3333333333333333,
              "#9c179e"
             ],
             [
              0.4444444444444444,
              "#bd3786"
             ],
             [
              0.5555555555555556,
              "#d8576b"
             ],
             [
              0.6666666666666666,
              "#ed7953"
             ],
             [
              0.7777777777777778,
              "#fb9f3a"
             ],
             [
              0.8888888888888888,
              "#fdca26"
             ],
             [
              1,
              "#f0f921"
             ]
            ],
            "type": "surface"
           }
          ],
          "table": [
           {
            "cells": {
             "fill": {
              "color": "#EBF0F8"
             },
             "line": {
              "color": "white"
             }
            },
            "header": {
             "fill": {
              "color": "#C8D4E3"
             },
             "line": {
              "color": "white"
             }
            },
            "type": "table"
           }
          ]
         },
         "layout": {
          "annotationdefaults": {
           "arrowcolor": "#2a3f5f",
           "arrowhead": 0,
           "arrowwidth": 1
          },
          "autotypenumbers": "strict",
          "coloraxis": {
           "colorbar": {
            "outlinewidth": 0,
            "ticks": ""
           }
          },
          "colorscale": {
           "diverging": [
            [
             0,
             "#8e0152"
            ],
            [
             0.1,
             "#c51b7d"
            ],
            [
             0.2,
             "#de77ae"
            ],
            [
             0.3,
             "#f1b6da"
            ],
            [
             0.4,
             "#fde0ef"
            ],
            [
             0.5,
             "#f7f7f7"
            ],
            [
             0.6,
             "#e6f5d0"
            ],
            [
             0.7,
             "#b8e186"
            ],
            [
             0.8,
             "#7fbc41"
            ],
            [
             0.9,
             "#4d9221"
            ],
            [
             1,
             "#276419"
            ]
           ],
           "sequential": [
            [
             0,
             "#0d0887"
            ],
            [
             0.1111111111111111,
             "#46039f"
            ],
            [
             0.2222222222222222,
             "#7201a8"
            ],
            [
             0.3333333333333333,
             "#9c179e"
            ],
            [
             0.4444444444444444,
             "#bd3786"
            ],
            [
             0.5555555555555556,
             "#d8576b"
            ],
            [
             0.6666666666666666,
             "#ed7953"
            ],
            [
             0.7777777777777778,
             "#fb9f3a"
            ],
            [
             0.8888888888888888,
             "#fdca26"
            ],
            [
             1,
             "#f0f921"
            ]
           ],
           "sequentialminus": [
            [
             0,
             "#0d0887"
            ],
            [
             0.1111111111111111,
             "#46039f"
            ],
            [
             0.2222222222222222,
             "#7201a8"
            ],
            [
             0.3333333333333333,
             "#9c179e"
            ],
            [
             0.4444444444444444,
             "#bd3786"
            ],
            [
             0.5555555555555556,
             "#d8576b"
            ],
            [
             0.6666666666666666,
             "#ed7953"
            ],
            [
             0.7777777777777778,
             "#fb9f3a"
            ],
            [
             0.8888888888888888,
             "#fdca26"
            ],
            [
             1,
             "#f0f921"
            ]
           ]
          },
          "colorway": [
           "#636efa",
           "#EF553B",
           "#00cc96",
           "#ab63fa",
           "#FFA15A",
           "#19d3f3",
           "#FF6692",
           "#B6E880",
           "#FF97FF",
           "#FECB52"
          ],
          "font": {
           "color": "#2a3f5f"
          },
          "geo": {
           "bgcolor": "white",
           "lakecolor": "white",
           "landcolor": "#E5ECF6",
           "showlakes": true,
           "showland": true,
           "subunitcolor": "white"
          },
          "hoverlabel": {
           "align": "left"
          },
          "hovermode": "closest",
          "mapbox": {
           "style": "light"
          },
          "paper_bgcolor": "white",
          "plot_bgcolor": "#E5ECF6",
          "polar": {
           "angularaxis": {
            "gridcolor": "white",
            "linecolor": "white",
            "ticks": ""
           },
           "bgcolor": "#E5ECF6",
           "radialaxis": {
            "gridcolor": "white",
            "linecolor": "white",
            "ticks": ""
           }
          },
          "scene": {
           "xaxis": {
            "backgroundcolor": "#E5ECF6",
            "gridcolor": "white",
            "gridwidth": 2,
            "linecolor": "white",
            "showbackground": true,
            "ticks": "",
            "zerolinecolor": "white"
           },
           "yaxis": {
            "backgroundcolor": "#E5ECF6",
            "gridcolor": "white",
            "gridwidth": 2,
            "linecolor": "white",
            "showbackground": true,
            "ticks": "",
            "zerolinecolor": "white"
           },
           "zaxis": {
            "backgroundcolor": "#E5ECF6",
            "gridcolor": "white",
            "gridwidth": 2,
            "linecolor": "white",
            "showbackground": true,
            "ticks": "",
            "zerolinecolor": "white"
           }
          },
          "shapedefaults": {
           "line": {
            "color": "#2a3f5f"
           }
          },
          "ternary": {
           "aaxis": {
            "gridcolor": "white",
            "linecolor": "white",
            "ticks": ""
           },
           "baxis": {
            "gridcolor": "white",
            "linecolor": "white",
            "ticks": ""
           },
           "bgcolor": "#E5ECF6",
           "caxis": {
            "gridcolor": "white",
            "linecolor": "white",
            "ticks": ""
           }
          },
          "title": {
           "x": 0.05
          },
          "xaxis": {
           "automargin": true,
           "gridcolor": "white",
           "linecolor": "white",
           "ticks": "",
           "title": {
            "standoff": 15
           },
           "zerolinecolor": "white",
           "zerolinewidth": 2
          },
          "yaxis": {
           "automargin": true,
           "gridcolor": "white",
           "linecolor": "white",
           "ticks": "",
           "title": {
            "standoff": 15
           },
           "zerolinecolor": "white",
           "zerolinewidth": 2
          }
         }
        },
        "title": {
         "text": "Importancia de variables en el Random Forest"
        },
        "xaxis": {
         "title": {
          "text": "Importancia"
         }
        },
        "yaxis": {
         "title": {
          "text": "Variables"
         }
        }
       }
      }
     },
     "metadata": {},
     "output_type": "display_data"
    }
   ],
   "source": [
    "# visualizacion de la importancia mediante un grafico de barras\n",
    "data = [\n",
    "    go.Bar(\n",
    "        y = importancia_predictores[\"predictor\"],\n",
    "        x = importancia_predictores[\"importancia\"],\n",
    "        marker_color = \"steelblue\",\n",
    "        orientation='h',\n",
    "        name = \"Importancia de variables\"\n",
    "    )      \n",
    "]\n",
    "\n",
    "layout = go.Layout(title = \"Importancia de variables en el Random Forest\", xaxis_title = \"Importancia\", yaxis_title = \"Variables\")\n",
    "\n",
    "fig = go.Figure(data = data, layout = layout)\n",
    "\n",
    "fig.show()"
   ]
  }
 ],
 "metadata": {
  "kernelspec": {
   "display_name": "Python 3.7.4 ('base')",
   "language": "python",
   "name": "python3"
  },
  "language_info": {
   "codemirror_mode": {
    "name": "ipython",
    "version": 3
   },
   "file_extension": ".py",
   "mimetype": "text/x-python",
   "name": "python",
   "nbconvert_exporter": "python",
   "pygments_lexer": "ipython3",
   "version": "3.7.4"
  },
  "orig_nbformat": 4,
  "vscode": {
   "interpreter": {
    "hash": "d6cb13f4b35f7c5107d308a10311d5480ad959116e5a128c8f6854de08ef574d"
   }
  }
 },
 "nbformat": 4,
 "nbformat_minor": 2
}
