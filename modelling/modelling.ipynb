{
 "cells": [
  {
   "cell_type": "markdown",
   "metadata": {},
   "source": [
    "## PRICE REGRESSION MODELLING"
   ]
  },
  {
   "cell_type": "markdown",
   "metadata": {},
   "source": [
    "* Linear Regressor\n",
    "* Random Forest\n",
    "* Gradient Boosting\n",
    "* XG Boost\n",
    "* Light GBM Regressor con selección de hiperparámetros"
   ]
  },
  {
   "cell_type": "markdown",
   "metadata": {},
   "source": [
    "Se realizará un modelo sencillo que tenga en cuenta variables que, a priori, pudieran ser conocidas por parte de un fondo a la hora de buscar la estimación del precio por noche."
   ]
  },
  {
   "cell_type": "markdown",
   "metadata": {},
   "source": [
    "Librerías"
   ]
  },
  {
   "cell_type": "code",
   "execution_count": 35,
   "metadata": {},
   "outputs": [],
   "source": [
    "import numpy as np\n",
    "from sklearn.decomposition import PCA\n",
    "from urllib.parse import urlencode\n",
    "import pandas as pd\n",
    "import plotly.express as px\n",
    "import plotly.io as pio\n",
    "from sklearn.model_selection import train_test_split\n",
    "from sklearn.preprocessing import StandardScaler\n",
    "import plotly.graph_objects as go\n",
    "import math\n",
    "from plotly.subplots import make_subplots\n",
    "\n",
    "import importlib.machinery\n",
    "import importlib.util\n",
    "import logging\n",
    "import os\n",
    "import sys\n",
    "from pathlib import Path\n",
    "\n",
    "pio.renderers.default = 'vscode'\n",
    "pio.templates.default = 'plotly'\n",
    "\n",
    "from sklearn.linear_model import LogisticRegression\n",
    "from sklearn.ensemble import RandomForestClassifier\n",
    "\n",
    "\n",
    "from sklearn.metrics import accuracy_score\n",
    "from sklearn.metrics import classification_report\n",
    "from sklearn.metrics import roc_auc_score, roc_curve, auc\n",
    "from sklearn.metrics import confusion_matrix\n",
    "from sklearn.preprocessing import label_binarize\n",
    "\n",
    "\n",
    "import plotly.figure_factory as ff\n",
    "\n",
    "import geopandas \n",
    "import json\n",
    "\n",
    "from cv2 import mean\n",
    "from itertools import count\n",
    "\n",
    "import matplotlib.pyplot as plt\n",
    "from wordcloud import WordCloud, STOPWORDS\n",
    "\n",
    "from scipy.stats import uniform, randint\n",
    "\n",
    "from sklearn.metrics import auc, accuracy_score, confusion_matrix, mean_squared_error\n",
    "from sklearn.model_selection import cross_val_score, GridSearchCV, KFold, RandomizedSearchCV, train_test_split\n",
    "\n",
    "import xgboost as xgb\n",
    "\n",
    "import re\n",
    "import nltk\n",
    "import string\n",
    "import numpy as np\n",
    "import pandas as pd\n",
    "import matplotlib.pyplot as plt\n",
    "import seaborn as sns\n",
    "import plotly\n",
    "import plotly.express as px\n",
    "import ipywidgets as widgets\n",
    "from plotly.offline import init_notebook_mode\n",
    "from ipywidgets import interact, interactive, fixed, interact_manual\n",
    "from datetime import datetime\n",
    "from sklearn.model_selection import train_test_split, GridSearchCV\n",
    "from sklearn import metrics\n",
    "from sklearn.preprocessing import MinMaxScaler\n",
    "from sklearn.ensemble import RandomForestRegressor, GradientBoostingRegressor\n",
    "from sklearn.linear_model import LinearRegression\n",
    "from sklearn.svm import SVR\n",
    "from nltk.corpus import stopwords\n",
    "from sklearn.feature_extraction.text import CountVectorizer\n",
    "from sklearn.feature_extraction.text import TfidfTransformer\n",
    "from sklearn.naive_bayes import MultinomialNB\n",
    "from statsmodels.graphics.gofplots import qqplot\n",
    "from scipy import stats\n",
    "import lightgbm as lgb\n",
    "from hyperopt import hp, tpe, fmin, Trials, STATUS_OK\n",
    "import pickle\n",
    "\n",
    "pd.set_option('display.max_columns', None)"
   ]
  },
  {
   "cell_type": "markdown",
   "metadata": {},
   "source": [
    "Importación de datos filtrados"
   ]
  },
  {
   "cell_type": "code",
   "execution_count": 2,
   "metadata": {},
   "outputs": [
    {
     "data": {
      "text/html": [
       "<div>\n",
       "<style scoped>\n",
       "    .dataframe tbody tr th:only-of-type {\n",
       "        vertical-align: middle;\n",
       "    }\n",
       "\n",
       "    .dataframe tbody tr th {\n",
       "        vertical-align: top;\n",
       "    }\n",
       "\n",
       "    .dataframe thead th {\n",
       "        text-align: right;\n",
       "    }\n",
       "</style>\n",
       "<table border=\"1\" class=\"dataframe\">\n",
       "  <thead>\n",
       "    <tr style=\"text-align: right;\">\n",
       "      <th></th>\n",
       "      <th>id</th>\n",
       "      <th>last_scraped</th>\n",
       "      <th>host_id</th>\n",
       "      <th>host_name</th>\n",
       "      <th>host_since</th>\n",
       "      <th>host_response_time</th>\n",
       "      <th>host_response_rate</th>\n",
       "      <th>host_acceptance_rate</th>\n",
       "      <th>host_is_superhost</th>\n",
       "      <th>host_neighbourhood</th>\n",
       "      <th>host_listings_count</th>\n",
       "      <th>host_total_listings_count</th>\n",
       "      <th>host_has_profile_pic</th>\n",
       "      <th>host_identity_verified</th>\n",
       "      <th>neighbourhood_cleansed</th>\n",
       "      <th>neighbourhood_group_cleansed</th>\n",
       "      <th>latitude</th>\n",
       "      <th>longitude</th>\n",
       "      <th>property_type</th>\n",
       "      <th>room_type</th>\n",
       "      <th>accommodates</th>\n",
       "      <th>bathrooms</th>\n",
       "      <th>bathrooms_text</th>\n",
       "      <th>bedrooms</th>\n",
       "      <th>beds</th>\n",
       "      <th>amenities</th>\n",
       "      <th>price</th>\n",
       "      <th>minimum_nights</th>\n",
       "      <th>maximum_nights</th>\n",
       "      <th>minimum_minimum_nights</th>\n",
       "      <th>maximum_minimum_nights</th>\n",
       "      <th>minimum_maximum_nights</th>\n",
       "      <th>maximum_maximum_nights</th>\n",
       "      <th>minimum_nights_avg_ntm</th>\n",
       "      <th>maximum_nights_avg_ntm</th>\n",
       "      <th>calendar_updated</th>\n",
       "      <th>has_availability</th>\n",
       "      <th>availability_30</th>\n",
       "      <th>availability_60</th>\n",
       "      <th>availability_90</th>\n",
       "      <th>availability_365</th>\n",
       "      <th>number_of_reviews</th>\n",
       "      <th>number_of_reviews_ltm</th>\n",
       "      <th>number_of_reviews_l30d</th>\n",
       "      <th>first_review</th>\n",
       "      <th>last_review</th>\n",
       "      <th>review_scores_rating</th>\n",
       "      <th>review_scores_accuracy</th>\n",
       "      <th>review_scores_cleanliness</th>\n",
       "      <th>review_scores_checkin</th>\n",
       "      <th>review_scores_communication</th>\n",
       "      <th>review_scores_location</th>\n",
       "      <th>review_scores_value</th>\n",
       "      <th>license</th>\n",
       "      <th>instant_bookable</th>\n",
       "      <th>calculated_host_listings_count</th>\n",
       "      <th>calculated_host_listings_count_entire_homes</th>\n",
       "      <th>calculated_host_listings_count_private_rooms</th>\n",
       "      <th>calculated_host_listings_count_shared_rooms</th>\n",
       "      <th>reviews_per_month</th>\n",
       "      <th>years_permanency</th>\n",
       "      <th>baths</th>\n",
       "      <th>price per unit</th>\n",
       "      <th>occupancy_rate</th>\n",
       "      <th>revenue</th>\n",
       "      <th>profitability</th>\n",
       "      <th>amenities_lower</th>\n",
       "      <th>has_wifi</th>\n",
       "      <th>has_dryer</th>\n",
       "      <th>has_tv</th>\n",
       "      <th>has_heating</th>\n",
       "      <th>has_kitchen</th>\n",
       "    </tr>\n",
       "  </thead>\n",
       "  <tbody>\n",
       "    <tr>\n",
       "      <th>0</th>\n",
       "      <td>2539</td>\n",
       "      <td>2022-09-07</td>\n",
       "      <td>2787</td>\n",
       "      <td>John</td>\n",
       "      <td>2008-09-07</td>\n",
       "      <td>within an hour</td>\n",
       "      <td>100</td>\n",
       "      <td>90</td>\n",
       "      <td>f</td>\n",
       "      <td>Gravesend</td>\n",
       "      <td>9.0</td>\n",
       "      <td>12.0</td>\n",
       "      <td>t</td>\n",
       "      <td>t</td>\n",
       "      <td>Kensington</td>\n",
       "      <td>Brooklyn</td>\n",
       "      <td>40.64529</td>\n",
       "      <td>-73.97238</td>\n",
       "      <td>Private room in rental unit</td>\n",
       "      <td>Private room</td>\n",
       "      <td>2</td>\n",
       "      <td>NaN</td>\n",
       "      <td>1 shared bath</td>\n",
       "      <td>1.0</td>\n",
       "      <td>1.0</td>\n",
       "      <td>[\"First aid kit\", \"Microwave\", \"Stove\", \"Coffe...</td>\n",
       "      <td>299.0</td>\n",
       "      <td>30</td>\n",
       "      <td>730</td>\n",
       "      <td>30.0</td>\n",
       "      <td>30.0</td>\n",
       "      <td>730.0</td>\n",
       "      <td>730.0</td>\n",
       "      <td>30.0</td>\n",
       "      <td>730.0</td>\n",
       "      <td>NaN</td>\n",
       "      <td>t</td>\n",
       "      <td>21</td>\n",
       "      <td>51</td>\n",
       "      <td>81</td>\n",
       "      <td>356</td>\n",
       "      <td>9</td>\n",
       "      <td>0</td>\n",
       "      <td>0</td>\n",
       "      <td>2015-12-04</td>\n",
       "      <td>2018-10-19</td>\n",
       "      <td>4.89</td>\n",
       "      <td>4.88</td>\n",
       "      <td>5.00</td>\n",
       "      <td>5.00</td>\n",
       "      <td>5.00</td>\n",
       "      <td>4.75</td>\n",
       "      <td>4.88</td>\n",
       "      <td>None</td>\n",
       "      <td>f</td>\n",
       "      <td>9</td>\n",
       "      <td>1</td>\n",
       "      <td>6</td>\n",
       "      <td>2</td>\n",
       "      <td>0.11</td>\n",
       "      <td>14.219178</td>\n",
       "      <td>1.0</td>\n",
       "      <td>4.418201e+05</td>\n",
       "      <td>0.111236</td>\n",
       "      <td>12139.735955</td>\n",
       "      <td>0.027477</td>\n",
       "      <td>[\"first aid kit\", \"microwave\", \"stove\", \"coffe...</td>\n",
       "      <td>1</td>\n",
       "      <td>1</td>\n",
       "      <td>1</td>\n",
       "      <td>1</td>\n",
       "      <td>1</td>\n",
       "    </tr>\n",
       "    <tr>\n",
       "      <th>1</th>\n",
       "      <td>2595</td>\n",
       "      <td>2022-09-07</td>\n",
       "      <td>2845</td>\n",
       "      <td>Jennifer</td>\n",
       "      <td>2008-09-09</td>\n",
       "      <td>within a day</td>\n",
       "      <td>75</td>\n",
       "      <td>23</td>\n",
       "      <td>f</td>\n",
       "      <td>Midtown</td>\n",
       "      <td>6.0</td>\n",
       "      <td>9.0</td>\n",
       "      <td>t</td>\n",
       "      <td>t</td>\n",
       "      <td>Midtown</td>\n",
       "      <td>Manhattan</td>\n",
       "      <td>40.75356</td>\n",
       "      <td>-73.98559</td>\n",
       "      <td>Entire rental unit</td>\n",
       "      <td>Entire home/apt</td>\n",
       "      <td>1</td>\n",
       "      <td>NaN</td>\n",
       "      <td>1 bath</td>\n",
       "      <td>NaN</td>\n",
       "      <td>1.0</td>\n",
       "      <td>[\"Stove\", \"Coffee maker\", \"Long term stays all...</td>\n",
       "      <td>175.0</td>\n",
       "      <td>30</td>\n",
       "      <td>1125</td>\n",
       "      <td>30.0</td>\n",
       "      <td>30.0</td>\n",
       "      <td>1125.0</td>\n",
       "      <td>1125.0</td>\n",
       "      <td>30.0</td>\n",
       "      <td>1125.0</td>\n",
       "      <td>NaN</td>\n",
       "      <td>t</td>\n",
       "      <td>0</td>\n",
       "      <td>0</td>\n",
       "      <td>5</td>\n",
       "      <td>280</td>\n",
       "      <td>49</td>\n",
       "      <td>1</td>\n",
       "      <td>0</td>\n",
       "      <td>2009-11-21</td>\n",
       "      <td>2022-06-21</td>\n",
       "      <td>4.68</td>\n",
       "      <td>4.73</td>\n",
       "      <td>4.63</td>\n",
       "      <td>4.77</td>\n",
       "      <td>4.80</td>\n",
       "      <td>4.81</td>\n",
       "      <td>4.40</td>\n",
       "      <td>None</td>\n",
       "      <td>f</td>\n",
       "      <td>3</td>\n",
       "      <td>3</td>\n",
       "      <td>0</td>\n",
       "      <td>0</td>\n",
       "      <td>0.31</td>\n",
       "      <td>14.213699</td>\n",
       "      <td>1.0</td>\n",
       "      <td>5.095289e+06</td>\n",
       "      <td>0.398571</td>\n",
       "      <td>25458.750000</td>\n",
       "      <td>0.004997</td>\n",
       "      <td>[\"stove\", \"coffee maker\", \"long term stays all...</td>\n",
       "      <td>1</td>\n",
       "      <td>1</td>\n",
       "      <td>1</td>\n",
       "      <td>1</td>\n",
       "      <td>1</td>\n",
       "    </tr>\n",
       "    <tr>\n",
       "      <th>2</th>\n",
       "      <td>5121</td>\n",
       "      <td>2022-09-07</td>\n",
       "      <td>7356</td>\n",
       "      <td>Garon</td>\n",
       "      <td>2009-02-03</td>\n",
       "      <td>within an hour</td>\n",
       "      <td>100</td>\n",
       "      <td>100</td>\n",
       "      <td>t</td>\n",
       "      <td>Bedford-Stuyvesant</td>\n",
       "      <td>2.0</td>\n",
       "      <td>2.0</td>\n",
       "      <td>t</td>\n",
       "      <td>t</td>\n",
       "      <td>Bedford-Stuyvesant</td>\n",
       "      <td>Brooklyn</td>\n",
       "      <td>40.68535</td>\n",
       "      <td>-73.95512</td>\n",
       "      <td>Private room in rental unit</td>\n",
       "      <td>Private room</td>\n",
       "      <td>2</td>\n",
       "      <td>NaN</td>\n",
       "      <td>None</td>\n",
       "      <td>1.0</td>\n",
       "      <td>1.0</td>\n",
       "      <td>[\"Heating\", \"Kitchen\", \"Air conditioning\", \"Wi...</td>\n",
       "      <td>60.0</td>\n",
       "      <td>30</td>\n",
       "      <td>730</td>\n",
       "      <td>30.0</td>\n",
       "      <td>30.0</td>\n",
       "      <td>730.0</td>\n",
       "      <td>730.0</td>\n",
       "      <td>30.0</td>\n",
       "      <td>730.0</td>\n",
       "      <td>NaN</td>\n",
       "      <td>t</td>\n",
       "      <td>5</td>\n",
       "      <td>30</td>\n",
       "      <td>60</td>\n",
       "      <td>335</td>\n",
       "      <td>50</td>\n",
       "      <td>0</td>\n",
       "      <td>0</td>\n",
       "      <td>2009-05-28</td>\n",
       "      <td>2019-12-02</td>\n",
       "      <td>4.52</td>\n",
       "      <td>4.22</td>\n",
       "      <td>4.09</td>\n",
       "      <td>4.91</td>\n",
       "      <td>4.91</td>\n",
       "      <td>4.47</td>\n",
       "      <td>4.52</td>\n",
       "      <td>None</td>\n",
       "      <td>f</td>\n",
       "      <td>2</td>\n",
       "      <td>0</td>\n",
       "      <td>2</td>\n",
       "      <td>0</td>\n",
       "      <td>0.31</td>\n",
       "      <td>13.810959</td>\n",
       "      <td>0.0</td>\n",
       "      <td>2.552823e+05</td>\n",
       "      <td>0.333134</td>\n",
       "      <td>7295.641791</td>\n",
       "      <td>0.028579</td>\n",
       "      <td>[\"heating\", \"kitchen\", \"air conditioning\", \"wi...</td>\n",
       "      <td>1</td>\n",
       "      <td>0</td>\n",
       "      <td>0</td>\n",
       "      <td>1</td>\n",
       "      <td>1</td>\n",
       "    </tr>\n",
       "    <tr>\n",
       "      <th>3</th>\n",
       "      <td>45910</td>\n",
       "      <td>2022-09-07</td>\n",
       "      <td>204539</td>\n",
       "      <td>Mark</td>\n",
       "      <td>2010-08-17</td>\n",
       "      <td>within an hour</td>\n",
       "      <td>100</td>\n",
       "      <td>19</td>\n",
       "      <td>f</td>\n",
       "      <td>Ridgewood</td>\n",
       "      <td>7.0</td>\n",
       "      <td>7.0</td>\n",
       "      <td>t</td>\n",
       "      <td>t</td>\n",
       "      <td>Ridgewood</td>\n",
       "      <td>Queens</td>\n",
       "      <td>40.70309</td>\n",
       "      <td>-73.89963</td>\n",
       "      <td>Entire townhouse</td>\n",
       "      <td>Entire home/apt</td>\n",
       "      <td>16</td>\n",
       "      <td>NaN</td>\n",
       "      <td>2.5 baths</td>\n",
       "      <td>5.0</td>\n",
       "      <td>10.0</td>\n",
       "      <td>[\"Hair dryer\", \"Essentials\", \"Carbon monoxide ...</td>\n",
       "      <td>425.0</td>\n",
       "      <td>30</td>\n",
       "      <td>730</td>\n",
       "      <td>30.0</td>\n",
       "      <td>30.0</td>\n",
       "      <td>730.0</td>\n",
       "      <td>730.0</td>\n",
       "      <td>30.0</td>\n",
       "      <td>730.0</td>\n",
       "      <td>NaN</td>\n",
       "      <td>t</td>\n",
       "      <td>30</td>\n",
       "      <td>60</td>\n",
       "      <td>90</td>\n",
       "      <td>365</td>\n",
       "      <td>13</td>\n",
       "      <td>0</td>\n",
       "      <td>0</td>\n",
       "      <td>2012-01-03</td>\n",
       "      <td>2019-11-12</td>\n",
       "      <td>4.42</td>\n",
       "      <td>4.64</td>\n",
       "      <td>4.36</td>\n",
       "      <td>4.82</td>\n",
       "      <td>5.00</td>\n",
       "      <td>4.82</td>\n",
       "      <td>4.55</td>\n",
       "      <td>None</td>\n",
       "      <td>f</td>\n",
       "      <td>6</td>\n",
       "      <td>6</td>\n",
       "      <td>0</td>\n",
       "      <td>0</td>\n",
       "      <td>0.10</td>\n",
       "      <td>12.276712</td>\n",
       "      <td>2.5</td>\n",
       "      <td>3.830991e+05</td>\n",
       "      <td>0.098630</td>\n",
       "      <td>15300.000000</td>\n",
       "      <td>0.039937</td>\n",
       "      <td>[\"hair dryer\", \"essentials\", \"carbon monoxide ...</td>\n",
       "      <td>1</td>\n",
       "      <td>1</td>\n",
       "      <td>1</td>\n",
       "      <td>1</td>\n",
       "      <td>1</td>\n",
       "    </tr>\n",
       "    <tr>\n",
       "      <th>4</th>\n",
       "      <td>5136</td>\n",
       "      <td>2022-09-07</td>\n",
       "      <td>7378</td>\n",
       "      <td>Rebecca</td>\n",
       "      <td>2009-02-03</td>\n",
       "      <td>None</td>\n",
       "      <td>None</td>\n",
       "      <td>33</td>\n",
       "      <td>f</td>\n",
       "      <td>Greenwood Heights</td>\n",
       "      <td>1.0</td>\n",
       "      <td>5.0</td>\n",
       "      <td>t</td>\n",
       "      <td>t</td>\n",
       "      <td>Sunset Park</td>\n",
       "      <td>Brooklyn</td>\n",
       "      <td>40.66265</td>\n",
       "      <td>-73.99454</td>\n",
       "      <td>Entire rental unit</td>\n",
       "      <td>Entire home/apt</td>\n",
       "      <td>4</td>\n",
       "      <td>NaN</td>\n",
       "      <td>1.5 baths</td>\n",
       "      <td>2.0</td>\n",
       "      <td>2.0</td>\n",
       "      <td>[\"Hair dryer\", \"Cable TV\", \"Refrigerator\", \"BB...</td>\n",
       "      <td>275.0</td>\n",
       "      <td>21</td>\n",
       "      <td>1125</td>\n",
       "      <td>21.0</td>\n",
       "      <td>21.0</td>\n",
       "      <td>1125.0</td>\n",
       "      <td>1125.0</td>\n",
       "      <td>21.0</td>\n",
       "      <td>1125.0</td>\n",
       "      <td>NaN</td>\n",
       "      <td>t</td>\n",
       "      <td>0</td>\n",
       "      <td>0</td>\n",
       "      <td>0</td>\n",
       "      <td>179</td>\n",
       "      <td>3</td>\n",
       "      <td>1</td>\n",
       "      <td>1</td>\n",
       "      <td>2014-01-02</td>\n",
       "      <td>2022-08-10</td>\n",
       "      <td>5.00</td>\n",
       "      <td>5.00</td>\n",
       "      <td>5.00</td>\n",
       "      <td>5.00</td>\n",
       "      <td>5.00</td>\n",
       "      <td>4.67</td>\n",
       "      <td>5.00</td>\n",
       "      <td>None</td>\n",
       "      <td>f</td>\n",
       "      <td>1</td>\n",
       "      <td>1</td>\n",
       "      <td>0</td>\n",
       "      <td>0</td>\n",
       "      <td>0.03</td>\n",
       "      <td>13.810959</td>\n",
       "      <td>1.5</td>\n",
       "      <td>3.286703e+05</td>\n",
       "      <td>0.042235</td>\n",
       "      <td>4239.301676</td>\n",
       "      <td>0.012898</td>\n",
       "      <td>[\"hair dryer\", \"cable tv\", \"refrigerator\", \"bb...</td>\n",
       "      <td>1</td>\n",
       "      <td>1</td>\n",
       "      <td>1</td>\n",
       "      <td>1</td>\n",
       "      <td>1</td>\n",
       "    </tr>\n",
       "  </tbody>\n",
       "</table>\n",
       "</div>"
      ],
      "text/plain": [
       "      id last_scraped  host_id host_name  host_since host_response_time  \\\n",
       "0   2539   2022-09-07     2787      John  2008-09-07     within an hour   \n",
       "1   2595   2022-09-07     2845  Jennifer  2008-09-09       within a day   \n",
       "2   5121   2022-09-07     7356     Garon  2009-02-03     within an hour   \n",
       "3  45910   2022-09-07   204539      Mark  2010-08-17     within an hour   \n",
       "4   5136   2022-09-07     7378   Rebecca  2009-02-03               None   \n",
       "\n",
       "  host_response_rate host_acceptance_rate host_is_superhost  \\\n",
       "0                100                   90                 f   \n",
       "1                 75                   23                 f   \n",
       "2                100                  100                 t   \n",
       "3                100                   19                 f   \n",
       "4               None                   33                 f   \n",
       "\n",
       "   host_neighbourhood  host_listings_count  host_total_listings_count  \\\n",
       "0           Gravesend                  9.0                       12.0   \n",
       "1             Midtown                  6.0                        9.0   \n",
       "2  Bedford-Stuyvesant                  2.0                        2.0   \n",
       "3           Ridgewood                  7.0                        7.0   \n",
       "4   Greenwood Heights                  1.0                        5.0   \n",
       "\n",
       "  host_has_profile_pic host_identity_verified neighbourhood_cleansed  \\\n",
       "0                    t                      t             Kensington   \n",
       "1                    t                      t                Midtown   \n",
       "2                    t                      t     Bedford-Stuyvesant   \n",
       "3                    t                      t              Ridgewood   \n",
       "4                    t                      t            Sunset Park   \n",
       "\n",
       "  neighbourhood_group_cleansed  latitude  longitude  \\\n",
       "0                     Brooklyn  40.64529  -73.97238   \n",
       "1                    Manhattan  40.75356  -73.98559   \n",
       "2                     Brooklyn  40.68535  -73.95512   \n",
       "3                       Queens  40.70309  -73.89963   \n",
       "4                     Brooklyn  40.66265  -73.99454   \n",
       "\n",
       "                 property_type        room_type  accommodates  bathrooms  \\\n",
       "0  Private room in rental unit     Private room             2        NaN   \n",
       "1           Entire rental unit  Entire home/apt             1        NaN   \n",
       "2  Private room in rental unit     Private room             2        NaN   \n",
       "3             Entire townhouse  Entire home/apt            16        NaN   \n",
       "4           Entire rental unit  Entire home/apt             4        NaN   \n",
       "\n",
       "  bathrooms_text  bedrooms  beds  \\\n",
       "0  1 shared bath       1.0   1.0   \n",
       "1         1 bath       NaN   1.0   \n",
       "2           None       1.0   1.0   \n",
       "3      2.5 baths       5.0  10.0   \n",
       "4      1.5 baths       2.0   2.0   \n",
       "\n",
       "                                           amenities  price  minimum_nights  \\\n",
       "0  [\"First aid kit\", \"Microwave\", \"Stove\", \"Coffe...  299.0              30   \n",
       "1  [\"Stove\", \"Coffee maker\", \"Long term stays all...  175.0              30   \n",
       "2  [\"Heating\", \"Kitchen\", \"Air conditioning\", \"Wi...   60.0              30   \n",
       "3  [\"Hair dryer\", \"Essentials\", \"Carbon monoxide ...  425.0              30   \n",
       "4  [\"Hair dryer\", \"Cable TV\", \"Refrigerator\", \"BB...  275.0              21   \n",
       "\n",
       "   maximum_nights  minimum_minimum_nights  maximum_minimum_nights  \\\n",
       "0             730                    30.0                    30.0   \n",
       "1            1125                    30.0                    30.0   \n",
       "2             730                    30.0                    30.0   \n",
       "3             730                    30.0                    30.0   \n",
       "4            1125                    21.0                    21.0   \n",
       "\n",
       "   minimum_maximum_nights  maximum_maximum_nights  minimum_nights_avg_ntm  \\\n",
       "0                   730.0                   730.0                    30.0   \n",
       "1                  1125.0                  1125.0                    30.0   \n",
       "2                   730.0                   730.0                    30.0   \n",
       "3                   730.0                   730.0                    30.0   \n",
       "4                  1125.0                  1125.0                    21.0   \n",
       "\n",
       "   maximum_nights_avg_ntm  calendar_updated has_availability  availability_30  \\\n",
       "0                   730.0               NaN                t               21   \n",
       "1                  1125.0               NaN                t                0   \n",
       "2                   730.0               NaN                t                5   \n",
       "3                   730.0               NaN                t               30   \n",
       "4                  1125.0               NaN                t                0   \n",
       "\n",
       "   availability_60  availability_90  availability_365  number_of_reviews  \\\n",
       "0               51               81               356                  9   \n",
       "1                0                5               280                 49   \n",
       "2               30               60               335                 50   \n",
       "3               60               90               365                 13   \n",
       "4                0                0               179                  3   \n",
       "\n",
       "   number_of_reviews_ltm  number_of_reviews_l30d first_review last_review  \\\n",
       "0                      0                       0   2015-12-04  2018-10-19   \n",
       "1                      1                       0   2009-11-21  2022-06-21   \n",
       "2                      0                       0   2009-05-28  2019-12-02   \n",
       "3                      0                       0   2012-01-03  2019-11-12   \n",
       "4                      1                       1   2014-01-02  2022-08-10   \n",
       "\n",
       "   review_scores_rating  review_scores_accuracy  review_scores_cleanliness  \\\n",
       "0                  4.89                    4.88                       5.00   \n",
       "1                  4.68                    4.73                       4.63   \n",
       "2                  4.52                    4.22                       4.09   \n",
       "3                  4.42                    4.64                       4.36   \n",
       "4                  5.00                    5.00                       5.00   \n",
       "\n",
       "   review_scores_checkin  review_scores_communication  review_scores_location  \\\n",
       "0                   5.00                         5.00                    4.75   \n",
       "1                   4.77                         4.80                    4.81   \n",
       "2                   4.91                         4.91                    4.47   \n",
       "3                   4.82                         5.00                    4.82   \n",
       "4                   5.00                         5.00                    4.67   \n",
       "\n",
       "   review_scores_value license instant_bookable  \\\n",
       "0                 4.88    None                f   \n",
       "1                 4.40    None                f   \n",
       "2                 4.52    None                f   \n",
       "3                 4.55    None                f   \n",
       "4                 5.00    None                f   \n",
       "\n",
       "   calculated_host_listings_count  \\\n",
       "0                               9   \n",
       "1                               3   \n",
       "2                               2   \n",
       "3                               6   \n",
       "4                               1   \n",
       "\n",
       "   calculated_host_listings_count_entire_homes  \\\n",
       "0                                            1   \n",
       "1                                            3   \n",
       "2                                            0   \n",
       "3                                            6   \n",
       "4                                            1   \n",
       "\n",
       "   calculated_host_listings_count_private_rooms  \\\n",
       "0                                             6   \n",
       "1                                             0   \n",
       "2                                             2   \n",
       "3                                             0   \n",
       "4                                             0   \n",
       "\n",
       "   calculated_host_listings_count_shared_rooms  reviews_per_month  \\\n",
       "0                                            2               0.11   \n",
       "1                                            0               0.31   \n",
       "2                                            0               0.31   \n",
       "3                                            0               0.10   \n",
       "4                                            0               0.03   \n",
       "\n",
       "   years_permanency  baths  price per unit  occupancy_rate       revenue  \\\n",
       "0         14.219178    1.0    4.418201e+05        0.111236  12139.735955   \n",
       "1         14.213699    1.0    5.095289e+06        0.398571  25458.750000   \n",
       "2         13.810959    0.0    2.552823e+05        0.333134   7295.641791   \n",
       "3         12.276712    2.5    3.830991e+05        0.098630  15300.000000   \n",
       "4         13.810959    1.5    3.286703e+05        0.042235   4239.301676   \n",
       "\n",
       "   profitability                                    amenities_lower  has_wifi  \\\n",
       "0       0.027477  [\"first aid kit\", \"microwave\", \"stove\", \"coffe...         1   \n",
       "1       0.004997  [\"stove\", \"coffee maker\", \"long term stays all...         1   \n",
       "2       0.028579  [\"heating\", \"kitchen\", \"air conditioning\", \"wi...         1   \n",
       "3       0.039937  [\"hair dryer\", \"essentials\", \"carbon monoxide ...         1   \n",
       "4       0.012898  [\"hair dryer\", \"cable tv\", \"refrigerator\", \"bb...         1   \n",
       "\n",
       "   has_dryer  has_tv  has_heating  has_kitchen  \n",
       "0          1       1            1            1  \n",
       "1          1       1            1            1  \n",
       "2          0       0            1            1  \n",
       "3          1       1            1            1  \n",
       "4          1       1            1            1  "
      ]
     },
     "execution_count": 2,
     "metadata": {},
     "output_type": "execute_result"
    }
   ],
   "source": [
    "listings_filtered_df = pd.read_parquet(\"../Data/total data/modified data/listingsFinalConRentabilidad.parquet\")\n",
    "pd.options.display.max_columns = None\n",
    "listings_filtered_df.head()"
   ]
  },
  {
   "cell_type": "code",
   "execution_count": 3,
   "metadata": {},
   "outputs": [
    {
     "data": {
      "text/plain": [
       "Index(['id', 'last_scraped', 'host_id', 'host_name', 'host_since',\n",
       "       'host_response_time', 'host_response_rate', 'host_acceptance_rate',\n",
       "       'host_is_superhost', 'host_neighbourhood', 'host_listings_count',\n",
       "       'host_total_listings_count', 'host_has_profile_pic',\n",
       "       'host_identity_verified', 'neighbourhood_cleansed',\n",
       "       'neighbourhood_group_cleansed', 'latitude', 'longitude',\n",
       "       'property_type', 'room_type', 'accommodates', 'bathrooms',\n",
       "       'bathrooms_text', 'bedrooms', 'beds', 'amenities', 'price',\n",
       "       'minimum_nights', 'maximum_nights', 'minimum_minimum_nights',\n",
       "       'maximum_minimum_nights', 'minimum_maximum_nights',\n",
       "       'maximum_maximum_nights', 'minimum_nights_avg_ntm',\n",
       "       'maximum_nights_avg_ntm', 'calendar_updated', 'has_availability',\n",
       "       'availability_30', 'availability_60', 'availability_90',\n",
       "       'availability_365', 'number_of_reviews', 'number_of_reviews_ltm',\n",
       "       'number_of_reviews_l30d', 'first_review', 'last_review',\n",
       "       'review_scores_rating', 'review_scores_accuracy',\n",
       "       'review_scores_cleanliness', 'review_scores_checkin',\n",
       "       'review_scores_communication', 'review_scores_location',\n",
       "       'review_scores_value', 'license', 'instant_bookable',\n",
       "       'calculated_host_listings_count',\n",
       "       'calculated_host_listings_count_entire_homes',\n",
       "       'calculated_host_listings_count_private_rooms',\n",
       "       'calculated_host_listings_count_shared_rooms', 'reviews_per_month',\n",
       "       'years_permanency', 'baths', 'price per unit', 'occupancy_rate',\n",
       "       'revenue', 'profitability', 'amenities_lower', 'has_wifi', 'has_dryer',\n",
       "       'has_tv', 'has_heating', 'has_kitchen'],\n",
       "      dtype='object')"
      ]
     },
     "execution_count": 3,
     "metadata": {},
     "output_type": "execute_result"
    }
   ],
   "source": [
    "listings_filtered_df.columns"
   ]
  },
  {
   "cell_type": "markdown",
   "metadata": {},
   "source": [
    "### MODELADO\n",
    "\n",
    "Seleccionamos las variables que de primeras pensamos que son más influyentes en el precio de los Airbnb en la ciudad de Nueva York y entrenamos un modelo con estas variables"
   ]
  },
  {
   "cell_type": "markdown",
   "metadata": {},
   "source": [
    "*Las variables que hemos escogido son: latitude, longitude, neighobourhood_group_cleansed, accomodates, beds, baths, amenities*\n",
    "\n",
    "*Vamos a crear variables dummies en las amenities más repetidas (sacadas del wordcloud el EDA) que son wifi, dryer, TV, heating, kitchen*"
   ]
  },
  {
   "cell_type": "markdown",
   "metadata": {},
   "source": [
    "Selección de variables finales para el modelo"
   ]
  },
  {
   "cell_type": "code",
   "execution_count": 4,
   "metadata": {},
   "outputs": [
    {
     "data": {
      "text/html": [
       "<div>\n",
       "<style scoped>\n",
       "    .dataframe tbody tr th:only-of-type {\n",
       "        vertical-align: middle;\n",
       "    }\n",
       "\n",
       "    .dataframe tbody tr th {\n",
       "        vertical-align: top;\n",
       "    }\n",
       "\n",
       "    .dataframe thead th {\n",
       "        text-align: right;\n",
       "    }\n",
       "</style>\n",
       "<table border=\"1\" class=\"dataframe\">\n",
       "  <thead>\n",
       "    <tr style=\"text-align: right;\">\n",
       "      <th></th>\n",
       "      <th>price</th>\n",
       "      <th>latitude</th>\n",
       "      <th>longitude</th>\n",
       "      <th>neighbourhood_group_cleansed</th>\n",
       "      <th>accommodates</th>\n",
       "      <th>beds</th>\n",
       "      <th>baths</th>\n",
       "      <th>has_wifi</th>\n",
       "      <th>has_dryer</th>\n",
       "      <th>has_heating</th>\n",
       "      <th>has_kitchen</th>\n",
       "      <th>has_tv</th>\n",
       "    </tr>\n",
       "  </thead>\n",
       "  <tbody>\n",
       "    <tr>\n",
       "      <th>0</th>\n",
       "      <td>299.0</td>\n",
       "      <td>40.64529</td>\n",
       "      <td>-73.97238</td>\n",
       "      <td>Brooklyn</td>\n",
       "      <td>2</td>\n",
       "      <td>1.0</td>\n",
       "      <td>1.0</td>\n",
       "      <td>1</td>\n",
       "      <td>1</td>\n",
       "      <td>1</td>\n",
       "      <td>1</td>\n",
       "      <td>1</td>\n",
       "    </tr>\n",
       "    <tr>\n",
       "      <th>1</th>\n",
       "      <td>175.0</td>\n",
       "      <td>40.75356</td>\n",
       "      <td>-73.98559</td>\n",
       "      <td>Manhattan</td>\n",
       "      <td>1</td>\n",
       "      <td>1.0</td>\n",
       "      <td>1.0</td>\n",
       "      <td>1</td>\n",
       "      <td>1</td>\n",
       "      <td>1</td>\n",
       "      <td>1</td>\n",
       "      <td>1</td>\n",
       "    </tr>\n",
       "    <tr>\n",
       "      <th>2</th>\n",
       "      <td>60.0</td>\n",
       "      <td>40.68535</td>\n",
       "      <td>-73.95512</td>\n",
       "      <td>Brooklyn</td>\n",
       "      <td>2</td>\n",
       "      <td>1.0</td>\n",
       "      <td>0.0</td>\n",
       "      <td>1</td>\n",
       "      <td>0</td>\n",
       "      <td>1</td>\n",
       "      <td>1</td>\n",
       "      <td>0</td>\n",
       "    </tr>\n",
       "    <tr>\n",
       "      <th>3</th>\n",
       "      <td>425.0</td>\n",
       "      <td>40.70309</td>\n",
       "      <td>-73.89963</td>\n",
       "      <td>Queens</td>\n",
       "      <td>16</td>\n",
       "      <td>10.0</td>\n",
       "      <td>2.5</td>\n",
       "      <td>1</td>\n",
       "      <td>1</td>\n",
       "      <td>1</td>\n",
       "      <td>1</td>\n",
       "      <td>1</td>\n",
       "    </tr>\n",
       "    <tr>\n",
       "      <th>4</th>\n",
       "      <td>275.0</td>\n",
       "      <td>40.66265</td>\n",
       "      <td>-73.99454</td>\n",
       "      <td>Brooklyn</td>\n",
       "      <td>4</td>\n",
       "      <td>2.0</td>\n",
       "      <td>1.5</td>\n",
       "      <td>1</td>\n",
       "      <td>1</td>\n",
       "      <td>1</td>\n",
       "      <td>1</td>\n",
       "      <td>1</td>\n",
       "    </tr>\n",
       "  </tbody>\n",
       "</table>\n",
       "</div>"
      ],
      "text/plain": [
       "   price  latitude  longitude neighbourhood_group_cleansed  accommodates  \\\n",
       "0  299.0  40.64529  -73.97238                     Brooklyn             2   \n",
       "1  175.0  40.75356  -73.98559                    Manhattan             1   \n",
       "2   60.0  40.68535  -73.95512                     Brooklyn             2   \n",
       "3  425.0  40.70309  -73.89963                       Queens            16   \n",
       "4  275.0  40.66265  -73.99454                     Brooklyn             4   \n",
       "\n",
       "   beds  baths  has_wifi  has_dryer  has_heating  has_kitchen  has_tv  \n",
       "0   1.0    1.0         1          1            1            1       1  \n",
       "1   1.0    1.0         1          1            1            1       1  \n",
       "2   1.0    0.0         1          0            1            1       0  \n",
       "3  10.0    2.5         1          1            1            1       1  \n",
       "4   2.0    1.5         1          1            1            1       1  "
      ]
     },
     "execution_count": 4,
     "metadata": {},
     "output_type": "execute_result"
    }
   ],
   "source": [
    "data_model = listings_filtered_df[[\"price\",\"latitude\",\"longitude\",\"neighbourhood_group_cleansed\",\"accommodates\",\"beds\",\"baths\",\"has_wifi\",\"has_dryer\",\"has_heating\",\"has_kitchen\",\"has_tv\"]]\n",
    "data_model.head()"
   ]
  },
  {
   "cell_type": "code",
   "execution_count": 5,
   "metadata": {},
   "outputs": [
    {
     "data": {
      "text/html": [
       "<div>\n",
       "<style scoped>\n",
       "    .dataframe tbody tr th:only-of-type {\n",
       "        vertical-align: middle;\n",
       "    }\n",
       "\n",
       "    .dataframe tbody tr th {\n",
       "        vertical-align: top;\n",
       "    }\n",
       "\n",
       "    .dataframe thead th {\n",
       "        text-align: right;\n",
       "    }\n",
       "</style>\n",
       "<table border=\"1\" class=\"dataframe\">\n",
       "  <thead>\n",
       "    <tr style=\"text-align: right;\">\n",
       "      <th></th>\n",
       "      <th>price</th>\n",
       "      <th>latitude</th>\n",
       "      <th>longitude</th>\n",
       "      <th>accommodates</th>\n",
       "      <th>beds</th>\n",
       "      <th>baths</th>\n",
       "      <th>has_wifi</th>\n",
       "      <th>has_dryer</th>\n",
       "      <th>has_heating</th>\n",
       "      <th>has_kitchen</th>\n",
       "      <th>has_tv</th>\n",
       "      <th>neighbourhood_group_cleansed_Bronx</th>\n",
       "      <th>neighbourhood_group_cleansed_Brooklyn</th>\n",
       "      <th>neighbourhood_group_cleansed_Manhattan</th>\n",
       "      <th>neighbourhood_group_cleansed_Queens</th>\n",
       "      <th>neighbourhood_group_cleansed_Staten Island</th>\n",
       "    </tr>\n",
       "  </thead>\n",
       "  <tbody>\n",
       "    <tr>\n",
       "      <th>0</th>\n",
       "      <td>299.0</td>\n",
       "      <td>40.64529</td>\n",
       "      <td>-73.97238</td>\n",
       "      <td>2</td>\n",
       "      <td>1.0</td>\n",
       "      <td>1.0</td>\n",
       "      <td>1</td>\n",
       "      <td>1</td>\n",
       "      <td>1</td>\n",
       "      <td>1</td>\n",
       "      <td>1</td>\n",
       "      <td>0</td>\n",
       "      <td>1</td>\n",
       "      <td>0</td>\n",
       "      <td>0</td>\n",
       "      <td>0</td>\n",
       "    </tr>\n",
       "    <tr>\n",
       "      <th>1</th>\n",
       "      <td>175.0</td>\n",
       "      <td>40.75356</td>\n",
       "      <td>-73.98559</td>\n",
       "      <td>1</td>\n",
       "      <td>1.0</td>\n",
       "      <td>1.0</td>\n",
       "      <td>1</td>\n",
       "      <td>1</td>\n",
       "      <td>1</td>\n",
       "      <td>1</td>\n",
       "      <td>1</td>\n",
       "      <td>0</td>\n",
       "      <td>0</td>\n",
       "      <td>1</td>\n",
       "      <td>0</td>\n",
       "      <td>0</td>\n",
       "    </tr>\n",
       "    <tr>\n",
       "      <th>2</th>\n",
       "      <td>60.0</td>\n",
       "      <td>40.68535</td>\n",
       "      <td>-73.95512</td>\n",
       "      <td>2</td>\n",
       "      <td>1.0</td>\n",
       "      <td>0.0</td>\n",
       "      <td>1</td>\n",
       "      <td>0</td>\n",
       "      <td>1</td>\n",
       "      <td>1</td>\n",
       "      <td>0</td>\n",
       "      <td>0</td>\n",
       "      <td>1</td>\n",
       "      <td>0</td>\n",
       "      <td>0</td>\n",
       "      <td>0</td>\n",
       "    </tr>\n",
       "    <tr>\n",
       "      <th>3</th>\n",
       "      <td>425.0</td>\n",
       "      <td>40.70309</td>\n",
       "      <td>-73.89963</td>\n",
       "      <td>16</td>\n",
       "      <td>10.0</td>\n",
       "      <td>2.5</td>\n",
       "      <td>1</td>\n",
       "      <td>1</td>\n",
       "      <td>1</td>\n",
       "      <td>1</td>\n",
       "      <td>1</td>\n",
       "      <td>0</td>\n",
       "      <td>0</td>\n",
       "      <td>0</td>\n",
       "      <td>1</td>\n",
       "      <td>0</td>\n",
       "    </tr>\n",
       "    <tr>\n",
       "      <th>4</th>\n",
       "      <td>275.0</td>\n",
       "      <td>40.66265</td>\n",
       "      <td>-73.99454</td>\n",
       "      <td>4</td>\n",
       "      <td>2.0</td>\n",
       "      <td>1.5</td>\n",
       "      <td>1</td>\n",
       "      <td>1</td>\n",
       "      <td>1</td>\n",
       "      <td>1</td>\n",
       "      <td>1</td>\n",
       "      <td>0</td>\n",
       "      <td>1</td>\n",
       "      <td>0</td>\n",
       "      <td>0</td>\n",
       "      <td>0</td>\n",
       "    </tr>\n",
       "  </tbody>\n",
       "</table>\n",
       "</div>"
      ],
      "text/plain": [
       "   price  latitude  longitude  accommodates  beds  baths  has_wifi  has_dryer  \\\n",
       "0  299.0  40.64529  -73.97238             2   1.0    1.0         1          1   \n",
       "1  175.0  40.75356  -73.98559             1   1.0    1.0         1          1   \n",
       "2   60.0  40.68535  -73.95512             2   1.0    0.0         1          0   \n",
       "3  425.0  40.70309  -73.89963            16  10.0    2.5         1          1   \n",
       "4  275.0  40.66265  -73.99454             4   2.0    1.5         1          1   \n",
       "\n",
       "   has_heating  has_kitchen  has_tv  neighbourhood_group_cleansed_Bronx  \\\n",
       "0            1            1       1                                   0   \n",
       "1            1            1       1                                   0   \n",
       "2            1            1       0                                   0   \n",
       "3            1            1       1                                   0   \n",
       "4            1            1       1                                   0   \n",
       "\n",
       "   neighbourhood_group_cleansed_Brooklyn  \\\n",
       "0                                      1   \n",
       "1                                      0   \n",
       "2                                      1   \n",
       "3                                      0   \n",
       "4                                      1   \n",
       "\n",
       "   neighbourhood_group_cleansed_Manhattan  \\\n",
       "0                                       0   \n",
       "1                                       1   \n",
       "2                                       0   \n",
       "3                                       0   \n",
       "4                                       0   \n",
       "\n",
       "   neighbourhood_group_cleansed_Queens  \\\n",
       "0                                    0   \n",
       "1                                    0   \n",
       "2                                    0   \n",
       "3                                    1   \n",
       "4                                    0   \n",
       "\n",
       "   neighbourhood_group_cleansed_Staten Island  \n",
       "0                                           0  \n",
       "1                                           0  \n",
       "2                                           0  \n",
       "3                                           0  \n",
       "4                                           0  "
      ]
     },
     "execution_count": 5,
     "metadata": {},
     "output_type": "execute_result"
    }
   ],
   "source": [
    "# creacion de dummmies\n",
    "data_model_num = pd.get_dummies(data_model, columns = [\"neighbourhood_group_cleansed\"])\n",
    "data_model_num.head()"
   ]
  },
  {
   "cell_type": "code",
   "execution_count": 6,
   "metadata": {},
   "outputs": [
    {
     "data": {
      "text/plain": [
       "price                                           0\n",
       "latitude                                        0\n",
       "longitude                                       0\n",
       "accommodates                                    0\n",
       "beds                                          322\n",
       "baths                                           0\n",
       "has_wifi                                        0\n",
       "has_dryer                                       0\n",
       "has_heating                                     0\n",
       "has_kitchen                                     0\n",
       "has_tv                                          0\n",
       "neighbourhood_group_cleansed_Bronx              0\n",
       "neighbourhood_group_cleansed_Brooklyn           0\n",
       "neighbourhood_group_cleansed_Manhattan          0\n",
       "neighbourhood_group_cleansed_Queens             0\n",
       "neighbourhood_group_cleansed_Staten Island      0\n",
       "dtype: int64"
      ]
     },
     "execution_count": 6,
     "metadata": {},
     "output_type": "execute_result"
    }
   ],
   "source": [
    "data_model_num.isna().sum()"
   ]
  },
  {
   "cell_type": "markdown",
   "metadata": {},
   "source": [
    "*Se observa que solo hay valores NA en el número de camas por lo que dropeamos esas observaciones*"
   ]
  },
  {
   "cell_type": "code",
   "execution_count": 7,
   "metadata": {},
   "outputs": [],
   "source": [
    "# quito los na \n",
    "data_model_num = data_model_num.dropna()"
   ]
  },
  {
   "cell_type": "code",
   "execution_count": 8,
   "metadata": {},
   "outputs": [
    {
     "data": {
      "text/plain": [
       "Index(['price', 'latitude', 'longitude', 'accommodates', 'beds', 'baths',\n",
       "       'has_wifi', 'has_dryer', 'has_heating', 'has_kitchen', 'has_tv',\n",
       "       'neighbourhood_group_cleansed_Bronx',\n",
       "       'neighbourhood_group_cleansed_Brooklyn',\n",
       "       'neighbourhood_group_cleansed_Manhattan',\n",
       "       'neighbourhood_group_cleansed_Queens',\n",
       "       'neighbourhood_group_cleansed_Staten Island'],\n",
       "      dtype='object')"
      ]
     },
     "execution_count": 8,
     "metadata": {},
     "output_type": "execute_result"
    }
   ],
   "source": [
    "data_model_num.columns"
   ]
  },
  {
   "cell_type": "markdown",
   "metadata": {},
   "source": [
    "Split"
   ]
  },
  {
   "cell_type": "markdown",
   "metadata": {},
   "source": [
    "*Realizamos una división de los datos de manera que haya un 70% en train, un 15% en test y un 15% en validación*"
   ]
  },
  {
   "cell_type": "code",
   "execution_count": 9,
   "metadata": {},
   "outputs": [],
   "source": [
    "df_train, df_test  = train_test_split(data_model_num,\n",
    "                                test_size=0.3,\n",
    "                                random_state = 101)"
   ]
  },
  {
   "cell_type": "code",
   "execution_count": 10,
   "metadata": {},
   "outputs": [],
   "source": [
    "df_test, df_validation  = train_test_split(df_test,\n",
    "                                test_size=0.5,\n",
    "                                random_state = 101)"
   ]
  },
  {
   "cell_type": "code",
   "execution_count": 11,
   "metadata": {},
   "outputs": [],
   "source": [
    "#division entre train y test \n",
    "X_train = df_train.drop(\"price\", axis = 1)\n",
    "y_train = df_train[\"price\"]\n",
    "\n",
    "X_test = df_test.drop(\"price\", axis = 1)\n",
    "y_test = df_test[\"price\"]\n",
    "\n",
    "X_val = df_validation.drop(\"price\", axis = 1)\n",
    "y_val = df_validation[\"price\"]"
   ]
  },
  {
   "cell_type": "markdown",
   "metadata": {},
   "source": [
    "Funciones"
   ]
  },
  {
   "cell_type": "markdown",
   "metadata": {},
   "source": [
    "*Se crean unas funciones que devuelvan métricas y gráficos significativos para valorar el fit del modelo*"
   ]
  },
  {
   "cell_type": "code",
   "execution_count": 78,
   "metadata": {},
   "outputs": [],
   "source": [
    "def show_metrics(prediction_test, prediction_train, y_test, y_train, y_val):\n",
    "    MAE = round(metrics.mean_absolute_error(y_val, prediction_test), 2)\n",
    "    MSE = round(metrics.mean_squared_error(y_val, prediction_test), 2)\n",
    "    RMSE = round(np.sqrt(metrics.mean_squared_error(y_val, prediction_test)), 2)\n",
    "    RMSE_ratio_test= round(np.sqrt(metrics.mean_squared_error(y_test, prediction_test)) / np.mean(y_test),3)\n",
    "    RMSE_ratio_train = round(np.sqrt(metrics.mean_squared_error(y_train, prediction_train)) / np.mean(y_train),3)\n",
    "    R_2_test = round(metrics.explained_variance_score(y_test, prediction_test), 2)\n",
    "    R_2_train = round(metrics.explained_variance_score(y_train, prediction_train), 2)\n",
    "    \n",
    "    metrics_data = pd.DataFrame(data = [MAE, MSE, RMSE, RMSE_ratio_test, \n",
    "                                    RMSE_ratio_train, R_2_test, R_2_train]).T\n",
    "    \n",
    "    metrics_data.columns = ['MAE', 'MSE', 'RMSE', 'RMSE_ratio_test', \n",
    "                                    'RMSE_ratio_train', 'R_2_test', 'R_2_train']\n",
    "    display(metrics_data)"
   ]
  },
  {
   "cell_type": "code",
   "execution_count": 81,
   "metadata": {},
   "outputs": [],
   "source": [
    "def analysis(model, X_train, X_test, y_train, y_test,y_val):\n",
    "    \n",
    "    prediction_test = model.predict(X_test)\n",
    "    prediction_train = model.predict(X_train)\n",
    "        \n",
    "    \n",
    "    show_metrics(prediction_test, prediction_train, y_test, y_train, y_val)\n",
    "    \n",
    "    sns.regplot(x = y_test, y = prediction_test, fit_reg=True)\n",
    "    plt.title('Prediction and real')\n",
    "    plt.show()\n",
    "\n",
    "    sns.distplot(y_test - prediction_test, bins = 50)\n",
    "    plt.title('Error variance')\n",
    "    plt.show()"
   ]
  },
  {
   "cell_type": "markdown",
   "metadata": {},
   "source": [
    "#### Linear Regressor"
   ]
  },
  {
   "cell_type": "code",
   "execution_count": 83,
   "metadata": {},
   "outputs": [
    {
     "data": {
      "text/html": [
       "<div>\n",
       "<style scoped>\n",
       "    .dataframe tbody tr th:only-of-type {\n",
       "        vertical-align: middle;\n",
       "    }\n",
       "\n",
       "    .dataframe tbody tr th {\n",
       "        vertical-align: top;\n",
       "    }\n",
       "\n",
       "    .dataframe thead th {\n",
       "        text-align: right;\n",
       "    }\n",
       "</style>\n",
       "<table border=\"1\" class=\"dataframe\">\n",
       "  <thead>\n",
       "    <tr style=\"text-align: right;\">\n",
       "      <th></th>\n",
       "      <th>MAE</th>\n",
       "      <th>MSE</th>\n",
       "      <th>RMSE</th>\n",
       "      <th>RMSE_ratio_test</th>\n",
       "      <th>RMSE_ratio_train</th>\n",
       "      <th>R_2_test</th>\n",
       "      <th>R_2_train</th>\n",
       "    </tr>\n",
       "  </thead>\n",
       "  <tbody>\n",
       "    <tr>\n",
       "      <th>0</th>\n",
       "      <td>132.82</td>\n",
       "      <td>36010.22</td>\n",
       "      <td>189.76</td>\n",
       "      <td>0.587</td>\n",
       "      <td>0.64</td>\n",
       "      <td>0.41</td>\n",
       "      <td>0.4</td>\n",
       "    </tr>\n",
       "  </tbody>\n",
       "</table>\n",
       "</div>"
      ],
      "text/plain": [
       "      MAE       MSE    RMSE  RMSE_ratio_test  RMSE_ratio_train  R_2_test  \\\n",
       "0  132.82  36010.22  189.76            0.587              0.64      0.41   \n",
       "\n",
       "   R_2_train  \n",
       "0        0.4  "
      ]
     },
     "metadata": {},
     "output_type": "display_data"
    },
    {
     "data": {
      "image/png": "[encoded data removed]",
      "text/plain": [
       "<Figure size 432x288 with 1 Axes>"
      ]
     },
     "metadata": {
      "needs_background": "light"
     },
     "output_type": "display_data"
    },
    {
     "data": {
      "image/png": "[encoded data removed]",
      "text/plain": [
       "<Figure size 432x288 with 1 Axes>"
      ]
     },
     "metadata": {
      "needs_background": "light"
     },
     "output_type": "display_data"
    }
   ],
   "source": [
    "lm = LinearRegression(\n",
    "        n_jobs = -1,\n",
    "        normalize = True\n",
    ")\n",
    "\n",
    "lm.fit(X_train, y_train)\n",
    "\n",
    "comment = ''\n",
    "\n",
    "analysis(\n",
    "    model = lm, \n",
    "    X_train = X_train, \n",
    "    X_test = X_test, \n",
    "    y_train = y_train, \n",
    "    y_test = y_test,\n",
    "    y_val = y_val\n",
    ")"
   ]
  },
  {
   "cell_type": "markdown",
   "metadata": {},
   "source": [
    "*El regresor lineal no es un modelo que prediga de forma precisa el precio por noche de los Airbnb, por lo que lo descartamos*"
   ]
  },
  {
   "cell_type": "markdown",
   "metadata": {},
   "source": [
    "#### Random Forest Regressor"
   ]
  },
  {
   "cell_type": "code",
   "execution_count": 84,
   "metadata": {},
   "outputs": [
    {
     "data": {
      "text/html": [
       "<div>\n",
       "<style scoped>\n",
       "    .dataframe tbody tr th:only-of-type {\n",
       "        vertical-align: middle;\n",
       "    }\n",
       "\n",
       "    .dataframe tbody tr th {\n",
       "        vertical-align: top;\n",
       "    }\n",
       "\n",
       "    .dataframe thead th {\n",
       "        text-align: right;\n",
       "    }\n",
       "</style>\n",
       "<table border=\"1\" class=\"dataframe\">\n",
       "  <thead>\n",
       "    <tr style=\"text-align: right;\">\n",
       "      <th></th>\n",
       "      <th>MAE</th>\n",
       "      <th>MSE</th>\n",
       "      <th>RMSE</th>\n",
       "      <th>RMSE_ratio_test</th>\n",
       "      <th>RMSE_ratio_train</th>\n",
       "      <th>R_2_test</th>\n",
       "      <th>R_2_train</th>\n",
       "    </tr>\n",
       "  </thead>\n",
       "  <tbody>\n",
       "    <tr>\n",
       "      <th>0</th>\n",
       "      <td>135.48</td>\n",
       "      <td>38701.61</td>\n",
       "      <td>196.73</td>\n",
       "      <td>0.495</td>\n",
       "      <td>0.419</td>\n",
       "      <td>0.58</td>\n",
       "      <td>0.74</td>\n",
       "    </tr>\n",
       "  </tbody>\n",
       "</table>\n",
       "</div>"
      ],
      "text/plain": [
       "      MAE       MSE    RMSE  RMSE_ratio_test  RMSE_ratio_train  R_2_test  \\\n",
       "0  135.48  38701.61  196.73            0.495             0.419      0.58   \n",
       "\n",
       "   R_2_train  \n",
       "0       0.74  "
      ]
     },
     "metadata": {},
     "output_type": "display_data"
    },
    {
     "data": {
      "image/png": "[encoded data removed]",
      "text/plain": [
       "<Figure size 432x288 with 1 Axes>"
      ]
     },
     "metadata": {
      "needs_background": "light"
     },
     "output_type": "display_data"
    },
    {
     "data": {
      "image/png": "[encoded data removed]",
      "text/plain": [
       "<Figure size 432x288 with 1 Axes>"
      ]
     },
     "metadata": {
      "needs_background": "light"
     },
     "output_type": "display_data"
    }
   ],
   "source": [
    "rfm = RandomForestRegressor(\n",
    "          max_depth = 10,\n",
    "          n_jobs = -1, \n",
    "          random_state = 101,\n",
    "          n_estimators = 700\n",
    "    \n",
    ")\n",
    "rfm.fit(X_train, y_train)\n",
    "\n",
    "comment = ''\n",
    "\n",
    "analysis(\n",
    "    model = rfm, \n",
    "    X_train =X_train, \n",
    "    X_test = X_test, \n",
    "    y_train = y_train, \n",
    "    y_test = y_test,\n",
    "    y_val = y_val\n",
    "    \n",
    ")"
   ]
  },
  {
   "cell_type": "code",
   "execution_count": 85,
   "metadata": {},
   "outputs": [
    {
     "name": "stdout",
     "output_type": "stream",
     "text": [
      "Importancia de los predictores en el modelo\n"
     ]
    },
    {
     "data": {
      "text/html": [
       "<div>\n",
       "<style scoped>\n",
       "    .dataframe tbody tr th:only-of-type {\n",
       "        vertical-align: middle;\n",
       "    }\n",
       "\n",
       "    .dataframe tbody tr th {\n",
       "        vertical-align: top;\n",
       "    }\n",
       "\n",
       "    .dataframe thead th {\n",
       "        text-align: right;\n",
       "    }\n",
       "</style>\n",
       "<table border=\"1\" class=\"dataframe\">\n",
       "  <thead>\n",
       "    <tr style=\"text-align: right;\">\n",
       "      <th></th>\n",
       "      <th>index</th>\n",
       "      <th>predictor</th>\n",
       "      <th>importancia</th>\n",
       "    </tr>\n",
       "  </thead>\n",
       "  <tbody>\n",
       "    <tr>\n",
       "      <th>0</th>\n",
       "      <td>2</td>\n",
       "      <td>accommodates</td>\n",
       "      <td>0.280264</td>\n",
       "    </tr>\n",
       "    <tr>\n",
       "      <th>1</th>\n",
       "      <td>1</td>\n",
       "      <td>longitude</td>\n",
       "      <td>0.266622</td>\n",
       "    </tr>\n",
       "    <tr>\n",
       "      <th>2</th>\n",
       "      <td>0</td>\n",
       "      <td>latitude</td>\n",
       "      <td>0.198532</td>\n",
       "    </tr>\n",
       "    <tr>\n",
       "      <th>3</th>\n",
       "      <td>4</td>\n",
       "      <td>baths</td>\n",
       "      <td>0.149577</td>\n",
       "    </tr>\n",
       "    <tr>\n",
       "      <th>4</th>\n",
       "      <td>12</td>\n",
       "      <td>neighbourhood_group_cleansed_Manhattan</td>\n",
       "      <td>0.036735</td>\n",
       "    </tr>\n",
       "    <tr>\n",
       "      <th>5</th>\n",
       "      <td>3</td>\n",
       "      <td>beds</td>\n",
       "      <td>0.022918</td>\n",
       "    </tr>\n",
       "    <tr>\n",
       "      <th>6</th>\n",
       "      <td>8</td>\n",
       "      <td>has_kitchen</td>\n",
       "      <td>0.020624</td>\n",
       "    </tr>\n",
       "    <tr>\n",
       "      <th>7</th>\n",
       "      <td>9</td>\n",
       "      <td>has_tv</td>\n",
       "      <td>0.012012</td>\n",
       "    </tr>\n",
       "    <tr>\n",
       "      <th>8</th>\n",
       "      <td>6</td>\n",
       "      <td>has_dryer</td>\n",
       "      <td>0.004255</td>\n",
       "    </tr>\n",
       "    <tr>\n",
       "      <th>9</th>\n",
       "      <td>7</td>\n",
       "      <td>has_heating</td>\n",
       "      <td>0.003864</td>\n",
       "    </tr>\n",
       "  </tbody>\n",
       "</table>\n",
       "</div>"
      ],
      "text/plain": [
       "   index                               predictor  importancia\n",
       "0      2                            accommodates     0.280264\n",
       "1      1                               longitude     0.266622\n",
       "2      0                                latitude     0.198532\n",
       "3      4                                   baths     0.149577\n",
       "4     12  neighbourhood_group_cleansed_Manhattan     0.036735\n",
       "5      3                                    beds     0.022918\n",
       "6      8                             has_kitchen     0.020624\n",
       "7      9                                  has_tv     0.012012\n",
       "8      6                               has_dryer     0.004255\n",
       "9      7                             has_heating     0.003864"
      ]
     },
     "execution_count": 85,
     "metadata": {},
     "output_type": "execute_result"
    }
   ],
   "source": [
    "importancia_predictores = pd.DataFrame(\n",
    "                            {'predictor': data_model_num.drop(columns = \"price\").columns,\n",
    "                             'importancia': rfm.feature_importances_}\n",
    "                            )\n",
    "print(\"Importancia de los predictores en el modelo\")\n",
    "importancia_predictores = importancia_predictores.sort_values('importancia', ascending=False).head(10).reset_index()\n",
    "importancia_predictores"
   ]
  },
  {
   "cell_type": "code",
   "execution_count": 86,
   "metadata": {},
   "outputs": [
    {
     "data": {
      "application/vnd.plotly.v1+json": {
       "config": {
        "plotlyServerURL": "https://plot.ly"
       },
       "data": [
        {
         "marker": {
          "color": "steelblue"
         },
         "name": "Importancia de variables",
         "orientation": "h",
         "type": "bar",
         "x": [
          0.2802642313106911,
          0.2666218080404622,
          0.19853182466433153,
          0.14957686668956247,
          0.03673547487380545,
          0.022918193323661143,
          0.020623944891405642,
          0.012011987572601357,
          0.0042552980073458325,
          0.003864041473681145
         ],
         "y": [
          "accommodates",
          "longitude",
          "latitude",
          "baths",
          "neighbourhood_group_cleansed_Manhattan",
          "beds",
          "has_kitchen",
          "has_tv",
          "has_dryer",
          "has_heating"
         ]
        }
       ],
       "layout": {
        "template": {
         "data": {
          "bar": [
           {
            "error_x": {
             "color": "#2a3f5f"
            },
            "error_y": {
             "color": "#2a3f5f"
            },
            "marker": {
             "line": {
              "color": "#E5ECF6",
              "width": 0.5
             },
             "pattern": {
              "fillmode": "overlay",
              "size": 10,
              "solidity": 0.2
             }
            },
            "type": "bar"
           }
          ],
          "barpolar": [
           {
            "marker": {
             "line": {
              "color": "#E5ECF6",
              "width": 0.5
             },
             "pattern": {
              "fillmode": "overlay",
              "size": 10,
              "solidity": 0.2
             }
            },
            "type": "barpolar"
           }
          ],
          "carpet": [
           {
            "aaxis": {
             "endlinecolor": "#2a3f5f",
             "gridcolor": "white",
             "linecolor": "white",
             "minorgridcolor": "white",
             "startlinecolor": "#2a3f5f"
            },
            "baxis": {
             "endlinecolor": "#2a3f5f",
             "gridcolor": "white",
             "linecolor": "white",
             "minorgridcolor": "white",
             "startlinecolor": "#2a3f5f"
            },
            "type": "carpet"
           }
          ],
          "choropleth": [
           {
            "colorbar": {
             "outlinewidth": 0,
             "ticks": ""
            },
            "type": "choropleth"
           }
          ],
          "contour": [
           {
            "colorbar": {
             "outlinewidth": 0,
             "ticks": ""
            },
            "colorscale": [
             [
              0,
              "#0d0887"
             ],
             [
              0.1111111111111111,
              "#46039f"
             ],
             [
              0.2222222222222222,
              "#7201a8"
             ],
             [
              0.3333333333333333,
              "#9c179e"
             ],
             [
              0.4444444444444444,
              "#bd3786"
             ],
             [
              0.5555555555555556,
              "#d8576b"
             ],
             [
              0.6666666666666666,
              "#ed7953"
             ],
             [
              0.7777777777777778,
              "#fb9f3a"
             ],
             [
              0.8888888888888888,
              "#fdca26"
             ],
             [
              1,
              "#f0f921"
             ]
            ],
            "type": "contour"
           }
          ],
          "contourcarpet": [
           {
            "colorbar": {
             "outlinewidth": 0,
             "ticks": ""
            },
            "type": "contourcarpet"
           }
          ],
          "heatmap": [
           {
            "colorbar": {
             "outlinewidth": 0,
             "ticks": ""
            },
            "colorscale": [
             [
              0,
              "#0d0887"
             ],
             [
              0.1111111111111111,
              "#46039f"
             ],
             [
              0.2222222222222222,
              "#7201a8"
             ],
             [
              0.3333333333333333,
              "#9c179e"
             ],
             [
              0.4444444444444444,
              "#bd3786"
             ],
             [
              0.5555555555555556,
              "#d8576b"
             ],
             [
              0.6666666666666666,
              "#ed7953"
             ],
             [
              0.7777777777777778,
              "#fb9f3a"
             ],
             [
              0.8888888888888888,
              "#fdca26"
             ],
             [
              1,
              "#f0f921"
             ]
            ],
            "type": "heatmap"
           }
          ],
          "heatmapgl": [
           {
            "colorbar": {
             "outlinewidth": 0,
             "ticks": ""
            },
            "colorscale": [
             [
              0,
              "#0d0887"
             ],
             [
              0.1111111111111111,
              "#46039f"
             ],
             [
              0.2222222222222222,
              "#7201a8"
             ],
             [
              0.3333333333333333,
              "#9c179e"
             ],
             [
              0.4444444444444444,
              "#bd3786"
             ],
             [
              0.5555555555555556,
              "#d8576b"
             ],
             [
              0.6666666666666666,
              "#ed7953"
             ],
             [
              0.7777777777777778,
              "#fb9f3a"
             ],
             [
              0.8888888888888888,
              "#fdca26"
             ],
             [
              1,
              "#f0f921"
             ]
            ],
            "type": "heatmapgl"
           }
          ],
          "histogram": [
           {
            "marker": {
             "pattern": {
              "fillmode": "overlay",
              "size": 10,
              "solidity": 0.2
             }
            },
            "type": "histogram"
           }
          ],
          "histogram2d": [
           {
            "colorbar": {
             "outlinewidth": 0,
             "ticks": ""
            },
            "colorscale": [
             [
              0,
              "#0d0887"
             ],
             [
              0.1111111111111111,
              "#46039f"
             ],
             [
              0.2222222222222222,
              "#7201a8"
             ],
             [
              0.3333333333333333,
              "#9c179e"
             ],
             [
              0.4444444444444444,
              "#bd3786"
             ],
             [
              0.5555555555555556,
              "#d8576b"
             ],
             [
              0.6666666666666666,
              "#ed7953"
             ],
             [
              0.7777777777777778,
              "#fb9f3a"
             ],
             [
              0.8888888888888888,
              "#fdca26"
             ],
             [
              1,
              "#f0f921"
             ]
            ],
            "type": "histogram2d"
           }
          ],
          "histogram2dcontour": [
           {
            "colorbar": {
             "outlinewidth": 0,
             "ticks": ""
            },
            "colorscale": [
             [
              0,
              "#0d0887"
             ],
             [
              0.1111111111111111,
              "#46039f"
             ],
             [
              0.2222222222222222,
              "#7201a8"
             ],
             [
              0.3333333333333333,
              "#9c179e"
             ],
             [
              0.4444444444444444,
              "#bd3786"
             ],
             [
              0.5555555555555556,
              "#d8576b"
             ],
             [
              0.6666666666666666,
              "#ed7953"
             ],
             [
              0.7777777777777778,
              "#fb9f3a"
             ],
             [
              0.8888888888888888,
              "#fdca26"
             ],
             [
              1,
              "#f0f921"
             ]
            ],
            "type": "histogram2dcontour"
           }
          ],
          "mesh3d": [
           {
            "colorbar": {
             "outlinewidth": 0,
             "ticks": ""
            },
            "type": "mesh3d"
           }
          ],
          "parcoords": [
           {
            "line": {
             "colorbar": {
              "outlinewidth": 0,
              "ticks": ""
             }
            },
            "type": "parcoords"
           }
          ],
          "pie": [
           {
            "automargin": true,
            "type": "pie"
           }
          ],
          "scatter": [
           {
            "fillpattern": {
             "fillmode": "overlay",
             "size": 10,
             "solidity": 0.2
            },
            "type": "scatter"
           }
          ],
          "scatter3d": [
           {
            "line": {
             "colorbar": {
              "outlinewidth": 0,
              "ticks": ""
             }
            },
            "marker": {
             "colorbar": {
              "outlinewidth": 0,
              "ticks": ""
             }
            },
            "type": "scatter3d"
           }
          ],
          "scattercarpet": [
           {
            "marker": {
             "colorbar": {
              "outlinewidth": 0,
              "ticks": ""
             }
            },
            "type": "scattercarpet"
           }
          ],
          "scattergeo": [
           {
            "marker": {
             "colorbar": {
              "outlinewidth": 0,
              "ticks": ""
             }
            },
            "type": "scattergeo"
           }
          ],
          "scattergl": [
           {
            "marker": {
             "colorbar": {
              "outlinewidth": 0,
              "ticks": ""
             }
            },
            "type": "scattergl"
           }
          ],
          "scattermapbox": [
           {
            "marker": {
             "colorbar": {
              "outlinewidth": 0,
              "ticks": ""
             }
            },
            "type": "scattermapbox"
           }
          ],
          "scatterpolar": [
           {
            "marker": {
             "colorbar": {
              "outlinewidth": 0,
              "ticks": ""
             }
            },
            "type": "scatterpolar"
           }
          ],
          "scatterpolargl": [
           {
            "marker": {
             "colorbar": {
              "outlinewidth": 0,
              "ticks": ""
             }
            },
            "type": "scatterpolargl"
           }
          ],
          "scatterternary": [
           {
            "marker": {
             "colorbar": {
              "outlinewidth": 0,
              "ticks": ""
             }
            },
            "type": "scatterternary"
           }
          ],
          "surface": [
           {
            "colorbar": {
             "outlinewidth": 0,
             "ticks": ""
            },
            "colorscale": [
             [
              0,
              "#0d0887"
             ],
             [
              0.1111111111111111,
              "#46039f"
             ],
             [
              0.2222222222222222,
              "#7201a8"
             ],
             [
              0.3333333333333333,
              "#9c179e"
             ],
             [
              0.4444444444444444,
              "#bd3786"
             ],
             [
              0.5555555555555556,
              "#d8576b"
             ],
             [
              0.6666666666666666,
              "#ed7953"
             ],
             [
              0.7777777777777778,
              "#fb9f3a"
             ],
             [
              0.8888888888888888,
              "#fdca26"
             ],
             [
              1,
              "#f0f921"
             ]
            ],
            "type": "surface"
           }
          ],
          "table": [
           {
            "cells": {
             "fill": {
              "color": "#EBF0F8"
             },
             "line": {
              "color": "white"
             }
            },
            "header": {
             "fill": {
              "color": "#C8D4E3"
             },
             "line": {
              "color": "white"
             }
            },
            "type": "table"
           }
          ]
         },
         "layout": {
          "annotationdefaults": {
           "arrowcolor": "#2a3f5f",
           "arrowhead": 0,
           "arrowwidth": 1
          },
          "autotypenumbers": "strict",
          "coloraxis": {
           "colorbar": {
            "outlinewidth": 0,
            "ticks": ""
           }
          },
          "colorscale": {
           "diverging": [
            [
             0,
             "#8e0152"
            ],
            [
             0.1,
             "#c51b7d"
            ],
            [
             0.2,
             "#de77ae"
            ],
            [
             0.3,
             "#f1b6da"
            ],
            [
             0.4,
             "#fde0ef"
            ],
            [
             0.5,
             "#f7f7f7"
            ],
            [
             0.6,
             "#e6f5d0"
            ],
            [
             0.7,
             "#b8e186"
            ],
            [
             0.8,
             "#7fbc41"
            ],
            [
             0.9,
             "#4d9221"
            ],
            [
             1,
             "#276419"
            ]
           ],
           "sequential": [
            [
             0,
             "#0d0887"
            ],
            [
             0.1111111111111111,
             "#46039f"
            ],
            [
             0.2222222222222222,
             "#7201a8"
            ],
            [
             0.3333333333333333,
             "#9c179e"
            ],
            [
             0.4444444444444444,
             "#bd3786"
            ],
            [
             0.5555555555555556,
             "#d8576b"
            ],
            [
             0.6666666666666666,
             "#ed7953"
            ],
            [
             0.7777777777777778,
             "#fb9f3a"
            ],
            [
             0.8888888888888888,
             "#fdca26"
            ],
            [
             1,
             "#f0f921"
            ]
           ],
           "sequentialminus": [
            [
             0,
             "#0d0887"
            ],
            [
             0.1111111111111111,
             "#46039f"
            ],
            [
             0.2222222222222222,
             "#7201a8"
            ],
            [
             0.3333333333333333,
             "#9c179e"
            ],
            [
             0.4444444444444444,
             "#bd3786"
            ],
            [
             0.5555555555555556,
             "#d8576b"
            ],
            [
             0.6666666666666666,
             "#ed7953"
            ],
            [
             0.7777777777777778,
             "#fb9f3a"
            ],
            [
             0.8888888888888888,
             "#fdca26"
            ],
            [
             1,
             "#f0f921"
            ]
           ]
          },
          "colorway": [
           "#636efa",
           "#EF553B",
           "#00cc96",
           "#ab63fa",
           "#FFA15A",
           "#19d3f3",
           "#FF6692",
           "#B6E880",
           "#FF97FF",
           "#FECB52"
          ],
          "font": {
           "color": "#2a3f5f"
          },
          "geo": {
           "bgcolor": "white",
           "lakecolor": "white",
           "landcolor": "#E5ECF6",
           "showlakes": true,
           "showland": true,
           "subunitcolor": "white"
          },
          "hoverlabel": {
           "align": "left"
          },
          "hovermode": "closest",
          "mapbox": {
           "style": "light"
          },
          "paper_bgcolor": "white",
          "plot_bgcolor": "#E5ECF6",
          "polar": {
           "angularaxis": {
            "gridcolor": "white",
            "linecolor": "white",
            "ticks": ""
           },
           "bgcolor": "#E5ECF6",
           "radialaxis": {
            "gridcolor": "white",
            "linecolor": "white",
            "ticks": ""
           }
          },
          "scene": {
           "xaxis": {
            "backgroundcolor": "#E5ECF6",
            "gridcolor": "white",
            "gridwidth": 2,
            "linecolor": "white",
            "showbackground": true,
            "ticks": "",
            "zerolinecolor": "white"
           },
           "yaxis": {
            "backgroundcolor": "#E5ECF6",
            "gridcolor": "white",
            "gridwidth": 2,
            "linecolor": "white",
            "showbackground": true,
            "ticks": "",
            "zerolinecolor": "white"
           },
           "zaxis": {
            "backgroundcolor": "#E5ECF6",
            "gridcolor": "white",
            "gridwidth": 2,
            "linecolor": "white",
            "showbackground": true,
            "ticks": "",
            "zerolinecolor": "white"
           }
          },
          "shapedefaults": {
           "line": {
            "color": "#2a3f5f"
           }
          },
          "ternary": {
           "aaxis": {
            "gridcolor": "white",
            "linecolor": "white",
            "ticks": ""
           },
           "baxis": {
            "gridcolor": "white",
            "linecolor": "white",
            "ticks": ""
           },
           "bgcolor": "#E5ECF6",
           "caxis": {
            "gridcolor": "white",
            "linecolor": "white",
            "ticks": ""
           }
          },
          "title": {
           "x": 0.05
          },
          "xaxis": {
           "automargin": true,
           "gridcolor": "white",
           "linecolor": "white",
           "ticks": "",
           "title": {
            "standoff": 15
           },
           "zerolinecolor": "white",
           "zerolinewidth": 2
          },
          "yaxis": {
           "automargin": true,
           "gridcolor": "white",
           "linecolor": "white",
           "ticks": "",
           "title": {
            "standoff": 15
           },
           "zerolinecolor": "white",
           "zerolinewidth": 2
          }
         }
        },
        "title": {
         "text": "Importancia de variables en el Random Forest"
        },
        "xaxis": {
         "title": {
          "text": "Importancia"
         }
        },
        "yaxis": {
         "title": {
          "text": "Variables"
         }
        }
       }
      }
     },
     "metadata": {},
     "output_type": "display_data"
    }
   ],
   "source": [
    "# visualizacion de la importancia mediante un grafico de barras\n",
    "data = [\n",
    "    go.Bar(\n",
    "        y = importancia_predictores[\"predictor\"],\n",
    "        x = importancia_predictores[\"importancia\"],\n",
    "        marker_color = \"steelblue\",\n",
    "        orientation='h',\n",
    "        name = \"Importancia de variables\"\n",
    "    )      \n",
    "]\n",
    "\n",
    "layout = go.Layout(title = \"Importancia de variables en el Random Forest\", xaxis_title = \"Importancia\", yaxis_title = \"Variables\")\n",
    "\n",
    "fig = go.Figure(data = data, layout = layout)\n",
    "\n",
    "fig.show()"
   ]
  },
  {
   "cell_type": "markdown",
   "metadata": {},
   "source": [
    "#### Random Forest Regressor con selección de hiperparámetros"
   ]
  },
  {
   "cell_type": "code",
   "execution_count": 57,
   "metadata": {},
   "outputs": [],
   "source": [
    "# hyperparameter tuning\n",
    "\n",
    "def regression_tuning(params:dict):\n",
    "    ''' \n",
    "    Parametros:\n",
    "    \n",
    "        params: dict. Diccionario que contiene los hiperparametros a tunear del modelo\n",
    "    \n",
    "    Salida:\n",
    "        \n",
    "        resultados: dict. Diccionario que contiene las métricas y el modelo \n",
    "    '''\n",
    "    \n",
    "    # for key in [\"num_leaves\",\"min_child_samples\"]:\n",
    "    #     params[key] = int(params[key])\n",
    "    \n",
    "    model = RandomForestRegressor(n_estimators = 100, random_state = 123, **params)\n",
    "    \n",
    "    model.fit(X_train, y_train, \n",
    "                #eval_set = (X_val,y_val)\n",
    "                # , eval_metric = [\"MAE\",\"MSE\",\"RMSE\"],\n",
    "                #         callbacks=[lgb.callback.log_evaluation(period = 50), lgb.early_stopping(5)]\n",
    "            )\n",
    "    \n",
    "    y_pred = model.predict(X_val)\n",
    "    \n",
    "    #loss = accuracy_score(y_val, y_pred)\n",
    "    MAE = round(metrics.mean_absolute_error(y_val, y_pred), 2)\n",
    "    MSE = round(metrics.mean_squared_error(y_val, y_pred), 2)\n",
    "    RMSE = round(np.sqrt(metrics.mean_squared_error(y_val, y_pred)), 2)\n",
    "    R2 = round(metrics.explained_variance_score(y_val, y_pred), 2)\n",
    "    print(\"El MAE para este ensayo es: {}\".format(round(MAE,4)))\n",
    "    print(\"El MSE para este ensayo es: {}\".format(round(MSE,4)))\n",
    "    print(\"El RMSE para este ensayo es: {}\".format(round(RMSE,4)))\n",
    "    print(\"El R2 para este ensayo es: {}\".format(round(R2,4)))\n",
    "    print(\"\\n\")\n",
    "    \n",
    "    return {\"loss\": RMSE, \"status\": STATUS_OK, \"model\": model}"
   ]
  },
  {
   "cell_type": "code",
   "execution_count": 36,
   "metadata": {},
   "outputs": [
    {
     "data": {
      "text/plain": [
       "10470"
      ]
     },
     "execution_count": 36,
     "metadata": {},
     "output_type": "execute_result"
    }
   ],
   "source": [
    "len(X_train)"
   ]
  },
  {
   "cell_type": "markdown",
   "metadata": {},
   "source": [
    "Tenemos una muestra de 10.470 observaciones, valor que emplearemos para definir los valores entre los que tunean los hiperparámetros del modelo"
   ]
  },
  {
   "cell_type": "code",
   "execution_count": 88,
   "metadata": {},
   "outputs": [],
   "source": [
    "space = {\n",
    "    \"max_depth\": hp.choice(\"max_depth\",[4,5,6,7,8,9,15,10,15,20]),\n",
    "    \"min_samples_split\": hp.choice(\"min_samples_split\",[10,20,30,40,50,60,70,80,90,100]),\n",
    "    \"min_samples_leaf\": hp.choice(\"min_samples_leaf\",[10,20,30,40,50,60,70,80,90,100]),\n",
    "}"
   ]
  },
  {
   "cell_type": "code",
   "execution_count": 89,
   "metadata": {},
   "outputs": [
    {
     "name": "stdout",
     "output_type": "stream",
     "text": [
      "El MAE para este ensayo es: 69.15                     \n",
      "El MSE para este ensayo es: 12423.86                  \n",
      "El RMSE para este ensayo es: 111.46                   \n",
      "El R2 para este ensayo es: 0.51                       \n",
      "El MAE para este ensayo es: 65.73                                   \n",
      "El MSE para este ensayo es: 11627.3                                 \n",
      "El RMSE para este ensayo es: 107.83                                 \n",
      "El R2 para este ensayo es: 0.54                                     \n",
      "El MAE para este ensayo es: 60.34                                   \n",
      "El MSE para este ensayo es: 10181.2                                 \n",
      "El RMSE para este ensayo es: 100.9                                  \n",
      "El R2 para este ensayo es: 0.6                                      \n",
      "El MAE para este ensayo es: 69.51                                   \n",
      "El MSE para este ensayo es: 12777.59                               \n",
      "El RMSE para este ensayo es: 113.04                                \n",
      "El R2 para este ensayo es: 0.5                                     \n",
      "El MAE para este ensayo es: 64.22                                  \n",
      "El MSE para este ensayo es: 11270.3                                \n",
      "El RMSE para este ensayo es: 106.16                                \n",
      "El R2 para este ensayo es: 0.56                                    \n",
      "El MAE para este ensayo es: 70.77                                  \n",
      "El MSE para este ensayo es: 13004.62                               \n",
      "El RMSE para este ensayo es: 114.04                                \n",
      "El R2 para este ensayo es: 0.49                                    \n",
      "El MAE para este ensayo es: 69.51                                  \n",
      "El MSE para este ensayo es: 12777.59                               \n",
      "El RMSE para este ensayo es: 113.04                                \n",
      "El R2 para este ensayo es: 0.5                                     \n",
      "El MAE para este ensayo es: 67.0                                   \n",
      "El MSE para este ensayo es: 12044.63                               \n",
      "El RMSE para este ensayo es: 109.75                                \n",
      "El R2 para este ensayo es: 0.53                                    \n",
      "El MAE para este ensayo es: 64.81                                  \n",
      "El MSE para este ensayo es: 11452.44                               \n",
      "El RMSE para este ensayo es: 107.02                                \n",
      "El R2 para este ensayo es: 0.55                                    \n",
      "El MAE para este ensayo es: 70.47                                  \n",
      "El MSE para este ensayo es: 12828.86                               \n",
      "El RMSE para este ensayo es: 113.26                                \n",
      "El R2 para este ensayo es: 0.5                                     \n",
      "El MAE para este ensayo es: 65.73                                   \n",
      "El MSE para este ensayo es: 11627.3                                 \n",
      "El RMSE para este ensayo es: 107.83                                 \n",
      "El R2 para este ensayo es: 0.54                                     \n",
      "El MAE para este ensayo es: 60.71                                   \n",
      "El MSE para este ensayo es: 10251.19                                \n",
      "El RMSE para este ensayo es: 101.25                                 \n",
      "El R2 para este ensayo es: 0.6                                      \n",
      "El MAE para este ensayo es: 67.11                                   \n",
      "El MSE para este ensayo es: 12064.49                                \n",
      "El RMSE para este ensayo es: 109.84                                 \n",
      "El R2 para este ensayo es: 0.53                                     \n",
      "El MAE para este ensayo es: 72.51                                   \n",
      "El MSE para este ensayo es: 13285.42                                \n",
      "El RMSE para este ensayo es: 115.26                                 \n",
      "El R2 para este ensayo es: 0.48                                     \n",
      "El MAE para este ensayo es: 64.81                                   \n",
      "El MSE para este ensayo es: 11452.44                                \n",
      "El RMSE para este ensayo es: 107.02                                 \n",
      "El R2 para este ensayo es: 0.55                                     \n",
      "El MAE para este ensayo es: 64.81                                   \n",
      "El MSE para este ensayo es: 11452.44                                \n",
      "El RMSE para este ensayo es: 107.02                                 \n",
      "El R2 para este ensayo es: 0.55                                     \n",
      "El MAE para este ensayo es: 68.6                                    \n",
      "El MSE para este ensayo es: 12236.52                                \n",
      "El RMSE para este ensayo es: 110.62                                 \n",
      "El R2 para este ensayo es: 0.52                                     \n",
      "El MAE para este ensayo es: 67.83                                   \n",
      "El MSE para este ensayo es: 12252.12                                \n",
      "El RMSE para este ensayo es: 110.69                                 \n",
      "El R2 para este ensayo es: 0.52                                     \n",
      "El MAE para este ensayo es: 68.5                                    \n",
      "El MSE para este ensayo es: 12445.19                                \n",
      "El RMSE para este ensayo es: 111.56                                 \n",
      "El R2 para este ensayo es: 0.51                                     \n",
      "El MAE para este ensayo es: 64.25                                   \n",
      "El MSE para este ensayo es: 11314.43                                \n",
      "El RMSE para este ensayo es: 106.37                                 \n",
      "El R2 para este ensayo es: 0.56                                     \n",
      "El MAE para este ensayo es: 61.8                                    \n",
      "El MSE para este ensayo es: 10633.27                                \n",
      "El RMSE para este ensayo es: 103.12                                 \n",
      "El R2 para este ensayo es: 0.58                                     \n",
      "El MAE para este ensayo es: 62.65                                   \n",
      "El MSE para este ensayo es: 10720.3                                 \n",
      "El RMSE para este ensayo es: 103.54                                 \n",
      "El R2 para este ensayo es: 0.58                                     \n",
      "El MAE para este ensayo es: 73.93                                   \n",
      "El MSE para este ensayo es: 13927.55                                \n",
      "El RMSE para este ensayo es: 118.02                                 \n",
      "El R2 para este ensayo es: 0.45                                     \n",
      "El MAE para este ensayo es: 69.5                                    \n",
      "El MSE para este ensayo es: 12674.29                                \n",
      "El RMSE para este ensayo es: 112.58                                 \n",
      "El R2 para este ensayo es: 0.5                                      \n",
      "El MAE para este ensayo es: 63.28                                   \n",
      "El MSE para este ensayo es: 11059.01                                \n",
      "El RMSE para este ensayo es: 105.16                                 \n",
      "El R2 para este ensayo es: 0.57                                     \n",
      "100%|██████████| 25/25 [00:41<00:00,  1.66s/trial, best loss: 100.9]\n"
     ]
    }
   ],
   "source": [
    "trials = Trials()\n",
    "best = fmin(regression_tuning, space, algo=tpe.suggest, max_evals = 25,trials = trials)"
   ]
  },
  {
   "cell_type": "code",
   "execution_count": 92,
   "metadata": {},
   "outputs": [
    {
     "data": {
      "text/html": [
       "<div>\n",
       "<style scoped>\n",
       "    .dataframe tbody tr th:only-of-type {\n",
       "        vertical-align: middle;\n",
       "    }\n",
       "\n",
       "    .dataframe tbody tr th {\n",
       "        vertical-align: top;\n",
       "    }\n",
       "\n",
       "    .dataframe thead th {\n",
       "        text-align: right;\n",
       "    }\n",
       "</style>\n",
       "<table border=\"1\" class=\"dataframe\">\n",
       "  <thead>\n",
       "    <tr style=\"text-align: right;\">\n",
       "      <th></th>\n",
       "      <th>max_depth</th>\n",
       "      <th>min_samples_split</th>\n",
       "      <th>min_samples_leaf</th>\n",
       "      <th>RMSE</th>\n",
       "    </tr>\n",
       "  </thead>\n",
       "  <tbody>\n",
       "    <tr>\n",
       "      <th>2</th>\n",
       "      <td>20.0</td>\n",
       "      <td>10.0</td>\n",
       "      <td>10.0</td>\n",
       "      <td>100.90</td>\n",
       "    </tr>\n",
       "    <tr>\n",
       "      <th>11</th>\n",
       "      <td>15.0</td>\n",
       "      <td>30.0</td>\n",
       "      <td>10.0</td>\n",
       "      <td>101.25</td>\n",
       "    </tr>\n",
       "    <tr>\n",
       "      <th>20</th>\n",
       "      <td>20.0</td>\n",
       "      <td>60.0</td>\n",
       "      <td>10.0</td>\n",
       "      <td>103.12</td>\n",
       "    </tr>\n",
       "    <tr>\n",
       "      <th>21</th>\n",
       "      <td>9.0</td>\n",
       "      <td>30.0</td>\n",
       "      <td>10.0</td>\n",
       "      <td>103.54</td>\n",
       "    </tr>\n",
       "    <tr>\n",
       "      <th>24</th>\n",
       "      <td>20.0</td>\n",
       "      <td>90.0</td>\n",
       "      <td>10.0</td>\n",
       "      <td>105.16</td>\n",
       "    </tr>\n",
       "    <tr>\n",
       "      <th>4</th>\n",
       "      <td>15.0</td>\n",
       "      <td>80.0</td>\n",
       "      <td>30.0</td>\n",
       "      <td>106.16</td>\n",
       "    </tr>\n",
       "    <tr>\n",
       "      <th>19</th>\n",
       "      <td>20.0</td>\n",
       "      <td>100.0</td>\n",
       "      <td>20.0</td>\n",
       "      <td>106.37</td>\n",
       "    </tr>\n",
       "    <tr>\n",
       "      <th>8</th>\n",
       "      <td>15.0</td>\n",
       "      <td>50.0</td>\n",
       "      <td>40.0</td>\n",
       "      <td>107.02</td>\n",
       "    </tr>\n",
       "    <tr>\n",
       "      <th>15</th>\n",
       "      <td>15.0</td>\n",
       "      <td>10.0</td>\n",
       "      <td>40.0</td>\n",
       "      <td>107.02</td>\n",
       "    </tr>\n",
       "    <tr>\n",
       "      <th>14</th>\n",
       "      <td>15.0</td>\n",
       "      <td>40.0</td>\n",
       "      <td>40.0</td>\n",
       "      <td>107.02</td>\n",
       "    </tr>\n",
       "    <tr>\n",
       "      <th>1</th>\n",
       "      <td>8.0</td>\n",
       "      <td>30.0</td>\n",
       "      <td>40.0</td>\n",
       "      <td>107.83</td>\n",
       "    </tr>\n",
       "    <tr>\n",
       "      <th>10</th>\n",
       "      <td>8.0</td>\n",
       "      <td>40.0</td>\n",
       "      <td>40.0</td>\n",
       "      <td>107.83</td>\n",
       "    </tr>\n",
       "    <tr>\n",
       "      <th>7</th>\n",
       "      <td>15.0</td>\n",
       "      <td>100.0</td>\n",
       "      <td>60.0</td>\n",
       "      <td>109.75</td>\n",
       "    </tr>\n",
       "    <tr>\n",
       "      <th>12</th>\n",
       "      <td>10.0</td>\n",
       "      <td>10.0</td>\n",
       "      <td>60.0</td>\n",
       "      <td>109.84</td>\n",
       "    </tr>\n",
       "    <tr>\n",
       "      <th>16</th>\n",
       "      <td>6.0</td>\n",
       "      <td>20.0</td>\n",
       "      <td>30.0</td>\n",
       "      <td>110.62</td>\n",
       "    </tr>\n",
       "    <tr>\n",
       "      <th>17</th>\n",
       "      <td>10.0</td>\n",
       "      <td>70.0</td>\n",
       "      <td>70.0</td>\n",
       "      <td>110.69</td>\n",
       "    </tr>\n",
       "    <tr>\n",
       "      <th>0</th>\n",
       "      <td>6.0</td>\n",
       "      <td>100.0</td>\n",
       "      <td>50.0</td>\n",
       "      <td>111.46</td>\n",
       "    </tr>\n",
       "    <tr>\n",
       "      <th>18</th>\n",
       "      <td>15.0</td>\n",
       "      <td>80.0</td>\n",
       "      <td>80.0</td>\n",
       "      <td>111.56</td>\n",
       "    </tr>\n",
       "    <tr>\n",
       "      <th>23</th>\n",
       "      <td>7.0</td>\n",
       "      <td>50.0</td>\n",
       "      <td>90.0</td>\n",
       "      <td>112.58</td>\n",
       "    </tr>\n",
       "    <tr>\n",
       "      <th>6</th>\n",
       "      <td>10.0</td>\n",
       "      <td>90.0</td>\n",
       "      <td>100.0</td>\n",
       "      <td>113.04</td>\n",
       "    </tr>\n",
       "    <tr>\n",
       "      <th>3</th>\n",
       "      <td>10.0</td>\n",
       "      <td>10.0</td>\n",
       "      <td>100.0</td>\n",
       "      <td>113.04</td>\n",
       "    </tr>\n",
       "    <tr>\n",
       "      <th>9</th>\n",
       "      <td>6.0</td>\n",
       "      <td>30.0</td>\n",
       "      <td>80.0</td>\n",
       "      <td>113.26</td>\n",
       "    </tr>\n",
       "    <tr>\n",
       "      <th>5</th>\n",
       "      <td>6.0</td>\n",
       "      <td>40.0</td>\n",
       "      <td>100.0</td>\n",
       "      <td>114.04</td>\n",
       "    </tr>\n",
       "    <tr>\n",
       "      <th>13</th>\n",
       "      <td>5.0</td>\n",
       "      <td>70.0</td>\n",
       "      <td>80.0</td>\n",
       "      <td>115.26</td>\n",
       "    </tr>\n",
       "    <tr>\n",
       "      <th>22</th>\n",
       "      <td>4.0</td>\n",
       "      <td>20.0</td>\n",
       "      <td>10.0</td>\n",
       "      <td>118.02</td>\n",
       "    </tr>\n",
       "  </tbody>\n",
       "</table>\n",
       "</div>"
      ],
      "text/plain": [
       "    max_depth  min_samples_split  min_samples_leaf    RMSE\n",
       "2        20.0               10.0              10.0  100.90\n",
       "11       15.0               30.0              10.0  101.25\n",
       "20       20.0               60.0              10.0  103.12\n",
       "21        9.0               30.0              10.0  103.54\n",
       "24       20.0               90.0              10.0  105.16\n",
       "4        15.0               80.0              30.0  106.16\n",
       "19       20.0              100.0              20.0  106.37\n",
       "8        15.0               50.0              40.0  107.02\n",
       "15       15.0               10.0              40.0  107.02\n",
       "14       15.0               40.0              40.0  107.02\n",
       "1         8.0               30.0              40.0  107.83\n",
       "10        8.0               40.0              40.0  107.83\n",
       "7        15.0              100.0              60.0  109.75\n",
       "12       10.0               10.0              60.0  109.84\n",
       "16        6.0               20.0              30.0  110.62\n",
       "17       10.0               70.0              70.0  110.69\n",
       "0         6.0              100.0              50.0  111.46\n",
       "18       15.0               80.0              80.0  111.56\n",
       "23        7.0               50.0              90.0  112.58\n",
       "6        10.0               90.0             100.0  113.04\n",
       "3        10.0               10.0             100.0  113.04\n",
       "9         6.0               30.0              80.0  113.26\n",
       "5         6.0               40.0             100.0  114.04\n",
       "13        5.0               70.0              80.0  115.26\n",
       "22        4.0               20.0              10.0  118.02"
      ]
     },
     "execution_count": 92,
     "metadata": {},
     "output_type": "execute_result"
    }
   ],
   "source": [
    "results = pd.DataFrame(columns = [\"max_depth\",\"min_samples_split\",\"min_samples_leaf\",\"RMSE\"])\n",
    "\n",
    "models = []\n",
    "for trial in trials:\n",
    "    results = results.append(pd.Series(\n",
    "            {\n",
    "             \"max_depth\": trial[\"result\"][\"model\"].max_depth,\n",
    "             \"min_samples_split\": trial[\"result\"][\"model\"].min_samples_split,\n",
    "             \"min_samples_leaf\": trial[\"result\"][\"model\"].min_samples_leaf,\n",
    "             \"RMSE\": trial[\"result\"][\"loss\"]\n",
    "            }\n",
    "        ),\n",
    "        ignore_index = True\n",
    "    )\n",
    "    models.append(trial[\"result\"][\"model\"])\n",
    "    \n",
    "results.sort_values(\"RMSE\",ascending = True)"
   ]
  },
  {
   "cell_type": "code",
   "execution_count": 93,
   "metadata": {},
   "outputs": [],
   "source": [
    "model = models[2]"
   ]
  },
  {
   "cell_type": "code",
   "execution_count": 95,
   "metadata": {},
   "outputs": [
    {
     "name": "stdout",
     "output_type": "stream",
     "text": [
      "Importancia de los predictores en el modelo\n"
     ]
    },
    {
     "data": {
      "text/html": [
       "<div>\n",
       "<style scoped>\n",
       "    .dataframe tbody tr th:only-of-type {\n",
       "        vertical-align: middle;\n",
       "    }\n",
       "\n",
       "    .dataframe tbody tr th {\n",
       "        vertical-align: top;\n",
       "    }\n",
       "\n",
       "    .dataframe thead th {\n",
       "        text-align: right;\n",
       "    }\n",
       "</style>\n",
       "<table border=\"1\" class=\"dataframe\">\n",
       "  <thead>\n",
       "    <tr style=\"text-align: right;\">\n",
       "      <th></th>\n",
       "      <th>index</th>\n",
       "      <th>predictor</th>\n",
       "      <th>importancia</th>\n",
       "    </tr>\n",
       "  </thead>\n",
       "  <tbody>\n",
       "    <tr>\n",
       "      <th>0</th>\n",
       "      <td>2</td>\n",
       "      <td>accommodates</td>\n",
       "      <td>0.301293</td>\n",
       "    </tr>\n",
       "    <tr>\n",
       "      <th>1</th>\n",
       "      <td>1</td>\n",
       "      <td>longitude</td>\n",
       "      <td>0.266709</td>\n",
       "    </tr>\n",
       "    <tr>\n",
       "      <th>2</th>\n",
       "      <td>0</td>\n",
       "      <td>latitude</td>\n",
       "      <td>0.194060</td>\n",
       "    </tr>\n",
       "    <tr>\n",
       "      <th>3</th>\n",
       "      <td>4</td>\n",
       "      <td>baths</td>\n",
       "      <td>0.151353</td>\n",
       "    </tr>\n",
       "    <tr>\n",
       "      <th>4</th>\n",
       "      <td>12</td>\n",
       "      <td>neighbourhood_group_cleansed_Manhattan</td>\n",
       "      <td>0.040645</td>\n",
       "    </tr>\n",
       "    <tr>\n",
       "      <th>5</th>\n",
       "      <td>8</td>\n",
       "      <td>has_kitchen</td>\n",
       "      <td>0.019064</td>\n",
       "    </tr>\n",
       "    <tr>\n",
       "      <th>6</th>\n",
       "      <td>9</td>\n",
       "      <td>has_tv</td>\n",
       "      <td>0.010920</td>\n",
       "    </tr>\n",
       "    <tr>\n",
       "      <th>7</th>\n",
       "      <td>3</td>\n",
       "      <td>beds</td>\n",
       "      <td>0.010493</td>\n",
       "    </tr>\n",
       "    <tr>\n",
       "      <th>8</th>\n",
       "      <td>6</td>\n",
       "      <td>has_dryer</td>\n",
       "      <td>0.002907</td>\n",
       "    </tr>\n",
       "    <tr>\n",
       "      <th>9</th>\n",
       "      <td>13</td>\n",
       "      <td>neighbourhood_group_cleansed_Queens</td>\n",
       "      <td>0.001136</td>\n",
       "    </tr>\n",
       "  </tbody>\n",
       "</table>\n",
       "</div>"
      ],
      "text/plain": [
       "   index                               predictor  importancia\n",
       "0      2                            accommodates     0.301293\n",
       "1      1                               longitude     0.266709\n",
       "2      0                                latitude     0.194060\n",
       "3      4                                   baths     0.151353\n",
       "4     12  neighbourhood_group_cleansed_Manhattan     0.040645\n",
       "5      8                             has_kitchen     0.019064\n",
       "6      9                                  has_tv     0.010920\n",
       "7      3                                    beds     0.010493\n",
       "8      6                               has_dryer     0.002907\n",
       "9     13     neighbourhood_group_cleansed_Queens     0.001136"
      ]
     },
     "execution_count": 95,
     "metadata": {},
     "output_type": "execute_result"
    }
   ],
   "source": [
    "importancia_predictores = pd.DataFrame(\n",
    "                            {'predictor': data_model_num.drop(columns = \"price\").columns,\n",
    "                             'importancia': model.feature_importances_}\n",
    "                            )\n",
    "print(\"Importancia de los predictores en el modelo\")\n",
    "importancia_predictores = importancia_predictores.sort_values('importancia', ascending=False).head(10).reset_index()\n",
    "importancia_predictores"
   ]
  },
  {
   "cell_type": "code",
   "execution_count": 96,
   "metadata": {},
   "outputs": [
    {
     "data": {
      "application/vnd.plotly.v1+json": {
       "config": {
        "plotlyServerURL": "https://plot.ly"
       },
       "data": [
        {
         "marker": {
          "color": "steelblue"
         },
         "name": "Importancia de variables",
         "orientation": "h",
         "type": "bar",
         "x": [
          0.30129274795099387,
          0.26670912529337376,
          0.19406013617828857,
          0.1513526677994004,
          0.04064481344352327,
          0.019063717172364776,
          0.010919884161781112,
          0.010493285434595585,
          0.0029069635104204757,
          0.001136299702560204
         ],
         "y": [
          "accommodates",
          "longitude",
          "latitude",
          "baths",
          "neighbourhood_group_cleansed_Manhattan",
          "has_kitchen",
          "has_tv",
          "beds",
          "has_dryer",
          "neighbourhood_group_cleansed_Queens"
         ]
        }
       ],
       "layout": {
        "template": {
         "data": {
          "bar": [
           {
            "error_x": {
             "color": "#2a3f5f"
            },
            "error_y": {
             "color": "#2a3f5f"
            },
            "marker": {
             "line": {
              "color": "#E5ECF6",
              "width": 0.5
             },
             "pattern": {
              "fillmode": "overlay",
              "size": 10,
              "solidity": 0.2
             }
            },
            "type": "bar"
           }
          ],
          "barpolar": [
           {
            "marker": {
             "line": {
              "color": "#E5ECF6",
              "width": 0.5
             },
             "pattern": {
              "fillmode": "overlay",
              "size": 10,
              "solidity": 0.2
             }
            },
            "type": "barpolar"
           }
          ],
          "carpet": [
           {
            "aaxis": {
             "endlinecolor": "#2a3f5f",
             "gridcolor": "white",
             "linecolor": "white",
             "minorgridcolor": "white",
             "startlinecolor": "#2a3f5f"
            },
            "baxis": {
             "endlinecolor": "#2a3f5f",
             "gridcolor": "white",
             "linecolor": "white",
             "minorgridcolor": "white",
             "startlinecolor": "#2a3f5f"
            },
            "type": "carpet"
           }
          ],
          "choropleth": [
           {
            "colorbar": {
             "outlinewidth": 0,
             "ticks": ""
            },
            "type": "choropleth"
           }
          ],
          "contour": [
           {
            "colorbar": {
             "outlinewidth": 0,
             "ticks": ""
            },
            "colorscale": [
             [
              0,
              "#0d0887"
             ],
             [
              0.1111111111111111,
              "#46039f"
             ],
             [
              0.2222222222222222,
              "#7201a8"
             ],
             [
              0.3333333333333333,
              "#9c179e"
             ],
             [
              0.4444444444444444,
              "#bd3786"
             ],
             [
              0.5555555555555556,
              "#d8576b"
             ],
             [
              0.6666666666666666,
              "#ed7953"
             ],
             [
              0.7777777777777778,
              "#fb9f3a"
             ],
             [
              0.8888888888888888,
              "#fdca26"
             ],
             [
              1,
              "#f0f921"
             ]
            ],
            "type": "contour"
           }
          ],
          "contourcarpet": [
           {
            "colorbar": {
             "outlinewidth": 0,
             "ticks": ""
            },
            "type": "contourcarpet"
           }
          ],
          "heatmap": [
           {
            "colorbar": {
             "outlinewidth": 0,
             "ticks": ""
            },
            "colorscale": [
             [
              0,
              "#0d0887"
             ],
             [
              0.1111111111111111,
              "#46039f"
             ],
             [
              0.2222222222222222,
              "#7201a8"
             ],
             [
              0.3333333333333333,
              "#9c179e"
             ],
             [
              0.4444444444444444,
              "#bd3786"
             ],
             [
              0.5555555555555556,
              "#d8576b"
             ],
             [
              0.6666666666666666,
              "#ed7953"
             ],
             [
              0.7777777777777778,
              "#fb9f3a"
             ],
             [
              0.8888888888888888,
              "#fdca26"
             ],
             [
              1,
              "#f0f921"
             ]
            ],
            "type": "heatmap"
           }
          ],
          "heatmapgl": [
           {
            "colorbar": {
             "outlinewidth": 0,
             "ticks": ""
            },
            "colorscale": [
             [
              0,
              "#0d0887"
             ],
             [
              0.1111111111111111,
              "#46039f"
             ],
             [
              0.2222222222222222,
              "#7201a8"
             ],
             [
              0.3333333333333333,
              "#9c179e"
             ],
             [
              0.4444444444444444,
              "#bd3786"
             ],
             [
              0.5555555555555556,
              "#d8576b"
             ],
             [
              0.6666666666666666,
              "#ed7953"
             ],
             [
              0.7777777777777778,
              "#fb9f3a"
             ],
             [
              0.8888888888888888,
              "#fdca26"
             ],
             [
              1,
              "#f0f921"
             ]
            ],
            "type": "heatmapgl"
           }
          ],
          "histogram": [
           {
            "marker": {
             "pattern": {
              "fillmode": "overlay",
              "size": 10,
              "solidity": 0.2
             }
            },
            "type": "histogram"
           }
          ],
          "histogram2d": [
           {
            "colorbar": {
             "outlinewidth": 0,
             "ticks": ""
            },
            "colorscale": [
             [
              0,
              "#0d0887"
             ],
             [
              0.1111111111111111,
              "#46039f"
             ],
             [
              0.2222222222222222,
              "#7201a8"
             ],
             [
              0.3333333333333333,
              "#9c179e"
             ],
             [
              0.4444444444444444,
              "#bd3786"
             ],
             [
              0.5555555555555556,
              "#d8576b"
             ],
             [
              0.6666666666666666,
              "#ed7953"
             ],
             [
              0.7777777777777778,
              "#fb9f3a"
             ],
             [
              0.8888888888888888,
              "#fdca26"
             ],
             [
              1,
              "#f0f921"
             ]
            ],
            "type": "histogram2d"
           }
          ],
          "histogram2dcontour": [
           {
            "colorbar": {
             "outlinewidth": 0,
             "ticks": ""
            },
            "colorscale": [
             [
              0,
              "#0d0887"
             ],
             [
              0.1111111111111111,
              "#46039f"
             ],
             [
              0.2222222222222222,
              "#7201a8"
             ],
             [
              0.3333333333333333,
              "#9c179e"
             ],
             [
              0.4444444444444444,
              "#bd3786"
             ],
             [
              0.5555555555555556,
              "#d8576b"
             ],
             [
              0.6666666666666666,
              "#ed7953"
             ],
             [
              0.7777777777777778,
              "#fb9f3a"
             ],
             [
              0.8888888888888888,
              "#fdca26"
             ],
             [
              1,
              "#f0f921"
             ]
            ],
            "type": "histogram2dcontour"
           }
          ],
          "mesh3d": [
           {
            "colorbar": {
             "outlinewidth": 0,
             "ticks": ""
            },
            "type": "mesh3d"
           }
          ],
          "parcoords": [
           {
            "line": {
             "colorbar": {
              "outlinewidth": 0,
              "ticks": ""
             }
            },
            "type": "parcoords"
           }
          ],
          "pie": [
           {
            "automargin": true,
            "type": "pie"
           }
          ],
          "scatter": [
           {
            "fillpattern": {
             "fillmode": "overlay",
             "size": 10,
             "solidity": 0.2
            },
            "type": "scatter"
           }
          ],
          "scatter3d": [
           {
            "line": {
             "colorbar": {
              "outlinewidth": 0,
              "ticks": ""
             }
            },
            "marker": {
             "colorbar": {
              "outlinewidth": 0,
              "ticks": ""
             }
            },
            "type": "scatter3d"
           }
          ],
          "scattercarpet": [
           {
            "marker": {
             "colorbar": {
              "outlinewidth": 0,
              "ticks": ""
             }
            },
            "type": "scattercarpet"
           }
          ],
          "scattergeo": [
           {
            "marker": {
             "colorbar": {
              "outlinewidth": 0,
              "ticks": ""
             }
            },
            "type": "scattergeo"
           }
          ],
          "scattergl": [
           {
            "marker": {
             "colorbar": {
              "outlinewidth": 0,
              "ticks": ""
             }
            },
            "type": "scattergl"
           }
          ],
          "scattermapbox": [
           {
            "marker": {
             "colorbar": {
              "outlinewidth": 0,
              "ticks": ""
             }
            },
            "type": "scattermapbox"
           }
          ],
          "scatterpolar": [
           {
            "marker": {
             "colorbar": {
              "outlinewidth": 0,
              "ticks": ""
             }
            },
            "type": "scatterpolar"
           }
          ],
          "scatterpolargl": [
           {
            "marker": {
             "colorbar": {
              "outlinewidth": 0,
              "ticks": ""
             }
            },
            "type": "scatterpolargl"
           }
          ],
          "scatterternary": [
           {
            "marker": {
             "colorbar": {
              "outlinewidth": 0,
              "ticks": ""
             }
            },
            "type": "scatterternary"
           }
          ],
          "surface": [
           {
            "colorbar": {
             "outlinewidth": 0,
             "ticks": ""
            },
            "colorscale": [
             [
              0,
              "#0d0887"
             ],
             [
              0.1111111111111111,
              "#46039f"
             ],
             [
              0.2222222222222222,
              "#7201a8"
             ],
             [
              0.3333333333333333,
              "#9c179e"
             ],
             [
              0.4444444444444444,
              "#bd3786"
             ],
             [
              0.5555555555555556,
              "#d8576b"
             ],
             [
              0.6666666666666666,
              "#ed7953"
             ],
             [
              0.7777777777777778,
              "#fb9f3a"
             ],
             [
              0.8888888888888888,
              "#fdca26"
             ],
             [
              1,
              "#f0f921"
             ]
            ],
            "type": "surface"
           }
          ],
          "table": [
           {
            "cells": {
             "fill": {
              "color": "#EBF0F8"
             },
             "line": {
              "color": "white"
             }
            },
            "header": {
             "fill": {
              "color": "#C8D4E3"
             },
             "line": {
              "color": "white"
             }
            },
            "type": "table"
           }
          ]
         },
         "layout": {
          "annotationdefaults": {
           "arrowcolor": "#2a3f5f",
           "arrowhead": 0,
           "arrowwidth": 1
          },
          "autotypenumbers": "strict",
          "coloraxis": {
           "colorbar": {
            "outlinewidth": 0,
            "ticks": ""
           }
          },
          "colorscale": {
           "diverging": [
            [
             0,
             "#8e0152"
            ],
            [
             0.1,
             "#c51b7d"
            ],
            [
             0.2,
             "#de77ae"
            ],
            [
             0.3,
             "#f1b6da"
            ],
            [
             0.4,
             "#fde0ef"
            ],
            [
             0.5,
             "#f7f7f7"
            ],
            [
             0.6,
             "#e6f5d0"
            ],
            [
             0.7,
             "#b8e186"
            ],
            [
             0.8,
             "#7fbc41"
            ],
            [
             0.9,
             "#4d9221"
            ],
            [
             1,
             "#276419"
            ]
           ],
           "sequential": [
            [
             0,
             "#0d0887"
            ],
            [
             0.1111111111111111,
             "#46039f"
            ],
            [
             0.2222222222222222,
             "#7201a8"
            ],
            [
             0.3333333333333333,
             "#9c179e"
            ],
            [
             0.4444444444444444,
             "#bd3786"
            ],
            [
             0.5555555555555556,
             "#d8576b"
            ],
            [
             0.6666666666666666,
             "#ed7953"
            ],
            [
             0.7777777777777778,
             "#fb9f3a"
            ],
            [
             0.8888888888888888,
             "#fdca26"
            ],
            [
             1,
             "#f0f921"
            ]
           ],
           "sequentialminus": [
            [
             0,
             "#0d0887"
            ],
            [
             0.1111111111111111,
             "#46039f"
            ],
            [
             0.2222222222222222,
             "#7201a8"
            ],
            [
             0.3333333333333333,
             "#9c179e"
            ],
            [
             0.4444444444444444,
             "#bd3786"
            ],
            [
             0.5555555555555556,
             "#d8576b"
            ],
            [
             0.6666666666666666,
             "#ed7953"
            ],
            [
             0.7777777777777778,
             "#fb9f3a"
            ],
            [
             0.8888888888888888,
             "#fdca26"
            ],
            [
             1,
             "#f0f921"
            ]
           ]
          },
          "colorway": [
           "#636efa",
           "#EF553B",
           "#00cc96",
           "#ab63fa",
           "#FFA15A",
           "#19d3f3",
           "#FF6692",
           "#B6E880",
           "#FF97FF",
           "#FECB52"
          ],
          "font": {
           "color": "#2a3f5f"
          },
          "geo": {
           "bgcolor": "white",
           "lakecolor": "white",
           "landcolor": "#E5ECF6",
           "showlakes": true,
           "showland": true,
           "subunitcolor": "white"
          },
          "hoverlabel": {
           "align": "left"
          },
          "hovermode": "closest",
          "mapbox": {
           "style": "light"
          },
          "paper_bgcolor": "white",
          "plot_bgcolor": "#E5ECF6",
          "polar": {
           "angularaxis": {
            "gridcolor": "white",
            "linecolor": "white",
            "ticks": ""
           },
           "bgcolor": "#E5ECF6",
           "radialaxis": {
            "gridcolor": "white",
            "linecolor": "white",
            "ticks": ""
           }
          },
          "scene": {
           "xaxis": {
            "backgroundcolor": "#E5ECF6",
            "gridcolor": "white",
            "gridwidth": 2,
            "linecolor": "white",
            "showbackground": true,
            "ticks": "",
            "zerolinecolor": "white"
           },
           "yaxis": {
            "backgroundcolor": "#E5ECF6",
            "gridcolor": "white",
            "gridwidth": 2,
            "linecolor": "white",
            "showbackground": true,
            "ticks": "",
            "zerolinecolor": "white"
           },
           "zaxis": {
            "backgroundcolor": "#E5ECF6",
            "gridcolor": "white",
            "gridwidth": 2,
            "linecolor": "white",
            "showbackground": true,
            "ticks": "",
            "zerolinecolor": "white"
           }
          },
          "shapedefaults": {
           "line": {
            "color": "#2a3f5f"
           }
          },
          "ternary": {
           "aaxis": {
            "gridcolor": "white",
            "linecolor": "white",
            "ticks": ""
           },
           "baxis": {
            "gridcolor": "white",
            "linecolor": "white",
            "ticks": ""
           },
           "bgcolor": "#E5ECF6",
           "caxis": {
            "gridcolor": "white",
            "linecolor": "white",
            "ticks": ""
           }
          },
          "title": {
           "x": 0.05
          },
          "xaxis": {
           "automargin": true,
           "gridcolor": "white",
           "linecolor": "white",
           "ticks": "",
           "title": {
            "standoff": 15
           },
           "zerolinecolor": "white",
           "zerolinewidth": 2
          },
          "yaxis": {
           "automargin": true,
           "gridcolor": "white",
           "linecolor": "white",
           "ticks": "",
           "title": {
            "standoff": 15
           },
           "zerolinecolor": "white",
           "zerolinewidth": 2
          }
         }
        },
        "title": {
         "text": "Importancia de variables en el Random Forest"
        },
        "xaxis": {
         "title": {
          "text": "Importancia"
         }
        },
        "yaxis": {
         "title": {
          "text": "Variables"
         }
        }
       }
      }
     },
     "metadata": {},
     "output_type": "display_data"
    }
   ],
   "source": [
    "# visualizacion de la importancia mediante un grafico de barras\n",
    "data = [\n",
    "    go.Bar(\n",
    "        y = importancia_predictores[\"predictor\"],\n",
    "        x = importancia_predictores[\"importancia\"],\n",
    "        marker_color = \"steelblue\",\n",
    "        orientation='h',\n",
    "        name = \"Importancia de variables\"\n",
    "    )      \n",
    "]\n",
    "\n",
    "layout = go.Layout(title = \"Importancia de variables en el Random Forest\", xaxis_title = \"Importancia\", yaxis_title = \"Variables\")\n",
    "\n",
    "fig = go.Figure(data = data, layout = layout)\n",
    "\n",
    "fig.show()"
   ]
  },
  {
   "cell_type": "markdown",
   "metadata": {},
   "source": [
    "#### Gradient Boosting Regressor"
   ]
  },
  {
   "cell_type": "code",
   "execution_count": 90,
   "metadata": {},
   "outputs": [
    {
     "data": {
      "text/html": [
       "<div>\n",
       "<style scoped>\n",
       "    .dataframe tbody tr th:only-of-type {\n",
       "        vertical-align: middle;\n",
       "    }\n",
       "\n",
       "    .dataframe tbody tr th {\n",
       "        vertical-align: top;\n",
       "    }\n",
       "\n",
       "    .dataframe thead th {\n",
       "        text-align: right;\n",
       "    }\n",
       "</style>\n",
       "<table border=\"1\" class=\"dataframe\">\n",
       "  <thead>\n",
       "    <tr style=\"text-align: right;\">\n",
       "      <th></th>\n",
       "      <th>MAE</th>\n",
       "      <th>MSE</th>\n",
       "      <th>RMSE</th>\n",
       "      <th>RMSE_ratio_test</th>\n",
       "      <th>RMSE_ratio_train</th>\n",
       "      <th>R_2_test</th>\n",
       "      <th>R_2_train</th>\n",
       "    </tr>\n",
       "  </thead>\n",
       "  <tbody>\n",
       "    <tr>\n",
       "      <th>0</th>\n",
       "      <td>134.63</td>\n",
       "      <td>37694.97</td>\n",
       "      <td>194.15</td>\n",
       "      <td>0.508</td>\n",
       "      <td>0.538</td>\n",
       "      <td>0.56</td>\n",
       "      <td>0.58</td>\n",
       "    </tr>\n",
       "  </tbody>\n",
       "</table>\n",
       "</div>"
      ],
      "text/plain": [
       "      MAE       MSE    RMSE  RMSE_ratio_test  RMSE_ratio_train  R_2_test  \\\n",
       "0  134.63  37694.97  194.15            0.508             0.538      0.56   \n",
       "\n",
       "   R_2_train  \n",
       "0       0.58  "
      ]
     },
     "metadata": {},
     "output_type": "display_data"
    },
    {
     "data": {
      "image/png": "[encoded data removed]",
      "text/plain": [
       "<Figure size 432x288 with 1 Axes>"
      ]
     },
     "metadata": {
      "needs_background": "light"
     },
     "output_type": "display_data"
    },
    {
     "data": {
      "image/png": "[encoded data removed]",
      "text/plain": [
       "<Figure size 432x288 with 1 Axes>"
      ]
     },
     "metadata": {
      "needs_background": "light"
     },
     "output_type": "display_data"
    }
   ],
   "source": [
    "gbr_model = GradientBoostingRegressor(random_state = 101)\n",
    "gbr_model.fit(X_train, y_train)\n",
    "\n",
    "comment = ''\n",
    "\n",
    "analysis(\n",
    "    model = gbr_model, \n",
    "    X_train = X_train, \n",
    "    X_test = X_test,\n",
    "    y_train = y_train, \n",
    "    y_test = y_test,\n",
    "    y_val = y_val\n",
    ")"
   ]
  },
  {
   "cell_type": "code",
   "execution_count": 30,
   "metadata": {},
   "outputs": [
    {
     "name": "stdout",
     "output_type": "stream",
     "text": [
      "Importancia de los predictores en el modelo\n"
     ]
    },
    {
     "data": {
      "text/html": [
       "<div>\n",
       "<style scoped>\n",
       "    .dataframe tbody tr th:only-of-type {\n",
       "        vertical-align: middle;\n",
       "    }\n",
       "\n",
       "    .dataframe tbody tr th {\n",
       "        vertical-align: top;\n",
       "    }\n",
       "\n",
       "    .dataframe thead th {\n",
       "        text-align: right;\n",
       "    }\n",
       "</style>\n",
       "<table border=\"1\" class=\"dataframe\">\n",
       "  <thead>\n",
       "    <tr style=\"text-align: right;\">\n",
       "      <th></th>\n",
       "      <th>index</th>\n",
       "      <th>predictor</th>\n",
       "      <th>importancia</th>\n",
       "    </tr>\n",
       "  </thead>\n",
       "  <tbody>\n",
       "    <tr>\n",
       "      <th>0</th>\n",
       "      <td>2</td>\n",
       "      <td>accommodates</td>\n",
       "      <td>0.354700</td>\n",
       "    </tr>\n",
       "    <tr>\n",
       "      <th>1</th>\n",
       "      <td>1</td>\n",
       "      <td>longitude</td>\n",
       "      <td>0.253209</td>\n",
       "    </tr>\n",
       "    <tr>\n",
       "      <th>2</th>\n",
       "      <td>4</td>\n",
       "      <td>baths</td>\n",
       "      <td>0.156411</td>\n",
       "    </tr>\n",
       "    <tr>\n",
       "      <th>3</th>\n",
       "      <td>0</td>\n",
       "      <td>latitude</td>\n",
       "      <td>0.127316</td>\n",
       "    </tr>\n",
       "    <tr>\n",
       "      <th>4</th>\n",
       "      <td>12</td>\n",
       "      <td>neighbourhood_group_cleansed_Manhattan</td>\n",
       "      <td>0.071117</td>\n",
       "    </tr>\n",
       "    <tr>\n",
       "      <th>5</th>\n",
       "      <td>8</td>\n",
       "      <td>has_kitchen</td>\n",
       "      <td>0.015475</td>\n",
       "    </tr>\n",
       "    <tr>\n",
       "      <th>6</th>\n",
       "      <td>9</td>\n",
       "      <td>has_tv</td>\n",
       "      <td>0.010780</td>\n",
       "    </tr>\n",
       "    <tr>\n",
       "      <th>7</th>\n",
       "      <td>3</td>\n",
       "      <td>beds</td>\n",
       "      <td>0.007646</td>\n",
       "    </tr>\n",
       "    <tr>\n",
       "      <th>8</th>\n",
       "      <td>6</td>\n",
       "      <td>has_dryer</td>\n",
       "      <td>0.002172</td>\n",
       "    </tr>\n",
       "    <tr>\n",
       "      <th>9</th>\n",
       "      <td>7</td>\n",
       "      <td>has_heating</td>\n",
       "      <td>0.000660</td>\n",
       "    </tr>\n",
       "  </tbody>\n",
       "</table>\n",
       "</div>"
      ],
      "text/plain": [
       "   index                               predictor  importancia\n",
       "0      2                            accommodates     0.354700\n",
       "1      1                               longitude     0.253209\n",
       "2      4                                   baths     0.156411\n",
       "3      0                                latitude     0.127316\n",
       "4     12  neighbourhood_group_cleansed_Manhattan     0.071117\n",
       "5      8                             has_kitchen     0.015475\n",
       "6      9                                  has_tv     0.010780\n",
       "7      3                                    beds     0.007646\n",
       "8      6                               has_dryer     0.002172\n",
       "9      7                             has_heating     0.000660"
      ]
     },
     "execution_count": 30,
     "metadata": {},
     "output_type": "execute_result"
    }
   ],
   "source": [
    "importancia_predictores = pd.DataFrame(\n",
    "                            {'predictor': data_model_num.drop(columns = \"price\").columns,\n",
    "                             'importancia': gbr_model.feature_importances_}\n",
    "                            )\n",
    "print(\"Importancia de los predictores en el modelo\")\n",
    "importancia_predictores = importancia_predictores.sort_values('importancia', ascending=False).head(10).reset_index()\n",
    "importancia_predictores "
   ]
  },
  {
   "cell_type": "code",
   "execution_count": 31,
   "metadata": {},
   "outputs": [
    {
     "data": {
      "application/vnd.plotly.v1+json": {
       "config": {
        "plotlyServerURL": "https://plot.ly"
       },
       "data": [
        {
         "marker": {
          "color": "steelblue"
         },
         "name": "Importancia de variables",
         "orientation": "h",
         "type": "bar",
         "x": [
          0.3546996722198431,
          0.253209437527997,
          0.15641071878071852,
          0.12731576776984183,
          0.07111676006452136,
          0.015474544623704938,
          0.010780271029609222,
          0.007646116418347649,
          0.0021717827350010033,
          0.0006603118466664942
         ],
         "y": [
          "accommodates",
          "longitude",
          "baths",
          "latitude",
          "neighbourhood_group_cleansed_Manhattan",
          "has_kitchen",
          "has_tv",
          "beds",
          "has_dryer",
          "has_heating"
         ]
        }
       ],
       "layout": {
        "template": {
         "data": {
          "bar": [
           {
            "error_x": {
             "color": "#2a3f5f"
            },
            "error_y": {
             "color": "#2a3f5f"
            },
            "marker": {
             "line": {
              "color": "#E5ECF6",
              "width": 0.5
             },
             "pattern": {
              "fillmode": "overlay",
              "size": 10,
              "solidity": 0.2
             }
            },
            "type": "bar"
           }
          ],
          "barpolar": [
           {
            "marker": {
             "line": {
              "color": "#E5ECF6",
              "width": 0.5
             },
             "pattern": {
              "fillmode": "overlay",
              "size": 10,
              "solidity": 0.2
             }
            },
            "type": "barpolar"
           }
          ],
          "carpet": [
           {
            "aaxis": {
             "endlinecolor": "#2a3f5f",
             "gridcolor": "white",
             "linecolor": "white",
             "minorgridcolor": "white",
             "startlinecolor": "#2a3f5f"
            },
            "baxis": {
             "endlinecolor": "#2a3f5f",
             "gridcolor": "white",
             "linecolor": "white",
             "minorgridcolor": "white",
             "startlinecolor": "#2a3f5f"
            },
            "type": "carpet"
           }
          ],
          "choropleth": [
           {
            "colorbar": {
             "outlinewidth": 0,
             "ticks": ""
            },
            "type": "choropleth"
           }
          ],
          "contour": [
           {
            "colorbar": {
             "outlinewidth": 0,
             "ticks": ""
            },
            "colorscale": [
             [
              0,
              "#0d0887"
             ],
             [
              0.1111111111111111,
              "#46039f"
             ],
             [
              0.2222222222222222,
              "#7201a8"
             ],
             [
              0.3333333333333333,
              "#9c179e"
             ],
             [
              0.4444444444444444,
              "#bd3786"
             ],
             [
              0.5555555555555556,
              "#d8576b"
             ],
             [
              0.6666666666666666,
              "#ed7953"
             ],
             [
              0.7777777777777778,
              "#fb9f3a"
             ],
             [
              0.8888888888888888,
              "#fdca26"
             ],
             [
              1,
              "#f0f921"
             ]
            ],
            "type": "contour"
           }
          ],
          "contourcarpet": [
           {
            "colorbar": {
             "outlinewidth": 0,
             "ticks": ""
            },
            "type": "contourcarpet"
           }
          ],
          "heatmap": [
           {
            "colorbar": {
             "outlinewidth": 0,
             "ticks": ""
            },
            "colorscale": [
             [
              0,
              "#0d0887"
             ],
             [
              0.1111111111111111,
              "#46039f"
             ],
             [
              0.2222222222222222,
              "#7201a8"
             ],
             [
              0.3333333333333333,
              "#9c179e"
             ],
             [
              0.4444444444444444,
              "#bd3786"
             ],
             [
              0.5555555555555556,
              "#d8576b"
             ],
             [
              0.6666666666666666,
              "#ed7953"
             ],
             [
              0.7777777777777778,
              "#fb9f3a"
             ],
             [
              0.8888888888888888,
              "#fdca26"
             ],
             [
              1,
              "#f0f921"
             ]
            ],
            "type": "heatmap"
           }
          ],
          "heatmapgl": [
           {
            "colorbar": {
             "outlinewidth": 0,
             "ticks": ""
            },
            "colorscale": [
             [
              0,
              "#0d0887"
             ],
             [
              0.1111111111111111,
              "#46039f"
             ],
             [
              0.2222222222222222,
              "#7201a8"
             ],
             [
              0.3333333333333333,
              "#9c179e"
             ],
             [
              0.4444444444444444,
              "#bd3786"
             ],
             [
              0.5555555555555556,
              "#d8576b"
             ],
             [
              0.6666666666666666,
              "#ed7953"
             ],
             [
              0.7777777777777778,
              "#fb9f3a"
             ],
             [
              0.8888888888888888,
              "#fdca26"
             ],
             [
              1,
              "#f0f921"
             ]
            ],
            "type": "heatmapgl"
           }
          ],
          "histogram": [
           {
            "marker": {
             "pattern": {
              "fillmode": "overlay",
              "size": 10,
              "solidity": 0.2
             }
            },
            "type": "histogram"
           }
          ],
          "histogram2d": [
           {
            "colorbar": {
             "outlinewidth": 0,
             "ticks": ""
            },
            "colorscale": [
             [
              0,
              "#0d0887"
             ],
             [
              0.1111111111111111,
              "#46039f"
             ],
             [
              0.2222222222222222,
              "#7201a8"
             ],
             [
              0.3333333333333333,
              "#9c179e"
             ],
             [
              0.4444444444444444,
              "#bd3786"
             ],
             [
              0.5555555555555556,
              "#d8576b"
             ],
             [
              0.6666666666666666,
              "#ed7953"
             ],
             [
              0.7777777777777778,
              "#fb9f3a"
             ],
             [
              0.8888888888888888,
              "#fdca26"
             ],
             [
              1,
              "#f0f921"
             ]
            ],
            "type": "histogram2d"
           }
          ],
          "histogram2dcontour": [
           {
            "colorbar": {
             "outlinewidth": 0,
             "ticks": ""
            },
            "colorscale": [
             [
              0,
              "#0d0887"
             ],
             [
              0.1111111111111111,
              "#46039f"
             ],
             [
              0.2222222222222222,
              "#7201a8"
             ],
             [
              0.3333333333333333,
              "#9c179e"
             ],
             [
              0.4444444444444444,
              "#bd3786"
             ],
             [
              0.5555555555555556,
              "#d8576b"
             ],
             [
              0.6666666666666666,
              "#ed7953"
             ],
             [
              0.7777777777777778,
              "#fb9f3a"
             ],
             [
              0.8888888888888888,
              "#fdca26"
             ],
             [
              1,
              "#f0f921"
             ]
            ],
            "type": "histogram2dcontour"
           }
          ],
          "mesh3d": [
           {
            "colorbar": {
             "outlinewidth": 0,
             "ticks": ""
            },
            "type": "mesh3d"
           }
          ],
          "parcoords": [
           {
            "line": {
             "colorbar": {
              "outlinewidth": 0,
              "ticks": ""
             }
            },
            "type": "parcoords"
           }
          ],
          "pie": [
           {
            "automargin": true,
            "type": "pie"
           }
          ],
          "scatter": [
           {
            "fillpattern": {
             "fillmode": "overlay",
             "size": 10,
             "solidity": 0.2
            },
            "type": "scatter"
           }
          ],
          "scatter3d": [
           {
            "line": {
             "colorbar": {
              "outlinewidth": 0,
              "ticks": ""
             }
            },
            "marker": {
             "colorbar": {
              "outlinewidth": 0,
              "ticks": ""
             }
            },
            "type": "scatter3d"
           }
          ],
          "scattercarpet": [
           {
            "marker": {
             "colorbar": {
              "outlinewidth": 0,
              "ticks": ""
             }
            },
            "type": "scattercarpet"
           }
          ],
          "scattergeo": [
           {
            "marker": {
             "colorbar": {
              "outlinewidth": 0,
              "ticks": ""
             }
            },
            "type": "scattergeo"
           }
          ],
          "scattergl": [
           {
            "marker": {
             "colorbar": {
              "outlinewidth": 0,
              "ticks": ""
             }
            },
            "type": "scattergl"
           }
          ],
          "scattermapbox": [
           {
            "marker": {
             "colorbar": {
              "outlinewidth": 0,
              "ticks": ""
             }
            },
            "type": "scattermapbox"
           }
          ],
          "scatterpolar": [
           {
            "marker": {
             "colorbar": {
              "outlinewidth": 0,
              "ticks": ""
             }
            },
            "type": "scatterpolar"
           }
          ],
          "scatterpolargl": [
           {
            "marker": {
             "colorbar": {
              "outlinewidth": 0,
              "ticks": ""
             }
            },
            "type": "scatterpolargl"
           }
          ],
          "scatterternary": [
           {
            "marker": {
             "colorbar": {
              "outlinewidth": 0,
              "ticks": ""
             }
            },
            "type": "scatterternary"
           }
          ],
          "surface": [
           {
            "colorbar": {
             "outlinewidth": 0,
             "ticks": ""
            },
            "colorscale": [
             [
              0,
              "#0d0887"
             ],
             [
              0.1111111111111111,
              "#46039f"
             ],
             [
              0.2222222222222222,
              "#7201a8"
             ],
             [
              0.3333333333333333,
              "#9c179e"
             ],
             [
              0.4444444444444444,
              "#bd3786"
             ],
             [
              0.5555555555555556,
              "#d8576b"
             ],
             [
              0.6666666666666666,
              "#ed7953"
             ],
             [
              0.7777777777777778,
              "#fb9f3a"
             ],
             [
              0.8888888888888888,
              "#fdca26"
             ],
             [
              1,
              "#f0f921"
             ]
            ],
            "type": "surface"
           }
          ],
          "table": [
           {
            "cells": {
             "fill": {
              "color": "#EBF0F8"
             },
             "line": {
              "color": "white"
             }
            },
            "header": {
             "fill": {
              "color": "#C8D4E3"
             },
             "line": {
              "color": "white"
             }
            },
            "type": "table"
           }
          ]
         },
         "layout": {
          "annotationdefaults": {
           "arrowcolor": "#2a3f5f",
           "arrowhead": 0,
           "arrowwidth": 1
          },
          "autotypenumbers": "strict",
          "coloraxis": {
           "colorbar": {
            "outlinewidth": 0,
            "ticks": ""
           }
          },
          "colorscale": {
           "diverging": [
            [
             0,
             "#8e0152"
            ],
            [
             0.1,
             "#c51b7d"
            ],
            [
             0.2,
             "#de77ae"
            ],
            [
             0.3,
             "#f1b6da"
            ],
            [
             0.4,
             "#fde0ef"
            ],
            [
             0.5,
             "#f7f7f7"
            ],
            [
             0.6,
             "#e6f5d0"
            ],
            [
             0.7,
             "#b8e186"
            ],
            [
             0.8,
             "#7fbc41"
            ],
            [
             0.9,
             "#4d9221"
            ],
            [
             1,
             "#276419"
            ]
           ],
           "sequential": [
            [
             0,
             "#0d0887"
            ],
            [
             0.1111111111111111,
             "#46039f"
            ],
            [
             0.2222222222222222,
             "#7201a8"
            ],
            [
             0.3333333333333333,
             "#9c179e"
            ],
            [
             0.4444444444444444,
             "#bd3786"
            ],
            [
             0.5555555555555556,
             "#d8576b"
            ],
            [
             0.6666666666666666,
             "#ed7953"
            ],
            [
             0.7777777777777778,
             "#fb9f3a"
            ],
            [
             0.8888888888888888,
             "#fdca26"
            ],
            [
             1,
             "#f0f921"
            ]
           ],
           "sequentialminus": [
            [
             0,
             "#0d0887"
            ],
            [
             0.1111111111111111,
             "#46039f"
            ],
            [
             0.2222222222222222,
             "#7201a8"
            ],
            [
             0.3333333333333333,
             "#9c179e"
            ],
            [
             0.4444444444444444,
             "#bd3786"
            ],
            [
             0.5555555555555556,
             "#d8576b"
            ],
            [
             0.6666666666666666,
             "#ed7953"
            ],
            [
             0.7777777777777778,
             "#fb9f3a"
            ],
            [
             0.8888888888888888,
             "#fdca26"
            ],
            [
             1,
             "#f0f921"
            ]
           ]
          },
          "colorway": [
           "#636efa",
           "#EF553B",
           "#00cc96",
           "#ab63fa",
           "#FFA15A",
           "#19d3f3",
           "#FF6692",
           "#B6E880",
           "#FF97FF",
           "#FECB52"
          ],
          "font": {
           "color": "#2a3f5f"
          },
          "geo": {
           "bgcolor": "white",
           "lakecolor": "white",
           "landcolor": "#E5ECF6",
           "showlakes": true,
           "showland": true,
           "subunitcolor": "white"
          },
          "hoverlabel": {
           "align": "left"
          },
          "hovermode": "closest",
          "mapbox": {
           "style": "light"
          },
          "paper_bgcolor": "white",
          "plot_bgcolor": "#E5ECF6",
          "polar": {
           "angularaxis": {
            "gridcolor": "white",
            "linecolor": "white",
            "ticks": ""
           },
           "bgcolor": "#E5ECF6",
           "radialaxis": {
            "gridcolor": "white",
            "linecolor": "white",
            "ticks": ""
           }
          },
          "scene": {
           "xaxis": {
            "backgroundcolor": "#E5ECF6",
            "gridcolor": "white",
            "gridwidth": 2,
            "linecolor": "white",
            "showbackground": true,
            "ticks": "",
            "zerolinecolor": "white"
           },
           "yaxis": {
            "backgroundcolor": "#E5ECF6",
            "gridcolor": "white",
            "gridwidth": 2,
            "linecolor": "white",
            "showbackground": true,
            "ticks": "",
            "zerolinecolor": "white"
           },
           "zaxis": {
            "backgroundcolor": "#E5ECF6",
            "gridcolor": "white",
            "gridwidth": 2,
            "linecolor": "white",
            "showbackground": true,
            "ticks": "",
            "zerolinecolor": "white"
           }
          },
          "shapedefaults": {
           "line": {
            "color": "#2a3f5f"
           }
          },
          "ternary": {
           "aaxis": {
            "gridcolor": "white",
            "linecolor": "white",
            "ticks": ""
           },
           "baxis": {
            "gridcolor": "white",
            "linecolor": "white",
            "ticks": ""
           },
           "bgcolor": "#E5ECF6",
           "caxis": {
            "gridcolor": "white",
            "linecolor": "white",
            "ticks": ""
           }
          },
          "title": {
           "x": 0.05
          },
          "xaxis": {
           "automargin": true,
           "gridcolor": "white",
           "linecolor": "white",
           "ticks": "",
           "title": {
            "standoff": 15
           },
           "zerolinecolor": "white",
           "zerolinewidth": 2
          },
          "yaxis": {
           "automargin": true,
           "gridcolor": "white",
           "linecolor": "white",
           "ticks": "",
           "title": {
            "standoff": 15
           },
           "zerolinecolor": "white",
           "zerolinewidth": 2
          }
         }
        },
        "title": {
         "text": "Importancia de variables en el Gradient Boosting Regressor"
        },
        "xaxis": {
         "title": {
          "text": "Importancia"
         }
        },
        "yaxis": {
         "title": {
          "text": "Variables"
         }
        }
       }
      }
     },
     "metadata": {},
     "output_type": "display_data"
    }
   ],
   "source": [
    "# visualizacion de la importancia mediante un grafico de barras\n",
    "data = [\n",
    "    go.Bar(\n",
    "        y = importancia_predictores[\"predictor\"],\n",
    "        x = importancia_predictores[\"importancia\"],\n",
    "        marker_color = \"steelblue\",\n",
    "        orientation='h',\n",
    "        name = \"Importancia de variables\"\n",
    "    )      \n",
    "]\n",
    "\n",
    "layout = go.Layout(title = \"Importancia de variables en el Gradient Boosting Regressor\", xaxis_title = \"Importancia\", yaxis_title = \"Variables\")\n",
    "\n",
    "fig = go.Figure(data = data, layout = layout)\n",
    "\n",
    "fig.show()"
   ]
  },
  {
   "cell_type": "markdown",
   "metadata": {},
   "source": [
    "#### XGB Regressor"
   ]
  },
  {
   "cell_type": "code",
   "execution_count": 91,
   "metadata": {},
   "outputs": [
    {
     "data": {
      "text/html": [
       "<div>\n",
       "<style scoped>\n",
       "    .dataframe tbody tr th:only-of-type {\n",
       "        vertical-align: middle;\n",
       "    }\n",
       "\n",
       "    .dataframe tbody tr th {\n",
       "        vertical-align: top;\n",
       "    }\n",
       "\n",
       "    .dataframe thead th {\n",
       "        text-align: right;\n",
       "    }\n",
       "</style>\n",
       "<table border=\"1\" class=\"dataframe\">\n",
       "  <thead>\n",
       "    <tr style=\"text-align: right;\">\n",
       "      <th></th>\n",
       "      <th>MAE</th>\n",
       "      <th>MSE</th>\n",
       "      <th>RMSE</th>\n",
       "      <th>RMSE_ratio_test</th>\n",
       "      <th>RMSE_ratio_train</th>\n",
       "      <th>R_2_test</th>\n",
       "      <th>R_2_train</th>\n",
       "    </tr>\n",
       "  </thead>\n",
       "  <tbody>\n",
       "    <tr>\n",
       "      <th>0</th>\n",
       "      <td>134.63</td>\n",
       "      <td>37694.97</td>\n",
       "      <td>194.15</td>\n",
       "      <td>0.508</td>\n",
       "      <td>0.538</td>\n",
       "      <td>0.56</td>\n",
       "      <td>0.58</td>\n",
       "    </tr>\n",
       "  </tbody>\n",
       "</table>\n",
       "</div>"
      ],
      "text/plain": [
       "      MAE       MSE    RMSE  RMSE_ratio_test  RMSE_ratio_train  R_2_test  \\\n",
       "0  134.63  37694.97  194.15            0.508             0.538      0.56   \n",
       "\n",
       "   R_2_train  \n",
       "0       0.58  "
      ]
     },
     "metadata": {},
     "output_type": "display_data"
    },
    {
     "data": {
      "image/png": "[encoded data removed]",
      "text/plain": [
       "<Figure size 432x288 with 1 Axes>"
      ]
     },
     "metadata": {
      "needs_background": "light"
     },
     "output_type": "display_data"
    },
    {
     "data": {
      "image/png": "[encoded data removed]",
      "text/plain": [
       "<Figure size 432x288 with 1 Axes>"
      ]
     },
     "metadata": {
      "needs_background": "light"
     },
     "output_type": "display_data"
    }
   ],
   "source": [
    "xg_model = xgb.XGBRegressor(random_state = 101)\n",
    "xg_model.fit(X_train, y_train)\n",
    "\n",
    "comment = ''\n",
    "\n",
    "analysis(\n",
    "    model = gbr_model, \n",
    "    X_train = X_train, \n",
    "    X_test = X_test,\n",
    "    y_train = y_train, \n",
    "    y_test = y_test,\n",
    "    y_val = y_val\n",
    ")"
   ]
  },
  {
   "cell_type": "code",
   "execution_count": 33,
   "metadata": {},
   "outputs": [
    {
     "name": "stdout",
     "output_type": "stream",
     "text": [
      "Importancia de los predictores en el modelo\n"
     ]
    },
    {
     "data": {
      "text/html": [
       "<div>\n",
       "<style scoped>\n",
       "    .dataframe tbody tr th:only-of-type {\n",
       "        vertical-align: middle;\n",
       "    }\n",
       "\n",
       "    .dataframe tbody tr th {\n",
       "        vertical-align: top;\n",
       "    }\n",
       "\n",
       "    .dataframe thead th {\n",
       "        text-align: right;\n",
       "    }\n",
       "</style>\n",
       "<table border=\"1\" class=\"dataframe\">\n",
       "  <thead>\n",
       "    <tr style=\"text-align: right;\">\n",
       "      <th></th>\n",
       "      <th>index</th>\n",
       "      <th>predictor</th>\n",
       "      <th>importancia</th>\n",
       "    </tr>\n",
       "  </thead>\n",
       "  <tbody>\n",
       "    <tr>\n",
       "      <th>0</th>\n",
       "      <td>12</td>\n",
       "      <td>neighbourhood_group_cleansed_Manhattan</td>\n",
       "      <td>0.456437</td>\n",
       "    </tr>\n",
       "    <tr>\n",
       "      <th>1</th>\n",
       "      <td>4</td>\n",
       "      <td>baths</td>\n",
       "      <td>0.149452</td>\n",
       "    </tr>\n",
       "    <tr>\n",
       "      <th>2</th>\n",
       "      <td>2</td>\n",
       "      <td>accommodates</td>\n",
       "      <td>0.116020</td>\n",
       "    </tr>\n",
       "    <tr>\n",
       "      <th>3</th>\n",
       "      <td>8</td>\n",
       "      <td>has_kitchen</td>\n",
       "      <td>0.061558</td>\n",
       "    </tr>\n",
       "    <tr>\n",
       "      <th>4</th>\n",
       "      <td>9</td>\n",
       "      <td>has_tv</td>\n",
       "      <td>0.048077</td>\n",
       "    </tr>\n",
       "    <tr>\n",
       "      <th>5</th>\n",
       "      <td>1</td>\n",
       "      <td>longitude</td>\n",
       "      <td>0.038994</td>\n",
       "    </tr>\n",
       "    <tr>\n",
       "      <th>6</th>\n",
       "      <td>0</td>\n",
       "      <td>latitude</td>\n",
       "      <td>0.027520</td>\n",
       "    </tr>\n",
       "    <tr>\n",
       "      <th>7</th>\n",
       "      <td>11</td>\n",
       "      <td>neighbourhood_group_cleansed_Brooklyn</td>\n",
       "      <td>0.021880</td>\n",
       "    </tr>\n",
       "    <tr>\n",
       "      <th>8</th>\n",
       "      <td>5</td>\n",
       "      <td>has_wifi</td>\n",
       "      <td>0.016700</td>\n",
       "    </tr>\n",
       "    <tr>\n",
       "      <th>9</th>\n",
       "      <td>3</td>\n",
       "      <td>beds</td>\n",
       "      <td>0.016414</td>\n",
       "    </tr>\n",
       "  </tbody>\n",
       "</table>\n",
       "</div>"
      ],
      "text/plain": [
       "   index                               predictor  importancia\n",
       "0     12  neighbourhood_group_cleansed_Manhattan     0.456437\n",
       "1      4                                   baths     0.149452\n",
       "2      2                            accommodates     0.116020\n",
       "3      8                             has_kitchen     0.061558\n",
       "4      9                                  has_tv     0.048077\n",
       "5      1                               longitude     0.038994\n",
       "6      0                                latitude     0.027520\n",
       "7     11   neighbourhood_group_cleansed_Brooklyn     0.021880\n",
       "8      5                                has_wifi     0.016700\n",
       "9      3                                    beds     0.016414"
      ]
     },
     "execution_count": 33,
     "metadata": {},
     "output_type": "execute_result"
    }
   ],
   "source": [
    "importancia_predictores = pd.DataFrame(\n",
    "                            {'predictor': data_model_num.drop(columns = \"price\").columns,\n",
    "                             'importancia': xg_model.feature_importances_}\n",
    "                            )\n",
    "print(\"Importancia de los predictores en el modelo\")\n",
    "importancia_predictores = importancia_predictores.sort_values('importancia', ascending=False).head(10).reset_index()\n",
    "importancia_predictores"
   ]
  },
  {
   "cell_type": "code",
   "execution_count": 34,
   "metadata": {},
   "outputs": [
    {
     "data": {
      "application/vnd.plotly.v1+json": {
       "config": {
        "plotlyServerURL": "https://plot.ly"
       },
       "data": [
        {
         "marker": {
          "color": "steelblue"
         },
         "name": "Importancia de variables",
         "orientation": "h",
         "type": "bar",
         "x": [
          0.4564371109008789,
          0.14945194125175476,
          0.11602000892162323,
          0.061558257788419724,
          0.048077017068862915,
          0.03899434208869934,
          0.027519958093762398,
          0.02188016287982464,
          0.01669970341026783,
          0.016413992270827293
         ],
         "y": [
          "neighbourhood_group_cleansed_Manhattan",
          "baths",
          "accommodates",
          "has_kitchen",
          "has_tv",
          "longitude",
          "latitude",
          "neighbourhood_group_cleansed_Brooklyn",
          "has_wifi",
          "beds"
         ]
        }
       ],
       "layout": {
        "template": {
         "data": {
          "bar": [
           {
            "error_x": {
             "color": "#2a3f5f"
            },
            "error_y": {
             "color": "#2a3f5f"
            },
            "marker": {
             "line": {
              "color": "#E5ECF6",
              "width": 0.5
             },
             "pattern": {
              "fillmode": "overlay",
              "size": 10,
              "solidity": 0.2
             }
            },
            "type": "bar"
           }
          ],
          "barpolar": [
           {
            "marker": {
             "line": {
              "color": "#E5ECF6",
              "width": 0.5
             },
             "pattern": {
              "fillmode": "overlay",
              "size": 10,
              "solidity": 0.2
             }
            },
            "type": "barpolar"
           }
          ],
          "carpet": [
           {
            "aaxis": {
             "endlinecolor": "#2a3f5f",
             "gridcolor": "white",
             "linecolor": "white",
             "minorgridcolor": "white",
             "startlinecolor": "#2a3f5f"
            },
            "baxis": {
             "endlinecolor": "#2a3f5f",
             "gridcolor": "white",
             "linecolor": "white",
             "minorgridcolor": "white",
             "startlinecolor": "#2a3f5f"
            },
            "type": "carpet"
           }
          ],
          "choropleth": [
           {
            "colorbar": {
             "outlinewidth": 0,
             "ticks": ""
            },
            "type": "choropleth"
           }
          ],
          "contour": [
           {
            "colorbar": {
             "outlinewidth": 0,
             "ticks": ""
            },
            "colorscale": [
             [
              0,
              "#0d0887"
             ],
             [
              0.1111111111111111,
              "#46039f"
             ],
             [
              0.2222222222222222,
              "#7201a8"
             ],
             [
              0.3333333333333333,
              "#9c179e"
             ],
             [
              0.4444444444444444,
              "#bd3786"
             ],
             [
              0.5555555555555556,
              "#d8576b"
             ],
             [
              0.6666666666666666,
              "#ed7953"
             ],
             [
              0.7777777777777778,
              "#fb9f3a"
             ],
             [
              0.8888888888888888,
              "#fdca26"
             ],
             [
              1,
              "#f0f921"
             ]
            ],
            "type": "contour"
           }
          ],
          "contourcarpet": [
           {
            "colorbar": {
             "outlinewidth": 0,
             "ticks": ""
            },
            "type": "contourcarpet"
           }
          ],
          "heatmap": [
           {
            "colorbar": {
             "outlinewidth": 0,
             "ticks": ""
            },
            "colorscale": [
             [
              0,
              "#0d0887"
             ],
             [
              0.1111111111111111,
              "#46039f"
             ],
             [
              0.2222222222222222,
              "#7201a8"
             ],
             [
              0.3333333333333333,
              "#9c179e"
             ],
             [
              0.4444444444444444,
              "#bd3786"
             ],
             [
              0.5555555555555556,
              "#d8576b"
             ],
             [
              0.6666666666666666,
              "#ed7953"
             ],
             [
              0.7777777777777778,
              "#fb9f3a"
             ],
             [
              0.8888888888888888,
              "#fdca26"
             ],
             [
              1,
              "#f0f921"
             ]
            ],
            "type": "heatmap"
           }
          ],
          "heatmapgl": [
           {
            "colorbar": {
             "outlinewidth": 0,
             "ticks": ""
            },
            "colorscale": [
             [
              0,
              "#0d0887"
             ],
             [
              0.1111111111111111,
              "#46039f"
             ],
             [
              0.2222222222222222,
              "#7201a8"
             ],
             [
              0.3333333333333333,
              "#9c179e"
             ],
             [
              0.4444444444444444,
              "#bd3786"
             ],
             [
              0.5555555555555556,
              "#d8576b"
             ],
             [
              0.6666666666666666,
              "#ed7953"
             ],
             [
              0.7777777777777778,
              "#fb9f3a"
             ],
             [
              0.8888888888888888,
              "#fdca26"
             ],
             [
              1,
              "#f0f921"
             ]
            ],
            "type": "heatmapgl"
           }
          ],
          "histogram": [
           {
            "marker": {
             "pattern": {
              "fillmode": "overlay",
              "size": 10,
              "solidity": 0.2
             }
            },
            "type": "histogram"
           }
          ],
          "histogram2d": [
           {
            "colorbar": {
             "outlinewidth": 0,
             "ticks": ""
            },
            "colorscale": [
             [
              0,
              "#0d0887"
             ],
             [
              0.1111111111111111,
              "#46039f"
             ],
             [
              0.2222222222222222,
              "#7201a8"
             ],
             [
              0.3333333333333333,
              "#9c179e"
             ],
             [
              0.4444444444444444,
              "#bd3786"
             ],
             [
              0.5555555555555556,
              "#d8576b"
             ],
             [
              0.6666666666666666,
              "#ed7953"
             ],
             [
              0.7777777777777778,
              "#fb9f3a"
             ],
             [
              0.8888888888888888,
              "#fdca26"
             ],
             [
              1,
              "#f0f921"
             ]
            ],
            "type": "histogram2d"
           }
          ],
          "histogram2dcontour": [
           {
            "colorbar": {
             "outlinewidth": 0,
             "ticks": ""
            },
            "colorscale": [
             [
              0,
              "#0d0887"
             ],
             [
              0.1111111111111111,
              "#46039f"
             ],
             [
              0.2222222222222222,
              "#7201a8"
             ],
             [
              0.3333333333333333,
              "#9c179e"
             ],
             [
              0.4444444444444444,
              "#bd3786"
             ],
             [
              0.5555555555555556,
              "#d8576b"
             ],
             [
              0.6666666666666666,
              "#ed7953"
             ],
             [
              0.7777777777777778,
              "#fb9f3a"
             ],
             [
              0.8888888888888888,
              "#fdca26"
             ],
             [
              1,
              "#f0f921"
             ]
            ],
            "type": "histogram2dcontour"
           }
          ],
          "mesh3d": [
           {
            "colorbar": {
             "outlinewidth": 0,
             "ticks": ""
            },
            "type": "mesh3d"
           }
          ],
          "parcoords": [
           {
            "line": {
             "colorbar": {
              "outlinewidth": 0,
              "ticks": ""
             }
            },
            "type": "parcoords"
           }
          ],
          "pie": [
           {
            "automargin": true,
            "type": "pie"
           }
          ],
          "scatter": [
           {
            "fillpattern": {
             "fillmode": "overlay",
             "size": 10,
             "solidity": 0.2
            },
            "type": "scatter"
           }
          ],
          "scatter3d": [
           {
            "line": {
             "colorbar": {
              "outlinewidth": 0,
              "ticks": ""
             }
            },
            "marker": {
             "colorbar": {
              "outlinewidth": 0,
              "ticks": ""
             }
            },
            "type": "scatter3d"
           }
          ],
          "scattercarpet": [
           {
            "marker": {
             "colorbar": {
              "outlinewidth": 0,
              "ticks": ""
             }
            },
            "type": "scattercarpet"
           }
          ],
          "scattergeo": [
           {
            "marker": {
             "colorbar": {
              "outlinewidth": 0,
              "ticks": ""
             }
            },
            "type": "scattergeo"
           }
          ],
          "scattergl": [
           {
            "marker": {
             "colorbar": {
              "outlinewidth": 0,
              "ticks": ""
             }
            },
            "type": "scattergl"
           }
          ],
          "scattermapbox": [
           {
            "marker": {
             "colorbar": {
              "outlinewidth": 0,
              "ticks": ""
             }
            },
            "type": "scattermapbox"
           }
          ],
          "scatterpolar": [
           {
            "marker": {
             "colorbar": {
              "outlinewidth": 0,
              "ticks": ""
             }
            },
            "type": "scatterpolar"
           }
          ],
          "scatterpolargl": [
           {
            "marker": {
             "colorbar": {
              "outlinewidth": 0,
              "ticks": ""
             }
            },
            "type": "scatterpolargl"
           }
          ],
          "scatterternary": [
           {
            "marker": {
             "colorbar": {
              "outlinewidth": 0,
              "ticks": ""
             }
            },
            "type": "scatterternary"
           }
          ],
          "surface": [
           {
            "colorbar": {
             "outlinewidth": 0,
             "ticks": ""
            },
            "colorscale": [
             [
              0,
              "#0d0887"
             ],
             [
              0.1111111111111111,
              "#46039f"
             ],
             [
              0.2222222222222222,
              "#7201a8"
             ],
             [
              0.3333333333333333,
              "#9c179e"
             ],
             [
              0.4444444444444444,
              "#bd3786"
             ],
             [
              0.5555555555555556,
              "#d8576b"
             ],
             [
              0.6666666666666666,
              "#ed7953"
             ],
             [
              0.7777777777777778,
              "#fb9f3a"
             ],
             [
              0.8888888888888888,
              "#fdca26"
             ],
             [
              1,
              "#f0f921"
             ]
            ],
            "type": "surface"
           }
          ],
          "table": [
           {
            "cells": {
             "fill": {
              "color": "#EBF0F8"
             },
             "line": {
              "color": "white"
             }
            },
            "header": {
             "fill": {
              "color": "#C8D4E3"
             },
             "line": {
              "color": "white"
             }
            },
            "type": "table"
           }
          ]
         },
         "layout": {
          "annotationdefaults": {
           "arrowcolor": "#2a3f5f",
           "arrowhead": 0,
           "arrowwidth": 1
          },
          "autotypenumbers": "strict",
          "coloraxis": {
           "colorbar": {
            "outlinewidth": 0,
            "ticks": ""
           }
          },
          "colorscale": {
           "diverging": [
            [
             0,
             "#8e0152"
            ],
            [
             0.1,
             "#c51b7d"
            ],
            [
             0.2,
             "#de77ae"
            ],
            [
             0.3,
             "#f1b6da"
            ],
            [
             0.4,
             "#fde0ef"
            ],
            [
             0.5,
             "#f7f7f7"
            ],
            [
             0.6,
             "#e6f5d0"
            ],
            [
             0.7,
             "#b8e186"
            ],
            [
             0.8,
             "#7fbc41"
            ],
            [
             0.9,
             "#4d9221"
            ],
            [
             1,
             "#276419"
            ]
           ],
           "sequential": [
            [
             0,
             "#0d0887"
            ],
            [
             0.1111111111111111,
             "#46039f"
            ],
            [
             0.2222222222222222,
             "#7201a8"
            ],
            [
             0.3333333333333333,
             "#9c179e"
            ],
            [
             0.4444444444444444,
             "#bd3786"
            ],
            [
             0.5555555555555556,
             "#d8576b"
            ],
            [
             0.6666666666666666,
             "#ed7953"
            ],
            [
             0.7777777777777778,
             "#fb9f3a"
            ],
            [
             0.8888888888888888,
             "#fdca26"
            ],
            [
             1,
             "#f0f921"
            ]
           ],
           "sequentialminus": [
            [
             0,
             "#0d0887"
            ],
            [
             0.1111111111111111,
             "#46039f"
            ],
            [
             0.2222222222222222,
             "#7201a8"
            ],
            [
             0.3333333333333333,
             "#9c179e"
            ],
            [
             0.4444444444444444,
             "#bd3786"
            ],
            [
             0.5555555555555556,
             "#d8576b"
            ],
            [
             0.6666666666666666,
             "#ed7953"
            ],
            [
             0.7777777777777778,
             "#fb9f3a"
            ],
            [
             0.8888888888888888,
             "#fdca26"
            ],
            [
             1,
             "#f0f921"
            ]
           ]
          },
          "colorway": [
           "#636efa",
           "#EF553B",
           "#00cc96",
           "#ab63fa",
           "#FFA15A",
           "#19d3f3",
           "#FF6692",
           "#B6E880",
           "#FF97FF",
           "#FECB52"
          ],
          "font": {
           "color": "#2a3f5f"
          },
          "geo": {
           "bgcolor": "white",
           "lakecolor": "white",
           "landcolor": "#E5ECF6",
           "showlakes": true,
           "showland": true,
           "subunitcolor": "white"
          },
          "hoverlabel": {
           "align": "left"
          },
          "hovermode": "closest",
          "mapbox": {
           "style": "light"
          },
          "paper_bgcolor": "white",
          "plot_bgcolor": "#E5ECF6",
          "polar": {
           "angularaxis": {
            "gridcolor": "white",
            "linecolor": "white",
            "ticks": ""
           },
           "bgcolor": "#E5ECF6",
           "radialaxis": {
            "gridcolor": "white",
            "linecolor": "white",
            "ticks": ""
           }
          },
          "scene": {
           "xaxis": {
            "backgroundcolor": "#E5ECF6",
            "gridcolor": "white",
            "gridwidth": 2,
            "linecolor": "white",
            "showbackground": true,
            "ticks": "",
            "zerolinecolor": "white"
           },
           "yaxis": {
            "backgroundcolor": "#E5ECF6",
            "gridcolor": "white",
            "gridwidth": 2,
            "linecolor": "white",
            "showbackground": true,
            "ticks": "",
            "zerolinecolor": "white"
           },
           "zaxis": {
            "backgroundcolor": "#E5ECF6",
            "gridcolor": "white",
            "gridwidth": 2,
            "linecolor": "white",
            "showbackground": true,
            "ticks": "",
            "zerolinecolor": "white"
           }
          },
          "shapedefaults": {
           "line": {
            "color": "#2a3f5f"
           }
          },
          "ternary": {
           "aaxis": {
            "gridcolor": "white",
            "linecolor": "white",
            "ticks": ""
           },
           "baxis": {
            "gridcolor": "white",
            "linecolor": "white",
            "ticks": ""
           },
           "bgcolor": "#E5ECF6",
           "caxis": {
            "gridcolor": "white",
            "linecolor": "white",
            "ticks": ""
           }
          },
          "title": {
           "x": 0.05
          },
          "xaxis": {
           "automargin": true,
           "gridcolor": "white",
           "linecolor": "white",
           "ticks": "",
           "title": {
            "standoff": 15
           },
           "zerolinecolor": "white",
           "zerolinewidth": 2
          },
          "yaxis": {
           "automargin": true,
           "gridcolor": "white",
           "linecolor": "white",
           "ticks": "",
           "title": {
            "standoff": 15
           },
           "zerolinecolor": "white",
           "zerolinewidth": 2
          }
         }
        },
        "title": {
         "text": "Importancia de variables en el XG Boost"
        },
        "xaxis": {
         "title": {
          "text": "Importancia"
         }
        },
        "yaxis": {
         "title": {
          "text": "Variables"
         }
        }
       }
      }
     },
     "metadata": {},
     "output_type": "display_data"
    }
   ],
   "source": [
    "# visualizacion de la importancia mediante un grafico de barras\n",
    "data = [\n",
    "    go.Bar(\n",
    "        y = importancia_predictores[\"predictor\"],\n",
    "        x = importancia_predictores[\"importancia\"],\n",
    "        marker_color = \"steelblue\",\n",
    "        orientation='h',\n",
    "        name = \"Importancia de variables\"\n",
    "    )      \n",
    "]\n",
    "\n",
    "layout = go.Layout(title = \"Importancia de variables en el XG Boost\", xaxis_title = \"Importancia\", yaxis_title = \"Variables\")\n",
    "\n",
    "fig = go.Figure(data = data, layout = layout)\n",
    "\n",
    "fig.show()"
   ]
  },
  {
   "cell_type": "markdown",
   "metadata": {},
   "source": [
    "#### Light GBM"
   ]
  },
  {
   "cell_type": "code",
   "execution_count": 16,
   "metadata": {},
   "outputs": [],
   "source": [
    "# hyperparameter tuning\n",
    "\n",
    "def regression_tuning(params:dict):\n",
    "    ''' \n",
    "    Parametros:\n",
    "    \n",
    "        params: dict. Diccionario que contiene los hiperparametros a tunear del modelo\n",
    "    \n",
    "    Salida:\n",
    "        \n",
    "        resultados: dict. Diccionario que contiene las métricas y el modelo \n",
    "    '''\n",
    "    \n",
    "    for key in [\"num_leaves\",\"min_child_samples\"]:\n",
    "        params[key] = int(params[key])\n",
    "    \n",
    "    model = lgb.LGBMRegressor(n_estimators=500, importance_type = 'gain', random_state = 123, **params)\n",
    "    \n",
    "    model.fit(X_train, y_train, eval_set = (X_val,y_val), eval_metric = [\"MAE\",\"MSE\",\"RMSE\"],\n",
    "              callbacks=[lgb.callback.log_evaluation(period = 50), lgb.early_stopping(5)])\n",
    "    \n",
    "    y_pred = model.predict(X_val)\n",
    "    \n",
    "    #loss = accuracy_score(y_val, y_pred)\n",
    "    MAE = round(metrics.mean_absolute_error(y_val, y_pred), 2)\n",
    "    MSE = round(metrics.mean_squared_error(y_val, y_pred), 2)\n",
    "    RMSE = round(np.sqrt(metrics.mean_squared_error(y_val, y_pred)), 2)\n",
    "    R2 = round(metrics.explained_variance_score(y_val, y_pred), 2)\n",
    "    print(\"El MAE para este ensayo es: {}\".format(round(MAE,4)))\n",
    "    print(\"El MSE para este ensayo es: {}\".format(round(MSE,4)))\n",
    "    print(\"El RMSE para este ensayo es: {}\".format(round(RMSE,4)))\n",
    "    print(\"El R2 para este ensayo es: {}\".format(round(R2,4)))\n",
    "    print(\"\\n\")\n",
    "    \n",
    "    return {\"loss\": RMSE, \"status\": STATUS_OK, \"model\": model}\n",
    "\n",
    "#eval_metric = [\"MAE\",\"MSE\",\"RMSE\"]"
   ]
  },
  {
   "cell_type": "code",
   "execution_count": 17,
   "metadata": {},
   "outputs": [
    {
     "data": {
      "text/plain": [
       "10470"
      ]
     },
     "execution_count": 17,
     "metadata": {},
     "output_type": "execute_result"
    }
   ],
   "source": [
    "len(X_train)"
   ]
  },
  {
   "cell_type": "markdown",
   "metadata": {},
   "source": [
    "Tenemos una muestra de 10.470 observaciones, valor que emplearemos para definir los valores entre los que tunean los hiperparámetros del modelo"
   ]
  },
  {
   "cell_type": "code",
   "execution_count": 18,
   "metadata": {},
   "outputs": [],
   "source": [
    "space = {\n",
    "    \"max_depth\": hp.choice(\"max_depth\",[4,5,6,7,8,9,10]),\n",
    "    \"learning_rate\": hp.uniform(\"learning_rate\",0.01,0.2),\n",
    "    \"num_leaves\": hp.quniform(\"num_leaves\",20,50,1),\n",
    "    \"min_child_samples\": hp.quniform(\"min_child_samples\", 5, 30, 1),\n",
    "    \"reg_alpha\": hp.uniform(\"reg_alpha\",0,2),\n",
    "    \"reg_lambda\": hp.uniform(\"reg_lambda\", 0,2)\n",
    "}"
   ]
  },
  {
   "cell_type": "code",
   "execution_count": 19,
   "metadata": {},
   "outputs": [
    {
     "name": "stdout",
     "output_type": "stream",
     "text": [
      "Training until validation scores don't improve for 5 rounds\n",
      "[50]\tvalid_0's l1: 62.9723\tvalid_0's l2: 10502.4\tvalid_0's rmse: 102.481\n",
      "[100]\tvalid_0's l1: 60.8177\tvalid_0's l2: 9998.49\tvalid_0's rmse: 99.9925\n",
      "[150]\tvalid_0's l1: 60.1485\tvalid_0's l2: 9760.51\tvalid_0's rmse: 98.7953\n",
      "Early stopping, best iteration is:                    \n",
      "[167]\tvalid_0's l1: 59.863\tvalid_0's l2: 9664.47\tvalid_0's rmse: 98.3081\n",
      "El MAE para este ensayo es: 59.86                     \n",
      "El MSE para este ensayo es: 9664.47                   \n",
      "El RMSE para este ensayo es: 98.31                    \n",
      "El R2 para este ensayo es: 0.62                       \n",
      "Training until validation scores don't improve for 5 rounds        \n",
      "[50]\tvalid_0's l1: 64.2976\tvalid_0's l2: 11088\tvalid_0's rmse: 105.3\n",
      "[100]\tvalid_0's l1: 61.9644\tvalid_0's l2: 10365.6\tvalid_0's rmse: 101.812\n",
      "Early stopping, best iteration is:                                 \n",
      "[140]\tvalid_0's l1: 61.248\tvalid_0's l2: 10099.5\tvalid_0's rmse: 100.496\n",
      "El MAE para este ensayo es: 61.25                                  \n",
      "El MSE para este ensayo es: 10099.5                                \n",
      "El RMSE para este ensayo es: 100.5                                 \n",
      "El R2 para este ensayo es: 0.6                                     \n",
      "Training until validation scores don't improve for 5 rounds        \n",
      "[50]\tvalid_0's l1: 62.8599\tvalid_0's l2: 10494.1\tvalid_0's rmse: 102.441\n",
      "[100]\tvalid_0's l1: 60.8445\tvalid_0's l2: 10029.9\tvalid_0's rmse: 100.149\n",
      "Early stopping, best iteration is:                                 \n",
      "[120]\tvalid_0's l1: 60.5539\tvalid_0's l2: 9914.06\tvalid_0's rmse: 99.5694\n",
      "El MAE para este ensayo es: 60.55                                  \n",
      "El MSE para este ensayo es: 9914.06                                \n",
      "El RMSE para este ensayo es: 99.57                                 \n",
      "El R2 para este ensayo es: 0.61                                    \n",
      "Training until validation scores don't improve for 5 rounds        \n",
      "[50]\tvalid_0's l1: 61.4246\tvalid_0's l2: 10107.9\tvalid_0's rmse: 100.538\n",
      "[100]\tvalid_0's l1: 60.4019\tvalid_0's l2: 9702.66\tvalid_0's rmse: 98.5021\n",
      "Early stopping, best iteration is:                                 \n",
      "[125]\tvalid_0's l1: 60.1798\tvalid_0's l2: 9610.07\tvalid_0's rmse: 98.031\n",
      "El MAE para este ensayo es: 60.18                                  \n",
      "El MSE para este ensayo es: 9610.07                                \n",
      "El RMSE para este ensayo es: 98.03                                 \n",
      "El R2 para este ensayo es: 0.62                                    \n",
      "Training until validation scores don't improve for 5 rounds        \n",
      "Early stopping, best iteration is:                                 \n",
      "[31]\tvalid_0's l1: 61.3362\tvalid_0's l2: 10083\tvalid_0's rmse: 100.414\n",
      "El MAE para este ensayo es: 61.34                                  \n",
      "El MSE para este ensayo es: 10082.96                               \n",
      "El RMSE para este ensayo es: 100.41                                \n",
      "El R2 para este ensayo es: 0.6                                     \n",
      "Training until validation scores don't improve for 5 rounds        \n",
      "[50]\tvalid_0's l1: 81.2767\tvalid_0's l2: 15715.2\tvalid_0's rmse: 125.36\n",
      "[100]\tvalid_0's l1: 71.8728\tvalid_0's l2: 13066.1\tvalid_0's rmse: 114.307\n",
      "[150]\tvalid_0's l1: 68.2261\tvalid_0's l2: 12098.5\tvalid_0's rmse: 109.993\n",
      "[200]\tvalid_0's l1: 66.3159\tvalid_0's l2: 11637.6\tvalid_0's rmse: 107.877\n",
      "[250]\tvalid_0's l1: 65.2023\tvalid_0's l2: 11349.6\tvalid_0's rmse: 106.534\n",
      "[300]\tvalid_0's l1: 64.102\tvalid_0's l2: 11052\tvalid_0's rmse: 105.128\n",
      "[350]\tvalid_0's l1: 63.5241\tvalid_0's l2: 10866.5\tvalid_0's rmse: 104.243\n",
      "[400]\tvalid_0's l1: 63.1399\tvalid_0's l2: 10723.8\tvalid_0's rmse: 103.556\n",
      "[450]\tvalid_0's l1: 62.8636\tvalid_0's l2: 10631.4\tvalid_0's rmse: 103.108\n",
      "[500]\tvalid_0's l1: 62.6604\tvalid_0's l2: 10558.4\tvalid_0's rmse: 102.754\n",
      "Did not meet early stopping. Best iteration is:                    \n",
      "[500]\tvalid_0's l1: 62.6604\tvalid_0's l2: 10558.4\tvalid_0's rmse: 102.754\n",
      "El MAE para este ensayo es: 62.66                                  \n",
      "El MSE para este ensayo es: 10558.39                               \n",
      "El RMSE para este ensayo es: 102.75                                \n",
      "El R2 para este ensayo es: 0.59                                    \n",
      "Training until validation scores don't improve for 5 rounds        \n",
      "[50]\tvalid_0's l1: 62.7452\tvalid_0's l2: 10412.5\tvalid_0's rmse: 102.041\n",
      "[100]\tvalid_0's l1: 60.7182\tvalid_0's l2: 9850.38\tvalid_0's rmse: 99.2491\n",
      "Early stopping, best iteration is:                                 \n",
      "[120]\tvalid_0's l1: 60.46\tvalid_0's l2: 9759.65\tvalid_0's rmse: 98.7909\n",
      "El MAE para este ensayo es: 60.46                                  \n",
      "El MSE para este ensayo es: 9759.65                                \n",
      "El RMSE para este ensayo es: 98.79                                 \n",
      "El R2 para este ensayo es: 0.62                                    \n",
      "Training until validation scores don't improve for 5 rounds        \n",
      "Early stopping, best iteration is:                                 \n",
      "[42]\tvalid_0's l1: 60.2836\tvalid_0's l2: 9740.94\tvalid_0's rmse: 98.6962\n",
      "El MAE para este ensayo es: 60.28                                  \n",
      "El MSE para este ensayo es: 9740.94                                \n",
      "El RMSE para este ensayo es: 98.7                                  \n",
      "El R2 para este ensayo es: 0.62                                    \n",
      "Training until validation scores don't improve for 5 rounds        \n",
      "[50]\tvalid_0's l1: 60.9844\tvalid_0's l2: 9839.95\tvalid_0's rmse: 99.1965\n",
      "Early stopping, best iteration is:                                 \n",
      "[53]\tvalid_0's l1: 60.8132\tvalid_0's l2: 9782.15\tvalid_0's rmse: 98.9047\n",
      "El MAE para este ensayo es: 60.81                                  \n",
      "El MSE para este ensayo es: 9782.15                                \n",
      "El RMSE para este ensayo es: 98.9                                  \n",
      "El R2 para este ensayo es: 0.62                                    \n",
      "Training until validation scores don't improve for 5 rounds        \n",
      "[50]\tvalid_0's l1: 62.7021\tvalid_0's l2: 10368.7\tvalid_0's rmse: 101.827\n",
      "[100]\tvalid_0's l1: 60.7785\tvalid_0's l2: 9892.02\tvalid_0's rmse: 99.4586\n",
      "Early stopping, best iteration is:                                 \n",
      "[128]\tvalid_0's l1: 60.4859\tvalid_0's l2: 9785.72\tvalid_0's rmse: 98.9228\n",
      "El MAE para este ensayo es: 60.49                                  \n",
      "El MSE para este ensayo es: 9785.72                                \n",
      "El RMSE para este ensayo es: 98.92                                 \n",
      "El R2 para este ensayo es: 0.62                                    \n",
      "Training until validation scores don't improve for 5 rounds         \n",
      "[50]\tvalid_0's l1: 66.2169\tvalid_0's l2: 11697.5\tvalid_0's rmse: 108.155\n",
      "[100]\tvalid_0's l1: 64.0193\tvalid_0's l2: 11028\tvalid_0's rmse: 105.014\n",
      "[150]\tvalid_0's l1: 62.919\tvalid_0's l2: 10618.8\tvalid_0's rmse: 103.048\n",
      "Early stopping, best iteration is:                                  \n",
      "[192]\tvalid_0's l1: 62.518\tvalid_0's l2: 10479.1\tvalid_0's rmse: 102.367\n",
      "El MAE para este ensayo es: 62.52                                   \n",
      "El MSE para este ensayo es: 10479.07                                \n",
      "El RMSE para este ensayo es: 102.37                                 \n",
      "El R2 para este ensayo es: 0.59                                     \n",
      "Training until validation scores don't improve for 5 rounds         \n",
      "[50]\tvalid_0's l1: 65.4197\tvalid_0's l2: 11299.2\tvalid_0's rmse: 106.298\n",
      "[100]\tvalid_0's l1: 62.377\tvalid_0's l2: 10492\tvalid_0's rmse: 102.43\n",
      "[150]\tvalid_0's l1: 61.6546\tvalid_0's l2: 10230.9\tvalid_0's rmse: 101.148\n",
      "[200]\tvalid_0's l1: 61.2228\tvalid_0's l2: 10078\tvalid_0's rmse: 100.389\n",
      "Early stopping, best iteration is:                                  \n",
      "[196]\tvalid_0's l1: 61.209\tvalid_0's l2: 10072.3\tvalid_0's rmse: 100.361\n",
      "El MAE para este ensayo es: 61.21                                   \n",
      "El MSE para este ensayo es: 10072.3                                 \n",
      "El RMSE para este ensayo es: 100.36                                 \n",
      "El R2 para este ensayo es: 0.6                                      \n",
      "Training until validation scores don't improve for 5 rounds         \n",
      "[50]\tvalid_0's l1: 61.656\tvalid_0's l2: 10099.5\tvalid_0's rmse: 100.496\n",
      "[100]\tvalid_0's l1: 60.5128\tvalid_0's l2: 9711.25\tvalid_0's rmse: 98.5457\n",
      "Early stopping, best iteration is:                                  \n",
      "[98]\tvalid_0's l1: 60.5166\tvalid_0's l2: 9707.58\tvalid_0's rmse: 98.5271\n",
      "El MAE para este ensayo es: 60.52                                   \n",
      "El MSE para este ensayo es: 9707.58                                 \n",
      "El RMSE para este ensayo es: 98.53                                  \n",
      "El R2 para este ensayo es: 0.62                                     \n",
      "Training until validation scores don't improve for 5 rounds         \n",
      "[50]\tvalid_0's l1: 62.3316\tvalid_0's l2: 10502.3\tvalid_0's rmse: 102.481\n",
      "Early stopping, best iteration is:                                  \n",
      "[82]\tvalid_0's l1: 61.4317\tvalid_0's l2: 10093.5\tvalid_0's rmse: 100.467\n",
      "El MAE para este ensayo es: 61.43                                   \n",
      "El MSE para este ensayo es: 10093.55                                \n",
      "El RMSE para este ensayo es: 100.47                                 \n",
      "El R2 para este ensayo es: 0.6                                      \n",
      "Training until validation scores don't improve for 5 rounds         \n",
      "[50]\tvalid_0's l1: 63.1533\tvalid_0's l2: 10658.5\tvalid_0's rmse: 103.24\n",
      "Early stopping, best iteration is:                                  \n",
      "[85]\tvalid_0's l1: 62.3367\tvalid_0's l2: 10328\tvalid_0's rmse: 101.627\n",
      "El MAE para este ensayo es: 62.34                                   \n",
      "El MSE para este ensayo es: 10328.02                                \n",
      "El RMSE para este ensayo es: 101.63                                 \n",
      "El R2 para este ensayo es: 0.59                                     \n",
      "Training until validation scores don't improve for 5 rounds         \n",
      "[50]\tvalid_0's l1: 65.8572\tvalid_0's l2: 11253.3\tvalid_0's rmse: 106.082\n",
      "[100]\tvalid_0's l1: 62.5649\tvalid_0's l2: 10537.1\tvalid_0's rmse: 102.65\n",
      "[150]\tvalid_0's l1: 61.5393\tvalid_0's l2: 10162.2\tvalid_0's rmse: 100.808\n",
      "[200]\tvalid_0's l1: 61.0861\tvalid_0's l2: 9928.7\tvalid_0's rmse: 99.6428\n",
      "Early stopping, best iteration is:                                  \n",
      "[215]\tvalid_0's l1: 60.9594\tvalid_0's l2: 9875.16\tvalid_0's rmse: 99.3739\n",
      "El MAE para este ensayo es: 60.96                                   \n",
      "El MSE para este ensayo es: 9875.16                                 \n",
      "El RMSE para este ensayo es: 99.37                                  \n",
      "El R2 para este ensayo es: 0.61                                     \n",
      "Training until validation scores don't improve for 5 rounds         \n",
      "[50]\tvalid_0's l1: 62.5155\tvalid_0's l2: 10477.8\tvalid_0's rmse: 102.361\n",
      "[100]\tvalid_0's l1: 61.0435\tvalid_0's l2: 10041.1\tvalid_0's rmse: 100.205\n",
      "Early stopping, best iteration is:                                  \n",
      "[127]\tvalid_0's l1: 60.8161\tvalid_0's l2: 9916.16\tvalid_0's rmse: 99.5799\n",
      "El MAE para este ensayo es: 60.82                                   \n",
      "El MSE para este ensayo es: 9916.16                                 \n",
      "El RMSE para este ensayo es: 99.58                                  \n",
      "El R2 para este ensayo es: 0.61                                     \n",
      "Training until validation scores don't improve for 5 rounds         \n",
      "[50]\tvalid_0's l1: 62.6843\tvalid_0's l2: 10565\tvalid_0's rmse: 102.786\n",
      "[100]\tvalid_0's l1: 61.5151\tvalid_0's l2: 10138.9\tvalid_0's rmse: 100.692\n",
      "Early stopping, best iteration is:                                  \n",
      "[125]\tvalid_0's l1: 61.2178\tvalid_0's l2: 10067.8\tvalid_0's rmse: 100.339\n",
      "El MAE para este ensayo es: 61.22                                   \n",
      "El MSE para este ensayo es: 10067.83                                \n",
      "El RMSE para este ensayo es: 100.34                                 \n",
      "El R2 para este ensayo es: 0.6                                      \n",
      "Training until validation scores don't improve for 5 rounds         \n",
      "[50]\tvalid_0's l1: 60.9109\tvalid_0's l2: 9872.26\tvalid_0's rmse: 99.3593\n",
      "Early stopping, best iteration is:                                  \n",
      "[57]\tvalid_0's l1: 60.6691\tvalid_0's l2: 9783.96\tvalid_0's rmse: 98.9139\n",
      "El MAE para este ensayo es: 60.67                                   \n",
      "El MSE para este ensayo es: 9783.96                                 \n",
      "El RMSE para este ensayo es: 98.91                                  \n",
      "El R2 para este ensayo es: 0.62                                     \n",
      "Training until validation scores don't improve for 5 rounds         \n",
      "[50]\tvalid_0's l1: 60.7546\tvalid_0's l2: 10001.5\tvalid_0's rmse: 100.008\n",
      "[100]\tvalid_0's l1: 59.8171\tvalid_0's l2: 9697.54\tvalid_0's rmse: 98.4761\n",
      "Early stopping, best iteration is:                                  \n",
      "[97]\tvalid_0's l1: 59.8352\tvalid_0's l2: 9685.75\tvalid_0's rmse: 98.4162\n",
      "El MAE para este ensayo es: 59.84                                   \n",
      "El MSE para este ensayo es: 9685.75                                 \n",
      "El RMSE para este ensayo es: 98.42                                  \n",
      "El R2 para este ensayo es: 0.62                                     \n",
      "Training until validation scores don't improve for 5 rounds         \n",
      "[50]\tvalid_0's l1: 71.6315\tvalid_0's l2: 12682.8\tvalid_0's rmse: 112.618\n",
      "[100]\tvalid_0's l1: 64.5109\tvalid_0's l2: 10948.4\tvalid_0's rmse: 104.635\n",
      "[150]\tvalid_0's l1: 62.7527\tvalid_0's l2: 10528.1\tvalid_0's rmse: 102.606\n",
      "[200]\tvalid_0's l1: 61.7038\tvalid_0's l2: 10272.5\tvalid_0's rmse: 101.353\n",
      "[250]\tvalid_0's l1: 61.1954\tvalid_0's l2: 10040.6\tvalid_0's rmse: 100.203\n",
      "Early stopping, best iteration is:                                  \n",
      "[248]\tvalid_0's l1: 61.1994\tvalid_0's l2: 10038.6\tvalid_0's rmse: 100.193\n",
      "El MAE para este ensayo es: 61.2                                    \n",
      "El MSE para este ensayo es: 10038.64                                \n",
      "El RMSE para este ensayo es: 100.19                                 \n",
      "El R2 para este ensayo es: 0.61                                     \n",
      "Training until validation scores don't improve for 5 rounds         \n",
      "[50]\tvalid_0's l1: 62.9744\tvalid_0's l2: 10531.4\tvalid_0's rmse: 102.622\n",
      "[100]\tvalid_0's l1: 61.3712\tvalid_0's l2: 10070.6\tvalid_0's rmse: 100.352\n",
      "[150]\tvalid_0's l1: 60.6518\tvalid_0's l2: 9801.3\tvalid_0's rmse: 99.0015\n",
      "Early stopping, best iteration is:                                  \n",
      "[162]\tvalid_0's l1: 60.5105\tvalid_0's l2: 9761.55\tvalid_0's rmse: 98.8005\n",
      "El MAE para este ensayo es: 60.51                                   \n",
      "El MSE para este ensayo es: 9761.55                                 \n",
      "El RMSE para este ensayo es: 98.8                                   \n",
      "El R2 para este ensayo es: 0.62                                     \n",
      "Training until validation scores don't improve for 5 rounds         \n",
      "[50]\tvalid_0's l1: 64.9842\tvalid_0's l2: 10863.7\tvalid_0's rmse: 104.229\n",
      "[100]\tvalid_0's l1: 61.4033\tvalid_0's l2: 10068.5\tvalid_0's rmse: 100.342\n",
      "[150]\tvalid_0's l1: 60.6033\tvalid_0's l2: 9840.76\tvalid_0's rmse: 99.2006\n",
      "[200]\tvalid_0's l1: 60.2512\tvalid_0's l2: 9701.73\tvalid_0's rmse: 98.4974\n",
      "Early stopping, best iteration is:                                  \n",
      "[212]\tvalid_0's l1: 60.211\tvalid_0's l2: 9677.67\tvalid_0's rmse: 98.3751\n",
      "El MAE para este ensayo es: 60.21                                   \n",
      "El MSE para este ensayo es: 9677.67                                 \n",
      "El RMSE para este ensayo es: 98.38                                  \n",
      "El R2 para este ensayo es: 0.62                                     \n",
      "Training until validation scores don't improve for 5 rounds         \n",
      "[50]\tvalid_0's l1: 61.9839\tvalid_0's l2: 10404.3\tvalid_0's rmse: 102.002\n",
      "[100]\tvalid_0's l1: 60.7191\tvalid_0's l2: 9884.2\tvalid_0's rmse: 99.4193\n",
      "Early stopping, best iteration is:                                  \n",
      "[129]\tvalid_0's l1: 60.3692\tvalid_0's l2: 9729.43\tvalid_0's rmse: 98.6379\n",
      "El MAE para este ensayo es: 60.37                                   \n",
      "El MSE para este ensayo es: 9729.43                                 \n",
      "El RMSE para este ensayo es: 98.64                                  \n",
      "El R2 para este ensayo es: 0.62                                     \n",
      "Training until validation scores don't improve for 5 rounds         \n",
      "[50]\tvalid_0's l1: 67.0356\tvalid_0's l2: 11277.6\tvalid_0's rmse: 106.196\n",
      "[100]\tvalid_0's l1: 61.9238\tvalid_0's l2: 10174.3\tvalid_0's rmse: 100.868\n",
      "[150]\tvalid_0's l1: 60.5998\tvalid_0's l2: 9833.2\tvalid_0's rmse: 99.1625\n",
      "[200]\tvalid_0's l1: 60.2562\tvalid_0's l2: 9694.25\tvalid_0's rmse: 98.4594\n",
      "Early stopping, best iteration is:                                  \n",
      "[230]\tvalid_0's l1: 60.0724\tvalid_0's l2: 9609.21\tvalid_0's rmse: 98.0266\n",
      "El MAE para este ensayo es: 60.07                                   \n",
      "El MSE para este ensayo es: 9609.21                                 \n",
      "El RMSE para este ensayo es: 98.03                                  \n",
      "El R2 para este ensayo es: 0.62                                     \n",
      "Training until validation scores don't improve for 5 rounds         \n",
      "[50]\tvalid_0's l1: 68.381\tvalid_0's l2: 11638.2\tvalid_0's rmse: 107.88\n",
      "[100]\tvalid_0's l1: 62.4215\tvalid_0's l2: 10352\tvalid_0's rmse: 101.745\n",
      "[150]\tvalid_0's l1: 61.1274\tvalid_0's l2: 10005.7\tvalid_0's rmse: 100.029\n",
      "[200]\tvalid_0's l1: 60.7427\tvalid_0's l2: 9877.03\tvalid_0's rmse: 99.3833\n",
      "Early stopping, best iteration is:                                  \n",
      "[202]\tvalid_0's l1: 60.7196\tvalid_0's l2: 9868.97\tvalid_0's rmse: 99.3427\n",
      "El MAE para este ensayo es: 60.72                                   \n",
      "El MSE para este ensayo es: 9868.97                                 \n",
      "El RMSE para este ensayo es: 99.34                                  \n",
      "El R2 para este ensayo es: 0.61                                     \n",
      "Training until validation scores don't improve for 5 rounds         \n",
      "[50]\tvalid_0's l1: 66.9249\tvalid_0's l2: 11316.7\tvalid_0's rmse: 106.38\n",
      "[100]\tvalid_0's l1: 62.2838\tvalid_0's l2: 10226.1\tvalid_0's rmse: 101.124\n",
      "[150]\tvalid_0's l1: 60.9836\tvalid_0's l2: 9894.64\tvalid_0's rmse: 99.4718\n",
      "[200]\tvalid_0's l1: 60.6387\tvalid_0's l2: 9771.13\tvalid_0's rmse: 98.8491\n",
      "Early stopping, best iteration is:                                  \n",
      "[218]\tvalid_0's l1: 60.541\tvalid_0's l2: 9723.86\tvalid_0's rmse: 98.6096\n",
      "El MAE para este ensayo es: 60.54                                   \n",
      "El MSE para este ensayo es: 9723.86                                 \n",
      "El RMSE para este ensayo es: 98.61                                  \n",
      "El R2 para este ensayo es: 0.62                                     \n",
      "Training until validation scores don't improve for 5 rounds         \n",
      "[50]\tvalid_0's l1: 61.8257\tvalid_0's l2: 10285.7\tvalid_0's rmse: 101.419\n",
      "[100]\tvalid_0's l1: 60.6584\tvalid_0's l2: 9873.72\tvalid_0's rmse: 99.3666\n",
      "Early stopping, best iteration is:                                  \n",
      "[113]\tvalid_0's l1: 60.4732\tvalid_0's l2: 9759.88\tvalid_0's rmse: 98.7921\n",
      "El MAE para este ensayo es: 60.47                                   \n",
      "El MSE para este ensayo es: 9759.88                                 \n",
      "El RMSE para este ensayo es: 98.79                                  \n",
      "El R2 para este ensayo es: 0.62                                     \n",
      "Training until validation scores don't improve for 5 rounds         \n",
      "[50]\tvalid_0's l1: 60.8384\tvalid_0's l2: 9933.18\tvalid_0's rmse: 99.6653\n",
      "Early stopping, best iteration is:                                  \n",
      "[84]\tvalid_0's l1: 60.1438\tvalid_0's l2: 9689.62\tvalid_0's rmse: 98.4359\n",
      "El MAE para este ensayo es: 60.14                                   \n",
      "El MSE para este ensayo es: 9689.62                                 \n",
      "El RMSE para este ensayo es: 98.44                                  \n",
      "El R2 para este ensayo es: 0.62                                     \n",
      "Training until validation scores don't improve for 5 rounds         \n",
      "[50]\tvalid_0's l1: 87.1218\tvalid_0's l2: 17460.4\tvalid_0's rmse: 132.138\n",
      "[100]\tvalid_0's l1: 76.3898\tvalid_0's l2: 14325.1\tvalid_0's rmse: 119.688\n",
      "[150]\tvalid_0's l1: 71.3991\tvalid_0's l2: 12950.9\tvalid_0's rmse: 113.802\n",
      "[200]\tvalid_0's l1: 68.8056\tvalid_0's l2: 12270.3\tvalid_0's rmse: 110.772\n",
      "[250]\tvalid_0's l1: 67.0568\tvalid_0's l2: 11836.2\tvalid_0's rmse: 108.794\n",
      "[300]\tvalid_0's l1: 65.9751\tvalid_0's l2: 11538.8\tvalid_0's rmse: 107.419\n",
      "[350]\tvalid_0's l1: 65.3181\tvalid_0's l2: 11347.7\tvalid_0's rmse: 106.525\n",
      "[400]\tvalid_0's l1: 64.6313\tvalid_0's l2: 11162.1\tvalid_0's rmse: 105.651\n",
      "[450]\tvalid_0's l1: 63.9949\tvalid_0's l2: 10986.8\tvalid_0's rmse: 104.818\n",
      "[500]\tvalid_0's l1: 63.5986\tvalid_0's l2: 10865.6\tvalid_0's rmse: 104.238\n",
      "Did not meet early stopping. Best iteration is:                     \n",
      "[500]\tvalid_0's l1: 63.5986\tvalid_0's l2: 10865.6\tvalid_0's rmse: 104.238\n",
      "El MAE para este ensayo es: 63.6                                    \n",
      "El MSE para este ensayo es: 10865.65                                \n",
      "El RMSE para este ensayo es: 104.24                                 \n",
      "El R2 para este ensayo es: 0.57                                     \n",
      "Training until validation scores don't improve for 5 rounds         \n",
      "[50]\tvalid_0's l1: 78.9269\tvalid_0's l2: 15095.7\tvalid_0's rmse: 122.865\n",
      "[100]\tvalid_0's l1: 70.7293\tvalid_0's l2: 12878.8\tvalid_0's rmse: 113.485\n",
      "[150]\tvalid_0's l1: 67.9575\tvalid_0's l2: 12151.6\tvalid_0's rmse: 110.234\n",
      "[200]\tvalid_0's l1: 66.2431\tvalid_0's l2: 11695.9\tvalid_0's rmse: 108.148\n",
      "[250]\tvalid_0's l1: 65.1813\tvalid_0's l2: 11407.8\tvalid_0's rmse: 106.807\n",
      "[300]\tvalid_0's l1: 64.4866\tvalid_0's l2: 11216.2\tvalid_0's rmse: 105.907\n",
      "[350]\tvalid_0's l1: 64.0653\tvalid_0's l2: 11073.1\tvalid_0's rmse: 105.229\n",
      "[400]\tvalid_0's l1: 63.7724\tvalid_0's l2: 10971.2\tvalid_0's rmse: 104.744\n",
      "[450]\tvalid_0's l1: 63.4683\tvalid_0's l2: 10852.3\tvalid_0's rmse: 104.175\n",
      "[500]\tvalid_0's l1: 63.1936\tvalid_0's l2: 10755.6\tvalid_0's rmse: 103.709\n",
      "Did not meet early stopping. Best iteration is:                     \n",
      "[500]\tvalid_0's l1: 63.1936\tvalid_0's l2: 10755.6\tvalid_0's rmse: 103.709\n",
      "El MAE para este ensayo es: 63.19                                   \n",
      "El MSE para este ensayo es: 10755.56                                \n",
      "El RMSE para este ensayo es: 103.71                                 \n",
      "El R2 para este ensayo es: 0.58                                     \n",
      "Training until validation scores don't improve for 5 rounds         \n",
      "[50]\tvalid_0's l1: 61.8655\tvalid_0's l2: 10248.3\tvalid_0's rmse: 101.234\n",
      "[100]\tvalid_0's l1: 60.6665\tvalid_0's l2: 9860.15\tvalid_0's rmse: 99.2983\n",
      "Early stopping, best iteration is:                                  \n",
      "[118]\tvalid_0's l1: 60.4893\tvalid_0's l2: 9780.49\tvalid_0's rmse: 98.8964\n",
      "El MAE para este ensayo es: 60.49                                   \n",
      "El MSE para este ensayo es: 9780.49                                 \n",
      "El RMSE para este ensayo es: 98.9                                   \n",
      "El R2 para este ensayo es: 0.62                                     \n",
      "Training until validation scores don't improve for 5 rounds         \n",
      "Early stopping, best iteration is:                                  \n",
      "[35]\tvalid_0's l1: 60.8295\tvalid_0's l2: 9941.39\tvalid_0's rmse: 99.7065\n",
      "El MAE para este ensayo es: 60.83                                   \n",
      "El MSE para este ensayo es: 9941.39                                 \n",
      "El RMSE para este ensayo es: 99.71                                  \n",
      "El R2 para este ensayo es: 0.61                                     \n",
      "Training until validation scores don't improve for 5 rounds         \n",
      "[50]\tvalid_0's l1: 66.6093\tvalid_0's l2: 11555.4\tvalid_0's rmse: 107.496\n",
      "[100]\tvalid_0's l1: 62.7661\tvalid_0's l2: 10642.4\tvalid_0's rmse: 103.162\n",
      "[150]\tvalid_0's l1: 62.0616\tvalid_0's l2: 10372.9\tvalid_0's rmse: 101.847\n",
      "[200]\tvalid_0's l1: 61.4592\tvalid_0's l2: 10119.4\tvalid_0's rmse: 100.595\n",
      "Early stopping, best iteration is:                                  \n",
      "[220]\tvalid_0's l1: 61.3483\tvalid_0's l2: 10076.3\tvalid_0's rmse: 100.381\n",
      "El MAE para este ensayo es: 61.35                                   \n",
      "El MSE para este ensayo es: 10076.26                                \n",
      "El RMSE para este ensayo es: 100.38                                 \n",
      "El R2 para este ensayo es: 0.6                                      \n",
      "Training until validation scores don't improve for 5 rounds         \n",
      "[50]\tvalid_0's l1: 60.74\tvalid_0's l2: 9695.59\tvalid_0's rmse: 98.4662\n",
      "Early stopping, best iteration is:                                  \n",
      "[50]\tvalid_0's l1: 60.74\tvalid_0's l2: 9695.59\tvalid_0's rmse: 98.4662\n",
      "El MAE para este ensayo es: 60.74                                   \n",
      "El MSE para este ensayo es: 9695.59                                 \n",
      "El RMSE para este ensayo es: 98.47                                  \n",
      "El R2 para este ensayo es: 0.62                                     \n",
      "Training until validation scores don't improve for 5 rounds         \n",
      "[50]\tvalid_0's l1: 63.0797\tvalid_0's l2: 10724.1\tvalid_0's rmse: 103.557\n",
      "Early stopping, best iteration is:                                  \n",
      "[82]\tvalid_0's l1: 62.0794\tvalid_0's l2: 10248.6\tvalid_0's rmse: 101.235\n",
      "El MAE para este ensayo es: 62.08                                   \n",
      "El MSE para este ensayo es: 10248.56                                \n",
      "El RMSE para este ensayo es: 101.24                                 \n",
      "El R2 para este ensayo es: 0.6                                      \n",
      "Training until validation scores don't improve for 5 rounds         \n",
      "[50]\tvalid_0's l1: 60.8019\tvalid_0's l2: 9883.75\tvalid_0's rmse: 99.417\n",
      "Early stopping, best iteration is:                                  \n",
      "[94]\tvalid_0's l1: 60.237\tvalid_0's l2: 9688.1\tvalid_0's rmse: 98.4282\n",
      "El MAE para este ensayo es: 60.24                                   \n",
      "El MSE para este ensayo es: 9688.1                                  \n",
      "El RMSE para este ensayo es: 98.43                                  \n",
      "El R2 para este ensayo es: 0.62                                     \n",
      "Training until validation scores don't improve for 5 rounds         \n",
      "[50]\tvalid_0's l1: 62.0097\tvalid_0's l2: 10255.8\tvalid_0's rmse: 101.271\n",
      "[100]\tvalid_0's l1: 60.8257\tvalid_0's l2: 9874.21\tvalid_0's rmse: 99.369\n",
      "Early stopping, best iteration is:                                  \n",
      "[103]\tvalid_0's l1: 60.7512\tvalid_0's l2: 9851.52\tvalid_0's rmse: 99.2548\n",
      "El MAE para este ensayo es: 60.75                                   \n",
      "El MSE para este ensayo es: 9851.52                                 \n",
      "El RMSE para este ensayo es: 99.25                                  \n",
      "El R2 para este ensayo es: 0.61                                     \n",
      "Training until validation scores don't improve for 5 rounds         \n",
      "[50]\tvalid_0's l1: 87.4427\tvalid_0's l2: 17640\tvalid_0's rmse: 132.816\n",
      "[100]\tvalid_0's l1: 77.2728\tvalid_0's l2: 14626.6\tvalid_0's rmse: 120.941\n",
      "[150]\tvalid_0's l1: 72.3919\tvalid_0's l2: 13292.6\tvalid_0's rmse: 115.294\n",
      "[200]\tvalid_0's l1: 69.8067\tvalid_0's l2: 12636.6\tvalid_0's rmse: 112.412\n",
      "[250]\tvalid_0's l1: 68.313\tvalid_0's l2: 12251.7\tvalid_0's rmse: 110.687\n",
      "[300]\tvalid_0's l1: 67.3262\tvalid_0's l2: 11974.6\tvalid_0's rmse: 109.428\n",
      "[350]\tvalid_0's l1: 66.4247\tvalid_0's l2: 11730.5\tvalid_0's rmse: 108.307\n",
      "[400]\tvalid_0's l1: 65.6601\tvalid_0's l2: 11530.6\tvalid_0's rmse: 107.381\n",
      "[450]\tvalid_0's l1: 65.2193\tvalid_0's l2: 11408.9\tvalid_0's rmse: 106.813\n",
      "[500]\tvalid_0's l1: 64.7359\tvalid_0's l2: 11282.1\tvalid_0's rmse: 106.217\n",
      "Did not meet early stopping. Best iteration is:                     \n",
      "[500]\tvalid_0's l1: 64.7359\tvalid_0's l2: 11282.1\tvalid_0's rmse: 106.217\n",
      "El MAE para este ensayo es: 64.74                                   \n",
      "El MSE para este ensayo es: 11282.07                                \n",
      "El RMSE para este ensayo es: 106.22                                 \n",
      "El R2 para este ensayo es: 0.56                                     \n",
      "Training until validation scores don't improve for 5 rounds         \n",
      "[50]\tvalid_0's l1: 60.9771\tvalid_0's l2: 9988.77\tvalid_0's rmse: 99.9438\n",
      "Early stopping, best iteration is:                                  \n",
      "[51]\tvalid_0's l1: 60.9213\tvalid_0's l2: 9978.42\tvalid_0's rmse: 99.892\n",
      "El MAE para este ensayo es: 60.92                                   \n",
      "El MSE para este ensayo es: 9978.42                                 \n",
      "El RMSE para este ensayo es: 99.89                                  \n",
      "El R2 para este ensayo es: 0.61                                     \n",
      "Training until validation scores don't improve for 5 rounds         \n",
      "[50]\tvalid_0's l1: 65.2399\tvalid_0's l2: 11278.4\tvalid_0's rmse: 106.2\n",
      "[100]\tvalid_0's l1: 62.3252\tvalid_0's l2: 10498.1\tvalid_0's rmse: 102.46\n",
      "[150]\tvalid_0's l1: 61.3947\tvalid_0's l2: 10155.8\tvalid_0's rmse: 100.776\n",
      "[200]\tvalid_0's l1: 60.96\tvalid_0's l2: 9955.79\tvalid_0's rmse: 99.7787\n",
      "Early stopping, best iteration is:                                  \n",
      "[226]\tvalid_0's l1: 60.792\tvalid_0's l2: 9895.36\tvalid_0's rmse: 99.4754\n",
      "El MAE para este ensayo es: 60.79                                   \n",
      "El MSE para este ensayo es: 9895.36                                 \n",
      "El RMSE para este ensayo es: 99.48                                  \n",
      "El R2 para este ensayo es: 0.61                                     \n",
      "Training until validation scores don't improve for 5 rounds         \n",
      "[50]\tvalid_0's l1: 62.0752\tvalid_0's l2: 10380.2\tvalid_0's rmse: 101.883\n",
      "Early stopping, best iteration is:                                  \n",
      "[69]\tvalid_0's l1: 61.4281\tvalid_0's l2: 10083.7\tvalid_0's rmse: 100.418\n",
      "El MAE para este ensayo es: 61.43                                   \n",
      "El MSE para este ensayo es: 10083.69                                \n",
      "El RMSE para este ensayo es: 100.42                                 \n",
      "El R2 para este ensayo es: 0.6                                      \n",
      "Training until validation scores don't improve for 5 rounds         \n",
      "[50]\tvalid_0's l1: 66.8014\tvalid_0's l2: 11312.5\tvalid_0's rmse: 106.36\n",
      "[100]\tvalid_0's l1: 61.6991\tvalid_0's l2: 10168.8\tvalid_0's rmse: 100.841\n",
      "[150]\tvalid_0's l1: 60.7859\tvalid_0's l2: 9913.41\tvalid_0's rmse: 99.5661\n",
      "[200]\tvalid_0's l1: 60.4706\tvalid_0's l2: 9804.67\tvalid_0's rmse: 99.0185\n",
      "Early stopping, best iteration is:                                  \n",
      "[225]\tvalid_0's l1: 60.3849\tvalid_0's l2: 9777.94\tvalid_0's rmse: 98.8834\n",
      "El MAE para este ensayo es: 60.38                                   \n",
      "El MSE para este ensayo es: 9777.94                                 \n",
      "El RMSE para este ensayo es: 98.88                                  \n",
      "El R2 para este ensayo es: 0.62                                     \n",
      "Training until validation scores don't improve for 5 rounds         \n",
      "[50]\tvalid_0's l1: 61.2713\tvalid_0's l2: 9916.79\tvalid_0's rmse: 99.5831\n",
      "Early stopping, best iteration is:                                  \n",
      "[90]\tvalid_0's l1: 60.2134\tvalid_0's l2: 9604.32\tvalid_0's rmse: 98.0016\n",
      "El MAE para este ensayo es: 60.21                                   \n",
      "El MSE para este ensayo es: 9604.32                                 \n",
      "El RMSE para este ensayo es: 98.0                                   \n",
      "El R2 para este ensayo es: 0.62                                     \n",
      "Training until validation scores don't improve for 5 rounds         \n",
      "[50]\tvalid_0's l1: 62.4779\tvalid_0's l2: 10267.8\tvalid_0's rmse: 101.33\n",
      "[100]\tvalid_0's l1: 60.7806\tvalid_0's l2: 9788.14\tvalid_0's rmse: 98.935\n",
      "Early stopping, best iteration is:                                 \n",
      "[101]\tvalid_0's l1: 60.7663\tvalid_0's l2: 9780.59\tvalid_0's rmse: 98.8969\n",
      "El MAE para este ensayo es: 60.77                                  \n",
      "El MSE para este ensayo es: 9780.59                                \n",
      "El RMSE para este ensayo es: 98.9                                  \n",
      "El R2 para este ensayo es: 0.62                                    \n",
      "Training until validation scores don't improve for 5 rounds        \n",
      "[50]\tvalid_0's l1: 60.7708\tvalid_0's l2: 9728.44\tvalid_0's rmse: 98.6329\n",
      "Early stopping, best iteration is:                                 \n",
      "[73]\tvalid_0's l1: 59.9747\tvalid_0's l2: 9561.46\tvalid_0's rmse: 97.7827\n",
      "El MAE para este ensayo es: 59.97                                  \n",
      "El MSE para este ensayo es: 9561.46                                \n",
      "El RMSE para este ensayo es: 97.78                                 \n",
      "El R2 para este ensayo es: 0.62                                    \n",
      "Training until validation scores don't improve for 5 rounds         \n",
      "[50]\tvalid_0's l1: 60.9842\tvalid_0's l2: 9815.83\tvalid_0's rmse: 99.0749\n",
      "Early stopping, best iteration is:                                  \n",
      "[55]\tvalid_0's l1: 60.8114\tvalid_0's l2: 9764.74\tvalid_0's rmse: 98.8167\n",
      "El MAE para este ensayo es: 60.81                                   \n",
      "El MSE para este ensayo es: 9764.74                                 \n",
      "El RMSE para este ensayo es: 98.82                                  \n",
      "El R2 para este ensayo es: 0.62                                     \n",
      "Training until validation scores don't improve for 5 rounds         \n",
      "[50]\tvalid_0's l1: 61.7892\tvalid_0's l2: 10226.9\tvalid_0's rmse: 101.128\n",
      "Early stopping, best iteration is:                                  \n",
      "[70]\tvalid_0's l1: 61.2732\tvalid_0's l2: 10040\tvalid_0's rmse: 100.2\n",
      "El MAE para este ensayo es: 61.27                                   \n",
      "El MSE para este ensayo es: 10040.01                                \n",
      "El RMSE para este ensayo es: 100.2                                  \n",
      "El R2 para este ensayo es: 0.61                                     \n",
      "Training until validation scores don't improve for 5 rounds         \n",
      "Early stopping, best iteration is:                                  \n",
      "[41]\tvalid_0's l1: 60.9545\tvalid_0's l2: 9854.46\tvalid_0's rmse: 99.2696\n",
      "El MAE para este ensayo es: 60.95                                   \n",
      "El MSE para este ensayo es: 9854.46                                 \n",
      "El RMSE para este ensayo es: 99.27                                  \n",
      "El R2 para este ensayo es: 0.61                                     \n",
      "Training until validation scores don't improve for 5 rounds         \n",
      "[50]\tvalid_0's l1: 61.1325\tvalid_0's l2: 9763.72\tvalid_0's rmse: 98.8115\n",
      "Early stopping, best iteration is:                                  \n",
      "[64]\tvalid_0's l1: 60.6726\tvalid_0's l2: 9582.09\tvalid_0's rmse: 97.8882\n",
      "El MAE para este ensayo es: 60.67                                   \n",
      "El MSE para este ensayo es: 9582.09                                 \n",
      "El RMSE para este ensayo es: 97.89                                  \n",
      "El R2 para este ensayo es: 0.62                                     \n",
      "100%|██████████| 50/50 [00:23<00:00,  2.12trial/s, best loss: 97.78]\n"
     ]
    }
   ],
   "source": [
    "trials = Trials()\n",
    "best = fmin(regression_tuning,space, algo=tpe.suggest, max_evals = 50,trials = trials)"
   ]
  },
  {
   "cell_type": "code",
   "execution_count": 20,
   "metadata": {},
   "outputs": [
    {
     "data": {
      "text/html": [
       "<div>\n",
       "<style scoped>\n",
       "    .dataframe tbody tr th:only-of-type {\n",
       "        vertical-align: middle;\n",
       "    }\n",
       "\n",
       "    .dataframe tbody tr th {\n",
       "        vertical-align: top;\n",
       "    }\n",
       "\n",
       "    .dataframe thead th {\n",
       "        text-align: right;\n",
       "    }\n",
       "</style>\n",
       "<table border=\"1\" class=\"dataframe\">\n",
       "  <thead>\n",
       "    <tr style=\"text-align: right;\">\n",
       "      <th></th>\n",
       "      <th>max_depth</th>\n",
       "      <th>learning_rate</th>\n",
       "      <th>num_leaves</th>\n",
       "      <th>min_child_samples</th>\n",
       "      <th>reg_alpha</th>\n",
       "      <th>reg_lambda</th>\n",
       "      <th>RMSE</th>\n",
       "    </tr>\n",
       "  </thead>\n",
       "  <tbody>\n",
       "    <tr>\n",
       "      <th>45</th>\n",
       "      <td>10.0</td>\n",
       "      <td>0.166924</td>\n",
       "      <td>31.0</td>\n",
       "      <td>5.0</td>\n",
       "      <td>1.722928</td>\n",
       "      <td>0.803771</td>\n",
       "      <td>97.78</td>\n",
       "    </tr>\n",
       "    <tr>\n",
       "      <th>49</th>\n",
       "      <td>10.0</td>\n",
       "      <td>0.163299</td>\n",
       "      <td>31.0</td>\n",
       "      <td>10.0</td>\n",
       "      <td>1.985524</td>\n",
       "      <td>1.292074</td>\n",
       "      <td>97.89</td>\n",
       "    </tr>\n",
       "    <tr>\n",
       "      <th>43</th>\n",
       "      <td>10.0</td>\n",
       "      <td>0.086406</td>\n",
       "      <td>40.0</td>\n",
       "      <td>5.0</td>\n",
       "      <td>1.439807</td>\n",
       "      <td>0.973507</td>\n",
       "      <td>98.00</td>\n",
       "    </tr>\n",
       "    <tr>\n",
       "      <th>24</th>\n",
       "      <td>9.0</td>\n",
       "      <td>0.034429</td>\n",
       "      <td>47.0</td>\n",
       "      <td>13.0</td>\n",
       "      <td>0.203552</td>\n",
       "      <td>0.467078</td>\n",
       "      <td>98.03</td>\n",
       "    </tr>\n",
       "    <tr>\n",
       "      <th>3</th>\n",
       "      <td>9.0</td>\n",
       "      <td>0.079243</td>\n",
       "      <td>44.0</td>\n",
       "      <td>18.0</td>\n",
       "      <td>0.234596</td>\n",
       "      <td>1.163134</td>\n",
       "      <td>98.03</td>\n",
       "    </tr>\n",
       "    <tr>\n",
       "      <th>0</th>\n",
       "      <td>9.0</td>\n",
       "      <td>0.061342</td>\n",
       "      <td>36.0</td>\n",
       "      <td>12.0</td>\n",
       "      <td>1.551938</td>\n",
       "      <td>0.099969</td>\n",
       "      <td>98.31</td>\n",
       "    </tr>\n",
       "    <tr>\n",
       "      <th>22</th>\n",
       "      <td>9.0</td>\n",
       "      <td>0.041392</td>\n",
       "      <td>46.0</td>\n",
       "      <td>19.0</td>\n",
       "      <td>0.015434</td>\n",
       "      <td>0.007049</td>\n",
       "      <td>98.38</td>\n",
       "    </tr>\n",
       "    <tr>\n",
       "      <th>19</th>\n",
       "      <td>10.0</td>\n",
       "      <td>0.109776</td>\n",
       "      <td>43.0</td>\n",
       "      <td>10.0</td>\n",
       "      <td>0.368153</td>\n",
       "      <td>0.931248</td>\n",
       "      <td>98.42</td>\n",
       "    </tr>\n",
       "    <tr>\n",
       "      <th>36</th>\n",
       "      <td>9.0</td>\n",
       "      <td>0.100999</td>\n",
       "      <td>50.0</td>\n",
       "      <td>29.0</td>\n",
       "      <td>0.853450</td>\n",
       "      <td>0.418253</td>\n",
       "      <td>98.43</td>\n",
       "    </tr>\n",
       "    <tr>\n",
       "      <th>28</th>\n",
       "      <td>9.0</td>\n",
       "      <td>0.099259</td>\n",
       "      <td>50.0</td>\n",
       "      <td>9.0</td>\n",
       "      <td>0.217658</td>\n",
       "      <td>1.684124</td>\n",
       "      <td>98.44</td>\n",
       "    </tr>\n",
       "    <tr>\n",
       "      <th>34</th>\n",
       "      <td>9.0</td>\n",
       "      <td>0.163580</td>\n",
       "      <td>45.0</td>\n",
       "      <td>16.0</td>\n",
       "      <td>0.457655</td>\n",
       "      <td>0.888651</td>\n",
       "      <td>98.47</td>\n",
       "    </tr>\n",
       "    <tr>\n",
       "      <th>12</th>\n",
       "      <td>10.0</td>\n",
       "      <td>0.120577</td>\n",
       "      <td>26.0</td>\n",
       "      <td>15.0</td>\n",
       "      <td>1.680403</td>\n",
       "      <td>0.351072</td>\n",
       "      <td>98.53</td>\n",
       "    </tr>\n",
       "    <tr>\n",
       "      <th>26</th>\n",
       "      <td>9.0</td>\n",
       "      <td>0.035585</td>\n",
       "      <td>40.0</td>\n",
       "      <td>6.0</td>\n",
       "      <td>0.571771</td>\n",
       "      <td>0.595161</td>\n",
       "      <td>98.61</td>\n",
       "    </tr>\n",
       "    <tr>\n",
       "      <th>23</th>\n",
       "      <td>7.0</td>\n",
       "      <td>0.092201</td>\n",
       "      <td>37.0</td>\n",
       "      <td>13.0</td>\n",
       "      <td>1.269628</td>\n",
       "      <td>1.506262</td>\n",
       "      <td>98.64</td>\n",
       "    </tr>\n",
       "    <tr>\n",
       "      <th>7</th>\n",
       "      <td>10.0</td>\n",
       "      <td>0.137284</td>\n",
       "      <td>49.0</td>\n",
       "      <td>27.0</td>\n",
       "      <td>1.884209</td>\n",
       "      <td>1.331914</td>\n",
       "      <td>98.70</td>\n",
       "    </tr>\n",
       "    <tr>\n",
       "      <th>6</th>\n",
       "      <td>8.0</td>\n",
       "      <td>0.057830</td>\n",
       "      <td>49.0</td>\n",
       "      <td>11.0</td>\n",
       "      <td>1.058149</td>\n",
       "      <td>0.994467</td>\n",
       "      <td>98.79</td>\n",
       "    </tr>\n",
       "    <tr>\n",
       "      <th>27</th>\n",
       "      <td>7.0</td>\n",
       "      <td>0.077959</td>\n",
       "      <td>46.0</td>\n",
       "      <td>14.0</td>\n",
       "      <td>0.177305</td>\n",
       "      <td>0.201564</td>\n",
       "      <td>98.79</td>\n",
       "    </tr>\n",
       "    <tr>\n",
       "      <th>21</th>\n",
       "      <td>9.0</td>\n",
       "      <td>0.087070</td>\n",
       "      <td>21.0</td>\n",
       "      <td>13.0</td>\n",
       "      <td>0.638823</td>\n",
       "      <td>1.356431</td>\n",
       "      <td>98.80</td>\n",
       "    </tr>\n",
       "    <tr>\n",
       "      <th>46</th>\n",
       "      <td>10.0</td>\n",
       "      <td>0.171009</td>\n",
       "      <td>31.0</td>\n",
       "      <td>5.0</td>\n",
       "      <td>1.775586</td>\n",
       "      <td>1.105954</td>\n",
       "      <td>98.82</td>\n",
       "    </tr>\n",
       "    <tr>\n",
       "      <th>42</th>\n",
       "      <td>9.0</td>\n",
       "      <td>0.034967</td>\n",
       "      <td>44.0</td>\n",
       "      <td>27.0</td>\n",
       "      <td>1.051352</td>\n",
       "      <td>1.993609</td>\n",
       "      <td>98.88</td>\n",
       "    </tr>\n",
       "    <tr>\n",
       "      <th>31</th>\n",
       "      <td>9.0</td>\n",
       "      <td>0.073865</td>\n",
       "      <td>39.0</td>\n",
       "      <td>21.0</td>\n",
       "      <td>0.763296</td>\n",
       "      <td>0.510206</td>\n",
       "      <td>98.90</td>\n",
       "    </tr>\n",
       "    <tr>\n",
       "      <th>44</th>\n",
       "      <td>10.0</td>\n",
       "      <td>0.064884</td>\n",
       "      <td>40.0</td>\n",
       "      <td>8.0</td>\n",
       "      <td>1.484234</td>\n",
       "      <td>0.944433</td>\n",
       "      <td>98.90</td>\n",
       "    </tr>\n",
       "    <tr>\n",
       "      <th>8</th>\n",
       "      <td>8.0</td>\n",
       "      <td>0.184782</td>\n",
       "      <td>33.0</td>\n",
       "      <td>10.0</td>\n",
       "      <td>0.340892</td>\n",
       "      <td>0.281333</td>\n",
       "      <td>98.90</td>\n",
       "    </tr>\n",
       "    <tr>\n",
       "      <th>18</th>\n",
       "      <td>10.0</td>\n",
       "      <td>0.182371</td>\n",
       "      <td>33.0</td>\n",
       "      <td>25.0</td>\n",
       "      <td>0.951739</td>\n",
       "      <td>1.325296</td>\n",
       "      <td>98.91</td>\n",
       "    </tr>\n",
       "    <tr>\n",
       "      <th>9</th>\n",
       "      <td>9.0</td>\n",
       "      <td>0.058603</td>\n",
       "      <td>44.0</td>\n",
       "      <td>17.0</td>\n",
       "      <td>1.346748</td>\n",
       "      <td>0.822461</td>\n",
       "      <td>98.92</td>\n",
       "    </tr>\n",
       "    <tr>\n",
       "      <th>37</th>\n",
       "      <td>9.0</td>\n",
       "      <td>0.069837</td>\n",
       "      <td>42.0</td>\n",
       "      <td>24.0</td>\n",
       "      <td>0.267134</td>\n",
       "      <td>1.796585</td>\n",
       "      <td>99.25</td>\n",
       "    </tr>\n",
       "    <tr>\n",
       "      <th>48</th>\n",
       "      <td>10.0</td>\n",
       "      <td>0.198889</td>\n",
       "      <td>29.0</td>\n",
       "      <td>7.0</td>\n",
       "      <td>1.791907</td>\n",
       "      <td>1.008003</td>\n",
       "      <td>99.27</td>\n",
       "    </tr>\n",
       "    <tr>\n",
       "      <th>25</th>\n",
       "      <td>9.0</td>\n",
       "      <td>0.030784</td>\n",
       "      <td>47.0</td>\n",
       "      <td>19.0</td>\n",
       "      <td>0.170260</td>\n",
       "      <td>0.444465</td>\n",
       "      <td>99.34</td>\n",
       "    </tr>\n",
       "    <tr>\n",
       "      <th>15</th>\n",
       "      <td>8.0</td>\n",
       "      <td>0.048843</td>\n",
       "      <td>25.0</td>\n",
       "      <td>16.0</td>\n",
       "      <td>1.623074</td>\n",
       "      <td>0.549311</td>\n",
       "      <td>99.37</td>\n",
       "    </tr>\n",
       "    <tr>\n",
       "      <th>40</th>\n",
       "      <td>6.0</td>\n",
       "      <td>0.052890</td>\n",
       "      <td>32.0</td>\n",
       "      <td>20.0</td>\n",
       "      <td>0.396166</td>\n",
       "      <td>1.193016</td>\n",
       "      <td>99.48</td>\n",
       "    </tr>\n",
       "    <tr>\n",
       "      <th>2</th>\n",
       "      <td>9.0</td>\n",
       "      <td>0.059493</td>\n",
       "      <td>41.0</td>\n",
       "      <td>15.0</td>\n",
       "      <td>0.442635</td>\n",
       "      <td>1.957709</td>\n",
       "      <td>99.57</td>\n",
       "    </tr>\n",
       "    <tr>\n",
       "      <th>16</th>\n",
       "      <td>8.0</td>\n",
       "      <td>0.065778</td>\n",
       "      <td>37.0</td>\n",
       "      <td>19.0</td>\n",
       "      <td>1.182753</td>\n",
       "      <td>0.826551</td>\n",
       "      <td>99.58</td>\n",
       "    </tr>\n",
       "    <tr>\n",
       "      <th>32</th>\n",
       "      <td>9.0</td>\n",
       "      <td>0.152456</td>\n",
       "      <td>42.0</td>\n",
       "      <td>8.0</td>\n",
       "      <td>0.009104</td>\n",
       "      <td>0.661313</td>\n",
       "      <td>99.71</td>\n",
       "    </tr>\n",
       "    <tr>\n",
       "      <th>39</th>\n",
       "      <td>7.0</td>\n",
       "      <td>0.131554</td>\n",
       "      <td>47.0</td>\n",
       "      <td>11.0</td>\n",
       "      <td>0.562970</td>\n",
       "      <td>0.706343</td>\n",
       "      <td>99.89</td>\n",
       "    </tr>\n",
       "    <tr>\n",
       "      <th>20</th>\n",
       "      <td>7.0</td>\n",
       "      <td>0.025976</td>\n",
       "      <td>38.0</td>\n",
       "      <td>6.0</td>\n",
       "      <td>0.040997</td>\n",
       "      <td>1.614210</td>\n",
       "      <td>100.19</td>\n",
       "    </tr>\n",
       "    <tr>\n",
       "      <th>47</th>\n",
       "      <td>10.0</td>\n",
       "      <td>0.147317</td>\n",
       "      <td>23.0</td>\n",
       "      <td>5.0</td>\n",
       "      <td>1.335356</td>\n",
       "      <td>0.840370</td>\n",
       "      <td>100.20</td>\n",
       "    </tr>\n",
       "    <tr>\n",
       "      <th>17</th>\n",
       "      <td>5.0</td>\n",
       "      <td>0.144383</td>\n",
       "      <td>27.0</td>\n",
       "      <td>22.0</td>\n",
       "      <td>0.920465</td>\n",
       "      <td>1.109968</td>\n",
       "      <td>100.34</td>\n",
       "    </tr>\n",
       "    <tr>\n",
       "      <th>11</th>\n",
       "      <td>6.0</td>\n",
       "      <td>0.054535</td>\n",
       "      <td>30.0</td>\n",
       "      <td>26.0</td>\n",
       "      <td>1.119445</td>\n",
       "      <td>1.881818</td>\n",
       "      <td>100.36</td>\n",
       "    </tr>\n",
       "    <tr>\n",
       "      <th>33</th>\n",
       "      <td>6.0</td>\n",
       "      <td>0.044037</td>\n",
       "      <td>34.0</td>\n",
       "      <td>23.0</td>\n",
       "      <td>0.325705</td>\n",
       "      <td>1.194995</td>\n",
       "      <td>100.38</td>\n",
       "    </tr>\n",
       "    <tr>\n",
       "      <th>4</th>\n",
       "      <td>9.0</td>\n",
       "      <td>0.192270</td>\n",
       "      <td>29.0</td>\n",
       "      <td>25.0</td>\n",
       "      <td>1.958572</td>\n",
       "      <td>1.068539</td>\n",
       "      <td>100.41</td>\n",
       "    </tr>\n",
       "    <tr>\n",
       "      <th>41</th>\n",
       "      <td>8.0</td>\n",
       "      <td>0.109230</td>\n",
       "      <td>22.0</td>\n",
       "      <td>15.0</td>\n",
       "      <td>0.710432</td>\n",
       "      <td>0.346975</td>\n",
       "      <td>100.42</td>\n",
       "    </tr>\n",
       "    <tr>\n",
       "      <th>13</th>\n",
       "      <td>6.0</td>\n",
       "      <td>0.117291</td>\n",
       "      <td>25.0</td>\n",
       "      <td>8.0</td>\n",
       "      <td>1.879694</td>\n",
       "      <td>1.037022</td>\n",
       "      <td>100.47</td>\n",
       "    </tr>\n",
       "    <tr>\n",
       "      <th>1</th>\n",
       "      <td>6.0</td>\n",
       "      <td>0.070534</td>\n",
       "      <td>27.0</td>\n",
       "      <td>16.0</td>\n",
       "      <td>1.882476</td>\n",
       "      <td>1.884685</td>\n",
       "      <td>100.50</td>\n",
       "    </tr>\n",
       "    <tr>\n",
       "      <th>35</th>\n",
       "      <td>5.0</td>\n",
       "      <td>0.126033</td>\n",
       "      <td>35.0</td>\n",
       "      <td>14.0</td>\n",
       "      <td>0.150472</td>\n",
       "      <td>1.490459</td>\n",
       "      <td>101.24</td>\n",
       "    </tr>\n",
       "    <tr>\n",
       "      <th>14</th>\n",
       "      <td>4.0</td>\n",
       "      <td>0.199615</td>\n",
       "      <td>41.0</td>\n",
       "      <td>21.0</td>\n",
       "      <td>1.491102</td>\n",
       "      <td>0.740560</td>\n",
       "      <td>101.63</td>\n",
       "    </tr>\n",
       "    <tr>\n",
       "      <th>10</th>\n",
       "      <td>4.0</td>\n",
       "      <td>0.085334</td>\n",
       "      <td>29.0</td>\n",
       "      <td>29.0</td>\n",
       "      <td>0.975868</td>\n",
       "      <td>0.003162</td>\n",
       "      <td>102.37</td>\n",
       "    </tr>\n",
       "    <tr>\n",
       "      <th>5</th>\n",
       "      <td>5.0</td>\n",
       "      <td>0.015900</td>\n",
       "      <td>28.0</td>\n",
       "      <td>22.0</td>\n",
       "      <td>0.792279</td>\n",
       "      <td>0.735711</td>\n",
       "      <td>102.75</td>\n",
       "    </tr>\n",
       "    <tr>\n",
       "      <th>30</th>\n",
       "      <td>4.0</td>\n",
       "      <td>0.020936</td>\n",
       "      <td>48.0</td>\n",
       "      <td>18.0</td>\n",
       "      <td>0.507773</td>\n",
       "      <td>0.143144</td>\n",
       "      <td>103.71</td>\n",
       "    </tr>\n",
       "    <tr>\n",
       "      <th>29</th>\n",
       "      <td>5.0</td>\n",
       "      <td>0.010968</td>\n",
       "      <td>44.0</td>\n",
       "      <td>12.0</td>\n",
       "      <td>0.692791</td>\n",
       "      <td>1.218678</td>\n",
       "      <td>104.24</td>\n",
       "    </tr>\n",
       "    <tr>\n",
       "      <th>38</th>\n",
       "      <td>4.0</td>\n",
       "      <td>0.011814</td>\n",
       "      <td>49.0</td>\n",
       "      <td>17.0</td>\n",
       "      <td>0.089587</td>\n",
       "      <td>0.241540</td>\n",
       "      <td>106.22</td>\n",
       "    </tr>\n",
       "  </tbody>\n",
       "</table>\n",
       "</div>"
      ],
      "text/plain": [
       "    max_depth  learning_rate  num_leaves  min_child_samples  reg_alpha  \\\n",
       "45       10.0       0.166924        31.0                5.0   1.722928   \n",
       "49       10.0       0.163299        31.0               10.0   1.985524   \n",
       "43       10.0       0.086406        40.0                5.0   1.439807   \n",
       "24        9.0       0.034429        47.0               13.0   0.203552   \n",
       "3         9.0       0.079243        44.0               18.0   0.234596   \n",
       "0         9.0       0.061342        36.0               12.0   1.551938   \n",
       "22        9.0       0.041392        46.0               19.0   0.015434   \n",
       "19       10.0       0.109776        43.0               10.0   0.368153   \n",
       "36        9.0       0.100999        50.0               29.0   0.853450   \n",
       "28        9.0       0.099259        50.0                9.0   0.217658   \n",
       "34        9.0       0.163580        45.0               16.0   0.457655   \n",
       "12       10.0       0.120577        26.0               15.0   1.680403   \n",
       "26        9.0       0.035585        40.0                6.0   0.571771   \n",
       "23        7.0       0.092201        37.0               13.0   1.269628   \n",
       "7        10.0       0.137284        49.0               27.0   1.884209   \n",
       "6         8.0       0.057830        49.0               11.0   1.058149   \n",
       "27        7.0       0.077959        46.0               14.0   0.177305   \n",
       "21        9.0       0.087070        21.0               13.0   0.638823   \n",
       "46       10.0       0.171009        31.0                5.0   1.775586   \n",
       "42        9.0       0.034967        44.0               27.0   1.051352   \n",
       "31        9.0       0.073865        39.0               21.0   0.763296   \n",
       "44       10.0       0.064884        40.0                8.0   1.484234   \n",
       "8         8.0       0.184782        33.0               10.0   0.340892   \n",
       "18       10.0       0.182371        33.0               25.0   0.951739   \n",
       "9         9.0       0.058603        44.0               17.0   1.346748   \n",
       "37        9.0       0.069837        42.0               24.0   0.267134   \n",
       "48       10.0       0.198889        29.0                7.0   1.791907   \n",
       "25        9.0       0.030784        47.0               19.0   0.170260   \n",
       "15        8.0       0.048843        25.0               16.0   1.623074   \n",
       "40        6.0       0.052890        32.0               20.0   0.396166   \n",
       "2         9.0       0.059493        41.0               15.0   0.442635   \n",
       "16        8.0       0.065778        37.0               19.0   1.182753   \n",
       "32        9.0       0.152456        42.0                8.0   0.009104   \n",
       "39        7.0       0.131554        47.0               11.0   0.562970   \n",
       "20        7.0       0.025976        38.0                6.0   0.040997   \n",
       "47       10.0       0.147317        23.0                5.0   1.335356   \n",
       "17        5.0       0.144383        27.0               22.0   0.920465   \n",
       "11        6.0       0.054535        30.0               26.0   1.119445   \n",
       "33        6.0       0.044037        34.0               23.0   0.325705   \n",
       "4         9.0       0.192270        29.0               25.0   1.958572   \n",
       "41        8.0       0.109230        22.0               15.0   0.710432   \n",
       "13        6.0       0.117291        25.0                8.0   1.879694   \n",
       "1         6.0       0.070534        27.0               16.0   1.882476   \n",
       "35        5.0       0.126033        35.0               14.0   0.150472   \n",
       "14        4.0       0.199615        41.0               21.0   1.491102   \n",
       "10        4.0       0.085334        29.0               29.0   0.975868   \n",
       "5         5.0       0.015900        28.0               22.0   0.792279   \n",
       "30        4.0       0.020936        48.0               18.0   0.507773   \n",
       "29        5.0       0.010968        44.0               12.0   0.692791   \n",
       "38        4.0       0.011814        49.0               17.0   0.089587   \n",
       "\n",
       "    reg_lambda    RMSE  \n",
       "45    0.803771   97.78  \n",
       "49    1.292074   97.89  \n",
       "43    0.973507   98.00  \n",
       "24    0.467078   98.03  \n",
       "3     1.163134   98.03  \n",
       "0     0.099969   98.31  \n",
       "22    0.007049   98.38  \n",
       "19    0.931248   98.42  \n",
       "36    0.418253   98.43  \n",
       "28    1.684124   98.44  \n",
       "34    0.888651   98.47  \n",
       "12    0.351072   98.53  \n",
       "26    0.595161   98.61  \n",
       "23    1.506262   98.64  \n",
       "7     1.331914   98.70  \n",
       "6     0.994467   98.79  \n",
       "27    0.201564   98.79  \n",
       "21    1.356431   98.80  \n",
       "46    1.105954   98.82  \n",
       "42    1.993609   98.88  \n",
       "31    0.510206   98.90  \n",
       "44    0.944433   98.90  \n",
       "8     0.281333   98.90  \n",
       "18    1.325296   98.91  \n",
       "9     0.822461   98.92  \n",
       "37    1.796585   99.25  \n",
       "48    1.008003   99.27  \n",
       "25    0.444465   99.34  \n",
       "15    0.549311   99.37  \n",
       "40    1.193016   99.48  \n",
       "2     1.957709   99.57  \n",
       "16    0.826551   99.58  \n",
       "32    0.661313   99.71  \n",
       "39    0.706343   99.89  \n",
       "20    1.614210  100.19  \n",
       "47    0.840370  100.20  \n",
       "17    1.109968  100.34  \n",
       "11    1.881818  100.36  \n",
       "33    1.194995  100.38  \n",
       "4     1.068539  100.41  \n",
       "41    0.346975  100.42  \n",
       "13    1.037022  100.47  \n",
       "1     1.884685  100.50  \n",
       "35    1.490459  101.24  \n",
       "14    0.740560  101.63  \n",
       "10    0.003162  102.37  \n",
       "5     0.735711  102.75  \n",
       "30    0.143144  103.71  \n",
       "29    1.218678  104.24  \n",
       "38    0.241540  106.22  "
      ]
     },
     "execution_count": 20,
     "metadata": {},
     "output_type": "execute_result"
    }
   ],
   "source": [
    "results = pd.DataFrame(columns = [\"max_depth\",\"learning_rate\",\"num_leaves\",\"min_child_samples\",\"reg_alpha\",\"reg_lambda\",\"RMSE\"])\n",
    "\n",
    "models = []\n",
    "for trial in trials:\n",
    "    results = results.append(pd.Series(\n",
    "            {\n",
    "             \"max_depth\": trial[\"result\"][\"model\"].max_depth,\n",
    "             \"learning_rate\": trial[\"result\"][\"model\"].learning_rate,\n",
    "             \"num_leaves\": trial[\"result\"][\"model\"].num_leaves,\n",
    "             \"min_child_samples\": trial[\"result\"][\"model\"].min_child_samples,\n",
    "             \"reg_alpha\": trial[\"result\"][\"model\"].reg_alpha,\n",
    "             \"reg_lambda\": trial[\"result\"][\"model\"].reg_lambda,\n",
    "             \"RMSE\": trial[\"result\"][\"loss\"]\n",
    "            }\n",
    "        ),\n",
    "        ignore_index = True\n",
    "    )\n",
    "    models.append(trial[\"result\"][\"model\"])\n",
    "    \n",
    "results.sort_values(\"RMSE\",ascending = True)"
   ]
  },
  {
   "cell_type": "code",
   "execution_count": 22,
   "metadata": {},
   "outputs": [],
   "source": [
    "model = models[45]"
   ]
  },
  {
   "cell_type": "code",
   "execution_count": 23,
   "metadata": {},
   "outputs": [
    {
     "data": {
      "application/vnd.plotly.v1+json": {
       "config": {
        "plotlyServerURL": "https://plot.ly"
       },
       "data": [
        {
         "marker": {
          "color": "steelblue"
         },
         "name": "Importancia de variables",
         "orientation": "h",
         "type": "bar",
         "x": [
          0,
          57439.099609375,
          77169.19921875,
          766403.2998046875,
          802929.9428710938,
          1019125.0424804688,
          2223605.3974609375,
          9174124.478515625,
          13960814.78515625,
          14686621.602539062,
          25742607.040771484,
          92885752.17260742,
          125941426.15551758,
          159428829.52026367,
          182679642.14819336
         ],
         "y": [
          "neighbourhood_group_cleansed_Staten_Island",
          "neighbourhood_group_cleansed_Queens",
          "neighbourhood_group_cleansed_Bronx",
          "has_wifi",
          "has_heating",
          "neighbourhood_group_cleansed_Brooklyn",
          "has_dryer",
          "has_tv",
          "beds",
          "has_kitchen",
          "neighbourhood_group_cleansed_Manhattan",
          "baths",
          "latitude",
          "longitude",
          "accommodates"
         ]
        }
       ],
       "layout": {
        "template": {
         "data": {
          "bar": [
           {
            "error_x": {
             "color": "#2a3f5f"
            },
            "error_y": {
             "color": "#2a3f5f"
            },
            "marker": {
             "line": {
              "color": "#E5ECF6",
              "width": 0.5
             },
             "pattern": {
              "fillmode": "overlay",
              "size": 10,
              "solidity": 0.2
             }
            },
            "type": "bar"
           }
          ],
          "barpolar": [
           {
            "marker": {
             "line": {
              "color": "#E5ECF6",
              "width": 0.5
             },
             "pattern": {
              "fillmode": "overlay",
              "size": 10,
              "solidity": 0.2
             }
            },
            "type": "barpolar"
           }
          ],
          "carpet": [
           {
            "aaxis": {
             "endlinecolor": "#2a3f5f",
             "gridcolor": "white",
             "linecolor": "white",
             "minorgridcolor": "white",
             "startlinecolor": "#2a3f5f"
            },
            "baxis": {
             "endlinecolor": "#2a3f5f",
             "gridcolor": "white",
             "linecolor": "white",
             "minorgridcolor": "white",
             "startlinecolor": "#2a3f5f"
            },
            "type": "carpet"
           }
          ],
          "choropleth": [
           {
            "colorbar": {
             "outlinewidth": 0,
             "ticks": ""
            },
            "type": "choropleth"
           }
          ],
          "contour": [
           {
            "colorbar": {
             "outlinewidth": 0,
             "ticks": ""
            },
            "colorscale": [
             [
              0,
              "#0d0887"
             ],
             [
              0.1111111111111111,
              "#46039f"
             ],
             [
              0.2222222222222222,
              "#7201a8"
             ],
             [
              0.3333333333333333,
              "#9c179e"
             ],
             [
              0.4444444444444444,
              "#bd3786"
             ],
             [
              0.5555555555555556,
              "#d8576b"
             ],
             [
              0.6666666666666666,
              "#ed7953"
             ],
             [
              0.7777777777777778,
              "#fb9f3a"
             ],
             [
              0.8888888888888888,
              "#fdca26"
             ],
             [
              1,
              "#f0f921"
             ]
            ],
            "type": "contour"
           }
          ],
          "contourcarpet": [
           {
            "colorbar": {
             "outlinewidth": 0,
             "ticks": ""
            },
            "type": "contourcarpet"
           }
          ],
          "heatmap": [
           {
            "colorbar": {
             "outlinewidth": 0,
             "ticks": ""
            },
            "colorscale": [
             [
              0,
              "#0d0887"
             ],
             [
              0.1111111111111111,
              "#46039f"
             ],
             [
              0.2222222222222222,
              "#7201a8"
             ],
             [
              0.3333333333333333,
              "#9c179e"
             ],
             [
              0.4444444444444444,
              "#bd3786"
             ],
             [
              0.5555555555555556,
              "#d8576b"
             ],
             [
              0.6666666666666666,
              "#ed7953"
             ],
             [
              0.7777777777777778,
              "#fb9f3a"
             ],
             [
              0.8888888888888888,
              "#fdca26"
             ],
             [
              1,
              "#f0f921"
             ]
            ],
            "type": "heatmap"
           }
          ],
          "heatmapgl": [
           {
            "colorbar": {
             "outlinewidth": 0,
             "ticks": ""
            },
            "colorscale": [
             [
              0,
              "#0d0887"
             ],
             [
              0.1111111111111111,
              "#46039f"
             ],
             [
              0.2222222222222222,
              "#7201a8"
             ],
             [
              0.3333333333333333,
              "#9c179e"
             ],
             [
              0.4444444444444444,
              "#bd3786"
             ],
             [
              0.5555555555555556,
              "#d8576b"
             ],
             [
              0.6666666666666666,
              "#ed7953"
             ],
             [
              0.7777777777777778,
              "#fb9f3a"
             ],
             [
              0.8888888888888888,
              "#fdca26"
             ],
             [
              1,
              "#f0f921"
             ]
            ],
            "type": "heatmapgl"
           }
          ],
          "histogram": [
           {
            "marker": {
             "pattern": {
              "fillmode": "overlay",
              "size": 10,
              "solidity": 0.2
             }
            },
            "type": "histogram"
           }
          ],
          "histogram2d": [
           {
            "colorbar": {
             "outlinewidth": 0,
             "ticks": ""
            },
            "colorscale": [
             [
              0,
              "#0d0887"
             ],
             [
              0.1111111111111111,
              "#46039f"
             ],
             [
              0.2222222222222222,
              "#7201a8"
             ],
             [
              0.3333333333333333,
              "#9c179e"
             ],
             [
              0.4444444444444444,
              "#bd3786"
             ],
             [
              0.5555555555555556,
              "#d8576b"
             ],
             [
              0.6666666666666666,
              "#ed7953"
             ],
             [
              0.7777777777777778,
              "#fb9f3a"
             ],
             [
              0.8888888888888888,
              "#fdca26"
             ],
             [
              1,
              "#f0f921"
             ]
            ],
            "type": "histogram2d"
           }
          ],
          "histogram2dcontour": [
           {
            "colorbar": {
             "outlinewidth": 0,
             "ticks": ""
            },
            "colorscale": [
             [
              0,
              "#0d0887"
             ],
             [
              0.1111111111111111,
              "#46039f"
             ],
             [
              0.2222222222222222,
              "#7201a8"
             ],
             [
              0.3333333333333333,
              "#9c179e"
             ],
             [
              0.4444444444444444,
              "#bd3786"
             ],
             [
              0.5555555555555556,
              "#d8576b"
             ],
             [
              0.6666666666666666,
              "#ed7953"
             ],
             [
              0.7777777777777778,
              "#fb9f3a"
             ],
             [
              0.8888888888888888,
              "#fdca26"
             ],
             [
              1,
              "#f0f921"
             ]
            ],
            "type": "histogram2dcontour"
           }
          ],
          "mesh3d": [
           {
            "colorbar": {
             "outlinewidth": 0,
             "ticks": ""
            },
            "type": "mesh3d"
           }
          ],
          "parcoords": [
           {
            "line": {
             "colorbar": {
              "outlinewidth": 0,
              "ticks": ""
             }
            },
            "type": "parcoords"
           }
          ],
          "pie": [
           {
            "automargin": true,
            "type": "pie"
           }
          ],
          "scatter": [
           {
            "fillpattern": {
             "fillmode": "overlay",
             "size": 10,
             "solidity": 0.2
            },
            "type": "scatter"
           }
          ],
          "scatter3d": [
           {
            "line": {
             "colorbar": {
              "outlinewidth": 0,
              "ticks": ""
             }
            },
            "marker": {
             "colorbar": {
              "outlinewidth": 0,
              "ticks": ""
             }
            },
            "type": "scatter3d"
           }
          ],
          "scattercarpet": [
           {
            "marker": {
             "colorbar": {
              "outlinewidth": 0,
              "ticks": ""
             }
            },
            "type": "scattercarpet"
           }
          ],
          "scattergeo": [
           {
            "marker": {
             "colorbar": {
              "outlinewidth": 0,
              "ticks": ""
             }
            },
            "type": "scattergeo"
           }
          ],
          "scattergl": [
           {
            "marker": {
             "colorbar": {
              "outlinewidth": 0,
              "ticks": ""
             }
            },
            "type": "scattergl"
           }
          ],
          "scattermapbox": [
           {
            "marker": {
             "colorbar": {
              "outlinewidth": 0,
              "ticks": ""
             }
            },
            "type": "scattermapbox"
           }
          ],
          "scatterpolar": [
           {
            "marker": {
             "colorbar": {
              "outlinewidth": 0,
              "ticks": ""
             }
            },
            "type": "scatterpolar"
           }
          ],
          "scatterpolargl": [
           {
            "marker": {
             "colorbar": {
              "outlinewidth": 0,
              "ticks": ""
             }
            },
            "type": "scatterpolargl"
           }
          ],
          "scatterternary": [
           {
            "marker": {
             "colorbar": {
              "outlinewidth": 0,
              "ticks": ""
             }
            },
            "type": "scatterternary"
           }
          ],
          "surface": [
           {
            "colorbar": {
             "outlinewidth": 0,
             "ticks": ""
            },
            "colorscale": [
             [
              0,
              "#0d0887"
             ],
             [
              0.1111111111111111,
              "#46039f"
             ],
             [
              0.2222222222222222,
              "#7201a8"
             ],
             [
              0.3333333333333333,
              "#9c179e"
             ],
             [
              0.4444444444444444,
              "#bd3786"
             ],
             [
              0.5555555555555556,
              "#d8576b"
             ],
             [
              0.6666666666666666,
              "#ed7953"
             ],
             [
              0.7777777777777778,
              "#fb9f3a"
             ],
             [
              0.8888888888888888,
              "#fdca26"
             ],
             [
              1,
              "#f0f921"
             ]
            ],
            "type": "surface"
           }
          ],
          "table": [
           {
            "cells": {
             "fill": {
              "color": "#EBF0F8"
             },
             "line": {
              "color": "white"
             }
            },
            "header": {
             "fill": {
              "color": "#C8D4E3"
             },
             "line": {
              "color": "white"
             }
            },
            "type": "table"
           }
          ]
         },
         "layout": {
          "annotationdefaults": {
           "arrowcolor": "#2a3f5f",
           "arrowhead": 0,
           "arrowwidth": 1
          },
          "autotypenumbers": "strict",
          "coloraxis": {
           "colorbar": {
            "outlinewidth": 0,
            "ticks": ""
           }
          },
          "colorscale": {
           "diverging": [
            [
             0,
             "#8e0152"
            ],
            [
             0.1,
             "#c51b7d"
            ],
            [
             0.2,
             "#de77ae"
            ],
            [
             0.3,
             "#f1b6da"
            ],
            [
             0.4,
             "#fde0ef"
            ],
            [
             0.5,
             "#f7f7f7"
            ],
            [
             0.6,
             "#e6f5d0"
            ],
            [
             0.7,
             "#b8e186"
            ],
            [
             0.8,
             "#7fbc41"
            ],
            [
             0.9,
             "#4d9221"
            ],
            [
             1,
             "#276419"
            ]
           ],
           "sequential": [
            [
             0,
             "#0d0887"
            ],
            [
             0.1111111111111111,
             "#46039f"
            ],
            [
             0.2222222222222222,
             "#7201a8"
            ],
            [
             0.3333333333333333,
             "#9c179e"
            ],
            [
             0.4444444444444444,
             "#bd3786"
            ],
            [
             0.5555555555555556,
             "#d8576b"
            ],
            [
             0.6666666666666666,
             "#ed7953"
            ],
            [
             0.7777777777777778,
             "#fb9f3a"
            ],
            [
             0.8888888888888888,
             "#fdca26"
            ],
            [
             1,
             "#f0f921"
            ]
           ],
           "sequentialminus": [
            [
             0,
             "#0d0887"
            ],
            [
             0.1111111111111111,
             "#46039f"
            ],
            [
             0.2222222222222222,
             "#7201a8"
            ],
            [
             0.3333333333333333,
             "#9c179e"
            ],
            [
             0.4444444444444444,
             "#bd3786"
            ],
            [
             0.5555555555555556,
             "#d8576b"
            ],
            [
             0.6666666666666666,
             "#ed7953"
            ],
            [
             0.7777777777777778,
             "#fb9f3a"
            ],
            [
             0.8888888888888888,
             "#fdca26"
            ],
            [
             1,
             "#f0f921"
            ]
           ]
          },
          "colorway": [
           "#636efa",
           "#EF553B",
           "#00cc96",
           "#ab63fa",
           "#FFA15A",
           "#19d3f3",
           "#FF6692",
           "#B6E880",
           "#FF97FF",
           "#FECB52"
          ],
          "font": {
           "color": "#2a3f5f"
          },
          "geo": {
           "bgcolor": "white",
           "lakecolor": "white",
           "landcolor": "#E5ECF6",
           "showlakes": true,
           "showland": true,
           "subunitcolor": "white"
          },
          "hoverlabel": {
           "align": "left"
          },
          "hovermode": "closest",
          "mapbox": {
           "style": "light"
          },
          "paper_bgcolor": "white",
          "plot_bgcolor": "#E5ECF6",
          "polar": {
           "angularaxis": {
            "gridcolor": "white",
            "linecolor": "white",
            "ticks": ""
           },
           "bgcolor": "#E5ECF6",
           "radialaxis": {
            "gridcolor": "white",
            "linecolor": "white",
            "ticks": ""
           }
          },
          "scene": {
           "xaxis": {
            "backgroundcolor": "#E5ECF6",
            "gridcolor": "white",
            "gridwidth": 2,
            "linecolor": "white",
            "showbackground": true,
            "ticks": "",
            "zerolinecolor": "white"
           },
           "yaxis": {
            "backgroundcolor": "#E5ECF6",
            "gridcolor": "white",
            "gridwidth": 2,
            "linecolor": "white",
            "showbackground": true,
            "ticks": "",
            "zerolinecolor": "white"
           },
           "zaxis": {
            "backgroundcolor": "#E5ECF6",
            "gridcolor": "white",
            "gridwidth": 2,
            "linecolor": "white",
            "showbackground": true,
            "ticks": "",
            "zerolinecolor": "white"
           }
          },
          "shapedefaults": {
           "line": {
            "color": "#2a3f5f"
           }
          },
          "ternary": {
           "aaxis": {
            "gridcolor": "white",
            "linecolor": "white",
            "ticks": ""
           },
           "baxis": {
            "gridcolor": "white",
            "linecolor": "white",
            "ticks": ""
           },
           "bgcolor": "#E5ECF6",
           "caxis": {
            "gridcolor": "white",
            "linecolor": "white",
            "ticks": ""
           }
          },
          "title": {
           "x": 0.05
          },
          "xaxis": {
           "automargin": true,
           "gridcolor": "white",
           "linecolor": "white",
           "ticks": "",
           "title": {
            "standoff": 15
           },
           "zerolinecolor": "white",
           "zerolinewidth": 2
          },
          "yaxis": {
           "automargin": true,
           "gridcolor": "white",
           "linecolor": "white",
           "ticks": "",
           "title": {
            "standoff": 15
           },
           "zerolinecolor": "white",
           "zerolinewidth": 2
          }
         }
        },
        "title": {
         "text": "Importancia de variables del modelo"
        },
        "xaxis": {
         "title": {
          "text": "Ganancia en el modelo"
         }
        },
        "yaxis": {
         "title": {
          "text": "Variable"
         }
        }
       }
      }
     },
     "metadata": {},
     "output_type": "display_data"
    }
   ],
   "source": [
    "importancia = pd.DataFrame()\n",
    "importancia[\"nombre\"] = model.feature_name_\n",
    "importancia[\"importancia\"] = model.feature_importances_\n",
    "importancia.sort_values(\"importancia\",inplace = True, ascending = True)\n",
    "\n",
    "data = [\n",
    "    go.Bar(\n",
    "        x = importancia[\"importancia\"],\n",
    "        y = importancia[\"nombre\"],\n",
    "        marker_color = \"steelblue\",\n",
    "        orientation = \"h\",\n",
    "        name = \"Importancia de variables\",\n",
    "    )\n",
    "]\n",
    "\n",
    "layout = go.Layout(title = \"Importancia de variables del modelo\", xaxis_title = \"Ganancia en el modelo\",\n",
    "                   yaxis_title = \"Variable\")\n",
    "\n",
    "fig = go.Figure(data = data, layout = layout)\n",
    "\n",
    "fig.show()"
   ]
  },
  {
   "cell_type": "markdown",
   "metadata": {},
   "source": [
    "*Como los mejores modelos son los que se han tuneado los hiperparámetros - Random Forest Regressor y LGB Regressor - son los que se consideran para usar en el Dash.*\n",
    "\n",
    "*Comparando ambos modelos, el mejor modelo de RFR tiene un RMSE de 100.90 y el Light GBM de 97.78 por lo que se empleará este último.*"
   ]
  },
  {
   "cell_type": "markdown",
   "metadata": {},
   "source": [
    "Exportar modelo con menor error"
   ]
  },
  {
   "cell_type": "code",
   "execution_count": 26,
   "metadata": {},
   "outputs": [],
   "source": [
    "pickle.dump(model, open(\"LightGBM_model_tunned.pickle\", 'wb'))"
   ]
  }
 ],
 "metadata": {
  "kernelspec": {
   "display_name": "Python 3.7.4 ('base')",
   "language": "python",
   "name": "python3"
  },
  "language_info": {
   "codemirror_mode": {
    "name": "ipython",
    "version": 3
   },
   "file_extension": ".py",
   "mimetype": "text/x-python",
   "name": "python",
   "nbconvert_exporter": "python",
   "pygments_lexer": "ipython3",
   "version": "3.7.4"
  },
  "orig_nbformat": 4,
  "vscode": {
   "interpreter": {
    "hash": "d6cb13f4b35f7c5107d308a10311d5480ad959116e5a128c8f6854de08ef574d"
   }
  }
 },
 "nbformat": 4,
 "nbformat_minor": 2
}
