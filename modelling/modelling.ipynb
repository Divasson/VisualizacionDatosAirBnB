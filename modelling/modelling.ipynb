{
 "cells": [
  {
   "cell_type": "markdown",
   "metadata": {},
   "source": [
    "## PRICE REGRESSION MODELLING"
   ]
  },
  {
   "cell_type": "markdown",
   "metadata": {},
   "source": [
    "Librerías"
   ]
  },
  {
   "cell_type": "code",
   "execution_count": 1,
   "metadata": {},
   "outputs": [],
   "source": [
    "#pip install Werkzeug==2.0.3"
   ]
  },
  {
   "cell_type": "code",
   "execution_count": 4,
   "metadata": {},
   "outputs": [],
   "source": [
    "import numpy as np\n",
    "from sklearn.decomposition import PCA\n",
    "from urllib.parse import urlencode\n",
    "import pandas as pd\n",
    "import plotly.express as px\n",
    "import plotly.io as pio\n",
    "from sklearn.model_selection import train_test_split\n",
    "from sklearn.preprocessing import StandardScaler\n",
    "import plotly.graph_objects as go\n",
    "import math\n",
    "from plotly.subplots import make_subplots\n",
    "\n",
    "import importlib.machinery\n",
    "import importlib.util\n",
    "import logging\n",
    "import os\n",
    "import sys\n",
    "from pathlib import Path\n",
    "\n",
    "pio.renderers.default = 'vscode'\n",
    "pio.templates.default = 'plotly'\n",
    "\n",
    "from sklearn.linear_model import LogisticRegression\n",
    "from sklearn.ensemble import RandomForestClassifier\n",
    "\n",
    "\n",
    "from sklearn.metrics import accuracy_score\n",
    "from sklearn.metrics import classification_report\n",
    "from sklearn.metrics import roc_auc_score, roc_curve, auc\n",
    "from sklearn.metrics import confusion_matrix\n",
    "from sklearn.preprocessing import label_binarize\n",
    "\n",
    "\n",
    "import plotly.figure_factory as ff\n",
    "\n",
    "import geopandas \n",
    "import json\n",
    "\n",
    "from cv2 import mean\n",
    "from itertools import count\n",
    "\n",
    "import matplotlib.pyplot as plt\n",
    "from wordcloud import WordCloud, STOPWORDS\n",
    "\n",
    "from scipy.stats import uniform, randint\n",
    "\n",
    "from sklearn.metrics import auc, accuracy_score, confusion_matrix, mean_squared_error\n",
    "from sklearn.model_selection import cross_val_score, GridSearchCV, KFold, RandomizedSearchCV, train_test_split\n",
    "\n",
    "import xgboost as xgb\n",
    "\n",
    "import re\n",
    "import nltk\n",
    "import string\n",
    "import numpy as np\n",
    "import pandas as pd\n",
    "import matplotlib.pyplot as plt\n",
    "import seaborn as sns\n",
    "import plotly\n",
    "import plotly.express as px\n",
    "import ipywidgets as widgets\n",
    "from plotly.offline import init_notebook_mode\n",
    "from ipywidgets import interact, interactive, fixed, interact_manual\n",
    "from datetime import datetime\n",
    "from sklearn.model_selection import train_test_split, GridSearchCV\n",
    "from sklearn import metrics\n",
    "from sklearn.preprocessing import MinMaxScaler\n",
    "from sklearn.ensemble import RandomForestRegressor, GradientBoostingRegressor\n",
    "from sklearn.linear_model import LinearRegression\n",
    "from sklearn.svm import SVR\n",
    "from nltk.corpus import stopwords\n",
    "from sklearn.feature_extraction.text import CountVectorizer\n",
    "from sklearn.feature_extraction.text import TfidfTransformer\n",
    "from sklearn.naive_bayes import MultinomialNB\n",
    "from statsmodels.graphics.gofplots import qqplot\n",
    "from scipy import stats\n",
    "\n",
    "pd.set_option('display.max_columns', None)"
   ]
  },
  {
   "cell_type": "code",
   "execution_count": null,
   "metadata": {},
   "outputs": [],
   "source": []
  },
  {
   "cell_type": "markdown",
   "metadata": {},
   "source": [
    "Importación de datos filtrados"
   ]
  },
  {
   "cell_type": "code",
   "execution_count": 5,
   "metadata": {},
   "outputs": [
    {
     "data": {
      "text/html": [
       "<div>\n",
       "<style scoped>\n",
       "    .dataframe tbody tr th:only-of-type {\n",
       "        vertical-align: middle;\n",
       "    }\n",
       "\n",
       "    .dataframe tbody tr th {\n",
       "        vertical-align: top;\n",
       "    }\n",
       "\n",
       "    .dataframe thead th {\n",
       "        text-align: right;\n",
       "    }\n",
       "</style>\n",
       "<table border=\"1\" class=\"dataframe\">\n",
       "  <thead>\n",
       "    <tr style=\"text-align: right;\">\n",
       "      <th></th>\n",
       "      <th>id</th>\n",
       "      <th>last_scraped</th>\n",
       "      <th>host_id</th>\n",
       "      <th>host_name</th>\n",
       "      <th>host_since</th>\n",
       "      <th>host_response_time</th>\n",
       "      <th>host_response_rate</th>\n",
       "      <th>host_acceptance_rate</th>\n",
       "      <th>host_is_superhost</th>\n",
       "      <th>host_neighbourhood</th>\n",
       "      <th>host_listings_count</th>\n",
       "      <th>host_total_listings_count</th>\n",
       "      <th>host_has_profile_pic</th>\n",
       "      <th>host_identity_verified</th>\n",
       "      <th>neighbourhood_cleansed</th>\n",
       "      <th>neighbourhood_group_cleansed</th>\n",
       "      <th>latitude</th>\n",
       "      <th>longitude</th>\n",
       "      <th>property_type</th>\n",
       "      <th>room_type</th>\n",
       "      <th>accommodates</th>\n",
       "      <th>bathrooms</th>\n",
       "      <th>bathrooms_text</th>\n",
       "      <th>bedrooms</th>\n",
       "      <th>beds</th>\n",
       "      <th>amenities</th>\n",
       "      <th>price</th>\n",
       "      <th>minimum_nights</th>\n",
       "      <th>maximum_nights</th>\n",
       "      <th>minimum_minimum_nights</th>\n",
       "      <th>maximum_minimum_nights</th>\n",
       "      <th>minimum_maximum_nights</th>\n",
       "      <th>maximum_maximum_nights</th>\n",
       "      <th>minimum_nights_avg_ntm</th>\n",
       "      <th>maximum_nights_avg_ntm</th>\n",
       "      <th>calendar_updated</th>\n",
       "      <th>has_availability</th>\n",
       "      <th>availability_30</th>\n",
       "      <th>availability_60</th>\n",
       "      <th>availability_90</th>\n",
       "      <th>availability_365</th>\n",
       "      <th>number_of_reviews</th>\n",
       "      <th>number_of_reviews_ltm</th>\n",
       "      <th>number_of_reviews_l30d</th>\n",
       "      <th>first_review</th>\n",
       "      <th>last_review</th>\n",
       "      <th>review_scores_rating</th>\n",
       "      <th>review_scores_accuracy</th>\n",
       "      <th>review_scores_cleanliness</th>\n",
       "      <th>review_scores_checkin</th>\n",
       "      <th>review_scores_communication</th>\n",
       "      <th>review_scores_location</th>\n",
       "      <th>review_scores_value</th>\n",
       "      <th>license</th>\n",
       "      <th>instant_bookable</th>\n",
       "      <th>calculated_host_listings_count</th>\n",
       "      <th>calculated_host_listings_count_entire_homes</th>\n",
       "      <th>calculated_host_listings_count_private_rooms</th>\n",
       "      <th>calculated_host_listings_count_shared_rooms</th>\n",
       "      <th>reviews_per_month</th>\n",
       "      <th>years_permanency</th>\n",
       "      <th>baths</th>\n",
       "      <th>price per unit</th>\n",
       "      <th>occupancy_rate</th>\n",
       "      <th>revenue</th>\n",
       "      <th>profitability</th>\n",
       "      <th>amenities_lower</th>\n",
       "      <th>has_wifi</th>\n",
       "      <th>has_dryer</th>\n",
       "      <th>has_tv</th>\n",
       "      <th>has_heating</th>\n",
       "      <th>has_kitchen</th>\n",
       "    </tr>\n",
       "  </thead>\n",
       "  <tbody>\n",
       "    <tr>\n",
       "      <th>0</th>\n",
       "      <td>2539</td>\n",
       "      <td>2022-09-07</td>\n",
       "      <td>2787</td>\n",
       "      <td>John</td>\n",
       "      <td>2008-09-07</td>\n",
       "      <td>within an hour</td>\n",
       "      <td>100</td>\n",
       "      <td>90</td>\n",
       "      <td>f</td>\n",
       "      <td>Gravesend</td>\n",
       "      <td>9.0</td>\n",
       "      <td>12.0</td>\n",
       "      <td>t</td>\n",
       "      <td>t</td>\n",
       "      <td>Kensington</td>\n",
       "      <td>Brooklyn</td>\n",
       "      <td>40.64529</td>\n",
       "      <td>-73.97238</td>\n",
       "      <td>Private room in rental unit</td>\n",
       "      <td>Private room</td>\n",
       "      <td>2</td>\n",
       "      <td>NaN</td>\n",
       "      <td>1 shared bath</td>\n",
       "      <td>1.0</td>\n",
       "      <td>1.0</td>\n",
       "      <td>[\"First aid kit\", \"Microwave\", \"Stove\", \"Coffe...</td>\n",
       "      <td>299.0</td>\n",
       "      <td>30</td>\n",
       "      <td>730</td>\n",
       "      <td>30.0</td>\n",
       "      <td>30.0</td>\n",
       "      <td>730.0</td>\n",
       "      <td>730.0</td>\n",
       "      <td>30.0</td>\n",
       "      <td>730.0</td>\n",
       "      <td>NaN</td>\n",
       "      <td>t</td>\n",
       "      <td>21</td>\n",
       "      <td>51</td>\n",
       "      <td>81</td>\n",
       "      <td>356</td>\n",
       "      <td>9</td>\n",
       "      <td>0</td>\n",
       "      <td>0</td>\n",
       "      <td>2015-12-04</td>\n",
       "      <td>2018-10-19</td>\n",
       "      <td>4.89</td>\n",
       "      <td>4.88</td>\n",
       "      <td>5.00</td>\n",
       "      <td>5.00</td>\n",
       "      <td>5.00</td>\n",
       "      <td>4.75</td>\n",
       "      <td>4.88</td>\n",
       "      <td>None</td>\n",
       "      <td>f</td>\n",
       "      <td>9</td>\n",
       "      <td>1</td>\n",
       "      <td>6</td>\n",
       "      <td>2</td>\n",
       "      <td>0.11</td>\n",
       "      <td>14.219178</td>\n",
       "      <td>1.0</td>\n",
       "      <td>4.418201e+05</td>\n",
       "      <td>0.111236</td>\n",
       "      <td>12139.735955</td>\n",
       "      <td>0.027477</td>\n",
       "      <td>[\"first aid kit\", \"microwave\", \"stove\", \"coffe...</td>\n",
       "      <td>1</td>\n",
       "      <td>1</td>\n",
       "      <td>1</td>\n",
       "      <td>1</td>\n",
       "      <td>1</td>\n",
       "    </tr>\n",
       "    <tr>\n",
       "      <th>1</th>\n",
       "      <td>2595</td>\n",
       "      <td>2022-09-07</td>\n",
       "      <td>2845</td>\n",
       "      <td>Jennifer</td>\n",
       "      <td>2008-09-09</td>\n",
       "      <td>within a day</td>\n",
       "      <td>75</td>\n",
       "      <td>23</td>\n",
       "      <td>f</td>\n",
       "      <td>Midtown</td>\n",
       "      <td>6.0</td>\n",
       "      <td>9.0</td>\n",
       "      <td>t</td>\n",
       "      <td>t</td>\n",
       "      <td>Midtown</td>\n",
       "      <td>Manhattan</td>\n",
       "      <td>40.75356</td>\n",
       "      <td>-73.98559</td>\n",
       "      <td>Entire rental unit</td>\n",
       "      <td>Entire home/apt</td>\n",
       "      <td>1</td>\n",
       "      <td>NaN</td>\n",
       "      <td>1 bath</td>\n",
       "      <td>NaN</td>\n",
       "      <td>1.0</td>\n",
       "      <td>[\"Stove\", \"Coffee maker\", \"Long term stays all...</td>\n",
       "      <td>175.0</td>\n",
       "      <td>30</td>\n",
       "      <td>1125</td>\n",
       "      <td>30.0</td>\n",
       "      <td>30.0</td>\n",
       "      <td>1125.0</td>\n",
       "      <td>1125.0</td>\n",
       "      <td>30.0</td>\n",
       "      <td>1125.0</td>\n",
       "      <td>NaN</td>\n",
       "      <td>t</td>\n",
       "      <td>0</td>\n",
       "      <td>0</td>\n",
       "      <td>5</td>\n",
       "      <td>280</td>\n",
       "      <td>49</td>\n",
       "      <td>1</td>\n",
       "      <td>0</td>\n",
       "      <td>2009-11-21</td>\n",
       "      <td>2022-06-21</td>\n",
       "      <td>4.68</td>\n",
       "      <td>4.73</td>\n",
       "      <td>4.63</td>\n",
       "      <td>4.77</td>\n",
       "      <td>4.80</td>\n",
       "      <td>4.81</td>\n",
       "      <td>4.40</td>\n",
       "      <td>None</td>\n",
       "      <td>f</td>\n",
       "      <td>3</td>\n",
       "      <td>3</td>\n",
       "      <td>0</td>\n",
       "      <td>0</td>\n",
       "      <td>0.31</td>\n",
       "      <td>14.213699</td>\n",
       "      <td>1.0</td>\n",
       "      <td>5.095289e+06</td>\n",
       "      <td>0.398571</td>\n",
       "      <td>25458.750000</td>\n",
       "      <td>0.004997</td>\n",
       "      <td>[\"stove\", \"coffee maker\", \"long term stays all...</td>\n",
       "      <td>1</td>\n",
       "      <td>1</td>\n",
       "      <td>1</td>\n",
       "      <td>1</td>\n",
       "      <td>1</td>\n",
       "    </tr>\n",
       "    <tr>\n",
       "      <th>2</th>\n",
       "      <td>5121</td>\n",
       "      <td>2022-09-07</td>\n",
       "      <td>7356</td>\n",
       "      <td>Garon</td>\n",
       "      <td>2009-02-03</td>\n",
       "      <td>within an hour</td>\n",
       "      <td>100</td>\n",
       "      <td>100</td>\n",
       "      <td>t</td>\n",
       "      <td>Bedford-Stuyvesant</td>\n",
       "      <td>2.0</td>\n",
       "      <td>2.0</td>\n",
       "      <td>t</td>\n",
       "      <td>t</td>\n",
       "      <td>Bedford-Stuyvesant</td>\n",
       "      <td>Brooklyn</td>\n",
       "      <td>40.68535</td>\n",
       "      <td>-73.95512</td>\n",
       "      <td>Private room in rental unit</td>\n",
       "      <td>Private room</td>\n",
       "      <td>2</td>\n",
       "      <td>NaN</td>\n",
       "      <td>None</td>\n",
       "      <td>1.0</td>\n",
       "      <td>1.0</td>\n",
       "      <td>[\"Heating\", \"Kitchen\", \"Air conditioning\", \"Wi...</td>\n",
       "      <td>60.0</td>\n",
       "      <td>30</td>\n",
       "      <td>730</td>\n",
       "      <td>30.0</td>\n",
       "      <td>30.0</td>\n",
       "      <td>730.0</td>\n",
       "      <td>730.0</td>\n",
       "      <td>30.0</td>\n",
       "      <td>730.0</td>\n",
       "      <td>NaN</td>\n",
       "      <td>t</td>\n",
       "      <td>5</td>\n",
       "      <td>30</td>\n",
       "      <td>60</td>\n",
       "      <td>335</td>\n",
       "      <td>50</td>\n",
       "      <td>0</td>\n",
       "      <td>0</td>\n",
       "      <td>2009-05-28</td>\n",
       "      <td>2019-12-02</td>\n",
       "      <td>4.52</td>\n",
       "      <td>4.22</td>\n",
       "      <td>4.09</td>\n",
       "      <td>4.91</td>\n",
       "      <td>4.91</td>\n",
       "      <td>4.47</td>\n",
       "      <td>4.52</td>\n",
       "      <td>None</td>\n",
       "      <td>f</td>\n",
       "      <td>2</td>\n",
       "      <td>0</td>\n",
       "      <td>2</td>\n",
       "      <td>0</td>\n",
       "      <td>0.31</td>\n",
       "      <td>13.810959</td>\n",
       "      <td>0.0</td>\n",
       "      <td>2.552823e+05</td>\n",
       "      <td>0.333134</td>\n",
       "      <td>7295.641791</td>\n",
       "      <td>0.028579</td>\n",
       "      <td>[\"heating\", \"kitchen\", \"air conditioning\", \"wi...</td>\n",
       "      <td>1</td>\n",
       "      <td>0</td>\n",
       "      <td>0</td>\n",
       "      <td>1</td>\n",
       "      <td>1</td>\n",
       "    </tr>\n",
       "    <tr>\n",
       "      <th>3</th>\n",
       "      <td>45910</td>\n",
       "      <td>2022-09-07</td>\n",
       "      <td>204539</td>\n",
       "      <td>Mark</td>\n",
       "      <td>2010-08-17</td>\n",
       "      <td>within an hour</td>\n",
       "      <td>100</td>\n",
       "      <td>19</td>\n",
       "      <td>f</td>\n",
       "      <td>Ridgewood</td>\n",
       "      <td>7.0</td>\n",
       "      <td>7.0</td>\n",
       "      <td>t</td>\n",
       "      <td>t</td>\n",
       "      <td>Ridgewood</td>\n",
       "      <td>Queens</td>\n",
       "      <td>40.70309</td>\n",
       "      <td>-73.89963</td>\n",
       "      <td>Entire townhouse</td>\n",
       "      <td>Entire home/apt</td>\n",
       "      <td>16</td>\n",
       "      <td>NaN</td>\n",
       "      <td>2.5 baths</td>\n",
       "      <td>5.0</td>\n",
       "      <td>10.0</td>\n",
       "      <td>[\"Hair dryer\", \"Essentials\", \"Carbon monoxide ...</td>\n",
       "      <td>425.0</td>\n",
       "      <td>30</td>\n",
       "      <td>730</td>\n",
       "      <td>30.0</td>\n",
       "      <td>30.0</td>\n",
       "      <td>730.0</td>\n",
       "      <td>730.0</td>\n",
       "      <td>30.0</td>\n",
       "      <td>730.0</td>\n",
       "      <td>NaN</td>\n",
       "      <td>t</td>\n",
       "      <td>30</td>\n",
       "      <td>60</td>\n",
       "      <td>90</td>\n",
       "      <td>365</td>\n",
       "      <td>13</td>\n",
       "      <td>0</td>\n",
       "      <td>0</td>\n",
       "      <td>2012-01-03</td>\n",
       "      <td>2019-11-12</td>\n",
       "      <td>4.42</td>\n",
       "      <td>4.64</td>\n",
       "      <td>4.36</td>\n",
       "      <td>4.82</td>\n",
       "      <td>5.00</td>\n",
       "      <td>4.82</td>\n",
       "      <td>4.55</td>\n",
       "      <td>None</td>\n",
       "      <td>f</td>\n",
       "      <td>6</td>\n",
       "      <td>6</td>\n",
       "      <td>0</td>\n",
       "      <td>0</td>\n",
       "      <td>0.10</td>\n",
       "      <td>12.276712</td>\n",
       "      <td>2.5</td>\n",
       "      <td>3.830991e+05</td>\n",
       "      <td>0.098630</td>\n",
       "      <td>15300.000000</td>\n",
       "      <td>0.039937</td>\n",
       "      <td>[\"hair dryer\", \"essentials\", \"carbon monoxide ...</td>\n",
       "      <td>1</td>\n",
       "      <td>1</td>\n",
       "      <td>1</td>\n",
       "      <td>1</td>\n",
       "      <td>1</td>\n",
       "    </tr>\n",
       "    <tr>\n",
       "      <th>4</th>\n",
       "      <td>5136</td>\n",
       "      <td>2022-09-07</td>\n",
       "      <td>7378</td>\n",
       "      <td>Rebecca</td>\n",
       "      <td>2009-02-03</td>\n",
       "      <td>None</td>\n",
       "      <td>None</td>\n",
       "      <td>33</td>\n",
       "      <td>f</td>\n",
       "      <td>Greenwood Heights</td>\n",
       "      <td>1.0</td>\n",
       "      <td>5.0</td>\n",
       "      <td>t</td>\n",
       "      <td>t</td>\n",
       "      <td>Sunset Park</td>\n",
       "      <td>Brooklyn</td>\n",
       "      <td>40.66265</td>\n",
       "      <td>-73.99454</td>\n",
       "      <td>Entire rental unit</td>\n",
       "      <td>Entire home/apt</td>\n",
       "      <td>4</td>\n",
       "      <td>NaN</td>\n",
       "      <td>1.5 baths</td>\n",
       "      <td>2.0</td>\n",
       "      <td>2.0</td>\n",
       "      <td>[\"Hair dryer\", \"Cable TV\", \"Refrigerator\", \"BB...</td>\n",
       "      <td>275.0</td>\n",
       "      <td>21</td>\n",
       "      <td>1125</td>\n",
       "      <td>21.0</td>\n",
       "      <td>21.0</td>\n",
       "      <td>1125.0</td>\n",
       "      <td>1125.0</td>\n",
       "      <td>21.0</td>\n",
       "      <td>1125.0</td>\n",
       "      <td>NaN</td>\n",
       "      <td>t</td>\n",
       "      <td>0</td>\n",
       "      <td>0</td>\n",
       "      <td>0</td>\n",
       "      <td>179</td>\n",
       "      <td>3</td>\n",
       "      <td>1</td>\n",
       "      <td>1</td>\n",
       "      <td>2014-01-02</td>\n",
       "      <td>2022-08-10</td>\n",
       "      <td>5.00</td>\n",
       "      <td>5.00</td>\n",
       "      <td>5.00</td>\n",
       "      <td>5.00</td>\n",
       "      <td>5.00</td>\n",
       "      <td>4.67</td>\n",
       "      <td>5.00</td>\n",
       "      <td>None</td>\n",
       "      <td>f</td>\n",
       "      <td>1</td>\n",
       "      <td>1</td>\n",
       "      <td>0</td>\n",
       "      <td>0</td>\n",
       "      <td>0.03</td>\n",
       "      <td>13.810959</td>\n",
       "      <td>1.5</td>\n",
       "      <td>3.286703e+05</td>\n",
       "      <td>0.042235</td>\n",
       "      <td>4239.301676</td>\n",
       "      <td>0.012898</td>\n",
       "      <td>[\"hair dryer\", \"cable tv\", \"refrigerator\", \"bb...</td>\n",
       "      <td>1</td>\n",
       "      <td>1</td>\n",
       "      <td>1</td>\n",
       "      <td>1</td>\n",
       "      <td>1</td>\n",
       "    </tr>\n",
       "  </tbody>\n",
       "</table>\n",
       "</div>"
      ],
      "text/plain": [
       "      id last_scraped  host_id host_name  host_since host_response_time  \\\n",
       "0   2539   2022-09-07     2787      John  2008-09-07     within an hour   \n",
       "1   2595   2022-09-07     2845  Jennifer  2008-09-09       within a day   \n",
       "2   5121   2022-09-07     7356     Garon  2009-02-03     within an hour   \n",
       "3  45910   2022-09-07   204539      Mark  2010-08-17     within an hour   \n",
       "4   5136   2022-09-07     7378   Rebecca  2009-02-03               None   \n",
       "\n",
       "  host_response_rate host_acceptance_rate host_is_superhost  \\\n",
       "0                100                   90                 f   \n",
       "1                 75                   23                 f   \n",
       "2                100                  100                 t   \n",
       "3                100                   19                 f   \n",
       "4               None                   33                 f   \n",
       "\n",
       "   host_neighbourhood  host_listings_count  host_total_listings_count  \\\n",
       "0           Gravesend                  9.0                       12.0   \n",
       "1             Midtown                  6.0                        9.0   \n",
       "2  Bedford-Stuyvesant                  2.0                        2.0   \n",
       "3           Ridgewood                  7.0                        7.0   \n",
       "4   Greenwood Heights                  1.0                        5.0   \n",
       "\n",
       "  host_has_profile_pic host_identity_verified neighbourhood_cleansed  \\\n",
       "0                    t                      t             Kensington   \n",
       "1                    t                      t                Midtown   \n",
       "2                    t                      t     Bedford-Stuyvesant   \n",
       "3                    t                      t              Ridgewood   \n",
       "4                    t                      t            Sunset Park   \n",
       "\n",
       "  neighbourhood_group_cleansed  latitude  longitude  \\\n",
       "0                     Brooklyn  40.64529  -73.97238   \n",
       "1                    Manhattan  40.75356  -73.98559   \n",
       "2                     Brooklyn  40.68535  -73.95512   \n",
       "3                       Queens  40.70309  -73.89963   \n",
       "4                     Brooklyn  40.66265  -73.99454   \n",
       "\n",
       "                 property_type        room_type  accommodates  bathrooms  \\\n",
       "0  Private room in rental unit     Private room             2        NaN   \n",
       "1           Entire rental unit  Entire home/apt             1        NaN   \n",
       "2  Private room in rental unit     Private room             2        NaN   \n",
       "3             Entire townhouse  Entire home/apt            16        NaN   \n",
       "4           Entire rental unit  Entire home/apt             4        NaN   \n",
       "\n",
       "  bathrooms_text  bedrooms  beds  \\\n",
       "0  1 shared bath       1.0   1.0   \n",
       "1         1 bath       NaN   1.0   \n",
       "2           None       1.0   1.0   \n",
       "3      2.5 baths       5.0  10.0   \n",
       "4      1.5 baths       2.0   2.0   \n",
       "\n",
       "                                           amenities  price  minimum_nights  \\\n",
       "0  [\"First aid kit\", \"Microwave\", \"Stove\", \"Coffe...  299.0              30   \n",
       "1  [\"Stove\", \"Coffee maker\", \"Long term stays all...  175.0              30   \n",
       "2  [\"Heating\", \"Kitchen\", \"Air conditioning\", \"Wi...   60.0              30   \n",
       "3  [\"Hair dryer\", \"Essentials\", \"Carbon monoxide ...  425.0              30   \n",
       "4  [\"Hair dryer\", \"Cable TV\", \"Refrigerator\", \"BB...  275.0              21   \n",
       "\n",
       "   maximum_nights  minimum_minimum_nights  maximum_minimum_nights  \\\n",
       "0             730                    30.0                    30.0   \n",
       "1            1125                    30.0                    30.0   \n",
       "2             730                    30.0                    30.0   \n",
       "3             730                    30.0                    30.0   \n",
       "4            1125                    21.0                    21.0   \n",
       "\n",
       "   minimum_maximum_nights  maximum_maximum_nights  minimum_nights_avg_ntm  \\\n",
       "0                   730.0                   730.0                    30.0   \n",
       "1                  1125.0                  1125.0                    30.0   \n",
       "2                   730.0                   730.0                    30.0   \n",
       "3                   730.0                   730.0                    30.0   \n",
       "4                  1125.0                  1125.0                    21.0   \n",
       "\n",
       "   maximum_nights_avg_ntm  calendar_updated has_availability  availability_30  \\\n",
       "0                   730.0               NaN                t               21   \n",
       "1                  1125.0               NaN                t                0   \n",
       "2                   730.0               NaN                t                5   \n",
       "3                   730.0               NaN                t               30   \n",
       "4                  1125.0               NaN                t                0   \n",
       "\n",
       "   availability_60  availability_90  availability_365  number_of_reviews  \\\n",
       "0               51               81               356                  9   \n",
       "1                0                5               280                 49   \n",
       "2               30               60               335                 50   \n",
       "3               60               90               365                 13   \n",
       "4                0                0               179                  3   \n",
       "\n",
       "   number_of_reviews_ltm  number_of_reviews_l30d first_review last_review  \\\n",
       "0                      0                       0   2015-12-04  2018-10-19   \n",
       "1                      1                       0   2009-11-21  2022-06-21   \n",
       "2                      0                       0   2009-05-28  2019-12-02   \n",
       "3                      0                       0   2012-01-03  2019-11-12   \n",
       "4                      1                       1   2014-01-02  2022-08-10   \n",
       "\n",
       "   review_scores_rating  review_scores_accuracy  review_scores_cleanliness  \\\n",
       "0                  4.89                    4.88                       5.00   \n",
       "1                  4.68                    4.73                       4.63   \n",
       "2                  4.52                    4.22                       4.09   \n",
       "3                  4.42                    4.64                       4.36   \n",
       "4                  5.00                    5.00                       5.00   \n",
       "\n",
       "   review_scores_checkin  review_scores_communication  review_scores_location  \\\n",
       "0                   5.00                         5.00                    4.75   \n",
       "1                   4.77                         4.80                    4.81   \n",
       "2                   4.91                         4.91                    4.47   \n",
       "3                   4.82                         5.00                    4.82   \n",
       "4                   5.00                         5.00                    4.67   \n",
       "\n",
       "   review_scores_value license instant_bookable  \\\n",
       "0                 4.88    None                f   \n",
       "1                 4.40    None                f   \n",
       "2                 4.52    None                f   \n",
       "3                 4.55    None                f   \n",
       "4                 5.00    None                f   \n",
       "\n",
       "   calculated_host_listings_count  \\\n",
       "0                               9   \n",
       "1                               3   \n",
       "2                               2   \n",
       "3                               6   \n",
       "4                               1   \n",
       "\n",
       "   calculated_host_listings_count_entire_homes  \\\n",
       "0                                            1   \n",
       "1                                            3   \n",
       "2                                            0   \n",
       "3                                            6   \n",
       "4                                            1   \n",
       "\n",
       "   calculated_host_listings_count_private_rooms  \\\n",
       "0                                             6   \n",
       "1                                             0   \n",
       "2                                             2   \n",
       "3                                             0   \n",
       "4                                             0   \n",
       "\n",
       "   calculated_host_listings_count_shared_rooms  reviews_per_month  \\\n",
       "0                                            2               0.11   \n",
       "1                                            0               0.31   \n",
       "2                                            0               0.31   \n",
       "3                                            0               0.10   \n",
       "4                                            0               0.03   \n",
       "\n",
       "   years_permanency  baths  price per unit  occupancy_rate       revenue  \\\n",
       "0         14.219178    1.0    4.418201e+05        0.111236  12139.735955   \n",
       "1         14.213699    1.0    5.095289e+06        0.398571  25458.750000   \n",
       "2         13.810959    0.0    2.552823e+05        0.333134   7295.641791   \n",
       "3         12.276712    2.5    3.830991e+05        0.098630  15300.000000   \n",
       "4         13.810959    1.5    3.286703e+05        0.042235   4239.301676   \n",
       "\n",
       "   profitability                                    amenities_lower  has_wifi  \\\n",
       "0       0.027477  [\"first aid kit\", \"microwave\", \"stove\", \"coffe...         1   \n",
       "1       0.004997  [\"stove\", \"coffee maker\", \"long term stays all...         1   \n",
       "2       0.028579  [\"heating\", \"kitchen\", \"air conditioning\", \"wi...         1   \n",
       "3       0.039937  [\"hair dryer\", \"essentials\", \"carbon monoxide ...         1   \n",
       "4       0.012898  [\"hair dryer\", \"cable tv\", \"refrigerator\", \"bb...         1   \n",
       "\n",
       "   has_dryer  has_tv  has_heating  has_kitchen  \n",
       "0          1       1            1            1  \n",
       "1          1       1            1            1  \n",
       "2          0       0            1            1  \n",
       "3          1       1            1            1  \n",
       "4          1       1            1            1  "
      ]
     },
     "execution_count": 5,
     "metadata": {},
     "output_type": "execute_result"
    }
   ],
   "source": [
    "listings_filtered_df = pd.read_parquet(\"../Data/total data/modified data/listingsFinalConRentabilidad.parquet\")\n",
    "pd.options.display.max_columns = None\n",
    "listings_filtered_df.head()"
   ]
  },
  {
   "cell_type": "code",
   "execution_count": 6,
   "metadata": {},
   "outputs": [
    {
     "data": {
      "text/plain": [
       "Index(['id', 'last_scraped', 'host_id', 'host_name', 'host_since',\n",
       "       'host_response_time', 'host_response_rate', 'host_acceptance_rate',\n",
       "       'host_is_superhost', 'host_neighbourhood', 'host_listings_count',\n",
       "       'host_total_listings_count', 'host_has_profile_pic',\n",
       "       'host_identity_verified', 'neighbourhood_cleansed',\n",
       "       'neighbourhood_group_cleansed', 'latitude', 'longitude',\n",
       "       'property_type', 'room_type', 'accommodates', 'bathrooms',\n",
       "       'bathrooms_text', 'bedrooms', 'beds', 'amenities', 'price',\n",
       "       'minimum_nights', 'maximum_nights', 'minimum_minimum_nights',\n",
       "       'maximum_minimum_nights', 'minimum_maximum_nights',\n",
       "       'maximum_maximum_nights', 'minimum_nights_avg_ntm',\n",
       "       'maximum_nights_avg_ntm', 'calendar_updated', 'has_availability',\n",
       "       'availability_30', 'availability_60', 'availability_90',\n",
       "       'availability_365', 'number_of_reviews', 'number_of_reviews_ltm',\n",
       "       'number_of_reviews_l30d', 'first_review', 'last_review',\n",
       "       'review_scores_rating', 'review_scores_accuracy',\n",
       "       'review_scores_cleanliness', 'review_scores_checkin',\n",
       "       'review_scores_communication', 'review_scores_location',\n",
       "       'review_scores_value', 'license', 'instant_bookable',\n",
       "       'calculated_host_listings_count',\n",
       "       'calculated_host_listings_count_entire_homes',\n",
       "       'calculated_host_listings_count_private_rooms',\n",
       "       'calculated_host_listings_count_shared_rooms', 'reviews_per_month',\n",
       "       'years_permanency', 'baths', 'price per unit', 'occupancy_rate',\n",
       "       'revenue', 'profitability', 'amenities_lower', 'has_wifi', 'has_dryer',\n",
       "       'has_tv', 'has_heating', 'has_kitchen'],\n",
       "      dtype='object')"
      ]
     },
     "execution_count": 6,
     "metadata": {},
     "output_type": "execute_result"
    }
   ],
   "source": [
    "listings_filtered_df.columns"
   ]
  },
  {
   "cell_type": "markdown",
   "metadata": {},
   "source": [
    "#### MODELO SIMPLE\n",
    "\n",
    "Seleccionamos las variables que de primeras pensamos que son más influyentes en el precio de los Airbnb en la ciudad de Nueva York y entrenamos un modelo con estas variables"
   ]
  },
  {
   "cell_type": "markdown",
   "metadata": {},
   "source": [
    "*Las variables que hemos escogido son: latitude, longitude, neighobourhood_group_cleansed, accomodates, beds, baths, amenities*\n",
    "\n",
    "*Vamos a crear variables dummies en las amenities más repetidas (sacadas del wordcloud el EDA) que son wifi, dryer, TV, heating, kitchen*"
   ]
  },
  {
   "cell_type": "markdown",
   "metadata": {},
   "source": [
    "Selección de variables finales para el modelo"
   ]
  },
  {
   "cell_type": "code",
   "execution_count": 7,
   "metadata": {},
   "outputs": [
    {
     "data": {
      "text/html": [
       "<div>\n",
       "<style scoped>\n",
       "    .dataframe tbody tr th:only-of-type {\n",
       "        vertical-align: middle;\n",
       "    }\n",
       "\n",
       "    .dataframe tbody tr th {\n",
       "        vertical-align: top;\n",
       "    }\n",
       "\n",
       "    .dataframe thead th {\n",
       "        text-align: right;\n",
       "    }\n",
       "</style>\n",
       "<table border=\"1\" class=\"dataframe\">\n",
       "  <thead>\n",
       "    <tr style=\"text-align: right;\">\n",
       "      <th></th>\n",
       "      <th>price</th>\n",
       "      <th>latitude</th>\n",
       "      <th>longitude</th>\n",
       "      <th>neighbourhood_group_cleansed</th>\n",
       "      <th>accommodates</th>\n",
       "      <th>beds</th>\n",
       "      <th>baths</th>\n",
       "      <th>has_wifi</th>\n",
       "      <th>has_dryer</th>\n",
       "      <th>has_heating</th>\n",
       "      <th>has_kitchen</th>\n",
       "      <th>has_tv</th>\n",
       "    </tr>\n",
       "  </thead>\n",
       "  <tbody>\n",
       "    <tr>\n",
       "      <th>0</th>\n",
       "      <td>299.0</td>\n",
       "      <td>40.64529</td>\n",
       "      <td>-73.97238</td>\n",
       "      <td>Brooklyn</td>\n",
       "      <td>2</td>\n",
       "      <td>1.0</td>\n",
       "      <td>1.0</td>\n",
       "      <td>1</td>\n",
       "      <td>1</td>\n",
       "      <td>1</td>\n",
       "      <td>1</td>\n",
       "      <td>1</td>\n",
       "    </tr>\n",
       "    <tr>\n",
       "      <th>1</th>\n",
       "      <td>175.0</td>\n",
       "      <td>40.75356</td>\n",
       "      <td>-73.98559</td>\n",
       "      <td>Manhattan</td>\n",
       "      <td>1</td>\n",
       "      <td>1.0</td>\n",
       "      <td>1.0</td>\n",
       "      <td>1</td>\n",
       "      <td>1</td>\n",
       "      <td>1</td>\n",
       "      <td>1</td>\n",
       "      <td>1</td>\n",
       "    </tr>\n",
       "    <tr>\n",
       "      <th>2</th>\n",
       "      <td>60.0</td>\n",
       "      <td>40.68535</td>\n",
       "      <td>-73.95512</td>\n",
       "      <td>Brooklyn</td>\n",
       "      <td>2</td>\n",
       "      <td>1.0</td>\n",
       "      <td>0.0</td>\n",
       "      <td>1</td>\n",
       "      <td>0</td>\n",
       "      <td>1</td>\n",
       "      <td>1</td>\n",
       "      <td>0</td>\n",
       "    </tr>\n",
       "    <tr>\n",
       "      <th>3</th>\n",
       "      <td>425.0</td>\n",
       "      <td>40.70309</td>\n",
       "      <td>-73.89963</td>\n",
       "      <td>Queens</td>\n",
       "      <td>16</td>\n",
       "      <td>10.0</td>\n",
       "      <td>2.5</td>\n",
       "      <td>1</td>\n",
       "      <td>1</td>\n",
       "      <td>1</td>\n",
       "      <td>1</td>\n",
       "      <td>1</td>\n",
       "    </tr>\n",
       "    <tr>\n",
       "      <th>4</th>\n",
       "      <td>275.0</td>\n",
       "      <td>40.66265</td>\n",
       "      <td>-73.99454</td>\n",
       "      <td>Brooklyn</td>\n",
       "      <td>4</td>\n",
       "      <td>2.0</td>\n",
       "      <td>1.5</td>\n",
       "      <td>1</td>\n",
       "      <td>1</td>\n",
       "      <td>1</td>\n",
       "      <td>1</td>\n",
       "      <td>1</td>\n",
       "    </tr>\n",
       "  </tbody>\n",
       "</table>\n",
       "</div>"
      ],
      "text/plain": [
       "   price  latitude  longitude neighbourhood_group_cleansed  accommodates  \\\n",
       "0  299.0  40.64529  -73.97238                     Brooklyn             2   \n",
       "1  175.0  40.75356  -73.98559                    Manhattan             1   \n",
       "2   60.0  40.68535  -73.95512                     Brooklyn             2   \n",
       "3  425.0  40.70309  -73.89963                       Queens            16   \n",
       "4  275.0  40.66265  -73.99454                     Brooklyn             4   \n",
       "\n",
       "   beds  baths  has_wifi  has_dryer  has_heating  has_kitchen  has_tv  \n",
       "0   1.0    1.0         1          1            1            1       1  \n",
       "1   1.0    1.0         1          1            1            1       1  \n",
       "2   1.0    0.0         1          0            1            1       0  \n",
       "3  10.0    2.5         1          1            1            1       1  \n",
       "4   2.0    1.5         1          1            1            1       1  "
      ]
     },
     "execution_count": 7,
     "metadata": {},
     "output_type": "execute_result"
    }
   ],
   "source": [
    "data_model = listings_filtered_df[[\"price\",\"latitude\",\"longitude\",\"neighbourhood_group_cleansed\",\"accommodates\",\"beds\",\"baths\",\"has_wifi\",\"has_dryer\",\"has_heating\",\"has_kitchen\",\"has_tv\"]]\n",
    "data_model.head()"
   ]
  },
  {
   "cell_type": "code",
   "execution_count": 8,
   "metadata": {},
   "outputs": [
    {
     "data": {
      "text/html": [
       "<div>\n",
       "<style scoped>\n",
       "    .dataframe tbody tr th:only-of-type {\n",
       "        vertical-align: middle;\n",
       "    }\n",
       "\n",
       "    .dataframe tbody tr th {\n",
       "        vertical-align: top;\n",
       "    }\n",
       "\n",
       "    .dataframe thead th {\n",
       "        text-align: right;\n",
       "    }\n",
       "</style>\n",
       "<table border=\"1\" class=\"dataframe\">\n",
       "  <thead>\n",
       "    <tr style=\"text-align: right;\">\n",
       "      <th></th>\n",
       "      <th>price</th>\n",
       "      <th>latitude</th>\n",
       "      <th>longitude</th>\n",
       "      <th>accommodates</th>\n",
       "      <th>beds</th>\n",
       "      <th>baths</th>\n",
       "      <th>has_wifi</th>\n",
       "      <th>has_dryer</th>\n",
       "      <th>has_heating</th>\n",
       "      <th>has_kitchen</th>\n",
       "      <th>has_tv</th>\n",
       "      <th>neighbourhood_group_cleansed_Bronx</th>\n",
       "      <th>neighbourhood_group_cleansed_Brooklyn</th>\n",
       "      <th>neighbourhood_group_cleansed_Manhattan</th>\n",
       "      <th>neighbourhood_group_cleansed_Queens</th>\n",
       "      <th>neighbourhood_group_cleansed_Staten Island</th>\n",
       "    </tr>\n",
       "  </thead>\n",
       "  <tbody>\n",
       "    <tr>\n",
       "      <th>0</th>\n",
       "      <td>299.0</td>\n",
       "      <td>40.64529</td>\n",
       "      <td>-73.97238</td>\n",
       "      <td>2</td>\n",
       "      <td>1.0</td>\n",
       "      <td>1.0</td>\n",
       "      <td>1</td>\n",
       "      <td>1</td>\n",
       "      <td>1</td>\n",
       "      <td>1</td>\n",
       "      <td>1</td>\n",
       "      <td>0</td>\n",
       "      <td>1</td>\n",
       "      <td>0</td>\n",
       "      <td>0</td>\n",
       "      <td>0</td>\n",
       "    </tr>\n",
       "    <tr>\n",
       "      <th>1</th>\n",
       "      <td>175.0</td>\n",
       "      <td>40.75356</td>\n",
       "      <td>-73.98559</td>\n",
       "      <td>1</td>\n",
       "      <td>1.0</td>\n",
       "      <td>1.0</td>\n",
       "      <td>1</td>\n",
       "      <td>1</td>\n",
       "      <td>1</td>\n",
       "      <td>1</td>\n",
       "      <td>1</td>\n",
       "      <td>0</td>\n",
       "      <td>0</td>\n",
       "      <td>1</td>\n",
       "      <td>0</td>\n",
       "      <td>0</td>\n",
       "    </tr>\n",
       "    <tr>\n",
       "      <th>2</th>\n",
       "      <td>60.0</td>\n",
       "      <td>40.68535</td>\n",
       "      <td>-73.95512</td>\n",
       "      <td>2</td>\n",
       "      <td>1.0</td>\n",
       "      <td>0.0</td>\n",
       "      <td>1</td>\n",
       "      <td>0</td>\n",
       "      <td>1</td>\n",
       "      <td>1</td>\n",
       "      <td>0</td>\n",
       "      <td>0</td>\n",
       "      <td>1</td>\n",
       "      <td>0</td>\n",
       "      <td>0</td>\n",
       "      <td>0</td>\n",
       "    </tr>\n",
       "    <tr>\n",
       "      <th>3</th>\n",
       "      <td>425.0</td>\n",
       "      <td>40.70309</td>\n",
       "      <td>-73.89963</td>\n",
       "      <td>16</td>\n",
       "      <td>10.0</td>\n",
       "      <td>2.5</td>\n",
       "      <td>1</td>\n",
       "      <td>1</td>\n",
       "      <td>1</td>\n",
       "      <td>1</td>\n",
       "      <td>1</td>\n",
       "      <td>0</td>\n",
       "      <td>0</td>\n",
       "      <td>0</td>\n",
       "      <td>1</td>\n",
       "      <td>0</td>\n",
       "    </tr>\n",
       "    <tr>\n",
       "      <th>4</th>\n",
       "      <td>275.0</td>\n",
       "      <td>40.66265</td>\n",
       "      <td>-73.99454</td>\n",
       "      <td>4</td>\n",
       "      <td>2.0</td>\n",
       "      <td>1.5</td>\n",
       "      <td>1</td>\n",
       "      <td>1</td>\n",
       "      <td>1</td>\n",
       "      <td>1</td>\n",
       "      <td>1</td>\n",
       "      <td>0</td>\n",
       "      <td>1</td>\n",
       "      <td>0</td>\n",
       "      <td>0</td>\n",
       "      <td>0</td>\n",
       "    </tr>\n",
       "  </tbody>\n",
       "</table>\n",
       "</div>"
      ],
      "text/plain": [
       "   price  latitude  longitude  accommodates  beds  baths  has_wifi  has_dryer  \\\n",
       "0  299.0  40.64529  -73.97238             2   1.0    1.0         1          1   \n",
       "1  175.0  40.75356  -73.98559             1   1.0    1.0         1          1   \n",
       "2   60.0  40.68535  -73.95512             2   1.0    0.0         1          0   \n",
       "3  425.0  40.70309  -73.89963            16  10.0    2.5         1          1   \n",
       "4  275.0  40.66265  -73.99454             4   2.0    1.5         1          1   \n",
       "\n",
       "   has_heating  has_kitchen  has_tv  neighbourhood_group_cleansed_Bronx  \\\n",
       "0            1            1       1                                   0   \n",
       "1            1            1       1                                   0   \n",
       "2            1            1       0                                   0   \n",
       "3            1            1       1                                   0   \n",
       "4            1            1       1                                   0   \n",
       "\n",
       "   neighbourhood_group_cleansed_Brooklyn  \\\n",
       "0                                      1   \n",
       "1                                      0   \n",
       "2                                      1   \n",
       "3                                      0   \n",
       "4                                      1   \n",
       "\n",
       "   neighbourhood_group_cleansed_Manhattan  \\\n",
       "0                                       0   \n",
       "1                                       1   \n",
       "2                                       0   \n",
       "3                                       0   \n",
       "4                                       0   \n",
       "\n",
       "   neighbourhood_group_cleansed_Queens  \\\n",
       "0                                    0   \n",
       "1                                    0   \n",
       "2                                    0   \n",
       "3                                    1   \n",
       "4                                    0   \n",
       "\n",
       "   neighbourhood_group_cleansed_Staten Island  \n",
       "0                                           0  \n",
       "1                                           0  \n",
       "2                                           0  \n",
       "3                                           0  \n",
       "4                                           0  "
      ]
     },
     "execution_count": 8,
     "metadata": {},
     "output_type": "execute_result"
    }
   ],
   "source": [
    "# creacion de dummmies\n",
    "data_model_num = pd.get_dummies(data_model, columns = [\"neighbourhood_group_cleansed\"])\n",
    "data_model_num.head()"
   ]
  },
  {
   "cell_type": "code",
   "execution_count": 9,
   "metadata": {},
   "outputs": [
    {
     "data": {
      "text/plain": [
       "price                                           0\n",
       "latitude                                        0\n",
       "longitude                                       0\n",
       "accommodates                                    0\n",
       "beds                                          322\n",
       "baths                                           0\n",
       "has_wifi                                        0\n",
       "has_dryer                                       0\n",
       "has_heating                                     0\n",
       "has_kitchen                                     0\n",
       "has_tv                                          0\n",
       "neighbourhood_group_cleansed_Bronx              0\n",
       "neighbourhood_group_cleansed_Brooklyn           0\n",
       "neighbourhood_group_cleansed_Manhattan          0\n",
       "neighbourhood_group_cleansed_Queens             0\n",
       "neighbourhood_group_cleansed_Staten Island      0\n",
       "dtype: int64"
      ]
     },
     "execution_count": 9,
     "metadata": {},
     "output_type": "execute_result"
    }
   ],
   "source": [
    "data_model_num.isna().sum()"
   ]
  },
  {
   "cell_type": "code",
   "execution_count": 10,
   "metadata": {},
   "outputs": [],
   "source": [
    "# quito los na \n",
    "data_model_num = data_model_num.dropna()"
   ]
  },
  {
   "cell_type": "code",
   "execution_count": 11,
   "metadata": {},
   "outputs": [
    {
     "data": {
      "text/plain": [
       "Index(['price', 'latitude', 'longitude', 'accommodates', 'beds', 'baths',\n",
       "       'has_wifi', 'has_dryer', 'has_heating', 'has_kitchen', 'has_tv',\n",
       "       'neighbourhood_group_cleansed_Bronx',\n",
       "       'neighbourhood_group_cleansed_Brooklyn',\n",
       "       'neighbourhood_group_cleansed_Manhattan',\n",
       "       'neighbourhood_group_cleansed_Queens',\n",
       "       'neighbourhood_group_cleansed_Staten Island'],\n",
       "      dtype='object')"
      ]
     },
     "execution_count": 11,
     "metadata": {},
     "output_type": "execute_result"
    }
   ],
   "source": [
    "data_model_num.columns"
   ]
  },
  {
   "cell_type": "markdown",
   "metadata": {},
   "source": [
    "Entrenamiento del modelo"
   ]
  },
  {
   "cell_type": "markdown",
   "metadata": {},
   "source": [
    "Split"
   ]
  },
  {
   "cell_type": "code",
   "execution_count": 12,
   "metadata": {},
   "outputs": [],
   "source": [
    "df_train, df_test  = train_test_split(data_model_num,\n",
    "                                test_size=0.3,\n",
    "                                random_state = 101)"
   ]
  },
  {
   "cell_type": "code",
   "execution_count": 13,
   "metadata": {},
   "outputs": [],
   "source": [
    "df_test, df_validation  = train_test_split(df_test,\n",
    "                                test_size=0.5,\n",
    "                                random_state = 101)"
   ]
  },
  {
   "cell_type": "code",
   "execution_count": 14,
   "metadata": {},
   "outputs": [],
   "source": [
    "#division entre train y test \n",
    "X_train = df_train.drop(\"price\", axis = 1)\n",
    "y_train = df_train[\"price\"]\n",
    "\n",
    "X_test = df_test.drop(\"price\", axis = 1)\n",
    "y_test = df_test[\"price\"]\n",
    "\n",
    "X_val = df_validation.drop(\"price\", axis = 1)\n",
    "y_val = df_validation[\"price\"]"
   ]
  },
  {
   "cell_type": "markdown",
   "metadata": {},
   "source": [
    "Funciones"
   ]
  },
  {
   "cell_type": "code",
   "execution_count": 15,
   "metadata": {},
   "outputs": [],
   "source": [
    "def show_metrics(prediction_test, prediction_train, y_test, y_train):\n",
    "    MAE = round(metrics.mean_absolute_error(y_test, prediction_test), 2)\n",
    "    MSE = round(metrics.mean_squared_error(y_test, prediction_test), 2)\n",
    "    RMSE = round(np.sqrt(metrics.mean_squared_error(y_test, prediction_test)), 2)\n",
    "    RMSE_ratio_test= round(np.sqrt(metrics.mean_squared_error(y_test, prediction_test)) / np.mean(y_test),3)\n",
    "    RMSE_ratio_train = round(np.sqrt(metrics.mean_squared_error(y_train, prediction_train)) / np.mean(y_train),3)\n",
    "    R_2_test = round(metrics.explained_variance_score(y_test, prediction_test), 2)\n",
    "    R_2_train = round(metrics.explained_variance_score(y_train, prediction_train), 2)\n",
    "    \n",
    "    metrics_data = pd.DataFrame(data = [MAE, MSE, RMSE, RMSE_ratio_test, \n",
    "                                    RMSE_ratio_train, R_2_test, R_2_train]).T\n",
    "    \n",
    "    metrics_data.columns = ['MAE', 'MSE', 'RMSE', 'RMSE_ratio_test', \n",
    "                                    'RMSE_ratio_train', 'R_2_test', 'R_2_train']\n",
    "    display(metrics_data)"
   ]
  },
  {
   "cell_type": "code",
   "execution_count": 16,
   "metadata": {},
   "outputs": [],
   "source": [
    "def analysis(model, X_train, X_test, y_train, y_test):\n",
    "    \n",
    "    prediction_test = model.predict(X_test)\n",
    "    prediction_train = model.predict(X_train)\n",
    "        \n",
    "    \n",
    "    show_metrics(prediction_test, prediction_train, y_test, y_train)\n",
    "    \n",
    "    sns.regplot(x = y_test, y = prediction_test, fit_reg=True)\n",
    "    plt.title('Prediction and real')\n",
    "    plt.show()\n",
    "\n",
    "    sns.distplot(y_test - prediction_test, bins = 50)\n",
    "    plt.title('Error variance')\n",
    "    plt.show()"
   ]
  },
  {
   "cell_type": "markdown",
   "metadata": {},
   "source": [
    "Linear Regressor"
   ]
  },
  {
   "cell_type": "code",
   "execution_count": 17,
   "metadata": {},
   "outputs": [
    {
     "data": {
      "text/html": [
       "<div>\n",
       "<style scoped>\n",
       "    .dataframe tbody tr th:only-of-type {\n",
       "        vertical-align: middle;\n",
       "    }\n",
       "\n",
       "    .dataframe tbody tr th {\n",
       "        vertical-align: top;\n",
       "    }\n",
       "\n",
       "    .dataframe thead th {\n",
       "        text-align: right;\n",
       "    }\n",
       "</style>\n",
       "<table border=\"1\" class=\"dataframe\">\n",
       "  <thead>\n",
       "    <tr style=\"text-align: right;\">\n",
       "      <th></th>\n",
       "      <th>MAE</th>\n",
       "      <th>MSE</th>\n",
       "      <th>RMSE</th>\n",
       "      <th>RMSE_ratio_test</th>\n",
       "      <th>RMSE_ratio_train</th>\n",
       "      <th>R_2_test</th>\n",
       "      <th>R_2_train</th>\n",
       "    </tr>\n",
       "  </thead>\n",
       "  <tbody>\n",
       "    <tr>\n",
       "      <th>0</th>\n",
       "      <td>74.84</td>\n",
       "      <td>11879.1</td>\n",
       "      <td>108.99</td>\n",
       "      <td>0.587</td>\n",
       "      <td>0.64</td>\n",
       "      <td>0.41</td>\n",
       "      <td>0.4</td>\n",
       "    </tr>\n",
       "  </tbody>\n",
       "</table>\n",
       "</div>"
      ],
      "text/plain": [
       "     MAE      MSE    RMSE  RMSE_ratio_test  RMSE_ratio_train  R_2_test  \\\n",
       "0  74.84  11879.1  108.99            0.587              0.64      0.41   \n",
       "\n",
       "   R_2_train  \n",
       "0        0.4  "
      ]
     },
     "metadata": {},
     "output_type": "display_data"
    },
    {
     "data": {
      "image/png": "[encoded data removed]",
      "text/plain": [
       "<Figure size 432x288 with 1 Axes>"
      ]
     },
     "metadata": {
      "needs_background": "light"
     },
     "output_type": "display_data"
    },
    {
     "data": {
      "image/png": "[encoded data removed]",
      "text/plain": [
       "<Figure size 432x288 with 1 Axes>"
      ]
     },
     "metadata": {
      "needs_background": "light"
     },
     "output_type": "display_data"
    }
   ],
   "source": [
    "lm = LinearRegression(\n",
    "        n_jobs = -1,\n",
    "        normalize = True\n",
    ")\n",
    "\n",
    "lm.fit(X_train, y_train)\n",
    "\n",
    "comment = ''\n",
    "\n",
    "analysis(\n",
    "    model = lm, \n",
    "    X_train = X_train, \n",
    "    X_test = X_test, \n",
    "    y_train = y_train, \n",
    "    y_test = y_test\n",
    ")"
   ]
  },
  {
   "cell_type": "markdown",
   "metadata": {},
   "source": [
    "Light GBM"
   ]
  },
  {
   "cell_type": "code",
   "execution_count": 18,
   "metadata": {},
   "outputs": [],
   "source": [
    "import lightgbm as lgb\n",
    "from hyperopt import hp, tpe, fmin, Trials, STATUS_OK"
   ]
  },
  {
   "cell_type": "code",
   "execution_count": 49,
   "metadata": {},
   "outputs": [],
   "source": [
    "def regression_tuning(params:dict):\n",
    "    ''' \n",
    "    Parametros:\n",
    "    \n",
    "        params: dict. Diccionario que contiene los hiperparametros a tunear del modelo\n",
    "    \n",
    "    Salida:\n",
    "        \n",
    "        resultados: dict. Diccionario que contiene las métricas y el modelo \n",
    "    '''\n",
    "    \n",
    "    for key in [\"num_leaves\",\"min_child_samples\"]:\n",
    "        params[key] = int(params[key])\n",
    "    \n",
    "    model = lgb.LGBMRegressor(n_estimators=500, importance_type = 'gain', random_state = 123, **params)\n",
    "    \n",
    "    model.fit(X_train, y_train, eval_set = (X_val,y_val), eval_metric = [\"MAE\",\"MSE\",\"RMSE\"],\n",
    "              callbacks=[lgb.callback.log_evaluation(period = 50), lgb.early_stopping(5)])\n",
    "    \n",
    "    y_pred = model.predict(X_val)\n",
    "    \n",
    "    #loss = accuracy_score(y_val, y_pred)\n",
    "    MAE = round(metrics.mean_absolute_error(y_val, y_pred), 2)\n",
    "    MSE = round(metrics.mean_squared_error(y_val, y_pred), 2)\n",
    "    RMSE = round(np.sqrt(metrics.mean_squared_error(y_val, y_pred)), 2)\n",
    "    R2 = round(metrics.explained_variance_score(y_val, y_pred), 2)\n",
    "    print(\"El MAE para este ensayo es: {}\".format(round(MAE,4)))\n",
    "    print(\"El MSE para este ensayo es: {}\".format(round(MSE,4)))\n",
    "    print(\"El RMSE para este ensayo es: {}\".format(round(RMSE,4)))\n",
    "    print(\"El R2 para este ensayo es: {}\".format(round(R2,4)))\n",
    "    print(\"\\n\")\n",
    "    \n",
    "    return {\"loss\": RMSE, \"status\": STATUS_OK, \"model\": model}\n",
    "\n",
    "#eval_metric = [\"MAE\",\"MSE\",\"RMSE\"]"
   ]
  },
  {
   "cell_type": "code",
   "execution_count": 40,
   "metadata": {},
   "outputs": [
    {
     "data": {
      "text/plain": [
       "10470"
      ]
     },
     "execution_count": 40,
     "metadata": {},
     "output_type": "execute_result"
    }
   ],
   "source": [
    "len(X_train)"
   ]
  },
  {
   "cell_type": "markdown",
   "metadata": {},
   "source": [
    "Tenemos una muestra de 10.470 observaciones, valor que emplearemos para definir los valores entre los que tunean los hiperparámetros del modelo"
   ]
  },
  {
   "cell_type": "code",
   "execution_count": null,
   "metadata": {},
   "outputs": [],
   "source": [
    "# space = {\n",
    "#     \"max_depth\": hp.choice(\"max_depth\",[4,5,6,7,8,9,10]),\n",
    "#     \"min_samples_split\": hp.uniform(\"min_samples_split\",50,300),\n",
    "#     \"min_samples_leaf\": hp.uniform(\"min_samples_leaf\",700,1000),\n",
    "#     #\"n_estimators\": hp.uniform(\"n_estimators\",100,2400),\n",
    "# }"
   ]
  },
  {
   "cell_type": "code",
   "execution_count": 52,
   "metadata": {},
   "outputs": [],
   "source": [
    "space = {\n",
    "    \"max_depth\": hp.choice(\"max_depth\",[4,5,6,7,8,9,10]),\n",
    "    \"learning_rate\": hp.uniform(\"learning_rate\",0.01,0.2),\n",
    "    \"num_leaves\": hp.quniform(\"num_leaves\",20,50,1),\n",
    "    \"min_child_samples\": hp.quniform(\"min_child_samples\", 5, 30, 1),\n",
    "    \"reg_alpha\": hp.uniform(\"reg_alpha\",0,2),\n",
    "    \"reg_lambda\": hp.uniform(\"reg_lambda\", 0,2)\n",
    "}"
   ]
  },
  {
   "cell_type": "code",
   "execution_count": 53,
   "metadata": {},
   "outputs": [
    {
     "name": "stdout",
     "output_type": "stream",
     "text": [
      "Training until validation scores don't improve for 5 rounds\n",
      "[50]\tvalid_0's l1: 65.152\tvalid_0's l2: 11445.1\tvalid_0's rmse: 106.982\n",
      "[100]\tvalid_0's l1: 63.3641\tvalid_0's l2: 10879\tvalid_0's rmse: 104.303\n",
      "[150]\tvalid_0's l1: 62.4048\tvalid_0's l2: 10567.1\tvalid_0's rmse: 102.797\n",
      "Early stopping, best iteration is:                    \n",
      "[165]\tvalid_0's l1: 62.2349\tvalid_0's l2: 10506.2\tvalid_0's rmse: 102.5\n",
      "El MAE para este ensayo es: 62.23                     \n",
      "El MSE para este ensayo es: 10506.2                   \n",
      "El RMSE para este ensayo es: 102.5                    \n",
      "El R2 para este ensayo es: 0.59                       \n",
      "Training until validation scores don't improve for 5 rounds        \n",
      "[50]\tvalid_0's l1: 68.0291\tvalid_0's l2: 11770.2\tvalid_0's rmse: 108.49\n",
      "[100]\tvalid_0's l1: 63.2144\tvalid_0's l2: 10750.1\tvalid_0's rmse: 103.683\n",
      "[150]\tvalid_0's l1: 62.1523\tvalid_0's l2: 10438.8\tvalid_0's rmse: 102.171\n",
      "Early stopping, best iteration is:                                 \n",
      "[166]\tvalid_0's l1: 61.9668\tvalid_0's l2: 10373.5\tvalid_0's rmse: 101.85\n",
      "El MAE para este ensayo es: 61.97                                  \n",
      "El MSE para este ensayo es: 10373.51                               \n",
      "El RMSE para este ensayo es: 101.85                                \n",
      "El R2 para este ensayo es: 0.59                                    \n",
      "Training until validation scores don't improve for 5 rounds         \n",
      "[50]\tvalid_0's l1: 80.0972\tvalid_0's l2: 15391.6\tvalid_0's rmse: 124.063\n",
      "[100]\tvalid_0's l1: 71.0312\tvalid_0's l2: 12858.1\tvalid_0's rmse: 113.394\n",
      "[150]\tvalid_0's l1: 67.6655\tvalid_0's l2: 12001.4\tvalid_0's rmse: 109.551\n",
      "[200]\tvalid_0's l1: 65.9069\tvalid_0's l2: 11511.8\tvalid_0's rmse: 107.293\n",
      "[250]\tvalid_0's l1: 64.4014\tvalid_0's l2: 11105.5\tvalid_0's rmse: 105.383\n",
      "[300]\tvalid_0's l1: 63.378\tvalid_0's l2: 10858.4\tvalid_0's rmse: 104.203\n",
      "[350]\tvalid_0's l1: 62.8689\tvalid_0's l2: 10690\tvalid_0's rmse: 103.393\n",
      "[400]\tvalid_0's l1: 62.6273\tvalid_0's l2: 10617.6\tvalid_0's rmse: 103.042\n",
      "[450]\tvalid_0's l1: 62.4867\tvalid_0's l2: 10565.9\tvalid_0's rmse: 102.79\n",
      "Early stopping, best iteration is:                                  \n",
      "[468]\tvalid_0's l1: 62.3964\tvalid_0's l2: 10534.6\tvalid_0's rmse: 102.638\n",
      "El MAE para este ensayo es: 62.4                                    \n",
      "El MSE para este ensayo es: 10534.59                                \n",
      "El RMSE para este ensayo es: 102.64                                 \n",
      "El R2 para este ensayo es: 0.59                                     \n",
      "Training until validation scores don't improve for 5 rounds         \n",
      "[50]\tvalid_0's l1: 64.6015\tvalid_0's l2: 11069.5\tvalid_0's rmse: 105.212\n",
      "[100]\tvalid_0's l1: 61.821\tvalid_0's l2: 10298.1\tvalid_0's rmse: 101.48\n",
      "[150]\tvalid_0's l1: 61.0038\tvalid_0's l2: 9960.05\tvalid_0's rmse: 99.8001\n",
      "[200]\tvalid_0's l1: 60.6458\tvalid_0's l2: 9821.4\tvalid_0's rmse: 99.103\n",
      "Early stopping, best iteration is:                                  \n",
      "[218]\tvalid_0's l1: 60.4341\tvalid_0's l2: 9749.65\tvalid_0's rmse: 98.7403\n",
      "El MAE para este ensayo es: 60.43                                   \n",
      "El MSE para este ensayo es: 9749.65                                 \n",
      "El RMSE para este ensayo es: 98.74                                  \n",
      "El R2 para este ensayo es: 0.62                                     \n",
      "Training until validation scores don't improve for 5 rounds         \n",
      "[50]\tvalid_0's l1: 64.8654\tvalid_0's l2: 11223.6\tvalid_0's rmse: 105.942\n",
      "[100]\tvalid_0's l1: 62.2206\tvalid_0's l2: 10473\tvalid_0's rmse: 102.338\n",
      "[150]\tvalid_0's l1: 61.5497\tvalid_0's l2: 10204.1\tvalid_0's rmse: 101.015\n",
      "[200]\tvalid_0's l1: 60.9314\tvalid_0's l2: 9968.26\tvalid_0's rmse: 99.8412\n",
      "Early stopping, best iteration is:                                 \n",
      "[200]\tvalid_0's l1: 60.9314\tvalid_0's l2: 9968.26\tvalid_0's rmse: 99.8412\n",
      "El MAE para este ensayo es: 60.93                                  \n",
      "El MSE para este ensayo es: 9968.26                                \n",
      "El RMSE para este ensayo es: 99.84                                 \n",
      "El R2 para este ensayo es: 0.61                                    \n",
      "Training until validation scores don't improve for 5 rounds        \n",
      "[50]\tvalid_0's l1: 64.4515\tvalid_0's l2: 10854.4\tvalid_0's rmse: 104.184\n",
      "[100]\tvalid_0's l1: 61.6725\tvalid_0's l2: 10182.6\tvalid_0's rmse: 100.909\n",
      "[150]\tvalid_0's l1: 61.0655\tvalid_0's l2: 10007.4\tvalid_0's rmse: 100.037\n",
      "Early stopping, best iteration is:                                 \n",
      "[177]\tvalid_0's l1: 60.7957\tvalid_0's l2: 9877.68\tvalid_0's rmse: 99.3865\n",
      "El MAE para este ensayo es: 60.8                                   \n",
      "El MSE para este ensayo es: 9877.68                                \n",
      "El RMSE para este ensayo es: 99.39                                 \n",
      "El R2 para este ensayo es: 0.61                                    \n",
      "Training until validation scores don't improve for 5 rounds        \n",
      "Early stopping, best iteration is:                                 \n",
      "[34]\tvalid_0's l1: 61.6283\tvalid_0's l2: 10014.6\tvalid_0's rmse: 100.073\n",
      "El MAE para este ensayo es: 61.63                                  \n",
      "El MSE para este ensayo es: 10014.62                               \n",
      "El RMSE para este ensayo es: 100.07                                \n",
      "El R2 para este ensayo es: 0.61                                    \n",
      "Training until validation scores don't improve for 5 rounds        \n",
      "[50]\tvalid_0's l1: 62.2627\tvalid_0's l2: 10395.6\tvalid_0's rmse: 101.959\n",
      "Early stopping, best iteration is:                                 \n",
      "[94]\tvalid_0's l1: 61.3339\tvalid_0's l2: 9996.92\tvalid_0's rmse: 99.9846\n",
      "El MAE para este ensayo es: 61.33                                  \n",
      "El MSE para este ensayo es: 9996.92                                \n",
      "El RMSE para este ensayo es: 99.98                                 \n",
      "El R2 para este ensayo es: 0.61                                    \n",
      "Training until validation scores don't improve for 5 rounds        \n",
      "[50]\tvalid_0's l1: 68.1602\tvalid_0's l2: 12217.1\tvalid_0's rmse: 110.531\n",
      "[100]\tvalid_0's l1: 64.361\tvalid_0's l2: 11165.8\tvalid_0's rmse: 105.669\n",
      "[150]\tvalid_0's l1: 63.3043\tvalid_0's l2: 10837.5\tvalid_0's rmse: 104.103\n",
      "[200]\tvalid_0's l1: 62.8023\tvalid_0's l2: 10618.1\tvalid_0's rmse: 103.044\n",
      "Early stopping, best iteration is:                                 \n",
      "[211]\tvalid_0's l1: 62.725\tvalid_0's l2: 10596.6\tvalid_0's rmse: 102.94\n",
      "El MAE para este ensayo es: 62.72                                  \n",
      "El MSE para este ensayo es: 10596.6                                \n",
      "El RMSE para este ensayo es: 102.94                                \n",
      "El R2 para este ensayo es: 0.58                                    \n",
      "Training until validation scores don't improve for 5 rounds        \n",
      "[50]\tvalid_0's l1: 62.5471\tvalid_0's l2: 10478\tvalid_0's rmse: 102.362\n",
      "[100]\tvalid_0's l1: 61.2045\tvalid_0's l2: 9941.33\tvalid_0's rmse: 99.7062\n",
      "Early stopping, best iteration is:                                 \n",
      "[119]\tvalid_0's l1: 60.8186\tvalid_0's l2: 9828.78\tvalid_0's rmse: 99.1402\n",
      "El MAE para este ensayo es: 60.82                                  \n",
      "El MSE para este ensayo es: 9828.78                                \n",
      "El RMSE para este ensayo es: 99.14                                 \n",
      "El R2 para este ensayo es: 0.61                                    \n",
      "Training until validation scores don't improve for 5 rounds         \n",
      "[50]\tvalid_0's l1: 62.9332\tvalid_0's l2: 10624.3\tvalid_0's rmse: 103.074\n",
      "Early stopping, best iteration is:                                  \n",
      "[85]\tvalid_0's l1: 61.9432\tvalid_0's l2: 10217.1\tvalid_0's rmse: 101.08\n",
      "El MAE para este ensayo es: 61.94                                   \n",
      "El MSE para este ensayo es: 10217.1                                 \n",
      "El RMSE para este ensayo es: 101.08                                 \n",
      "El R2 para este ensayo es: 0.6                                      \n",
      "Training until validation scores don't improve for 5 rounds         \n",
      "[50]\tvalid_0's l1: 62.4472\tvalid_0's l2: 10525.6\tvalid_0's rmse: 102.594\n",
      "Early stopping, best iteration is:                                  \n",
      "[73]\tvalid_0's l1: 61.6102\tvalid_0's l2: 10176.7\tvalid_0's rmse: 100.88\n",
      "El MAE para este ensayo es: 61.61                                   \n",
      "El MSE para este ensayo es: 10176.73                                \n",
      "El RMSE para este ensayo es: 100.88                                 \n",
      "El R2 para este ensayo es: 0.6                                      \n",
      "Training until validation scores don't improve for 5 rounds         \n",
      "[50]\tvalid_0's l1: 71.4609\tvalid_0's l2: 12981.2\tvalid_0's rmse: 113.935\n",
      "[100]\tvalid_0's l1: 66.1356\tvalid_0's l2: 11622.4\tvalid_0's rmse: 107.807\n",
      "[150]\tvalid_0's l1: 64.0053\tvalid_0's l2: 11026.3\tvalid_0's rmse: 105.006\n",
      "[200]\tvalid_0's l1: 62.9409\tvalid_0's l2: 10661.5\tvalid_0's rmse: 103.255\n",
      "[250]\tvalid_0's l1: 62.4199\tvalid_0's l2: 10490.4\tvalid_0's rmse: 102.423\n",
      "[300]\tvalid_0's l1: 61.8914\tvalid_0's l2: 10318.6\tvalid_0's rmse: 101.58\n",
      "[350]\tvalid_0's l1: 61.578\tvalid_0's l2: 10186.5\tvalid_0's rmse: 100.928\n",
      "[400]\tvalid_0's l1: 61.405\tvalid_0's l2: 10097.9\tvalid_0's rmse: 100.488\n",
      "Early stopping, best iteration is:                                  \n",
      "[398]\tvalid_0's l1: 61.4033\tvalid_0's l2: 10096.6\tvalid_0's rmse: 100.482\n",
      "El MAE para este ensayo es: 61.4                                    \n",
      "El MSE para este ensayo es: 10096.62                                \n",
      "El RMSE para este ensayo es: 100.48                                 \n",
      "El R2 para este ensayo es: 0.6                                      \n",
      "Training until validation scores don't improve for 5 rounds         \n",
      "[50]\tvalid_0's l1: 63.2506\tvalid_0's l2: 10606.5\tvalid_0's rmse: 102.988\n",
      "Early stopping, best iteration is:                                  \n",
      "[84]\tvalid_0's l1: 62.1862\tvalid_0's l2: 10208.2\tvalid_0's rmse: 101.036\n",
      "El MAE para este ensayo es: 62.19                                   \n",
      "El MSE para este ensayo es: 10208.2                                 \n",
      "El RMSE para este ensayo es: 101.04                                 \n",
      "El R2 para este ensayo es: 0.6                                      \n",
      "Training until validation scores don't improve for 5 rounds         \n",
      "[50]\tvalid_0's l1: 60.4886\tvalid_0's l2: 9778.86\tvalid_0's rmse: 98.8881\n",
      "Early stopping, best iteration is:                                  \n",
      "[69]\tvalid_0's l1: 60.1175\tvalid_0's l2: 9618.51\tvalid_0's rmse: 98.074\n",
      "El MAE para este ensayo es: 60.12                                   \n",
      "El MSE para este ensayo es: 9618.51                                 \n",
      "El RMSE para este ensayo es: 98.07                                  \n",
      "El R2 para este ensayo es: 0.62                                     \n",
      "Training until validation scores don't improve for 5 rounds         \n",
      "[50]\tvalid_0's l1: 60.7423\tvalid_0's l2: 9940.89\tvalid_0's rmse: 99.704\n",
      "Early stopping, best iteration is:                                  \n",
      "[85]\tvalid_0's l1: 60.1808\tvalid_0's l2: 9663.38\tvalid_0's rmse: 98.3025\n",
      "El MAE para este ensayo es: 60.18                                   \n",
      "El MSE para este ensayo es: 9663.38                                 \n",
      "El RMSE para este ensayo es: 98.3                                   \n",
      "El R2 para este ensayo es: 0.62                                     \n",
      "Training until validation scores don't improve for 5 rounds         \n",
      "[50]\tvalid_0's l1: 62.5862\tvalid_0's l2: 10543.1\tvalid_0's rmse: 102.68\n",
      "[100]\tvalid_0's l1: 61.5312\tvalid_0's l2: 10187.5\tvalid_0's rmse: 100.933\n",
      "Early stopping, best iteration is:                                  \n",
      "[104]\tvalid_0's l1: 61.4685\tvalid_0's l2: 10180.8\tvalid_0's rmse: 100.9\n",
      "El MAE para este ensayo es: 61.47                                   \n",
      "El MSE para este ensayo es: 10180.84                                \n",
      "El RMSE para este ensayo es: 100.9                                  \n",
      "El R2 para este ensayo es: 0.6                                      \n",
      "Training until validation scores don't improve for 5 rounds         \n",
      "[50]\tvalid_0's l1: 61.1958\tvalid_0's l2: 10086.5\tvalid_0's rmse: 100.432\n",
      "[100]\tvalid_0's l1: 60.5787\tvalid_0's l2: 9801.44\tvalid_0's rmse: 99.0022\n",
      "Early stopping, best iteration is:                                  \n",
      "[109]\tvalid_0's l1: 60.4764\tvalid_0's l2: 9767.55\tvalid_0's rmse: 98.8309\n",
      "El MAE para este ensayo es: 60.48                                   \n",
      "El MSE para este ensayo es: 9767.55                                 \n",
      "El RMSE para este ensayo es: 98.83                                  \n",
      "El R2 para este ensayo es: 0.62                                     \n",
      "Training until validation scores don't improve for 5 rounds         \n",
      "[50]\tvalid_0's l1: 62.6325\tvalid_0's l2: 10531.5\tvalid_0's rmse: 102.623\n",
      "Early stopping, best iteration is:                                  \n",
      "[81]\tvalid_0's l1: 61.5272\tvalid_0's l2: 10148.2\tvalid_0's rmse: 100.738\n",
      "El MAE para este ensayo es: 61.53                                   \n",
      "El MSE para este ensayo es: 10148.15                                \n",
      "El RMSE para este ensayo es: 100.74                                 \n",
      "El R2 para este ensayo es: 0.6                                      \n",
      "Training until validation scores don't improve for 5 rounds         \n",
      "[50]\tvalid_0's l1: 61.5437\tvalid_0's l2: 10205.2\tvalid_0's rmse: 101.021\n",
      "Early stopping, best iteration is:                                  \n",
      "[93]\tvalid_0's l1: 60.6768\tvalid_0's l2: 9912\tvalid_0's rmse: 99.559\n",
      "El MAE para este ensayo es: 60.68                                   \n",
      "El MSE para este ensayo es: 9912.0                                  \n",
      "El RMSE para este ensayo es: 99.56                                  \n",
      "El R2 para este ensayo es: 0.61                                     \n",
      "Training until validation scores don't improve for 5 rounds         \n",
      "[50]\tvalid_0's l1: 60.3252\tvalid_0's l2: 9732.19\tvalid_0's rmse: 98.6519\n",
      "Early stopping, best iteration is:                                  \n",
      "[48]\tvalid_0's l1: 60.2974\tvalid_0's l2: 9724.64\tvalid_0's rmse: 98.6136\n",
      "El MAE para este ensayo es: 60.3                                    \n",
      "El MSE para este ensayo es: 9724.64                                 \n",
      "El RMSE para este ensayo es: 98.61                                  \n",
      "El R2 para este ensayo es: 0.62                                     \n",
      "Training until validation scores don't improve for 5 rounds         \n",
      "[50]\tvalid_0's l1: 60.6619\tvalid_0's l2: 9747.73\tvalid_0's rmse: 98.7306\n",
      "Early stopping, best iteration is:                                  \n",
      "[76]\tvalid_0's l1: 60.042\tvalid_0's l2: 9555.72\tvalid_0's rmse: 97.7534\n",
      "El MAE para este ensayo es: 60.04                                   \n",
      "El MSE para este ensayo es: 9555.72                                 \n",
      "El RMSE para este ensayo es: 97.75                                  \n",
      "El R2 para este ensayo es: 0.63                                     \n",
      "Training until validation scores don't improve for 5 rounds         \n",
      "[50]\tvalid_0's l1: 62.2669\tvalid_0's l2: 10355.5\tvalid_0's rmse: 101.762\n",
      "Early stopping, best iteration is:                                  \n",
      "[75]\tvalid_0's l1: 61.6712\tvalid_0's l2: 10123.7\tvalid_0's rmse: 100.617\n",
      "El MAE para este ensayo es: 61.67                                   \n",
      "El MSE para este ensayo es: 10123.68                                \n",
      "El RMSE para este ensayo es: 100.62                                 \n",
      "El R2 para este ensayo es: 0.6                                      \n",
      "Training until validation scores don't improve for 5 rounds         \n",
      "[50]\tvalid_0's l1: 61.8893\tvalid_0's l2: 10125.5\tvalid_0's rmse: 100.626\n",
      "[100]\tvalid_0's l1: 60.4637\tvalid_0's l2: 9674.88\tvalid_0's rmse: 98.361\n",
      "Early stopping, best iteration is:                                  \n",
      "[122]\tvalid_0's l1: 60.0739\tvalid_0's l2: 9562.14\tvalid_0's rmse: 97.7862\n",
      "El MAE para este ensayo es: 60.07                                   \n",
      "El MSE para este ensayo es: 9562.14                                 \n",
      "El RMSE para este ensayo es: 97.79                                  \n",
      "El R2 para este ensayo es: 0.62                                     \n",
      "Training until validation scores don't improve for 5 rounds         \n",
      "[50]\tvalid_0's l1: 61.9145\tvalid_0's l2: 10132.4\tvalid_0's rmse: 100.66\n",
      "[100]\tvalid_0's l1: 60.7323\tvalid_0's l2: 9738.78\tvalid_0's rmse: 98.6853\n",
      "[150]\tvalid_0's l1: 60.0419\tvalid_0's l2: 9532.2\tvalid_0's rmse: 97.633\n",
      "Early stopping, best iteration is:                                  \n",
      "[172]\tvalid_0's l1: 59.9092\tvalid_0's l2: 9497.55\tvalid_0's rmse: 97.4554\n",
      "El MAE para este ensayo es: 59.91                                   \n",
      "El MSE para este ensayo es: 9497.55                                 \n",
      "El RMSE para este ensayo es: 97.46                                  \n",
      "El R2 para este ensayo es: 0.63                                     \n",
      "Training until validation scores don't improve for 5 rounds         \n",
      "[50]\tvalid_0's l1: 60.7652\tvalid_0's l2: 9835.31\tvalid_0's rmse: 99.1731\n",
      "Early stopping, best iteration is:                                  \n",
      "[62]\tvalid_0's l1: 60.2213\tvalid_0's l2: 9707.66\tvalid_0's rmse: 98.5274\n",
      "El MAE para este ensayo es: 60.22                                   \n",
      "El MSE para este ensayo es: 9707.66                                 \n",
      "El RMSE para este ensayo es: 98.53                                  \n",
      "El R2 para este ensayo es: 0.62                                     \n",
      "Training until validation scores don't improve for 5 rounds         \n",
      "[50]\tvalid_0's l1: 61.6481\tvalid_0's l2: 10045.3\tvalid_0's rmse: 100.226\n",
      "[100]\tvalid_0's l1: 60.1047\tvalid_0's l2: 9604.13\tvalid_0's rmse: 98.0007\n",
      "Early stopping, best iteration is:                                  \n",
      "[117]\tvalid_0's l1: 59.7328\tvalid_0's l2: 9507.38\tvalid_0's rmse: 97.5058\n",
      "El MAE para este ensayo es: 59.73                                   \n",
      "El MSE para este ensayo es: 9507.38                                 \n",
      "El RMSE para este ensayo es: 97.51                                  \n",
      "El R2 para este ensayo es: 0.63                                     \n",
      "Training until validation scores don't improve for 5 rounds         \n",
      "[50]\tvalid_0's l1: 61.8887\tvalid_0's l2: 10077.8\tvalid_0's rmse: 100.388\n",
      "[100]\tvalid_0's l1: 60.1945\tvalid_0's l2: 9601.49\tvalid_0's rmse: 97.9872\n",
      "Early stopping, best iteration is:                                  \n",
      "[113]\tvalid_0's l1: 59.9644\tvalid_0's l2: 9538.92\tvalid_0's rmse: 97.6674\n",
      "El MAE para este ensayo es: 59.96                                   \n",
      "El MSE para este ensayo es: 9538.92                                 \n",
      "El RMSE para este ensayo es: 97.67                                  \n",
      "El R2 para este ensayo es: 0.63                                     \n",
      "Training until validation scores don't improve for 5 rounds         \n",
      "[50]\tvalid_0's l1: 61.1693\tvalid_0's l2: 9916.8\tvalid_0's rmse: 99.5832\n",
      "[100]\tvalid_0's l1: 60.1704\tvalid_0's l2: 9539.31\tvalid_0's rmse: 97.6694\n",
      "Early stopping, best iteration is:                                  \n",
      "[120]\tvalid_0's l1: 59.8846\tvalid_0's l2: 9446.61\tvalid_0's rmse: 97.1937\n",
      "El MAE para este ensayo es: 59.88                                   \n",
      "El MSE para este ensayo es: 9446.61                                 \n",
      "El RMSE para este ensayo es: 97.19                                  \n",
      "El R2 para este ensayo es: 0.63                                     \n",
      "Training until validation scores don't improve for 5 rounds         \n",
      "[50]\tvalid_0's l1: 61.3954\tvalid_0's l2: 10134.9\tvalid_0's rmse: 100.672\n",
      "[100]\tvalid_0's l1: 60.2363\tvalid_0's l2: 9744.37\tvalid_0's rmse: 98.7136\n",
      "Early stopping, best iteration is:                                  \n",
      "[105]\tvalid_0's l1: 60.1855\tvalid_0's l2: 9728.64\tvalid_0's rmse: 98.6339\n",
      "El MAE para este ensayo es: 60.19                                   \n",
      "El MSE para este ensayo es: 9728.64                                 \n",
      "El RMSE para este ensayo es: 98.63                                  \n",
      "El R2 para este ensayo es: 0.62                                     \n",
      "Training until validation scores don't improve for 5 rounds         \n",
      "[50]\tvalid_0's l1: 70.2963\tvalid_0's l2: 12349.9\tvalid_0's rmse: 111.13\n",
      "[100]\tvalid_0's l1: 64.0051\tvalid_0's l2: 10875.6\tvalid_0's rmse: 104.286\n",
      "[150]\tvalid_0's l1: 62.4431\tvalid_0's l2: 10535.2\tvalid_0's rmse: 102.641\n",
      "[200]\tvalid_0's l1: 61.7485\tvalid_0's l2: 10299\tvalid_0's rmse: 101.484\n",
      "Early stopping, best iteration is:                                  \n",
      "[236]\tvalid_0's l1: 61.5606\tvalid_0's l2: 10213\tvalid_0's rmse: 101.06\n",
      "El MAE para este ensayo es: 61.56                                   \n",
      "El MSE para este ensayo es: 10213.03                                \n",
      "El RMSE para este ensayo es: 101.06                                 \n",
      "El R2 para este ensayo es: 0.6                                      \n",
      "Training until validation scores don't improve for 5 rounds         \n",
      "[50]\tvalid_0's l1: 64.9932\tvalid_0's l2: 10877.6\tvalid_0's rmse: 104.296\n",
      "[100]\tvalid_0's l1: 61.5928\tvalid_0's l2: 10042\tvalid_0's rmse: 100.21\n",
      "Early stopping, best iteration is:                                  \n",
      "[121]\tvalid_0's l1: 61.0924\tvalid_0's l2: 9920.27\tvalid_0's rmse: 99.6006\n",
      "El MAE para este ensayo es: 61.09                                   \n",
      "El MSE para este ensayo es: 9920.27                                 \n",
      "El RMSE para este ensayo es: 99.6                                   \n",
      "El R2 para este ensayo es: 0.61                                     \n",
      "Training until validation scores don't improve for 5 rounds         \n",
      "[50]\tvalid_0's l1: 76.6601\tvalid_0's l2: 14241.5\tvalid_0's rmse: 119.338\n",
      "[100]\tvalid_0's l1: 67.9064\tvalid_0's l2: 11956.6\tvalid_0's rmse: 109.346\n",
      "[150]\tvalid_0's l1: 64.8794\tvalid_0's l2: 11217.2\tvalid_0's rmse: 105.911\n",
      "[200]\tvalid_0's l1: 63.6246\tvalid_0's l2: 10890.5\tvalid_0's rmse: 104.357\n",
      "[250]\tvalid_0's l1: 62.792\tvalid_0's l2: 10632.9\tvalid_0's rmse: 103.116\n",
      "[300]\tvalid_0's l1: 62.2462\tvalid_0's l2: 10471.4\tvalid_0's rmse: 102.33\n",
      "[350]\tvalid_0's l1: 61.8615\tvalid_0's l2: 10320\tvalid_0's rmse: 101.587\n",
      "[400]\tvalid_0's l1: 61.6177\tvalid_0's l2: 10189.8\tvalid_0's rmse: 100.944\n",
      "Early stopping, best iteration is:                                  \n",
      "[409]\tvalid_0's l1: 61.5952\tvalid_0's l2: 10179\tvalid_0's rmse: 100.891\n",
      "El MAE para este ensayo es: 61.6                                    \n",
      "El MSE para este ensayo es: 10179.03                                \n",
      "El RMSE para este ensayo es: 100.89                                 \n",
      "El R2 para este ensayo es: 0.6                                      \n",
      "Training until validation scores don't improve for 5 rounds         \n",
      "[50]\tvalid_0's l1: 62.8152\tvalid_0's l2: 10686.7\tvalid_0's rmse: 103.376\n",
      "[100]\tvalid_0's l1: 61.2055\tvalid_0's l2: 10089.5\tvalid_0's rmse: 100.447\n",
      "[150]\tvalid_0's l1: 60.848\tvalid_0's l2: 9922.85\tvalid_0's rmse: 99.6135\n",
      "Early stopping, best iteration is:                                  \n",
      "[152]\tvalid_0's l1: 60.8331\tvalid_0's l2: 9919.39\tvalid_0's rmse: 99.5962\n",
      "El MAE para este ensayo es: 60.83                                   \n",
      "El MSE para este ensayo es: 9919.39                                 \n",
      "El RMSE para este ensayo es: 99.6                                   \n",
      "El R2 para este ensayo es: 0.61                                     \n",
      "Training until validation scores don't improve for 5 rounds         \n",
      "[50]\tvalid_0's l1: 61.3528\tvalid_0's l2: 9981.75\tvalid_0's rmse: 99.9087\n",
      "[100]\tvalid_0's l1: 60.405\tvalid_0's l2: 9597.21\tvalid_0's rmse: 97.9653\n",
      "Early stopping, best iteration is:                                  \n",
      "[117]\tvalid_0's l1: 60.1886\tvalid_0's l2: 9539.6\tvalid_0's rmse: 97.6709\n",
      "El MAE para este ensayo es: 60.19                                   \n",
      "El MSE para este ensayo es: 9539.6                                  \n",
      "El RMSE para este ensayo es: 97.67                                  \n",
      "El R2 para este ensayo es: 0.63                                     \n",
      "Training until validation scores don't improve for 5 rounds         \n",
      "[50]\tvalid_0's l1: 63.9012\tvalid_0's l2: 10948.9\tvalid_0's rmse: 104.637\n",
      "[100]\tvalid_0's l1: 62.1068\tvalid_0's l2: 10333.4\tvalid_0's rmse: 101.654\n",
      "Early stopping, best iteration is:                                  \n",
      "[133]\tvalid_0's l1: 61.6388\tvalid_0's l2: 10122.1\tvalid_0's rmse: 100.609\n",
      "El MAE para este ensayo es: 61.64                                   \n",
      "El MSE para este ensayo es: 10122.08                                \n",
      "El RMSE para este ensayo es: 100.61                                 \n",
      "El R2 para este ensayo es: 0.6                                      \n",
      "Training until validation scores don't improve for 5 rounds         \n",
      "[50]\tvalid_0's l1: 65.4705\tvalid_0's l2: 11143.3\tvalid_0's rmse: 105.562\n",
      "[100]\tvalid_0's l1: 62.1475\tvalid_0's l2: 10395\tvalid_0's rmse: 101.956\n",
      "[150]\tvalid_0's l1: 61.2006\tvalid_0's l2: 10071.2\tvalid_0's rmse: 100.355\n",
      "Early stopping, best iteration is:                                  \n",
      "[153]\tvalid_0's l1: 61.1946\tvalid_0's l2: 10068\tvalid_0's rmse: 100.339\n",
      "El MAE para este ensayo es: 61.19                                   \n",
      "El MSE para este ensayo es: 10067.97                                \n",
      "El RMSE para este ensayo es: 100.34                                 \n",
      "El R2 para este ensayo es: 0.6                                      \n",
      "Training until validation scores don't improve for 5 rounds         \n",
      "[50]\tvalid_0's l1: 77.4725\tvalid_0's l2: 14103.5\tvalid_0's rmse: 118.758\n",
      "[100]\tvalid_0's l1: 67.0576\tvalid_0's l2: 11370.9\tvalid_0's rmse: 106.634\n",
      "[150]\tvalid_0's l1: 63.4254\tvalid_0's l2: 10514.2\tvalid_0's rmse: 102.539\n",
      "[200]\tvalid_0's l1: 62.123\tvalid_0's l2: 10243.7\tvalid_0's rmse: 101.211\n",
      "[250]\tvalid_0's l1: 61.4171\tvalid_0's l2: 10058\tvalid_0's rmse: 100.29\n",
      "[300]\tvalid_0's l1: 60.9441\tvalid_0's l2: 9887.07\tvalid_0's rmse: 99.4338\n",
      "[350]\tvalid_0's l1: 60.6538\tvalid_0's l2: 9801.55\tvalid_0's rmse: 99.0028\n",
      "Early stopping, best iteration is:                                  \n",
      "[388]\tvalid_0's l1: 60.532\tvalid_0's l2: 9763.84\tvalid_0's rmse: 98.8121\n",
      "El MAE para este ensayo es: 60.53                                   \n",
      "El MSE para este ensayo es: 9763.84                                 \n",
      "El RMSE para este ensayo es: 98.81                                  \n",
      "El R2 para este ensayo es: 0.62                                     \n",
      "Training until validation scores don't improve for 5 rounds         \n",
      "[50]\tvalid_0's l1: 61.5351\tvalid_0's l2: 10179.9\tvalid_0's rmse: 100.895\n",
      "Early stopping, best iteration is:                                  \n",
      "[89]\tvalid_0's l1: 60.648\tvalid_0's l2: 9853.28\tvalid_0's rmse: 99.2637\n",
      "El MAE para este ensayo es: 60.65                                   \n",
      "El MSE para este ensayo es: 9853.28                                 \n",
      "El RMSE para este ensayo es: 99.26                                  \n",
      "El R2 para este ensayo es: 0.61                                     \n",
      "Training until validation scores don't improve for 5 rounds         \n",
      "[50]\tvalid_0's l1: 67.9359\tvalid_0's l2: 12113.4\tvalid_0's rmse: 110.061\n",
      "[100]\tvalid_0's l1: 64.2229\tvalid_0's l2: 11119\tvalid_0's rmse: 105.447\n",
      "[150]\tvalid_0's l1: 63.1362\tvalid_0's l2: 10720.8\tvalid_0's rmse: 103.541\n",
      "Early stopping, best iteration is:                                  \n",
      "[185]\tvalid_0's l1: 62.6223\tvalid_0's l2: 10561.6\tvalid_0's rmse: 102.77\n",
      "El MAE para este ensayo es: 62.62                                   \n",
      "El MSE para este ensayo es: 10561.59                                \n",
      "El RMSE para este ensayo es: 102.77                                 \n",
      "El R2 para este ensayo es: 0.59                                     \n",
      "Training until validation scores don't improve for 5 rounds         \n",
      "[50]\tvalid_0's l1: 66.0729\tvalid_0's l2: 11535.2\tvalid_0's rmse: 107.402\n",
      "[100]\tvalid_0's l1: 62.6673\tvalid_0's l2: 10642.4\tvalid_0's rmse: 103.162\n",
      "[150]\tvalid_0's l1: 61.4486\tvalid_0's l2: 10223\tvalid_0's rmse: 101.109\n",
      "[200]\tvalid_0's l1: 60.9186\tvalid_0's l2: 10008.5\tvalid_0's rmse: 100.043\n",
      "Early stopping, best iteration is:                                  \n",
      "[203]\tvalid_0's l1: 60.906\tvalid_0's l2: 10005.6\tvalid_0's rmse: 100.028\n",
      "El MAE para este ensayo es: 60.91                                   \n",
      "El MSE para este ensayo es: 10005.59                                \n",
      "El RMSE para este ensayo es: 100.03                                 \n",
      "El R2 para este ensayo es: 0.61                                     \n",
      "Training until validation scores don't improve for 5 rounds         \n",
      "[50]\tvalid_0's l1: 61.3424\tvalid_0's l2: 9922.21\tvalid_0's rmse: 99.6103\n",
      "Early stopping, best iteration is:                                  \n",
      "[62]\tvalid_0's l1: 61.1533\tvalid_0's l2: 9830.83\tvalid_0's rmse: 99.1505\n",
      "El MAE para este ensayo es: 61.15                                   \n",
      "El MSE para este ensayo es: 9830.83                                 \n",
      "El RMSE para este ensayo es: 99.15                                  \n",
      "El R2 para este ensayo es: 0.61                                     \n",
      "Training until validation scores don't improve for 5 rounds         \n",
      "[50]\tvalid_0's l1: 61.648\tvalid_0's l2: 10241.5\tvalid_0's rmse: 101.2\n",
      "[100]\tvalid_0's l1: 60.5146\tvalid_0's l2: 9805.42\tvalid_0's rmse: 99.0223\n",
      "Early stopping, best iteration is:                                  \n",
      "[97]\tvalid_0's l1: 60.5106\tvalid_0's l2: 9799.33\tvalid_0's rmse: 98.9915\n",
      "El MAE para este ensayo es: 60.51                                   \n",
      "El MSE para este ensayo es: 9799.33                                 \n",
      "El RMSE para este ensayo es: 98.99                                  \n",
      "El R2 para este ensayo es: 0.62                                     \n",
      "Training until validation scores don't improve for 5 rounds         \n",
      "[50]\tvalid_0's l1: 64.3\tvalid_0's l2: 11144.2\tvalid_0's rmse: 105.566\n",
      "[100]\tvalid_0's l1: 62.7301\tvalid_0's l2: 10528.2\tvalid_0's rmse: 102.607\n",
      "[150]\tvalid_0's l1: 62.0483\tvalid_0's l2: 10192.5\tvalid_0's rmse: 100.958\n",
      "Early stopping, best iteration is:                                  \n",
      "[146]\tvalid_0's l1: 62.0124\tvalid_0's l2: 10198.1\tvalid_0's rmse: 100.986\n",
      "El MAE para este ensayo es: 62.01                                   \n",
      "El MSE para este ensayo es: 10198.12                                \n",
      "El RMSE para este ensayo es: 100.99                                 \n",
      "El R2 para este ensayo es: 0.6                                      \n",
      "Training until validation scores don't improve for 5 rounds         \n",
      "[50]\tvalid_0's l1: 63.7125\tvalid_0's l2: 10707.6\tvalid_0's rmse: 103.478\n",
      "[100]\tvalid_0's l1: 61.1868\tvalid_0's l2: 10049.1\tvalid_0's rmse: 100.245\n",
      "[150]\tvalid_0's l1: 60.584\tvalid_0's l2: 9769.19\tvalid_0's rmse: 98.8392\n",
      "Early stopping, best iteration is:                                  \n",
      "[147]\tvalid_0's l1: 60.5814\tvalid_0's l2: 9778.68\tvalid_0's rmse: 98.8872\n",
      "El MAE para este ensayo es: 60.58                                   \n",
      "El MSE para este ensayo es: 9778.68                                 \n",
      "El RMSE para este ensayo es: 98.89                                  \n",
      "El R2 para este ensayo es: 0.62                                     \n",
      "Training until validation scores don't improve for 5 rounds         \n",
      "[50]\tvalid_0's l1: 61.0488\tvalid_0's l2: 9988.8\tvalid_0's rmse: 99.944\n",
      "Early stopping, best iteration is:                                  \n",
      "[63]\tvalid_0's l1: 60.6965\tvalid_0's l2: 9837.61\tvalid_0's rmse: 99.1847\n",
      "El MAE para este ensayo es: 60.7                                    \n",
      "El MSE para este ensayo es: 9837.61                                 \n",
      "El RMSE para este ensayo es: 99.18                                  \n",
      "El R2 para este ensayo es: 0.61                                     \n",
      "Training until validation scores don't improve for 5 rounds         \n",
      "[50]\tvalid_0's l1: 71.0336\tvalid_0's l2: 12443.3\tvalid_0's rmse: 111.549\n",
      "[100]\tvalid_0's l1: 64.396\tvalid_0's l2: 10859.6\tvalid_0's rmse: 104.21\n",
      "[150]\tvalid_0's l1: 62.491\tvalid_0's l2: 10397.6\tvalid_0's rmse: 101.969\n",
      "[200]\tvalid_0's l1: 61.8269\tvalid_0's l2: 10220.5\tvalid_0's rmse: 101.097\n",
      "[250]\tvalid_0's l1: 61.5292\tvalid_0's l2: 10092.7\tvalid_0's rmse: 100.463\n",
      "[300]\tvalid_0's l1: 61.253\tvalid_0's l2: 9987.05\tvalid_0's rmse: 99.9353\n",
      "Early stopping, best iteration is:                                  \n",
      "[323]\tvalid_0's l1: 61.1053\tvalid_0's l2: 9930.14\tvalid_0's rmse: 99.6501\n",
      "El MAE para este ensayo es: 61.11                                   \n",
      "El MSE para este ensayo es: 9930.14                                 \n",
      "El RMSE para este ensayo es: 99.65                                  \n",
      "El R2 para este ensayo es: 0.61                                     \n",
      "Training until validation scores don't improve for 5 rounds         \n",
      "[50]\tvalid_0's l1: 64.474\tvalid_0's l2: 11170.1\tvalid_0's rmse: 105.689\n",
      "[100]\tvalid_0's l1: 62.2984\tvalid_0's l2: 10429.9\tvalid_0's rmse: 102.127\n",
      "[150]\tvalid_0's l1: 61.7357\tvalid_0's l2: 10239.4\tvalid_0's rmse: 101.19\n",
      "Early stopping, best iteration is:                                  \n",
      "[158]\tvalid_0's l1: 61.6667\tvalid_0's l2: 10217.4\tvalid_0's rmse: 101.081\n",
      "El MAE para este ensayo es: 61.67                                   \n",
      "El MSE para este ensayo es: 10217.37                                \n",
      "El RMSE para este ensayo es: 101.08                                 \n",
      "El R2 para este ensayo es: 0.6                                      \n",
      "Training until validation scores don't improve for 5 rounds         \n",
      "[50]\tvalid_0's l1: 62.3025\tvalid_0's l2: 10253.8\tvalid_0's rmse: 101.261\n",
      "[100]\tvalid_0's l1: 60.6631\tvalid_0's l2: 9775.18\tvalid_0's rmse: 98.8695\n",
      "Early stopping, best iteration is:                                  \n",
      "[136]\tvalid_0's l1: 60.134\tvalid_0's l2: 9605.7\tvalid_0's rmse: 98.0087\n",
      "El MAE para este ensayo es: 60.13                                   \n",
      "El MSE para este ensayo es: 9605.7                                  \n",
      "El RMSE para este ensayo es: 98.01                                  \n",
      "El R2 para este ensayo es: 0.62                                     \n",
      "Training until validation scores don't improve for 5 rounds         \n",
      "[50]\tvalid_0's l1: 63.9719\tvalid_0's l2: 10957.8\tvalid_0's rmse: 104.68\n",
      "Early stopping, best iteration is:                                  \n",
      "[75]\tvalid_0's l1: 62.7347\tvalid_0's l2: 10552.8\tvalid_0's rmse: 102.727\n",
      "El MAE para este ensayo es: 62.73                                   \n",
      "El MSE para este ensayo es: 10552.79                                \n",
      "El RMSE para este ensayo es: 102.73                                 \n",
      "El R2 para este ensayo es: 0.59                                     \n",
      "100%|██████████| 50/50 [00:26<00:00,  1.89trial/s, best loss: 97.19]\n"
     ]
    }
   ],
   "source": [
    "trials = Trials()\n",
    "best = fmin(regression_tuning,space, algo=tpe.suggest, max_evals = 50,trials = trials)"
   ]
  },
  {
   "cell_type": "code",
   "execution_count": 58,
   "metadata": {},
   "outputs": [
    {
     "data": {
      "text/html": [
       "<div>\n",
       "<style scoped>\n",
       "    .dataframe tbody tr th:only-of-type {\n",
       "        vertical-align: middle;\n",
       "    }\n",
       "\n",
       "    .dataframe tbody tr th {\n",
       "        vertical-align: top;\n",
       "    }\n",
       "\n",
       "    .dataframe thead th {\n",
       "        text-align: right;\n",
       "    }\n",
       "</style>\n",
       "<table border=\"1\" class=\"dataframe\">\n",
       "  <thead>\n",
       "    <tr style=\"text-align: right;\">\n",
       "      <th></th>\n",
       "      <th>max_depth</th>\n",
       "      <th>learning_rate</th>\n",
       "      <th>num_leaves</th>\n",
       "      <th>min_child_samples</th>\n",
       "      <th>reg_alpha</th>\n",
       "      <th>reg_lambda</th>\n",
       "      <th>RMSE</th>\n",
       "    </tr>\n",
       "  </thead>\n",
       "  <tbody>\n",
       "    <tr>\n",
       "      <th>28</th>\n",
       "      <td>10.0</td>\n",
       "      <td>0.089534</td>\n",
       "      <td>40.0</td>\n",
       "      <td>5.0</td>\n",
       "      <td>1.647840</td>\n",
       "      <td>1.999949</td>\n",
       "      <td>97.19</td>\n",
       "    </tr>\n",
       "    <tr>\n",
       "      <th>24</th>\n",
       "      <td>10.0</td>\n",
       "      <td>0.078988</td>\n",
       "      <td>41.0</td>\n",
       "      <td>10.0</td>\n",
       "      <td>1.763232</td>\n",
       "      <td>1.954948</td>\n",
       "      <td>97.46</td>\n",
       "    </tr>\n",
       "    <tr>\n",
       "      <th>26</th>\n",
       "      <td>10.0</td>\n",
       "      <td>0.077786</td>\n",
       "      <td>47.0</td>\n",
       "      <td>5.0</td>\n",
       "      <td>1.778459</td>\n",
       "      <td>1.754796</td>\n",
       "      <td>97.51</td>\n",
       "    </tr>\n",
       "    <tr>\n",
       "      <th>34</th>\n",
       "      <td>10.0</td>\n",
       "      <td>0.098145</td>\n",
       "      <td>40.0</td>\n",
       "      <td>9.0</td>\n",
       "      <td>1.977464</td>\n",
       "      <td>1.989531</td>\n",
       "      <td>97.67</td>\n",
       "    </tr>\n",
       "    <tr>\n",
       "      <th>27</th>\n",
       "      <td>10.0</td>\n",
       "      <td>0.075023</td>\n",
       "      <td>42.0</td>\n",
       "      <td>6.0</td>\n",
       "      <td>1.797206</td>\n",
       "      <td>1.794070</td>\n",
       "      <td>97.67</td>\n",
       "    </tr>\n",
       "    <tr>\n",
       "      <th>21</th>\n",
       "      <td>10.0</td>\n",
       "      <td>0.123517</td>\n",
       "      <td>47.0</td>\n",
       "      <td>11.0</td>\n",
       "      <td>1.490592</td>\n",
       "      <td>1.423236</td>\n",
       "      <td>97.75</td>\n",
       "    </tr>\n",
       "    <tr>\n",
       "      <th>23</th>\n",
       "      <td>10.0</td>\n",
       "      <td>0.074627</td>\n",
       "      <td>41.0</td>\n",
       "      <td>10.0</td>\n",
       "      <td>1.435034</td>\n",
       "      <td>1.486759</td>\n",
       "      <td>97.79</td>\n",
       "    </tr>\n",
       "    <tr>\n",
       "      <th>48</th>\n",
       "      <td>10.0</td>\n",
       "      <td>0.067607</td>\n",
       "      <td>39.0</td>\n",
       "      <td>11.0</td>\n",
       "      <td>0.587931</td>\n",
       "      <td>0.685866</td>\n",
       "      <td>98.01</td>\n",
       "    </tr>\n",
       "    <tr>\n",
       "      <th>14</th>\n",
       "      <td>10.0</td>\n",
       "      <td>0.105341</td>\n",
       "      <td>48.0</td>\n",
       "      <td>13.0</td>\n",
       "      <td>0.989555</td>\n",
       "      <td>1.180093</td>\n",
       "      <td>98.07</td>\n",
       "    </tr>\n",
       "    <tr>\n",
       "      <th>15</th>\n",
       "      <td>8.0</td>\n",
       "      <td>0.141824</td>\n",
       "      <td>45.0</td>\n",
       "      <td>12.0</td>\n",
       "      <td>1.531231</td>\n",
       "      <td>1.180284</td>\n",
       "      <td>98.30</td>\n",
       "    </tr>\n",
       "    <tr>\n",
       "      <th>25</th>\n",
       "      <td>10.0</td>\n",
       "      <td>0.172820</td>\n",
       "      <td>38.0</td>\n",
       "      <td>10.0</td>\n",
       "      <td>1.767685</td>\n",
       "      <td>1.972532</td>\n",
       "      <td>98.53</td>\n",
       "    </tr>\n",
       "    <tr>\n",
       "      <th>20</th>\n",
       "      <td>10.0</td>\n",
       "      <td>0.130428</td>\n",
       "      <td>43.0</td>\n",
       "      <td>12.0</td>\n",
       "      <td>1.931543</td>\n",
       "      <td>1.238904</td>\n",
       "      <td>98.61</td>\n",
       "    </tr>\n",
       "    <tr>\n",
       "      <th>29</th>\n",
       "      <td>10.0</td>\n",
       "      <td>0.094135</td>\n",
       "      <td>36.0</td>\n",
       "      <td>14.0</td>\n",
       "      <td>1.599866</td>\n",
       "      <td>1.869809</td>\n",
       "      <td>98.63</td>\n",
       "    </tr>\n",
       "    <tr>\n",
       "      <th>3</th>\n",
       "      <td>7.0</td>\n",
       "      <td>0.053938</td>\n",
       "      <td>34.0</td>\n",
       "      <td>8.0</td>\n",
       "      <td>1.630042</td>\n",
       "      <td>0.778973</td>\n",
       "      <td>98.74</td>\n",
       "    </tr>\n",
       "    <tr>\n",
       "      <th>37</th>\n",
       "      <td>9.0</td>\n",
       "      <td>0.017455</td>\n",
       "      <td>43.0</td>\n",
       "      <td>7.0</td>\n",
       "      <td>1.119341</td>\n",
       "      <td>0.952149</td>\n",
       "      <td>98.81</td>\n",
       "    </tr>\n",
       "    <tr>\n",
       "      <th>17</th>\n",
       "      <td>8.0</td>\n",
       "      <td>0.090599</td>\n",
       "      <td>50.0</td>\n",
       "      <td>22.0</td>\n",
       "      <td>0.820137</td>\n",
       "      <td>1.293244</td>\n",
       "      <td>98.83</td>\n",
       "    </tr>\n",
       "    <tr>\n",
       "      <th>44</th>\n",
       "      <td>7.0</td>\n",
       "      <td>0.054648</td>\n",
       "      <td>45.0</td>\n",
       "      <td>8.0</td>\n",
       "      <td>1.867195</td>\n",
       "      <td>1.362299</td>\n",
       "      <td>98.89</td>\n",
       "    </tr>\n",
       "    <tr>\n",
       "      <th>42</th>\n",
       "      <td>9.0</td>\n",
       "      <td>0.102085</td>\n",
       "      <td>37.0</td>\n",
       "      <td>10.0</td>\n",
       "      <td>1.185725</td>\n",
       "      <td>1.512046</td>\n",
       "      <td>98.99</td>\n",
       "    </tr>\n",
       "    <tr>\n",
       "      <th>9</th>\n",
       "      <td>9.0</td>\n",
       "      <td>0.088693</td>\n",
       "      <td>24.0</td>\n",
       "      <td>15.0</td>\n",
       "      <td>1.123158</td>\n",
       "      <td>1.713649</td>\n",
       "      <td>99.14</td>\n",
       "    </tr>\n",
       "    <tr>\n",
       "      <th>41</th>\n",
       "      <td>10.0</td>\n",
       "      <td>0.116224</td>\n",
       "      <td>29.0</td>\n",
       "      <td>6.0</td>\n",
       "      <td>0.896975</td>\n",
       "      <td>0.303984</td>\n",
       "      <td>99.15</td>\n",
       "    </tr>\n",
       "    <tr>\n",
       "      <th>45</th>\n",
       "      <td>8.0</td>\n",
       "      <td>0.168899</td>\n",
       "      <td>35.0</td>\n",
       "      <td>16.0</td>\n",
       "      <td>1.692298</td>\n",
       "      <td>0.911994</td>\n",
       "      <td>99.18</td>\n",
       "    </tr>\n",
       "    <tr>\n",
       "      <th>38</th>\n",
       "      <td>10.0</td>\n",
       "      <td>0.083788</td>\n",
       "      <td>38.0</td>\n",
       "      <td>25.0</td>\n",
       "      <td>1.687918</td>\n",
       "      <td>0.588952</td>\n",
       "      <td>99.26</td>\n",
       "    </tr>\n",
       "    <tr>\n",
       "      <th>5</th>\n",
       "      <td>9.0</td>\n",
       "      <td>0.053411</td>\n",
       "      <td>30.0</td>\n",
       "      <td>9.0</td>\n",
       "      <td>0.937396</td>\n",
       "      <td>1.074572</td>\n",
       "      <td>99.39</td>\n",
       "    </tr>\n",
       "    <tr>\n",
       "      <th>19</th>\n",
       "      <td>8.0</td>\n",
       "      <td>0.111423</td>\n",
       "      <td>34.0</td>\n",
       "      <td>19.0</td>\n",
       "      <td>0.190928</td>\n",
       "      <td>0.035922</td>\n",
       "      <td>99.56</td>\n",
       "    </tr>\n",
       "    <tr>\n",
       "      <th>31</th>\n",
       "      <td>9.0</td>\n",
       "      <td>0.043919</td>\n",
       "      <td>41.0</td>\n",
       "      <td>5.0</td>\n",
       "      <td>1.653410</td>\n",
       "      <td>1.969755</td>\n",
       "      <td>99.60</td>\n",
       "    </tr>\n",
       "    <tr>\n",
       "      <th>33</th>\n",
       "      <td>7.0</td>\n",
       "      <td>0.072971</td>\n",
       "      <td>36.0</td>\n",
       "      <td>17.0</td>\n",
       "      <td>0.015282</td>\n",
       "      <td>1.832532</td>\n",
       "      <td>99.60</td>\n",
       "    </tr>\n",
       "    <tr>\n",
       "      <th>46</th>\n",
       "      <td>10.0</td>\n",
       "      <td>0.028760</td>\n",
       "      <td>27.0</td>\n",
       "      <td>13.0</td>\n",
       "      <td>1.501050</td>\n",
       "      <td>1.885248</td>\n",
       "      <td>99.65</td>\n",
       "    </tr>\n",
       "    <tr>\n",
       "      <th>4</th>\n",
       "      <td>6.0</td>\n",
       "      <td>0.055351</td>\n",
       "      <td>44.0</td>\n",
       "      <td>21.0</td>\n",
       "      <td>1.275771</td>\n",
       "      <td>0.747935</td>\n",
       "      <td>99.84</td>\n",
       "    </tr>\n",
       "    <tr>\n",
       "      <th>7</th>\n",
       "      <td>6.0</td>\n",
       "      <td>0.109640</td>\n",
       "      <td>24.0</td>\n",
       "      <td>19.0</td>\n",
       "      <td>0.498225</td>\n",
       "      <td>1.109646</td>\n",
       "      <td>99.98</td>\n",
       "    </tr>\n",
       "    <tr>\n",
       "      <th>40</th>\n",
       "      <td>6.0</td>\n",
       "      <td>0.046097</td>\n",
       "      <td>40.0</td>\n",
       "      <td>9.0</td>\n",
       "      <td>1.576195</td>\n",
       "      <td>1.682269</td>\n",
       "      <td>100.03</td>\n",
       "    </tr>\n",
       "    <tr>\n",
       "      <th>6</th>\n",
       "      <td>8.0</td>\n",
       "      <td>0.193957</td>\n",
       "      <td>28.0</td>\n",
       "      <td>8.0</td>\n",
       "      <td>0.960921</td>\n",
       "      <td>0.251879</td>\n",
       "      <td>100.07</td>\n",
       "    </tr>\n",
       "    <tr>\n",
       "      <th>36</th>\n",
       "      <td>7.0</td>\n",
       "      <td>0.044777</td>\n",
       "      <td>36.0</td>\n",
       "      <td>8.0</td>\n",
       "      <td>1.330695</td>\n",
       "      <td>0.105584</td>\n",
       "      <td>100.34</td>\n",
       "    </tr>\n",
       "    <tr>\n",
       "      <th>12</th>\n",
       "      <td>5.0</td>\n",
       "      <td>0.032564</td>\n",
       "      <td>46.0</td>\n",
       "      <td>12.0</td>\n",
       "      <td>1.771327</td>\n",
       "      <td>1.960424</td>\n",
       "      <td>100.48</td>\n",
       "    </tr>\n",
       "    <tr>\n",
       "      <th>35</th>\n",
       "      <td>6.0</td>\n",
       "      <td>0.064344</td>\n",
       "      <td>44.0</td>\n",
       "      <td>17.0</td>\n",
       "      <td>1.117364</td>\n",
       "      <td>0.475124</td>\n",
       "      <td>100.61</td>\n",
       "    </tr>\n",
       "    <tr>\n",
       "      <th>22</th>\n",
       "      <td>10.0</td>\n",
       "      <td>0.123365</td>\n",
       "      <td>20.0</td>\n",
       "      <td>15.0</td>\n",
       "      <td>1.947196</td>\n",
       "      <td>1.420723</td>\n",
       "      <td>100.62</td>\n",
       "    </tr>\n",
       "    <tr>\n",
       "      <th>18</th>\n",
       "      <td>5.0</td>\n",
       "      <td>0.145205</td>\n",
       "      <td>49.0</td>\n",
       "      <td>29.0</td>\n",
       "      <td>1.264077</td>\n",
       "      <td>1.588888</td>\n",
       "      <td>100.74</td>\n",
       "    </tr>\n",
       "    <tr>\n",
       "      <th>11</th>\n",
       "      <td>5.0</td>\n",
       "      <td>0.156154</td>\n",
       "      <td>26.0</td>\n",
       "      <td>22.0</td>\n",
       "      <td>0.419666</td>\n",
       "      <td>1.346878</td>\n",
       "      <td>100.88</td>\n",
       "    </tr>\n",
       "    <tr>\n",
       "      <th>32</th>\n",
       "      <td>6.0</td>\n",
       "      <td>0.019808</td>\n",
       "      <td>32.0</td>\n",
       "      <td>7.0</td>\n",
       "      <td>1.379262</td>\n",
       "      <td>1.665047</td>\n",
       "      <td>100.89</td>\n",
       "    </tr>\n",
       "    <tr>\n",
       "      <th>16</th>\n",
       "      <td>5.0</td>\n",
       "      <td>0.146620</td>\n",
       "      <td>39.0</td>\n",
       "      <td>23.0</td>\n",
       "      <td>1.217923</td>\n",
       "      <td>0.720285</td>\n",
       "      <td>100.90</td>\n",
       "    </tr>\n",
       "    <tr>\n",
       "      <th>43</th>\n",
       "      <td>4.0</td>\n",
       "      <td>0.132417</td>\n",
       "      <td>20.0</td>\n",
       "      <td>14.0</td>\n",
       "      <td>0.706974</td>\n",
       "      <td>1.028798</td>\n",
       "      <td>100.99</td>\n",
       "    </tr>\n",
       "    <tr>\n",
       "      <th>13</th>\n",
       "      <td>4.0</td>\n",
       "      <td>0.171237</td>\n",
       "      <td>38.0</td>\n",
       "      <td>6.0</td>\n",
       "      <td>1.421330</td>\n",
       "      <td>0.832897</td>\n",
       "      <td>101.04</td>\n",
       "    </tr>\n",
       "    <tr>\n",
       "      <th>30</th>\n",
       "      <td>7.0</td>\n",
       "      <td>0.029458</td>\n",
       "      <td>31.0</td>\n",
       "      <td>26.0</td>\n",
       "      <td>1.927225</td>\n",
       "      <td>1.596546</td>\n",
       "      <td>101.06</td>\n",
       "    </tr>\n",
       "    <tr>\n",
       "      <th>47</th>\n",
       "      <td>5.0</td>\n",
       "      <td>0.085770</td>\n",
       "      <td>49.0</td>\n",
       "      <td>20.0</td>\n",
       "      <td>1.030611</td>\n",
       "      <td>1.604587</td>\n",
       "      <td>101.08</td>\n",
       "    </tr>\n",
       "    <tr>\n",
       "      <th>10</th>\n",
       "      <td>4.0</td>\n",
       "      <td>0.193049</td>\n",
       "      <td>34.0</td>\n",
       "      <td>15.0</td>\n",
       "      <td>0.635532</td>\n",
       "      <td>0.494219</td>\n",
       "      <td>101.08</td>\n",
       "    </tr>\n",
       "    <tr>\n",
       "      <th>1</th>\n",
       "      <td>7.0</td>\n",
       "      <td>0.036889</td>\n",
       "      <td>28.0</td>\n",
       "      <td>27.0</td>\n",
       "      <td>0.757303</td>\n",
       "      <td>0.414841</td>\n",
       "      <td>101.85</td>\n",
       "    </tr>\n",
       "    <tr>\n",
       "      <th>0</th>\n",
       "      <td>4.0</td>\n",
       "      <td>0.101925</td>\n",
       "      <td>28.0</td>\n",
       "      <td>28.0</td>\n",
       "      <td>1.553013</td>\n",
       "      <td>1.828085</td>\n",
       "      <td>102.50</td>\n",
       "    </tr>\n",
       "    <tr>\n",
       "      <th>2</th>\n",
       "      <td>5.0</td>\n",
       "      <td>0.017089</td>\n",
       "      <td>29.0</td>\n",
       "      <td>7.0</td>\n",
       "      <td>0.358882</td>\n",
       "      <td>1.535094</td>\n",
       "      <td>102.64</td>\n",
       "    </tr>\n",
       "    <tr>\n",
       "      <th>49</th>\n",
       "      <td>4.0</td>\n",
       "      <td>0.159926</td>\n",
       "      <td>45.0</td>\n",
       "      <td>7.0</td>\n",
       "      <td>0.245733</td>\n",
       "      <td>1.151290</td>\n",
       "      <td>102.73</td>\n",
       "    </tr>\n",
       "    <tr>\n",
       "      <th>39</th>\n",
       "      <td>4.0</td>\n",
       "      <td>0.063109</td>\n",
       "      <td>33.0</td>\n",
       "      <td>19.0</td>\n",
       "      <td>1.835982</td>\n",
       "      <td>1.901262</td>\n",
       "      <td>102.77</td>\n",
       "    </tr>\n",
       "    <tr>\n",
       "      <th>8</th>\n",
       "      <td>4.0</td>\n",
       "      <td>0.060989</td>\n",
       "      <td>25.0</td>\n",
       "      <td>29.0</td>\n",
       "      <td>0.631374</td>\n",
       "      <td>0.983776</td>\n",
       "      <td>102.94</td>\n",
       "    </tr>\n",
       "  </tbody>\n",
       "</table>\n",
       "</div>"
      ],
      "text/plain": [
       "    max_depth  learning_rate  num_leaves  min_child_samples  reg_alpha  \\\n",
       "28       10.0       0.089534        40.0                5.0   1.647840   \n",
       "24       10.0       0.078988        41.0               10.0   1.763232   \n",
       "26       10.0       0.077786        47.0                5.0   1.778459   \n",
       "34       10.0       0.098145        40.0                9.0   1.977464   \n",
       "27       10.0       0.075023        42.0                6.0   1.797206   \n",
       "21       10.0       0.123517        47.0               11.0   1.490592   \n",
       "23       10.0       0.074627        41.0               10.0   1.435034   \n",
       "48       10.0       0.067607        39.0               11.0   0.587931   \n",
       "14       10.0       0.105341        48.0               13.0   0.989555   \n",
       "15        8.0       0.141824        45.0               12.0   1.531231   \n",
       "25       10.0       0.172820        38.0               10.0   1.767685   \n",
       "20       10.0       0.130428        43.0               12.0   1.931543   \n",
       "29       10.0       0.094135        36.0               14.0   1.599866   \n",
       "3         7.0       0.053938        34.0                8.0   1.630042   \n",
       "37        9.0       0.017455        43.0                7.0   1.119341   \n",
       "17        8.0       0.090599        50.0               22.0   0.820137   \n",
       "44        7.0       0.054648        45.0                8.0   1.867195   \n",
       "42        9.0       0.102085        37.0               10.0   1.185725   \n",
       "9         9.0       0.088693        24.0               15.0   1.123158   \n",
       "41       10.0       0.116224        29.0                6.0   0.896975   \n",
       "45        8.0       0.168899        35.0               16.0   1.692298   \n",
       "38       10.0       0.083788        38.0               25.0   1.687918   \n",
       "5         9.0       0.053411        30.0                9.0   0.937396   \n",
       "19        8.0       0.111423        34.0               19.0   0.190928   \n",
       "31        9.0       0.043919        41.0                5.0   1.653410   \n",
       "33        7.0       0.072971        36.0               17.0   0.015282   \n",
       "46       10.0       0.028760        27.0               13.0   1.501050   \n",
       "4         6.0       0.055351        44.0               21.0   1.275771   \n",
       "7         6.0       0.109640        24.0               19.0   0.498225   \n",
       "40        6.0       0.046097        40.0                9.0   1.576195   \n",
       "6         8.0       0.193957        28.0                8.0   0.960921   \n",
       "36        7.0       0.044777        36.0                8.0   1.330695   \n",
       "12        5.0       0.032564        46.0               12.0   1.771327   \n",
       "35        6.0       0.064344        44.0               17.0   1.117364   \n",
       "22       10.0       0.123365        20.0               15.0   1.947196   \n",
       "18        5.0       0.145205        49.0               29.0   1.264077   \n",
       "11        5.0       0.156154        26.0               22.0   0.419666   \n",
       "32        6.0       0.019808        32.0                7.0   1.379262   \n",
       "16        5.0       0.146620        39.0               23.0   1.217923   \n",
       "43        4.0       0.132417        20.0               14.0   0.706974   \n",
       "13        4.0       0.171237        38.0                6.0   1.421330   \n",
       "30        7.0       0.029458        31.0               26.0   1.927225   \n",
       "47        5.0       0.085770        49.0               20.0   1.030611   \n",
       "10        4.0       0.193049        34.0               15.0   0.635532   \n",
       "1         7.0       0.036889        28.0               27.0   0.757303   \n",
       "0         4.0       0.101925        28.0               28.0   1.553013   \n",
       "2         5.0       0.017089        29.0                7.0   0.358882   \n",
       "49        4.0       0.159926        45.0                7.0   0.245733   \n",
       "39        4.0       0.063109        33.0               19.0   1.835982   \n",
       "8         4.0       0.060989        25.0               29.0   0.631374   \n",
       "\n",
       "    reg_lambda    RMSE  \n",
       "28    1.999949   97.19  \n",
       "24    1.954948   97.46  \n",
       "26    1.754796   97.51  \n",
       "34    1.989531   97.67  \n",
       "27    1.794070   97.67  \n",
       "21    1.423236   97.75  \n",
       "23    1.486759   97.79  \n",
       "48    0.685866   98.01  \n",
       "14    1.180093   98.07  \n",
       "15    1.180284   98.30  \n",
       "25    1.972532   98.53  \n",
       "20    1.238904   98.61  \n",
       "29    1.869809   98.63  \n",
       "3     0.778973   98.74  \n",
       "37    0.952149   98.81  \n",
       "17    1.293244   98.83  \n",
       "44    1.362299   98.89  \n",
       "42    1.512046   98.99  \n",
       "9     1.713649   99.14  \n",
       "41    0.303984   99.15  \n",
       "45    0.911994   99.18  \n",
       "38    0.588952   99.26  \n",
       "5     1.074572   99.39  \n",
       "19    0.035922   99.56  \n",
       "31    1.969755   99.60  \n",
       "33    1.832532   99.60  \n",
       "46    1.885248   99.65  \n",
       "4     0.747935   99.84  \n",
       "7     1.109646   99.98  \n",
       "40    1.682269  100.03  \n",
       "6     0.251879  100.07  \n",
       "36    0.105584  100.34  \n",
       "12    1.960424  100.48  \n",
       "35    0.475124  100.61  \n",
       "22    1.420723  100.62  \n",
       "18    1.588888  100.74  \n",
       "11    1.346878  100.88  \n",
       "32    1.665047  100.89  \n",
       "16    0.720285  100.90  \n",
       "43    1.028798  100.99  \n",
       "13    0.832897  101.04  \n",
       "30    1.596546  101.06  \n",
       "47    1.604587  101.08  \n",
       "10    0.494219  101.08  \n",
       "1     0.414841  101.85  \n",
       "0     1.828085  102.50  \n",
       "2     1.535094  102.64  \n",
       "49    1.151290  102.73  \n",
       "39    1.901262  102.77  \n",
       "8     0.983776  102.94  "
      ]
     },
     "execution_count": 58,
     "metadata": {},
     "output_type": "execute_result"
    }
   ],
   "source": [
    "results = pd.DataFrame(columns = [\"max_depth\",\"learning_rate\",\"num_leaves\",\"min_child_samples\",\"reg_alpha\",\"reg_lambda\",\"RMSE\"])\n",
    "\n",
    "models = []\n",
    "for trial in trials:\n",
    "    results = results.append(pd.Series(\n",
    "            {\n",
    "             \"max_depth\": trial[\"result\"][\"model\"].max_depth,\n",
    "             \"learning_rate\": trial[\"result\"][\"model\"].learning_rate,\n",
    "             \"num_leaves\": trial[\"result\"][\"model\"].num_leaves,\n",
    "             \"min_child_samples\": trial[\"result\"][\"model\"].min_child_samples,\n",
    "             \"reg_alpha\": trial[\"result\"][\"model\"].reg_alpha,\n",
    "             \"reg_lambda\": trial[\"result\"][\"model\"].reg_lambda,\n",
    "             \"RMSE\": trial[\"result\"][\"loss\"]\n",
    "            }\n",
    "        ),\n",
    "        ignore_index = True\n",
    "    )\n",
    "    models.append(trial[\"result\"][\"model\"])\n",
    "    \n",
    "results.sort_values(\"RMSE\",ascending = True)"
   ]
  },
  {
   "cell_type": "code",
   "execution_count": 59,
   "metadata": {},
   "outputs": [],
   "source": [
    "model = models[28]"
   ]
  },
  {
   "cell_type": "code",
   "execution_count": 60,
   "metadata": {},
   "outputs": [
    {
     "data": {
      "application/vnd.plotly.v1+json": {
       "config": {
        "plotlyServerURL": "https://plot.ly"
       },
       "data": [
        {
         "marker": {
          "color": "steelblue"
         },
         "name": "Importancia de variables",
         "orientation": "h",
         "type": "bar",
         "x": [
          0,
          0,
          273970.6689453125,
          1105520.1513671875,
          1319645.4482421875,
          1452127.896484375,
          4242117.97265625,
          17029272.466064453,
          20380077.000732422,
          25894568.115722656,
          50761256.29980469,
          166530981.81835938,
          226811616.82479858,
          286064806.66381836,
          329695750.3232422
         ],
         "y": [
          "neighbourhood_group_cleansed_Bronx",
          "neighbourhood_group_cleansed_Staten_Island",
          "neighbourhood_group_cleansed_Queens",
          "neighbourhood_group_cleansed_Brooklyn",
          "has_heating",
          "has_wifi",
          "has_dryer",
          "has_tv",
          "beds",
          "has_kitchen",
          "neighbourhood_group_cleansed_Manhattan",
          "baths",
          "latitude",
          "longitude",
          "accommodates"
         ]
        }
       ],
       "layout": {
        "template": {
         "data": {
          "bar": [
           {
            "error_x": {
             "color": "#2a3f5f"
            },
            "error_y": {
             "color": "#2a3f5f"
            },
            "marker": {
             "line": {
              "color": "#E5ECF6",
              "width": 0.5
             },
             "pattern": {
              "fillmode": "overlay",
              "size": 10,
              "solidity": 0.2
             }
            },
            "type": "bar"
           }
          ],
          "barpolar": [
           {
            "marker": {
             "line": {
              "color": "#E5ECF6",
              "width": 0.5
             },
             "pattern": {
              "fillmode": "overlay",
              "size": 10,
              "solidity": 0.2
             }
            },
            "type": "barpolar"
           }
          ],
          "carpet": [
           {
            "aaxis": {
             "endlinecolor": "#2a3f5f",
             "gridcolor": "white",
             "linecolor": "white",
             "minorgridcolor": "white",
             "startlinecolor": "#2a3f5f"
            },
            "baxis": {
             "endlinecolor": "#2a3f5f",
             "gridcolor": "white",
             "linecolor": "white",
             "minorgridcolor": "white",
             "startlinecolor": "#2a3f5f"
            },
            "type": "carpet"
           }
          ],
          "choropleth": [
           {
            "colorbar": {
             "outlinewidth": 0,
             "ticks": ""
            },
            "type": "choropleth"
           }
          ],
          "contour": [
           {
            "colorbar": {
             "outlinewidth": 0,
             "ticks": ""
            },
            "colorscale": [
             [
              0,
              "#0d0887"
             ],
             [
              0.1111111111111111,
              "#46039f"
             ],
             [
              0.2222222222222222,
              "#7201a8"
             ],
             [
              0.3333333333333333,
              "#9c179e"
             ],
             [
              0.4444444444444444,
              "#bd3786"
             ],
             [
              0.5555555555555556,
              "#d8576b"
             ],
             [
              0.6666666666666666,
              "#ed7953"
             ],
             [
              0.7777777777777778,
              "#fb9f3a"
             ],
             [
              0.8888888888888888,
              "#fdca26"
             ],
             [
              1,
              "#f0f921"
             ]
            ],
            "type": "contour"
           }
          ],
          "contourcarpet": [
           {
            "colorbar": {
             "outlinewidth": 0,
             "ticks": ""
            },
            "type": "contourcarpet"
           }
          ],
          "heatmap": [
           {
            "colorbar": {
             "outlinewidth": 0,
             "ticks": ""
            },
            "colorscale": [
             [
              0,
              "#0d0887"
             ],
             [
              0.1111111111111111,
              "#46039f"
             ],
             [
              0.2222222222222222,
              "#7201a8"
             ],
             [
              0.3333333333333333,
              "#9c179e"
             ],
             [
              0.4444444444444444,
              "#bd3786"
             ],
             [
              0.5555555555555556,
              "#d8576b"
             ],
             [
              0.6666666666666666,
              "#ed7953"
             ],
             [
              0.7777777777777778,
              "#fb9f3a"
             ],
             [
              0.8888888888888888,
              "#fdca26"
             ],
             [
              1,
              "#f0f921"
             ]
            ],
            "type": "heatmap"
           }
          ],
          "heatmapgl": [
           {
            "colorbar": {
             "outlinewidth": 0,
             "ticks": ""
            },
            "colorscale": [
             [
              0,
              "#0d0887"
             ],
             [
              0.1111111111111111,
              "#46039f"
             ],
             [
              0.2222222222222222,
              "#7201a8"
             ],
             [
              0.3333333333333333,
              "#9c179e"
             ],
             [
              0.4444444444444444,
              "#bd3786"
             ],
             [
              0.5555555555555556,
              "#d8576b"
             ],
             [
              0.6666666666666666,
              "#ed7953"
             ],
             [
              0.7777777777777778,
              "#fb9f3a"
             ],
             [
              0.8888888888888888,
              "#fdca26"
             ],
             [
              1,
              "#f0f921"
             ]
            ],
            "type": "heatmapgl"
           }
          ],
          "histogram": [
           {
            "marker": {
             "pattern": {
              "fillmode": "overlay",
              "size": 10,
              "solidity": 0.2
             }
            },
            "type": "histogram"
           }
          ],
          "histogram2d": [
           {
            "colorbar": {
             "outlinewidth": 0,
             "ticks": ""
            },
            "colorscale": [
             [
              0,
              "#0d0887"
             ],
             [
              0.1111111111111111,
              "#46039f"
             ],
             [
              0.2222222222222222,
              "#7201a8"
             ],
             [
              0.3333333333333333,
              "#9c179e"
             ],
             [
              0.4444444444444444,
              "#bd3786"
             ],
             [
              0.5555555555555556,
              "#d8576b"
             ],
             [
              0.6666666666666666,
              "#ed7953"
             ],
             [
              0.7777777777777778,
              "#fb9f3a"
             ],
             [
              0.8888888888888888,
              "#fdca26"
             ],
             [
              1,
              "#f0f921"
             ]
            ],
            "type": "histogram2d"
           }
          ],
          "histogram2dcontour": [
           {
            "colorbar": {
             "outlinewidth": 0,
             "ticks": ""
            },
            "colorscale": [
             [
              0,
              "#0d0887"
             ],
             [
              0.1111111111111111,
              "#46039f"
             ],
             [
              0.2222222222222222,
              "#7201a8"
             ],
             [
              0.3333333333333333,
              "#9c179e"
             ],
             [
              0.4444444444444444,
              "#bd3786"
             ],
             [
              0.5555555555555556,
              "#d8576b"
             ],
             [
              0.6666666666666666,
              "#ed7953"
             ],
             [
              0.7777777777777778,
              "#fb9f3a"
             ],
             [
              0.8888888888888888,
              "#fdca26"
             ],
             [
              1,
              "#f0f921"
             ]
            ],
            "type": "histogram2dcontour"
           }
          ],
          "mesh3d": [
           {
            "colorbar": {
             "outlinewidth": 0,
             "ticks": ""
            },
            "type": "mesh3d"
           }
          ],
          "parcoords": [
           {
            "line": {
             "colorbar": {
              "outlinewidth": 0,
              "ticks": ""
             }
            },
            "type": "parcoords"
           }
          ],
          "pie": [
           {
            "automargin": true,
            "type": "pie"
           }
          ],
          "scatter": [
           {
            "fillpattern": {
             "fillmode": "overlay",
             "size": 10,
             "solidity": 0.2
            },
            "type": "scatter"
           }
          ],
          "scatter3d": [
           {
            "line": {
             "colorbar": {
              "outlinewidth": 0,
              "ticks": ""
             }
            },
            "marker": {
             "colorbar": {
              "outlinewidth": 0,
              "ticks": ""
             }
            },
            "type": "scatter3d"
           }
          ],
          "scattercarpet": [
           {
            "marker": {
             "colorbar": {
              "outlinewidth": 0,
              "ticks": ""
             }
            },
            "type": "scattercarpet"
           }
          ],
          "scattergeo": [
           {
            "marker": {
             "colorbar": {
              "outlinewidth": 0,
              "ticks": ""
             }
            },
            "type": "scattergeo"
           }
          ],
          "scattergl": [
           {
            "marker": {
             "colorbar": {
              "outlinewidth": 0,
              "ticks": ""
             }
            },
            "type": "scattergl"
           }
          ],
          "scattermapbox": [
           {
            "marker": {
             "colorbar": {
              "outlinewidth": 0,
              "ticks": ""
             }
            },
            "type": "scattermapbox"
           }
          ],
          "scatterpolar": [
           {
            "marker": {
             "colorbar": {
              "outlinewidth": 0,
              "ticks": ""
             }
            },
            "type": "scatterpolar"
           }
          ],
          "scatterpolargl": [
           {
            "marker": {
             "colorbar": {
              "outlinewidth": 0,
              "ticks": ""
             }
            },
            "type": "scatterpolargl"
           }
          ],
          "scatterternary": [
           {
            "marker": {
             "colorbar": {
              "outlinewidth": 0,
              "ticks": ""
             }
            },
            "type": "scatterternary"
           }
          ],
          "surface": [
           {
            "colorbar": {
             "outlinewidth": 0,
             "ticks": ""
            },
            "colorscale": [
             [
              0,
              "#0d0887"
             ],
             [
              0.1111111111111111,
              "#46039f"
             ],
             [
              0.2222222222222222,
              "#7201a8"
             ],
             [
              0.3333333333333333,
              "#9c179e"
             ],
             [
              0.4444444444444444,
              "#bd3786"
             ],
             [
              0.5555555555555556,
              "#d8576b"
             ],
             [
              0.6666666666666666,
              "#ed7953"
             ],
             [
              0.7777777777777778,
              "#fb9f3a"
             ],
             [
              0.8888888888888888,
              "#fdca26"
             ],
             [
              1,
              "#f0f921"
             ]
            ],
            "type": "surface"
           }
          ],
          "table": [
           {
            "cells": {
             "fill": {
              "color": "#EBF0F8"
             },
             "line": {
              "color": "white"
             }
            },
            "header": {
             "fill": {
              "color": "#C8D4E3"
             },
             "line": {
              "color": "white"
             }
            },
            "type": "table"
           }
          ]
         },
         "layout": {
          "annotationdefaults": {
           "arrowcolor": "#2a3f5f",
           "arrowhead": 0,
           "arrowwidth": 1
          },
          "autotypenumbers": "strict",
          "coloraxis": {
           "colorbar": {
            "outlinewidth": 0,
            "ticks": ""
           }
          },
          "colorscale": {
           "diverging": [
            [
             0,
             "#8e0152"
            ],
            [
             0.1,
             "#c51b7d"
            ],
            [
             0.2,
             "#de77ae"
            ],
            [
             0.3,
             "#f1b6da"
            ],
            [
             0.4,
             "#fde0ef"
            ],
            [
             0.5,
             "#f7f7f7"
            ],
            [
             0.6,
             "#e6f5d0"
            ],
            [
             0.7,
             "#b8e186"
            ],
            [
             0.8,
             "#7fbc41"
            ],
            [
             0.9,
             "#4d9221"
            ],
            [
             1,
             "#276419"
            ]
           ],
           "sequential": [
            [
             0,
             "#0d0887"
            ],
            [
             0.1111111111111111,
             "#46039f"
            ],
            [
             0.2222222222222222,
             "#7201a8"
            ],
            [
             0.3333333333333333,
             "#9c179e"
            ],
            [
             0.4444444444444444,
             "#bd3786"
            ],
            [
             0.5555555555555556,
             "#d8576b"
            ],
            [
             0.6666666666666666,
             "#ed7953"
            ],
            [
             0.7777777777777778,
             "#fb9f3a"
            ],
            [
             0.8888888888888888,
             "#fdca26"
            ],
            [
             1,
             "#f0f921"
            ]
           ],
           "sequentialminus": [
            [
             0,
             "#0d0887"
            ],
            [
             0.1111111111111111,
             "#46039f"
            ],
            [
             0.2222222222222222,
             "#7201a8"
            ],
            [
             0.3333333333333333,
             "#9c179e"
            ],
            [
             0.4444444444444444,
             "#bd3786"
            ],
            [
             0.5555555555555556,
             "#d8576b"
            ],
            [
             0.6666666666666666,
             "#ed7953"
            ],
            [
             0.7777777777777778,
             "#fb9f3a"
            ],
            [
             0.8888888888888888,
             "#fdca26"
            ],
            [
             1,
             "#f0f921"
            ]
           ]
          },
          "colorway": [
           "#636efa",
           "#EF553B",
           "#00cc96",
           "#ab63fa",
           "#FFA15A",
           "#19d3f3",
           "#FF6692",
           "#B6E880",
           "#FF97FF",
           "#FECB52"
          ],
          "font": {
           "color": "#2a3f5f"
          },
          "geo": {
           "bgcolor": "white",
           "lakecolor": "white",
           "landcolor": "#E5ECF6",
           "showlakes": true,
           "showland": true,
           "subunitcolor": "white"
          },
          "hoverlabel": {
           "align": "left"
          },
          "hovermode": "closest",
          "mapbox": {
           "style": "light"
          },
          "paper_bgcolor": "white",
          "plot_bgcolor": "#E5ECF6",
          "polar": {
           "angularaxis": {
            "gridcolor": "white",
            "linecolor": "white",
            "ticks": ""
           },
           "bgcolor": "#E5ECF6",
           "radialaxis": {
            "gridcolor": "white",
            "linecolor": "white",
            "ticks": ""
           }
          },
          "scene": {
           "xaxis": {
            "backgroundcolor": "#E5ECF6",
            "gridcolor": "white",
            "gridwidth": 2,
            "linecolor": "white",
            "showbackground": true,
            "ticks": "",
            "zerolinecolor": "white"
           },
           "yaxis": {
            "backgroundcolor": "#E5ECF6",
            "gridcolor": "white",
            "gridwidth": 2,
            "linecolor": "white",
            "showbackground": true,
            "ticks": "",
            "zerolinecolor": "white"
           },
           "zaxis": {
            "backgroundcolor": "#E5ECF6",
            "gridcolor": "white",
            "gridwidth": 2,
            "linecolor": "white",
            "showbackground": true,
            "ticks": "",
            "zerolinecolor": "white"
           }
          },
          "shapedefaults": {
           "line": {
            "color": "#2a3f5f"
           }
          },
          "ternary": {
           "aaxis": {
            "gridcolor": "white",
            "linecolor": "white",
            "ticks": ""
           },
           "baxis": {
            "gridcolor": "white",
            "linecolor": "white",
            "ticks": ""
           },
           "bgcolor": "#E5ECF6",
           "caxis": {
            "gridcolor": "white",
            "linecolor": "white",
            "ticks": ""
           }
          },
          "title": {
           "x": 0.05
          },
          "xaxis": {
           "automargin": true,
           "gridcolor": "white",
           "linecolor": "white",
           "ticks": "",
           "title": {
            "standoff": 15
           },
           "zerolinecolor": "white",
           "zerolinewidth": 2
          },
          "yaxis": {
           "automargin": true,
           "gridcolor": "white",
           "linecolor": "white",
           "ticks": "",
           "title": {
            "standoff": 15
           },
           "zerolinecolor": "white",
           "zerolinewidth": 2
          }
         }
        },
        "title": {
         "text": "Importancia de variables del modelo"
        },
        "xaxis": {
         "title": {
          "text": "Ganancia en el modelo"
         }
        },
        "yaxis": {
         "title": {
          "text": "Variable"
         }
        }
       }
      }
     },
     "metadata": {},
     "output_type": "display_data"
    }
   ],
   "source": [
    "importancia = pd.DataFrame()\n",
    "importancia[\"nombre\"] = model.feature_name_\n",
    "importancia[\"importancia\"] = model.feature_importances_\n",
    "importancia.sort_values(\"importancia\",inplace = True, ascending = True)\n",
    "\n",
    "data = [\n",
    "    go.Bar(\n",
    "        x = importancia[\"importancia\"],\n",
    "        y = importancia[\"nombre\"],\n",
    "        marker_color = \"steelblue\",\n",
    "        orientation = \"h\",\n",
    "        name = \"Importancia de variables\",\n",
    "    )\n",
    "]\n",
    "\n",
    "layout = go.Layout(title = \"Importancia de variables del modelo\", xaxis_title = \"Ganancia en el modelo\",\n",
    "                   yaxis_title = \"Variable\")\n",
    "\n",
    "fig = go.Figure(data = data, layout = layout)\n",
    "\n",
    "fig.show()"
   ]
  },
  {
   "cell_type": "markdown",
   "metadata": {},
   "source": [
    "Exportar modelo"
   ]
  },
  {
   "cell_type": "code",
   "execution_count": 61,
   "metadata": {},
   "outputs": [],
   "source": [
    "import pickle\n",
    "\n",
    "pickle.dump(model, open(\"random_forest_model_tunned.pickle\", 'wb'))"
   ]
  },
  {
   "cell_type": "code",
   "execution_count": 23,
   "metadata": {},
   "outputs": [
    {
     "data": {
      "text/html": [
       "<div>\n",
       "<style scoped>\n",
       "    .dataframe tbody tr th:only-of-type {\n",
       "        vertical-align: middle;\n",
       "    }\n",
       "\n",
       "    .dataframe tbody tr th {\n",
       "        vertical-align: top;\n",
       "    }\n",
       "\n",
       "    .dataframe thead th {\n",
       "        text-align: right;\n",
       "    }\n",
       "</style>\n",
       "<table border=\"1\" class=\"dataframe\">\n",
       "  <thead>\n",
       "    <tr style=\"text-align: right;\">\n",
       "      <th></th>\n",
       "      <th>MAE</th>\n",
       "      <th>MSE</th>\n",
       "      <th>RMSE</th>\n",
       "      <th>RMSE_ratio_test</th>\n",
       "      <th>RMSE_ratio_train</th>\n",
       "      <th>R_2_test</th>\n",
       "      <th>R_2_train</th>\n",
       "    </tr>\n",
       "  </thead>\n",
       "  <tbody>\n",
       "    <tr>\n",
       "      <th>0</th>\n",
       "      <td>58.34</td>\n",
       "      <td>8448.18</td>\n",
       "      <td>91.91</td>\n",
       "      <td>0.495</td>\n",
       "      <td>0.419</td>\n",
       "      <td>0.58</td>\n",
       "      <td>0.74</td>\n",
       "    </tr>\n",
       "  </tbody>\n",
       "</table>\n",
       "</div>"
      ],
      "text/plain": [
       "     MAE      MSE   RMSE  RMSE_ratio_test  RMSE_ratio_train  R_2_test  \\\n",
       "0  58.34  8448.18  91.91            0.495             0.419      0.58   \n",
       "\n",
       "   R_2_train  \n",
       "0       0.74  "
      ]
     },
     "metadata": {},
     "output_type": "display_data"
    },
    {
     "data": {
      "image/png": "[encoded data removed]",
      "text/plain": [
       "<Figure size 432x288 with 1 Axes>"
      ]
     },
     "metadata": {
      "needs_background": "light"
     },
     "output_type": "display_data"
    },
    {
     "data": {
      "image/png": "[encoded data removed]",
      "text/plain": [
       "<Figure size 432x288 with 1 Axes>"
      ]
     },
     "metadata": {
      "needs_background": "light"
     },
     "output_type": "display_data"
    }
   ],
   "source": [
    "rfm = RandomForestRegressor(\n",
    "          max_depth = 10,\n",
    "          n_jobs = -1, \n",
    "          random_state = 101,\n",
    "          n_estimators = 700\n",
    "    \n",
    ")\n",
    "rfm.fit(X_train, y_train)\n",
    "\n",
    "comment = ''\n",
    "\n",
    "analysis(\n",
    "    model = rfm, \n",
    "    X_train =X_train, \n",
    "    X_test = X_test, \n",
    "    y_train = y_train, \n",
    "    y_test = y_test\n",
    ")"
   ]
  },
  {
   "cell_type": "code",
   "execution_count": 24,
   "metadata": {},
   "outputs": [
    {
     "name": "stdout",
     "output_type": "stream",
     "text": [
      "Importancia de los predictores en el modelo\n"
     ]
    },
    {
     "data": {
      "text/html": [
       "<div>\n",
       "<style scoped>\n",
       "    .dataframe tbody tr th:only-of-type {\n",
       "        vertical-align: middle;\n",
       "    }\n",
       "\n",
       "    .dataframe tbody tr th {\n",
       "        vertical-align: top;\n",
       "    }\n",
       "\n",
       "    .dataframe thead th {\n",
       "        text-align: right;\n",
       "    }\n",
       "</style>\n",
       "<table border=\"1\" class=\"dataframe\">\n",
       "  <thead>\n",
       "    <tr style=\"text-align: right;\">\n",
       "      <th></th>\n",
       "      <th>index</th>\n",
       "      <th>predictor</th>\n",
       "      <th>importancia</th>\n",
       "    </tr>\n",
       "  </thead>\n",
       "  <tbody>\n",
       "    <tr>\n",
       "      <th>0</th>\n",
       "      <td>2</td>\n",
       "      <td>accommodates</td>\n",
       "      <td>0.280264</td>\n",
       "    </tr>\n",
       "    <tr>\n",
       "      <th>1</th>\n",
       "      <td>1</td>\n",
       "      <td>longitude</td>\n",
       "      <td>0.266622</td>\n",
       "    </tr>\n",
       "    <tr>\n",
       "      <th>2</th>\n",
       "      <td>0</td>\n",
       "      <td>latitude</td>\n",
       "      <td>0.198532</td>\n",
       "    </tr>\n",
       "    <tr>\n",
       "      <th>3</th>\n",
       "      <td>4</td>\n",
       "      <td>baths</td>\n",
       "      <td>0.149577</td>\n",
       "    </tr>\n",
       "    <tr>\n",
       "      <th>4</th>\n",
       "      <td>12</td>\n",
       "      <td>neighbourhood_group_cleansed_Manhattan</td>\n",
       "      <td>0.036735</td>\n",
       "    </tr>\n",
       "    <tr>\n",
       "      <th>5</th>\n",
       "      <td>3</td>\n",
       "      <td>beds</td>\n",
       "      <td>0.022918</td>\n",
       "    </tr>\n",
       "    <tr>\n",
       "      <th>6</th>\n",
       "      <td>8</td>\n",
       "      <td>has_kitchen</td>\n",
       "      <td>0.020624</td>\n",
       "    </tr>\n",
       "    <tr>\n",
       "      <th>7</th>\n",
       "      <td>9</td>\n",
       "      <td>has_tv</td>\n",
       "      <td>0.012012</td>\n",
       "    </tr>\n",
       "    <tr>\n",
       "      <th>8</th>\n",
       "      <td>6</td>\n",
       "      <td>has_dryer</td>\n",
       "      <td>0.004255</td>\n",
       "    </tr>\n",
       "    <tr>\n",
       "      <th>9</th>\n",
       "      <td>7</td>\n",
       "      <td>has_heating</td>\n",
       "      <td>0.003864</td>\n",
       "    </tr>\n",
       "  </tbody>\n",
       "</table>\n",
       "</div>"
      ],
      "text/plain": [
       "   index                               predictor  importancia\n",
       "0      2                            accommodates     0.280264\n",
       "1      1                               longitude     0.266622\n",
       "2      0                                latitude     0.198532\n",
       "3      4                                   baths     0.149577\n",
       "4     12  neighbourhood_group_cleansed_Manhattan     0.036735\n",
       "5      3                                    beds     0.022918\n",
       "6      8                             has_kitchen     0.020624\n",
       "7      9                                  has_tv     0.012012\n",
       "8      6                               has_dryer     0.004255\n",
       "9      7                             has_heating     0.003864"
      ]
     },
     "execution_count": 24,
     "metadata": {},
     "output_type": "execute_result"
    }
   ],
   "source": [
    "importancia_predictores = pd.DataFrame(\n",
    "                            {'predictor': data_model_num.drop(columns = \"price\").columns,\n",
    "                             'importancia': rfm.feature_importances_}\n",
    "                            )\n",
    "print(\"Importancia de los predictores en el modelo\")\n",
    "importancia_predictores = importancia_predictores.sort_values('importancia', ascending=False).head(10).reset_index()\n",
    "importancia_predictores"
   ]
  },
  {
   "cell_type": "code",
   "execution_count": 25,
   "metadata": {},
   "outputs": [
    {
     "data": {
      "application/vnd.plotly.v1+json": {
       "config": {
        "plotlyServerURL": "https://plot.ly"
       },
       "data": [
        {
         "marker": {
          "color": "steelblue"
         },
         "name": "Importancia de variables",
         "orientation": "h",
         "type": "bar",
         "x": [
          0.2802642313106911,
          0.2666218080404622,
          0.19853182466433153,
          0.14957686668956247,
          0.03673547487380545,
          0.022918193323661143,
          0.020623944891405642,
          0.012011987572601357,
          0.0042552980073458325,
          0.003864041473681145
         ],
         "y": [
          "accommodates",
          "longitude",
          "latitude",
          "baths",
          "neighbourhood_group_cleansed_Manhattan",
          "beds",
          "has_kitchen",
          "has_tv",
          "has_dryer",
          "has_heating"
         ]
        }
       ],
       "layout": {
        "template": {
         "data": {
          "bar": [
           {
            "error_x": {
             "color": "#2a3f5f"
            },
            "error_y": {
             "color": "#2a3f5f"
            },
            "marker": {
             "line": {
              "color": "#E5ECF6",
              "width": 0.5
             },
             "pattern": {
              "fillmode": "overlay",
              "size": 10,
              "solidity": 0.2
             }
            },
            "type": "bar"
           }
          ],
          "barpolar": [
           {
            "marker": {
             "line": {
              "color": "#E5ECF6",
              "width": 0.5
             },
             "pattern": {
              "fillmode": "overlay",
              "size": 10,
              "solidity": 0.2
             }
            },
            "type": "barpolar"
           }
          ],
          "carpet": [
           {
            "aaxis": {
             "endlinecolor": "#2a3f5f",
             "gridcolor": "white",
             "linecolor": "white",
             "minorgridcolor": "white",
             "startlinecolor": "#2a3f5f"
            },
            "baxis": {
             "endlinecolor": "#2a3f5f",
             "gridcolor": "white",
             "linecolor": "white",
             "minorgridcolor": "white",
             "startlinecolor": "#2a3f5f"
            },
            "type": "carpet"
           }
          ],
          "choropleth": [
           {
            "colorbar": {
             "outlinewidth": 0,
             "ticks": ""
            },
            "type": "choropleth"
           }
          ],
          "contour": [
           {
            "colorbar": {
             "outlinewidth": 0,
             "ticks": ""
            },
            "colorscale": [
             [
              0,
              "#0d0887"
             ],
             [
              0.1111111111111111,
              "#46039f"
             ],
             [
              0.2222222222222222,
              "#7201a8"
             ],
             [
              0.3333333333333333,
              "#9c179e"
             ],
             [
              0.4444444444444444,
              "#bd3786"
             ],
             [
              0.5555555555555556,
              "#d8576b"
             ],
             [
              0.6666666666666666,
              "#ed7953"
             ],
             [
              0.7777777777777778,
              "#fb9f3a"
             ],
             [
              0.8888888888888888,
              "#fdca26"
             ],
             [
              1,
              "#f0f921"
             ]
            ],
            "type": "contour"
           }
          ],
          "contourcarpet": [
           {
            "colorbar": {
             "outlinewidth": 0,
             "ticks": ""
            },
            "type": "contourcarpet"
           }
          ],
          "heatmap": [
           {
            "colorbar": {
             "outlinewidth": 0,
             "ticks": ""
            },
            "colorscale": [
             [
              0,
              "#0d0887"
             ],
             [
              0.1111111111111111,
              "#46039f"
             ],
             [
              0.2222222222222222,
              "#7201a8"
             ],
             [
              0.3333333333333333,
              "#9c179e"
             ],
             [
              0.4444444444444444,
              "#bd3786"
             ],
             [
              0.5555555555555556,
              "#d8576b"
             ],
             [
              0.6666666666666666,
              "#ed7953"
             ],
             [
              0.7777777777777778,
              "#fb9f3a"
             ],
             [
              0.8888888888888888,
              "#fdca26"
             ],
             [
              1,
              "#f0f921"
             ]
            ],
            "type": "heatmap"
           }
          ],
          "heatmapgl": [
           {
            "colorbar": {
             "outlinewidth": 0,
             "ticks": ""
            },
            "colorscale": [
             [
              0,
              "#0d0887"
             ],
             [
              0.1111111111111111,
              "#46039f"
             ],
             [
              0.2222222222222222,
              "#7201a8"
             ],
             [
              0.3333333333333333,
              "#9c179e"
             ],
             [
              0.4444444444444444,
              "#bd3786"
             ],
             [
              0.5555555555555556,
              "#d8576b"
             ],
             [
              0.6666666666666666,
              "#ed7953"
             ],
             [
              0.7777777777777778,
              "#fb9f3a"
             ],
             [
              0.8888888888888888,
              "#fdca26"
             ],
             [
              1,
              "#f0f921"
             ]
            ],
            "type": "heatmapgl"
           }
          ],
          "histogram": [
           {
            "marker": {
             "pattern": {
              "fillmode": "overlay",
              "size": 10,
              "solidity": 0.2
             }
            },
            "type": "histogram"
           }
          ],
          "histogram2d": [
           {
            "colorbar": {
             "outlinewidth": 0,
             "ticks": ""
            },
            "colorscale": [
             [
              0,
              "#0d0887"
             ],
             [
              0.1111111111111111,
              "#46039f"
             ],
             [
              0.2222222222222222,
              "#7201a8"
             ],
             [
              0.3333333333333333,
              "#9c179e"
             ],
             [
              0.4444444444444444,
              "#bd3786"
             ],
             [
              0.5555555555555556,
              "#d8576b"
             ],
             [
              0.6666666666666666,
              "#ed7953"
             ],
             [
              0.7777777777777778,
              "#fb9f3a"
             ],
             [
              0.8888888888888888,
              "#fdca26"
             ],
             [
              1,
              "#f0f921"
             ]
            ],
            "type": "histogram2d"
           }
          ],
          "histogram2dcontour": [
           {
            "colorbar": {
             "outlinewidth": 0,
             "ticks": ""
            },
            "colorscale": [
             [
              0,
              "#0d0887"
             ],
             [
              0.1111111111111111,
              "#46039f"
             ],
             [
              0.2222222222222222,
              "#7201a8"
             ],
             [
              0.3333333333333333,
              "#9c179e"
             ],
             [
              0.4444444444444444,
              "#bd3786"
             ],
             [
              0.5555555555555556,
              "#d8576b"
             ],
             [
              0.6666666666666666,
              "#ed7953"
             ],
             [
              0.7777777777777778,
              "#fb9f3a"
             ],
             [
              0.8888888888888888,
              "#fdca26"
             ],
             [
              1,
              "#f0f921"
             ]
            ],
            "type": "histogram2dcontour"
           }
          ],
          "mesh3d": [
           {
            "colorbar": {
             "outlinewidth": 0,
             "ticks": ""
            },
            "type": "mesh3d"
           }
          ],
          "parcoords": [
           {
            "line": {
             "colorbar": {
              "outlinewidth": 0,
              "ticks": ""
             }
            },
            "type": "parcoords"
           }
          ],
          "pie": [
           {
            "automargin": true,
            "type": "pie"
           }
          ],
          "scatter": [
           {
            "fillpattern": {
             "fillmode": "overlay",
             "size": 10,
             "solidity": 0.2
            },
            "type": "scatter"
           }
          ],
          "scatter3d": [
           {
            "line": {
             "colorbar": {
              "outlinewidth": 0,
              "ticks": ""
             }
            },
            "marker": {
             "colorbar": {
              "outlinewidth": 0,
              "ticks": ""
             }
            },
            "type": "scatter3d"
           }
          ],
          "scattercarpet": [
           {
            "marker": {
             "colorbar": {
              "outlinewidth": 0,
              "ticks": ""
             }
            },
            "type": "scattercarpet"
           }
          ],
          "scattergeo": [
           {
            "marker": {
             "colorbar": {
              "outlinewidth": 0,
              "ticks": ""
             }
            },
            "type": "scattergeo"
           }
          ],
          "scattergl": [
           {
            "marker": {
             "colorbar": {
              "outlinewidth": 0,
              "ticks": ""
             }
            },
            "type": "scattergl"
           }
          ],
          "scattermapbox": [
           {
            "marker": {
             "colorbar": {
              "outlinewidth": 0,
              "ticks": ""
             }
            },
            "type": "scattermapbox"
           }
          ],
          "scatterpolar": [
           {
            "marker": {
             "colorbar": {
              "outlinewidth": 0,
              "ticks": ""
             }
            },
            "type": "scatterpolar"
           }
          ],
          "scatterpolargl": [
           {
            "marker": {
             "colorbar": {
              "outlinewidth": 0,
              "ticks": ""
             }
            },
            "type": "scatterpolargl"
           }
          ],
          "scatterternary": [
           {
            "marker": {
             "colorbar": {
              "outlinewidth": 0,
              "ticks": ""
             }
            },
            "type": "scatterternary"
           }
          ],
          "surface": [
           {
            "colorbar": {
             "outlinewidth": 0,
             "ticks": ""
            },
            "colorscale": [
             [
              0,
              "#0d0887"
             ],
             [
              0.1111111111111111,
              "#46039f"
             ],
             [
              0.2222222222222222,
              "#7201a8"
             ],
             [
              0.3333333333333333,
              "#9c179e"
             ],
             [
              0.4444444444444444,
              "#bd3786"
             ],
             [
              0.5555555555555556,
              "#d8576b"
             ],
             [
              0.6666666666666666,
              "#ed7953"
             ],
             [
              0.7777777777777778,
              "#fb9f3a"
             ],
             [
              0.8888888888888888,
              "#fdca26"
             ],
             [
              1,
              "#f0f921"
             ]
            ],
            "type": "surface"
           }
          ],
          "table": [
           {
            "cells": {
             "fill": {
              "color": "#EBF0F8"
             },
             "line": {
              "color": "white"
             }
            },
            "header": {
             "fill": {
              "color": "#C8D4E3"
             },
             "line": {
              "color": "white"
             }
            },
            "type": "table"
           }
          ]
         },
         "layout": {
          "annotationdefaults": {
           "arrowcolor": "#2a3f5f",
           "arrowhead": 0,
           "arrowwidth": 1
          },
          "autotypenumbers": "strict",
          "coloraxis": {
           "colorbar": {
            "outlinewidth": 0,
            "ticks": ""
           }
          },
          "colorscale": {
           "diverging": [
            [
             0,
             "#8e0152"
            ],
            [
             0.1,
             "#c51b7d"
            ],
            [
             0.2,
             "#de77ae"
            ],
            [
             0.3,
             "#f1b6da"
            ],
            [
             0.4,
             "#fde0ef"
            ],
            [
             0.5,
             "#f7f7f7"
            ],
            [
             0.6,
             "#e6f5d0"
            ],
            [
             0.7,
             "#b8e186"
            ],
            [
             0.8,
             "#7fbc41"
            ],
            [
             0.9,
             "#4d9221"
            ],
            [
             1,
             "#276419"
            ]
           ],
           "sequential": [
            [
             0,
             "#0d0887"
            ],
            [
             0.1111111111111111,
             "#46039f"
            ],
            [
             0.2222222222222222,
             "#7201a8"
            ],
            [
             0.3333333333333333,
             "#9c179e"
            ],
            [
             0.4444444444444444,
             "#bd3786"
            ],
            [
             0.5555555555555556,
             "#d8576b"
            ],
            [
             0.6666666666666666,
             "#ed7953"
            ],
            [
             0.7777777777777778,
             "#fb9f3a"
            ],
            [
             0.8888888888888888,
             "#fdca26"
            ],
            [
             1,
             "#f0f921"
            ]
           ],
           "sequentialminus": [
            [
             0,
             "#0d0887"
            ],
            [
             0.1111111111111111,
             "#46039f"
            ],
            [
             0.2222222222222222,
             "#7201a8"
            ],
            [
             0.3333333333333333,
             "#9c179e"
            ],
            [
             0.4444444444444444,
             "#bd3786"
            ],
            [
             0.5555555555555556,
             "#d8576b"
            ],
            [
             0.6666666666666666,
             "#ed7953"
            ],
            [
             0.7777777777777778,
             "#fb9f3a"
            ],
            [
             0.8888888888888888,
             "#fdca26"
            ],
            [
             1,
             "#f0f921"
            ]
           ]
          },
          "colorway": [
           "#636efa",
           "#EF553B",
           "#00cc96",
           "#ab63fa",
           "#FFA15A",
           "#19d3f3",
           "#FF6692",
           "#B6E880",
           "#FF97FF",
           "#FECB52"
          ],
          "font": {
           "color": "#2a3f5f"
          },
          "geo": {
           "bgcolor": "white",
           "lakecolor": "white",
           "landcolor": "#E5ECF6",
           "showlakes": true,
           "showland": true,
           "subunitcolor": "white"
          },
          "hoverlabel": {
           "align": "left"
          },
          "hovermode": "closest",
          "mapbox": {
           "style": "light"
          },
          "paper_bgcolor": "white",
          "plot_bgcolor": "#E5ECF6",
          "polar": {
           "angularaxis": {
            "gridcolor": "white",
            "linecolor": "white",
            "ticks": ""
           },
           "bgcolor": "#E5ECF6",
           "radialaxis": {
            "gridcolor": "white",
            "linecolor": "white",
            "ticks": ""
           }
          },
          "scene": {
           "xaxis": {
            "backgroundcolor": "#E5ECF6",
            "gridcolor": "white",
            "gridwidth": 2,
            "linecolor": "white",
            "showbackground": true,
            "ticks": "",
            "zerolinecolor": "white"
           },
           "yaxis": {
            "backgroundcolor": "#E5ECF6",
            "gridcolor": "white",
            "gridwidth": 2,
            "linecolor": "white",
            "showbackground": true,
            "ticks": "",
            "zerolinecolor": "white"
           },
           "zaxis": {
            "backgroundcolor": "#E5ECF6",
            "gridcolor": "white",
            "gridwidth": 2,
            "linecolor": "white",
            "showbackground": true,
            "ticks": "",
            "zerolinecolor": "white"
           }
          },
          "shapedefaults": {
           "line": {
            "color": "#2a3f5f"
           }
          },
          "ternary": {
           "aaxis": {
            "gridcolor": "white",
            "linecolor": "white",
            "ticks": ""
           },
           "baxis": {
            "gridcolor": "white",
            "linecolor": "white",
            "ticks": ""
           },
           "bgcolor": "#E5ECF6",
           "caxis": {
            "gridcolor": "white",
            "linecolor": "white",
            "ticks": ""
           }
          },
          "title": {
           "x": 0.05
          },
          "xaxis": {
           "automargin": true,
           "gridcolor": "white",
           "linecolor": "white",
           "ticks": "",
           "title": {
            "standoff": 15
           },
           "zerolinecolor": "white",
           "zerolinewidth": 2
          },
          "yaxis": {
           "automargin": true,
           "gridcolor": "white",
           "linecolor": "white",
           "ticks": "",
           "title": {
            "standoff": 15
           },
           "zerolinecolor": "white",
           "zerolinewidth": 2
          }
         }
        },
        "title": {
         "text": "Importancia de variables en el Random Forest"
        },
        "xaxis": {
         "title": {
          "text": "Importancia"
         }
        },
        "yaxis": {
         "title": {
          "text": "Variables"
         }
        }
       }
      }
     },
     "metadata": {},
     "output_type": "display_data"
    }
   ],
   "source": [
    "# visualizacion de la importancia mediante un grafico de barras\n",
    "data = [\n",
    "    go.Bar(\n",
    "        y = importancia_predictores[\"predictor\"],\n",
    "        x = importancia_predictores[\"importancia\"],\n",
    "        marker_color = \"steelblue\",\n",
    "        orientation='h',\n",
    "        name = \"Importancia de variables\"\n",
    "    )      \n",
    "]\n",
    "\n",
    "layout = go.Layout(title = \"Importancia de variables en el Random Forest\", xaxis_title = \"Importancia\", yaxis_title = \"Variables\")\n",
    "\n",
    "fig = go.Figure(data = data, layout = layout)\n",
    "\n",
    "fig.show()"
   ]
  },
  {
   "cell_type": "markdown",
   "metadata": {},
   "source": [
    "Guardar modelo en .pickle"
   ]
  },
  {
   "cell_type": "code",
   "execution_count": 26,
   "metadata": {},
   "outputs": [],
   "source": [
    "import pickle\n",
    "\n",
    "pickle.dump(rfm, open(\"random_forest_model.pickle\", 'wb'))"
   ]
  },
  {
   "cell_type": "markdown",
   "metadata": {},
   "source": [
    "Gradient Boosting Regressor"
   ]
  },
  {
   "cell_type": "code",
   "execution_count": 105,
   "metadata": {},
   "outputs": [
    {
     "data": {
      "text/html": [
       "<div>\n",
       "<style scoped>\n",
       "    .dataframe tbody tr th:only-of-type {\n",
       "        vertical-align: middle;\n",
       "    }\n",
       "\n",
       "    .dataframe tbody tr th {\n",
       "        vertical-align: top;\n",
       "    }\n",
       "\n",
       "    .dataframe thead th {\n",
       "        text-align: right;\n",
       "    }\n",
       "</style>\n",
       "<table border=\"1\" class=\"dataframe\">\n",
       "  <thead>\n",
       "    <tr style=\"text-align: right;\">\n",
       "      <th></th>\n",
       "      <th>MAE</th>\n",
       "      <th>MSE</th>\n",
       "      <th>RMSE</th>\n",
       "      <th>RMSE_ratio_test</th>\n",
       "      <th>RMSE_ratio_train</th>\n",
       "      <th>R_2_test</th>\n",
       "      <th>R_2_train</th>\n",
       "    </tr>\n",
       "  </thead>\n",
       "  <tbody>\n",
       "    <tr>\n",
       "      <th>0</th>\n",
       "      <td>61.16</td>\n",
       "      <td>8878.4</td>\n",
       "      <td>94.23</td>\n",
       "      <td>0.508</td>\n",
       "      <td>0.538</td>\n",
       "      <td>0.56</td>\n",
       "      <td>0.58</td>\n",
       "    </tr>\n",
       "  </tbody>\n",
       "</table>\n",
       "</div>"
      ],
      "text/plain": [
       "     MAE     MSE   RMSE  RMSE_ratio_test  RMSE_ratio_train  R_2_test  \\\n",
       "0  61.16  8878.4  94.23            0.508             0.538      0.56   \n",
       "\n",
       "   R_2_train  \n",
       "0       0.58  "
      ]
     },
     "metadata": {},
     "output_type": "display_data"
    },
    {
     "data": {
      "image/png": "[encoded data removed]",
      "text/plain": [
       "<Figure size 432x288 with 1 Axes>"
      ]
     },
     "metadata": {
      "needs_background": "light"
     },
     "output_type": "display_data"
    },
    {
     "data": {
      "image/png": "[encoded data removed]",
      "text/plain": [
       "<Figure size 432x288 with 1 Axes>"
      ]
     },
     "metadata": {
      "needs_background": "light"
     },
     "output_type": "display_data"
    }
   ],
   "source": [
    "gbr_model = GradientBoostingRegressor(random_state = 101)\n",
    "gbr_model.fit(X_train, y_train)\n",
    "\n",
    "comment = ''\n",
    "\n",
    "analysis(\n",
    "    model = gbr_model, \n",
    "    X_train = X_train, \n",
    "    X_test = X_test,\n",
    "    y_train = y_train, \n",
    "    y_test = y_test\n",
    ")"
   ]
  },
  {
   "cell_type": "code",
   "execution_count": 107,
   "metadata": {},
   "outputs": [
    {
     "name": "stdout",
     "output_type": "stream",
     "text": [
      "Importancia de los predictores en el modelo\n"
     ]
    },
    {
     "data": {
      "text/html": [
       "<div>\n",
       "<style scoped>\n",
       "    .dataframe tbody tr th:only-of-type {\n",
       "        vertical-align: middle;\n",
       "    }\n",
       "\n",
       "    .dataframe tbody tr th {\n",
       "        vertical-align: top;\n",
       "    }\n",
       "\n",
       "    .dataframe thead th {\n",
       "        text-align: right;\n",
       "    }\n",
       "</style>\n",
       "<table border=\"1\" class=\"dataframe\">\n",
       "  <thead>\n",
       "    <tr style=\"text-align: right;\">\n",
       "      <th></th>\n",
       "      <th>index</th>\n",
       "      <th>predictor</th>\n",
       "      <th>importancia</th>\n",
       "    </tr>\n",
       "  </thead>\n",
       "  <tbody>\n",
       "    <tr>\n",
       "      <th>0</th>\n",
       "      <td>2</td>\n",
       "      <td>accommodates</td>\n",
       "      <td>0.354700</td>\n",
       "    </tr>\n",
       "    <tr>\n",
       "      <th>1</th>\n",
       "      <td>1</td>\n",
       "      <td>longitude</td>\n",
       "      <td>0.253209</td>\n",
       "    </tr>\n",
       "    <tr>\n",
       "      <th>2</th>\n",
       "      <td>4</td>\n",
       "      <td>baths</td>\n",
       "      <td>0.156411</td>\n",
       "    </tr>\n",
       "    <tr>\n",
       "      <th>3</th>\n",
       "      <td>0</td>\n",
       "      <td>latitude</td>\n",
       "      <td>0.127316</td>\n",
       "    </tr>\n",
       "    <tr>\n",
       "      <th>4</th>\n",
       "      <td>12</td>\n",
       "      <td>neighbourhood_group_cleansed_Manhattan</td>\n",
       "      <td>0.071117</td>\n",
       "    </tr>\n",
       "    <tr>\n",
       "      <th>5</th>\n",
       "      <td>8</td>\n",
       "      <td>has_kitchen</td>\n",
       "      <td>0.015475</td>\n",
       "    </tr>\n",
       "    <tr>\n",
       "      <th>6</th>\n",
       "      <td>9</td>\n",
       "      <td>has_tv</td>\n",
       "      <td>0.010780</td>\n",
       "    </tr>\n",
       "    <tr>\n",
       "      <th>7</th>\n",
       "      <td>3</td>\n",
       "      <td>beds</td>\n",
       "      <td>0.007646</td>\n",
       "    </tr>\n",
       "    <tr>\n",
       "      <th>8</th>\n",
       "      <td>6</td>\n",
       "      <td>has_dryer</td>\n",
       "      <td>0.002172</td>\n",
       "    </tr>\n",
       "    <tr>\n",
       "      <th>9</th>\n",
       "      <td>7</td>\n",
       "      <td>has_heating</td>\n",
       "      <td>0.000660</td>\n",
       "    </tr>\n",
       "  </tbody>\n",
       "</table>\n",
       "</div>"
      ],
      "text/plain": [
       "   index                               predictor  importancia\n",
       "0      2                            accommodates     0.354700\n",
       "1      1                               longitude     0.253209\n",
       "2      4                                   baths     0.156411\n",
       "3      0                                latitude     0.127316\n",
       "4     12  neighbourhood_group_cleansed_Manhattan     0.071117\n",
       "5      8                             has_kitchen     0.015475\n",
       "6      9                                  has_tv     0.010780\n",
       "7      3                                    beds     0.007646\n",
       "8      6                               has_dryer     0.002172\n",
       "9      7                             has_heating     0.000660"
      ]
     },
     "execution_count": 107,
     "metadata": {},
     "output_type": "execute_result"
    }
   ],
   "source": [
    "importancia_predictores = pd.DataFrame(\n",
    "                            {'predictor': data_model_num.drop(columns = \"price\").columns,\n",
    "                             'importancia': gbr_model.feature_importances_}\n",
    "                            )\n",
    "print(\"Importancia de los predictores en el modelo\")\n",
    "importancia_predictores = importancia_predictores.sort_values('importancia', ascending=False).head(10).reset_index()\n",
    "importancia_predictores "
   ]
  },
  {
   "cell_type": "code",
   "execution_count": 115,
   "metadata": {},
   "outputs": [
    {
     "data": {
      "application/vnd.plotly.v1+json": {
       "config": {
        "plotlyServerURL": "https://plot.ly"
       },
       "data": [
        {
         "marker": {
          "color": "steelblue"
         },
         "name": "Importancia de variables",
         "orientation": "h",
         "type": "bar",
         "x": [
          0.4564371109008789,
          0.14945194125175476,
          0.11602000892162323,
          0.061558257788419724,
          0.048077017068862915,
          0.03899434208869934,
          0.027519958093762398,
          0.02188016287982464,
          0.01669970341026783,
          0.016413992270827293
         ],
         "y": [
          "neighbourhood_group_cleansed_Manhattan",
          "baths",
          "accommodates",
          "has_kitchen",
          "has_tv",
          "longitude",
          "latitude",
          "neighbourhood_group_cleansed_Brooklyn",
          "has_wifi",
          "beds"
         ]
        }
       ],
       "layout": {
        "template": {
         "data": {
          "bar": [
           {
            "error_x": {
             "color": "#2a3f5f"
            },
            "error_y": {
             "color": "#2a3f5f"
            },
            "marker": {
             "line": {
              "color": "#E5ECF6",
              "width": 0.5
             },
             "pattern": {
              "fillmode": "overlay",
              "size": 10,
              "solidity": 0.2
             }
            },
            "type": "bar"
           }
          ],
          "barpolar": [
           {
            "marker": {
             "line": {
              "color": "#E5ECF6",
              "width": 0.5
             },
             "pattern": {
              "fillmode": "overlay",
              "size": 10,
              "solidity": 0.2
             }
            },
            "type": "barpolar"
           }
          ],
          "carpet": [
           {
            "aaxis": {
             "endlinecolor": "#2a3f5f",
             "gridcolor": "white",
             "linecolor": "white",
             "minorgridcolor": "white",
             "startlinecolor": "#2a3f5f"
            },
            "baxis": {
             "endlinecolor": "#2a3f5f",
             "gridcolor": "white",
             "linecolor": "white",
             "minorgridcolor": "white",
             "startlinecolor": "#2a3f5f"
            },
            "type": "carpet"
           }
          ],
          "choropleth": [
           {
            "colorbar": {
             "outlinewidth": 0,
             "ticks": ""
            },
            "type": "choropleth"
           }
          ],
          "contour": [
           {
            "colorbar": {
             "outlinewidth": 0,
             "ticks": ""
            },
            "colorscale": [
             [
              0,
              "#0d0887"
             ],
             [
              0.1111111111111111,
              "#46039f"
             ],
             [
              0.2222222222222222,
              "#7201a8"
             ],
             [
              0.3333333333333333,
              "#9c179e"
             ],
             [
              0.4444444444444444,
              "#bd3786"
             ],
             [
              0.5555555555555556,
              "#d8576b"
             ],
             [
              0.6666666666666666,
              "#ed7953"
             ],
             [
              0.7777777777777778,
              "#fb9f3a"
             ],
             [
              0.8888888888888888,
              "#fdca26"
             ],
             [
              1,
              "#f0f921"
             ]
            ],
            "type": "contour"
           }
          ],
          "contourcarpet": [
           {
            "colorbar": {
             "outlinewidth": 0,
             "ticks": ""
            },
            "type": "contourcarpet"
           }
          ],
          "heatmap": [
           {
            "colorbar": {
             "outlinewidth": 0,
             "ticks": ""
            },
            "colorscale": [
             [
              0,
              "#0d0887"
             ],
             [
              0.1111111111111111,
              "#46039f"
             ],
             [
              0.2222222222222222,
              "#7201a8"
             ],
             [
              0.3333333333333333,
              "#9c179e"
             ],
             [
              0.4444444444444444,
              "#bd3786"
             ],
             [
              0.5555555555555556,
              "#d8576b"
             ],
             [
              0.6666666666666666,
              "#ed7953"
             ],
             [
              0.7777777777777778,
              "#fb9f3a"
             ],
             [
              0.8888888888888888,
              "#fdca26"
             ],
             [
              1,
              "#f0f921"
             ]
            ],
            "type": "heatmap"
           }
          ],
          "heatmapgl": [
           {
            "colorbar": {
             "outlinewidth": 0,
             "ticks": ""
            },
            "colorscale": [
             [
              0,
              "#0d0887"
             ],
             [
              0.1111111111111111,
              "#46039f"
             ],
             [
              0.2222222222222222,
              "#7201a8"
             ],
             [
              0.3333333333333333,
              "#9c179e"
             ],
             [
              0.4444444444444444,
              "#bd3786"
             ],
             [
              0.5555555555555556,
              "#d8576b"
             ],
             [
              0.6666666666666666,
              "#ed7953"
             ],
             [
              0.7777777777777778,
              "#fb9f3a"
             ],
             [
              0.8888888888888888,
              "#fdca26"
             ],
             [
              1,
              "#f0f921"
             ]
            ],
            "type": "heatmapgl"
           }
          ],
          "histogram": [
           {
            "marker": {
             "pattern": {
              "fillmode": "overlay",
              "size": 10,
              "solidity": 0.2
             }
            },
            "type": "histogram"
           }
          ],
          "histogram2d": [
           {
            "colorbar": {
             "outlinewidth": 0,
             "ticks": ""
            },
            "colorscale": [
             [
              0,
              "#0d0887"
             ],
             [
              0.1111111111111111,
              "#46039f"
             ],
             [
              0.2222222222222222,
              "#7201a8"
             ],
             [
              0.3333333333333333,
              "#9c179e"
             ],
             [
              0.4444444444444444,
              "#bd3786"
             ],
             [
              0.5555555555555556,
              "#d8576b"
             ],
             [
              0.6666666666666666,
              "#ed7953"
             ],
             [
              0.7777777777777778,
              "#fb9f3a"
             ],
             [
              0.8888888888888888,
              "#fdca26"
             ],
             [
              1,
              "#f0f921"
             ]
            ],
            "type": "histogram2d"
           }
          ],
          "histogram2dcontour": [
           {
            "colorbar": {
             "outlinewidth": 0,
             "ticks": ""
            },
            "colorscale": [
             [
              0,
              "#0d0887"
             ],
             [
              0.1111111111111111,
              "#46039f"
             ],
             [
              0.2222222222222222,
              "#7201a8"
             ],
             [
              0.3333333333333333,
              "#9c179e"
             ],
             [
              0.4444444444444444,
              "#bd3786"
             ],
             [
              0.5555555555555556,
              "#d8576b"
             ],
             [
              0.6666666666666666,
              "#ed7953"
             ],
             [
              0.7777777777777778,
              "#fb9f3a"
             ],
             [
              0.8888888888888888,
              "#fdca26"
             ],
             [
              1,
              "#f0f921"
             ]
            ],
            "type": "histogram2dcontour"
           }
          ],
          "mesh3d": [
           {
            "colorbar": {
             "outlinewidth": 0,
             "ticks": ""
            },
            "type": "mesh3d"
           }
          ],
          "parcoords": [
           {
            "line": {
             "colorbar": {
              "outlinewidth": 0,
              "ticks": ""
             }
            },
            "type": "parcoords"
           }
          ],
          "pie": [
           {
            "automargin": true,
            "type": "pie"
           }
          ],
          "scatter": [
           {
            "fillpattern": {
             "fillmode": "overlay",
             "size": 10,
             "solidity": 0.2
            },
            "type": "scatter"
           }
          ],
          "scatter3d": [
           {
            "line": {
             "colorbar": {
              "outlinewidth": 0,
              "ticks": ""
             }
            },
            "marker": {
             "colorbar": {
              "outlinewidth": 0,
              "ticks": ""
             }
            },
            "type": "scatter3d"
           }
          ],
          "scattercarpet": [
           {
            "marker": {
             "colorbar": {
              "outlinewidth": 0,
              "ticks": ""
             }
            },
            "type": "scattercarpet"
           }
          ],
          "scattergeo": [
           {
            "marker": {
             "colorbar": {
              "outlinewidth": 0,
              "ticks": ""
             }
            },
            "type": "scattergeo"
           }
          ],
          "scattergl": [
           {
            "marker": {
             "colorbar": {
              "outlinewidth": 0,
              "ticks": ""
             }
            },
            "type": "scattergl"
           }
          ],
          "scattermapbox": [
           {
            "marker": {
             "colorbar": {
              "outlinewidth": 0,
              "ticks": ""
             }
            },
            "type": "scattermapbox"
           }
          ],
          "scatterpolar": [
           {
            "marker": {
             "colorbar": {
              "outlinewidth": 0,
              "ticks": ""
             }
            },
            "type": "scatterpolar"
           }
          ],
          "scatterpolargl": [
           {
            "marker": {
             "colorbar": {
              "outlinewidth": 0,
              "ticks": ""
             }
            },
            "type": "scatterpolargl"
           }
          ],
          "scatterternary": [
           {
            "marker": {
             "colorbar": {
              "outlinewidth": 0,
              "ticks": ""
             }
            },
            "type": "scatterternary"
           }
          ],
          "surface": [
           {
            "colorbar": {
             "outlinewidth": 0,
             "ticks": ""
            },
            "colorscale": [
             [
              0,
              "#0d0887"
             ],
             [
              0.1111111111111111,
              "#46039f"
             ],
             [
              0.2222222222222222,
              "#7201a8"
             ],
             [
              0.3333333333333333,
              "#9c179e"
             ],
             [
              0.4444444444444444,
              "#bd3786"
             ],
             [
              0.5555555555555556,
              "#d8576b"
             ],
             [
              0.6666666666666666,
              "#ed7953"
             ],
             [
              0.7777777777777778,
              "#fb9f3a"
             ],
             [
              0.8888888888888888,
              "#fdca26"
             ],
             [
              1,
              "#f0f921"
             ]
            ],
            "type": "surface"
           }
          ],
          "table": [
           {
            "cells": {
             "fill": {
              "color": "#EBF0F8"
             },
             "line": {
              "color": "white"
             }
            },
            "header": {
             "fill": {
              "color": "#C8D4E3"
             },
             "line": {
              "color": "white"
             }
            },
            "type": "table"
           }
          ]
         },
         "layout": {
          "annotationdefaults": {
           "arrowcolor": "#2a3f5f",
           "arrowhead": 0,
           "arrowwidth": 1
          },
          "autotypenumbers": "strict",
          "coloraxis": {
           "colorbar": {
            "outlinewidth": 0,
            "ticks": ""
           }
          },
          "colorscale": {
           "diverging": [
            [
             0,
             "#8e0152"
            ],
            [
             0.1,
             "#c51b7d"
            ],
            [
             0.2,
             "#de77ae"
            ],
            [
             0.3,
             "#f1b6da"
            ],
            [
             0.4,
             "#fde0ef"
            ],
            [
             0.5,
             "#f7f7f7"
            ],
            [
             0.6,
             "#e6f5d0"
            ],
            [
             0.7,
             "#b8e186"
            ],
            [
             0.8,
             "#7fbc41"
            ],
            [
             0.9,
             "#4d9221"
            ],
            [
             1,
             "#276419"
            ]
           ],
           "sequential": [
            [
             0,
             "#0d0887"
            ],
            [
             0.1111111111111111,
             "#46039f"
            ],
            [
             0.2222222222222222,
             "#7201a8"
            ],
            [
             0.3333333333333333,
             "#9c179e"
            ],
            [
             0.4444444444444444,
             "#bd3786"
            ],
            [
             0.5555555555555556,
             "#d8576b"
            ],
            [
             0.6666666666666666,
             "#ed7953"
            ],
            [
             0.7777777777777778,
             "#fb9f3a"
            ],
            [
             0.8888888888888888,
             "#fdca26"
            ],
            [
             1,
             "#f0f921"
            ]
           ],
           "sequentialminus": [
            [
             0,
             "#0d0887"
            ],
            [
             0.1111111111111111,
             "#46039f"
            ],
            [
             0.2222222222222222,
             "#7201a8"
            ],
            [
             0.3333333333333333,
             "#9c179e"
            ],
            [
             0.4444444444444444,
             "#bd3786"
            ],
            [
             0.5555555555555556,
             "#d8576b"
            ],
            [
             0.6666666666666666,
             "#ed7953"
            ],
            [
             0.7777777777777778,
             "#fb9f3a"
            ],
            [
             0.8888888888888888,
             "#fdca26"
            ],
            [
             1,
             "#f0f921"
            ]
           ]
          },
          "colorway": [
           "#636efa",
           "#EF553B",
           "#00cc96",
           "#ab63fa",
           "#FFA15A",
           "#19d3f3",
           "#FF6692",
           "#B6E880",
           "#FF97FF",
           "#FECB52"
          ],
          "font": {
           "color": "#2a3f5f"
          },
          "geo": {
           "bgcolor": "white",
           "lakecolor": "white",
           "landcolor": "#E5ECF6",
           "showlakes": true,
           "showland": true,
           "subunitcolor": "white"
          },
          "hoverlabel": {
           "align": "left"
          },
          "hovermode": "closest",
          "mapbox": {
           "style": "light"
          },
          "paper_bgcolor": "white",
          "plot_bgcolor": "#E5ECF6",
          "polar": {
           "angularaxis": {
            "gridcolor": "white",
            "linecolor": "white",
            "ticks": ""
           },
           "bgcolor": "#E5ECF6",
           "radialaxis": {
            "gridcolor": "white",
            "linecolor": "white",
            "ticks": ""
           }
          },
          "scene": {
           "xaxis": {
            "backgroundcolor": "#E5ECF6",
            "gridcolor": "white",
            "gridwidth": 2,
            "linecolor": "white",
            "showbackground": true,
            "ticks": "",
            "zerolinecolor": "white"
           },
           "yaxis": {
            "backgroundcolor": "#E5ECF6",
            "gridcolor": "white",
            "gridwidth": 2,
            "linecolor": "white",
            "showbackground": true,
            "ticks": "",
            "zerolinecolor": "white"
           },
           "zaxis": {
            "backgroundcolor": "#E5ECF6",
            "gridcolor": "white",
            "gridwidth": 2,
            "linecolor": "white",
            "showbackground": true,
            "ticks": "",
            "zerolinecolor": "white"
           }
          },
          "shapedefaults": {
           "line": {
            "color": "#2a3f5f"
           }
          },
          "ternary": {
           "aaxis": {
            "gridcolor": "white",
            "linecolor": "white",
            "ticks": ""
           },
           "baxis": {
            "gridcolor": "white",
            "linecolor": "white",
            "ticks": ""
           },
           "bgcolor": "#E5ECF6",
           "caxis": {
            "gridcolor": "white",
            "linecolor": "white",
            "ticks": ""
           }
          },
          "title": {
           "x": 0.05
          },
          "xaxis": {
           "automargin": true,
           "gridcolor": "white",
           "linecolor": "white",
           "ticks": "",
           "title": {
            "standoff": 15
           },
           "zerolinecolor": "white",
           "zerolinewidth": 2
          },
          "yaxis": {
           "automargin": true,
           "gridcolor": "white",
           "linecolor": "white",
           "ticks": "",
           "title": {
            "standoff": 15
           },
           "zerolinecolor": "white",
           "zerolinewidth": 2
          }
         }
        },
        "title": {
         "text": "Importancia de variables en el Gradient Boosting Regressor"
        },
        "xaxis": {
         "title": {
          "text": "Importancia"
         }
        },
        "yaxis": {
         "title": {
          "text": "Variables"
         }
        }
       }
      }
     },
     "metadata": {},
     "output_type": "display_data"
    }
   ],
   "source": [
    "# visualizacion de la importancia mediante un grafico de barras\n",
    "data = [\n",
    "    go.Bar(\n",
    "        y = importancia_predictores[\"predictor\"],\n",
    "        x = importancia_predictores[\"importancia\"],\n",
    "        marker_color = \"steelblue\",\n",
    "        orientation='h',\n",
    "        name = \"Importancia de variables\"\n",
    "    )      \n",
    "]\n",
    "\n",
    "layout = go.Layout(title = \"Importancia de variables en el Gradient Boosting Regressor\", xaxis_title = \"Importancia\", yaxis_title = \"Variables\")\n",
    "\n",
    "fig = go.Figure(data = data, layout = layout)\n",
    "\n",
    "fig.show()"
   ]
  },
  {
   "cell_type": "markdown",
   "metadata": {},
   "source": [
    "XG Boost"
   ]
  },
  {
   "cell_type": "code",
   "execution_count": 110,
   "metadata": {},
   "outputs": [
    {
     "data": {
      "text/html": [
       "<div>\n",
       "<style scoped>\n",
       "    .dataframe tbody tr th:only-of-type {\n",
       "        vertical-align: middle;\n",
       "    }\n",
       "\n",
       "    .dataframe tbody tr th {\n",
       "        vertical-align: top;\n",
       "    }\n",
       "\n",
       "    .dataframe thead th {\n",
       "        text-align: right;\n",
       "    }\n",
       "</style>\n",
       "<table border=\"1\" class=\"dataframe\">\n",
       "  <thead>\n",
       "    <tr style=\"text-align: right;\">\n",
       "      <th></th>\n",
       "      <th>MAE</th>\n",
       "      <th>MSE</th>\n",
       "      <th>RMSE</th>\n",
       "      <th>RMSE_ratio_test</th>\n",
       "      <th>RMSE_ratio_train</th>\n",
       "      <th>R_2_test</th>\n",
       "      <th>R_2_train</th>\n",
       "    </tr>\n",
       "  </thead>\n",
       "  <tbody>\n",
       "    <tr>\n",
       "      <th>0</th>\n",
       "      <td>61.16</td>\n",
       "      <td>8878.4</td>\n",
       "      <td>94.23</td>\n",
       "      <td>0.508</td>\n",
       "      <td>0.538</td>\n",
       "      <td>0.56</td>\n",
       "      <td>0.58</td>\n",
       "    </tr>\n",
       "  </tbody>\n",
       "</table>\n",
       "</div>"
      ],
      "text/plain": [
       "     MAE     MSE   RMSE  RMSE_ratio_test  RMSE_ratio_train  R_2_test  \\\n",
       "0  61.16  8878.4  94.23            0.508             0.538      0.56   \n",
       "\n",
       "   R_2_train  \n",
       "0       0.58  "
      ]
     },
     "metadata": {},
     "output_type": "display_data"
    },
    {
     "data": {
      "image/png": "[encoded data removed]",
      "text/plain": [
       "<Figure size 432x288 with 1 Axes>"
      ]
     },
     "metadata": {
      "needs_background": "light"
     },
     "output_type": "display_data"
    },
    {
     "data": {
      "image/png": "[encoded data removed]",
      "text/plain": [
       "<Figure size 432x288 with 1 Axes>"
      ]
     },
     "metadata": {
      "needs_background": "light"
     },
     "output_type": "display_data"
    }
   ],
   "source": [
    "xg_model = xgb.XGBRegressor(random_state = 101)\n",
    "xg_model.fit(X_train, y_train)\n",
    "\n",
    "comment = ''\n",
    "\n",
    "analysis(\n",
    "    model = gbr_model, \n",
    "    X_train = X_train, \n",
    "    X_test = X_test,\n",
    "    y_train = y_train, \n",
    "    y_test = y_test\n",
    ")"
   ]
  },
  {
   "cell_type": "code",
   "execution_count": 112,
   "metadata": {},
   "outputs": [
    {
     "name": "stdout",
     "output_type": "stream",
     "text": [
      "Importancia de los predictores en el modelo\n"
     ]
    },
    {
     "data": {
      "text/html": [
       "<div>\n",
       "<style scoped>\n",
       "    .dataframe tbody tr th:only-of-type {\n",
       "        vertical-align: middle;\n",
       "    }\n",
       "\n",
       "    .dataframe tbody tr th {\n",
       "        vertical-align: top;\n",
       "    }\n",
       "\n",
       "    .dataframe thead th {\n",
       "        text-align: right;\n",
       "    }\n",
       "</style>\n",
       "<table border=\"1\" class=\"dataframe\">\n",
       "  <thead>\n",
       "    <tr style=\"text-align: right;\">\n",
       "      <th></th>\n",
       "      <th>index</th>\n",
       "      <th>predictor</th>\n",
       "      <th>importancia</th>\n",
       "    </tr>\n",
       "  </thead>\n",
       "  <tbody>\n",
       "    <tr>\n",
       "      <th>0</th>\n",
       "      <td>12</td>\n",
       "      <td>neighbourhood_group_cleansed_Manhattan</td>\n",
       "      <td>0.456437</td>\n",
       "    </tr>\n",
       "    <tr>\n",
       "      <th>1</th>\n",
       "      <td>4</td>\n",
       "      <td>baths</td>\n",
       "      <td>0.149452</td>\n",
       "    </tr>\n",
       "    <tr>\n",
       "      <th>2</th>\n",
       "      <td>2</td>\n",
       "      <td>accommodates</td>\n",
       "      <td>0.116020</td>\n",
       "    </tr>\n",
       "    <tr>\n",
       "      <th>3</th>\n",
       "      <td>8</td>\n",
       "      <td>has_kitchen</td>\n",
       "      <td>0.061558</td>\n",
       "    </tr>\n",
       "    <tr>\n",
       "      <th>4</th>\n",
       "      <td>9</td>\n",
       "      <td>has_tv</td>\n",
       "      <td>0.048077</td>\n",
       "    </tr>\n",
       "    <tr>\n",
       "      <th>5</th>\n",
       "      <td>1</td>\n",
       "      <td>longitude</td>\n",
       "      <td>0.038994</td>\n",
       "    </tr>\n",
       "    <tr>\n",
       "      <th>6</th>\n",
       "      <td>0</td>\n",
       "      <td>latitude</td>\n",
       "      <td>0.027520</td>\n",
       "    </tr>\n",
       "    <tr>\n",
       "      <th>7</th>\n",
       "      <td>11</td>\n",
       "      <td>neighbourhood_group_cleansed_Brooklyn</td>\n",
       "      <td>0.021880</td>\n",
       "    </tr>\n",
       "    <tr>\n",
       "      <th>8</th>\n",
       "      <td>5</td>\n",
       "      <td>has_wifi</td>\n",
       "      <td>0.016700</td>\n",
       "    </tr>\n",
       "    <tr>\n",
       "      <th>9</th>\n",
       "      <td>3</td>\n",
       "      <td>beds</td>\n",
       "      <td>0.016414</td>\n",
       "    </tr>\n",
       "  </tbody>\n",
       "</table>\n",
       "</div>"
      ],
      "text/plain": [
       "   index                               predictor  importancia\n",
       "0     12  neighbourhood_group_cleansed_Manhattan     0.456437\n",
       "1      4                                   baths     0.149452\n",
       "2      2                            accommodates     0.116020\n",
       "3      8                             has_kitchen     0.061558\n",
       "4      9                                  has_tv     0.048077\n",
       "5      1                               longitude     0.038994\n",
       "6      0                                latitude     0.027520\n",
       "7     11   neighbourhood_group_cleansed_Brooklyn     0.021880\n",
       "8      5                                has_wifi     0.016700\n",
       "9      3                                    beds     0.016414"
      ]
     },
     "execution_count": 112,
     "metadata": {},
     "output_type": "execute_result"
    }
   ],
   "source": [
    "importancia_predictores = pd.DataFrame(\n",
    "                            {'predictor': data_model_num.drop(columns = \"price\").columns,\n",
    "                             'importancia': xg_model.feature_importances_}\n",
    "                            )\n",
    "print(\"Importancia de los predictores en el modelo\")\n",
    "importancia_predictores = importancia_predictores.sort_values('importancia', ascending=False).head(10).reset_index()\n",
    "importancia_predictores"
   ]
  },
  {
   "cell_type": "code",
   "execution_count": 114,
   "metadata": {},
   "outputs": [
    {
     "data": {
      "application/vnd.plotly.v1+json": {
       "config": {
        "plotlyServerURL": "https://plot.ly"
       },
       "data": [
        {
         "marker": {
          "color": "steelblue"
         },
         "name": "Importancia de variables",
         "orientation": "h",
         "type": "bar",
         "x": [
          0.4564371109008789,
          0.14945194125175476,
          0.11602000892162323,
          0.061558257788419724,
          0.048077017068862915,
          0.03899434208869934,
          0.027519958093762398,
          0.02188016287982464,
          0.01669970341026783,
          0.016413992270827293
         ],
         "y": [
          "neighbourhood_group_cleansed_Manhattan",
          "baths",
          "accommodates",
          "has_kitchen",
          "has_tv",
          "longitude",
          "latitude",
          "neighbourhood_group_cleansed_Brooklyn",
          "has_wifi",
          "beds"
         ]
        }
       ],
       "layout": {
        "template": {
         "data": {
          "bar": [
           {
            "error_x": {
             "color": "#2a3f5f"
            },
            "error_y": {
             "color": "#2a3f5f"
            },
            "marker": {
             "line": {
              "color": "#E5ECF6",
              "width": 0.5
             },
             "pattern": {
              "fillmode": "overlay",
              "size": 10,
              "solidity": 0.2
             }
            },
            "type": "bar"
           }
          ],
          "barpolar": [
           {
            "marker": {
             "line": {
              "color": "#E5ECF6",
              "width": 0.5
             },
             "pattern": {
              "fillmode": "overlay",
              "size": 10,
              "solidity": 0.2
             }
            },
            "type": "barpolar"
           }
          ],
          "carpet": [
           {
            "aaxis": {
             "endlinecolor": "#2a3f5f",
             "gridcolor": "white",
             "linecolor": "white",
             "minorgridcolor": "white",
             "startlinecolor": "#2a3f5f"
            },
            "baxis": {
             "endlinecolor": "#2a3f5f",
             "gridcolor": "white",
             "linecolor": "white",
             "minorgridcolor": "white",
             "startlinecolor": "#2a3f5f"
            },
            "type": "carpet"
           }
          ],
          "choropleth": [
           {
            "colorbar": {
             "outlinewidth": 0,
             "ticks": ""
            },
            "type": "choropleth"
           }
          ],
          "contour": [
           {
            "colorbar": {
             "outlinewidth": 0,
             "ticks": ""
            },
            "colorscale": [
             [
              0,
              "#0d0887"
             ],
             [
              0.1111111111111111,
              "#46039f"
             ],
             [
              0.2222222222222222,
              "#7201a8"
             ],
             [
              0.3333333333333333,
              "#9c179e"
             ],
             [
              0.4444444444444444,
              "#bd3786"
             ],
             [
              0.5555555555555556,
              "#d8576b"
             ],
             [
              0.6666666666666666,
              "#ed7953"
             ],
             [
              0.7777777777777778,
              "#fb9f3a"
             ],
             [
              0.8888888888888888,
              "#fdca26"
             ],
             [
              1,
              "#f0f921"
             ]
            ],
            "type": "contour"
           }
          ],
          "contourcarpet": [
           {
            "colorbar": {
             "outlinewidth": 0,
             "ticks": ""
            },
            "type": "contourcarpet"
           }
          ],
          "heatmap": [
           {
            "colorbar": {
             "outlinewidth": 0,
             "ticks": ""
            },
            "colorscale": [
             [
              0,
              "#0d0887"
             ],
             [
              0.1111111111111111,
              "#46039f"
             ],
             [
              0.2222222222222222,
              "#7201a8"
             ],
             [
              0.3333333333333333,
              "#9c179e"
             ],
             [
              0.4444444444444444,
              "#bd3786"
             ],
             [
              0.5555555555555556,
              "#d8576b"
             ],
             [
              0.6666666666666666,
              "#ed7953"
             ],
             [
              0.7777777777777778,
              "#fb9f3a"
             ],
             [
              0.8888888888888888,
              "#fdca26"
             ],
             [
              1,
              "#f0f921"
             ]
            ],
            "type": "heatmap"
           }
          ],
          "heatmapgl": [
           {
            "colorbar": {
             "outlinewidth": 0,
             "ticks": ""
            },
            "colorscale": [
             [
              0,
              "#0d0887"
             ],
             [
              0.1111111111111111,
              "#46039f"
             ],
             [
              0.2222222222222222,
              "#7201a8"
             ],
             [
              0.3333333333333333,
              "#9c179e"
             ],
             [
              0.4444444444444444,
              "#bd3786"
             ],
             [
              0.5555555555555556,
              "#d8576b"
             ],
             [
              0.6666666666666666,
              "#ed7953"
             ],
             [
              0.7777777777777778,
              "#fb9f3a"
             ],
             [
              0.8888888888888888,
              "#fdca26"
             ],
             [
              1,
              "#f0f921"
             ]
            ],
            "type": "heatmapgl"
           }
          ],
          "histogram": [
           {
            "marker": {
             "pattern": {
              "fillmode": "overlay",
              "size": 10,
              "solidity": 0.2
             }
            },
            "type": "histogram"
           }
          ],
          "histogram2d": [
           {
            "colorbar": {
             "outlinewidth": 0,
             "ticks": ""
            },
            "colorscale": [
             [
              0,
              "#0d0887"
             ],
             [
              0.1111111111111111,
              "#46039f"
             ],
             [
              0.2222222222222222,
              "#7201a8"
             ],
             [
              0.3333333333333333,
              "#9c179e"
             ],
             [
              0.4444444444444444,
              "#bd3786"
             ],
             [
              0.5555555555555556,
              "#d8576b"
             ],
             [
              0.6666666666666666,
              "#ed7953"
             ],
             [
              0.7777777777777778,
              "#fb9f3a"
             ],
             [
              0.8888888888888888,
              "#fdca26"
             ],
             [
              1,
              "#f0f921"
             ]
            ],
            "type": "histogram2d"
           }
          ],
          "histogram2dcontour": [
           {
            "colorbar": {
             "outlinewidth": 0,
             "ticks": ""
            },
            "colorscale": [
             [
              0,
              "#0d0887"
             ],
             [
              0.1111111111111111,
              "#46039f"
             ],
             [
              0.2222222222222222,
              "#7201a8"
             ],
             [
              0.3333333333333333,
              "#9c179e"
             ],
             [
              0.4444444444444444,
              "#bd3786"
             ],
             [
              0.5555555555555556,
              "#d8576b"
             ],
             [
              0.6666666666666666,
              "#ed7953"
             ],
             [
              0.7777777777777778,
              "#fb9f3a"
             ],
             [
              0.8888888888888888,
              "#fdca26"
             ],
             [
              1,
              "#f0f921"
             ]
            ],
            "type": "histogram2dcontour"
           }
          ],
          "mesh3d": [
           {
            "colorbar": {
             "outlinewidth": 0,
             "ticks": ""
            },
            "type": "mesh3d"
           }
          ],
          "parcoords": [
           {
            "line": {
             "colorbar": {
              "outlinewidth": 0,
              "ticks": ""
             }
            },
            "type": "parcoords"
           }
          ],
          "pie": [
           {
            "automargin": true,
            "type": "pie"
           }
          ],
          "scatter": [
           {
            "fillpattern": {
             "fillmode": "overlay",
             "size": 10,
             "solidity": 0.2
            },
            "type": "scatter"
           }
          ],
          "scatter3d": [
           {
            "line": {
             "colorbar": {
              "outlinewidth": 0,
              "ticks": ""
             }
            },
            "marker": {
             "colorbar": {
              "outlinewidth": 0,
              "ticks": ""
             }
            },
            "type": "scatter3d"
           }
          ],
          "scattercarpet": [
           {
            "marker": {
             "colorbar": {
              "outlinewidth": 0,
              "ticks": ""
             }
            },
            "type": "scattercarpet"
           }
          ],
          "scattergeo": [
           {
            "marker": {
             "colorbar": {
              "outlinewidth": 0,
              "ticks": ""
             }
            },
            "type": "scattergeo"
           }
          ],
          "scattergl": [
           {
            "marker": {
             "colorbar": {
              "outlinewidth": 0,
              "ticks": ""
             }
            },
            "type": "scattergl"
           }
          ],
          "scattermapbox": [
           {
            "marker": {
             "colorbar": {
              "outlinewidth": 0,
              "ticks": ""
             }
            },
            "type": "scattermapbox"
           }
          ],
          "scatterpolar": [
           {
            "marker": {
             "colorbar": {
              "outlinewidth": 0,
              "ticks": ""
             }
            },
            "type": "scatterpolar"
           }
          ],
          "scatterpolargl": [
           {
            "marker": {
             "colorbar": {
              "outlinewidth": 0,
              "ticks": ""
             }
            },
            "type": "scatterpolargl"
           }
          ],
          "scatterternary": [
           {
            "marker": {
             "colorbar": {
              "outlinewidth": 0,
              "ticks": ""
             }
            },
            "type": "scatterternary"
           }
          ],
          "surface": [
           {
            "colorbar": {
             "outlinewidth": 0,
             "ticks": ""
            },
            "colorscale": [
             [
              0,
              "#0d0887"
             ],
             [
              0.1111111111111111,
              "#46039f"
             ],
             [
              0.2222222222222222,
              "#7201a8"
             ],
             [
              0.3333333333333333,
              "#9c179e"
             ],
             [
              0.4444444444444444,
              "#bd3786"
             ],
             [
              0.5555555555555556,
              "#d8576b"
             ],
             [
              0.6666666666666666,
              "#ed7953"
             ],
             [
              0.7777777777777778,
              "#fb9f3a"
             ],
             [
              0.8888888888888888,
              "#fdca26"
             ],
             [
              1,
              "#f0f921"
             ]
            ],
            "type": "surface"
           }
          ],
          "table": [
           {
            "cells": {
             "fill": {
              "color": "#EBF0F8"
             },
             "line": {
              "color": "white"
             }
            },
            "header": {
             "fill": {
              "color": "#C8D4E3"
             },
             "line": {
              "color": "white"
             }
            },
            "type": "table"
           }
          ]
         },
         "layout": {
          "annotationdefaults": {
           "arrowcolor": "#2a3f5f",
           "arrowhead": 0,
           "arrowwidth": 1
          },
          "autotypenumbers": "strict",
          "coloraxis": {
           "colorbar": {
            "outlinewidth": 0,
            "ticks": ""
           }
          },
          "colorscale": {
           "diverging": [
            [
             0,
             "#8e0152"
            ],
            [
             0.1,
             "#c51b7d"
            ],
            [
             0.2,
             "#de77ae"
            ],
            [
             0.3,
             "#f1b6da"
            ],
            [
             0.4,
             "#fde0ef"
            ],
            [
             0.5,
             "#f7f7f7"
            ],
            [
             0.6,
             "#e6f5d0"
            ],
            [
             0.7,
             "#b8e186"
            ],
            [
             0.8,
             "#7fbc41"
            ],
            [
             0.9,
             "#4d9221"
            ],
            [
             1,
             "#276419"
            ]
           ],
           "sequential": [
            [
             0,
             "#0d0887"
            ],
            [
             0.1111111111111111,
             "#46039f"
            ],
            [
             0.2222222222222222,
             "#7201a8"
            ],
            [
             0.3333333333333333,
             "#9c179e"
            ],
            [
             0.4444444444444444,
             "#bd3786"
            ],
            [
             0.5555555555555556,
             "#d8576b"
            ],
            [
             0.6666666666666666,
             "#ed7953"
            ],
            [
             0.7777777777777778,
             "#fb9f3a"
            ],
            [
             0.8888888888888888,
             "#fdca26"
            ],
            [
             1,
             "#f0f921"
            ]
           ],
           "sequentialminus": [
            [
             0,
             "#0d0887"
            ],
            [
             0.1111111111111111,
             "#46039f"
            ],
            [
             0.2222222222222222,
             "#7201a8"
            ],
            [
             0.3333333333333333,
             "#9c179e"
            ],
            [
             0.4444444444444444,
             "#bd3786"
            ],
            [
             0.5555555555555556,
             "#d8576b"
            ],
            [
             0.6666666666666666,
             "#ed7953"
            ],
            [
             0.7777777777777778,
             "#fb9f3a"
            ],
            [
             0.8888888888888888,
             "#fdca26"
            ],
            [
             1,
             "#f0f921"
            ]
           ]
          },
          "colorway": [
           "#636efa",
           "#EF553B",
           "#00cc96",
           "#ab63fa",
           "#FFA15A",
           "#19d3f3",
           "#FF6692",
           "#B6E880",
           "#FF97FF",
           "#FECB52"
          ],
          "font": {
           "color": "#2a3f5f"
          },
          "geo": {
           "bgcolor": "white",
           "lakecolor": "white",
           "landcolor": "#E5ECF6",
           "showlakes": true,
           "showland": true,
           "subunitcolor": "white"
          },
          "hoverlabel": {
           "align": "left"
          },
          "hovermode": "closest",
          "mapbox": {
           "style": "light"
          },
          "paper_bgcolor": "white",
          "plot_bgcolor": "#E5ECF6",
          "polar": {
           "angularaxis": {
            "gridcolor": "white",
            "linecolor": "white",
            "ticks": ""
           },
           "bgcolor": "#E5ECF6",
           "radialaxis": {
            "gridcolor": "white",
            "linecolor": "white",
            "ticks": ""
           }
          },
          "scene": {
           "xaxis": {
            "backgroundcolor": "#E5ECF6",
            "gridcolor": "white",
            "gridwidth": 2,
            "linecolor": "white",
            "showbackground": true,
            "ticks": "",
            "zerolinecolor": "white"
           },
           "yaxis": {
            "backgroundcolor": "#E5ECF6",
            "gridcolor": "white",
            "gridwidth": 2,
            "linecolor": "white",
            "showbackground": true,
            "ticks": "",
            "zerolinecolor": "white"
           },
           "zaxis": {
            "backgroundcolor": "#E5ECF6",
            "gridcolor": "white",
            "gridwidth": 2,
            "linecolor": "white",
            "showbackground": true,
            "ticks": "",
            "zerolinecolor": "white"
           }
          },
          "shapedefaults": {
           "line": {
            "color": "#2a3f5f"
           }
          },
          "ternary": {
           "aaxis": {
            "gridcolor": "white",
            "linecolor": "white",
            "ticks": ""
           },
           "baxis": {
            "gridcolor": "white",
            "linecolor": "white",
            "ticks": ""
           },
           "bgcolor": "#E5ECF6",
           "caxis": {
            "gridcolor": "white",
            "linecolor": "white",
            "ticks": ""
           }
          },
          "title": {
           "x": 0.05
          },
          "xaxis": {
           "automargin": true,
           "gridcolor": "white",
           "linecolor": "white",
           "ticks": "",
           "title": {
            "standoff": 15
           },
           "zerolinecolor": "white",
           "zerolinewidth": 2
          },
          "yaxis": {
           "automargin": true,
           "gridcolor": "white",
           "linecolor": "white",
           "ticks": "",
           "title": {
            "standoff": 15
           },
           "zerolinecolor": "white",
           "zerolinewidth": 2
          }
         }
        },
        "title": {
         "text": "Importancia de variables en el XG Boost"
        },
        "xaxis": {
         "title": {
          "text": "Importancia"
         }
        },
        "yaxis": {
         "title": {
          "text": "Variables"
         }
        }
       }
      }
     },
     "metadata": {},
     "output_type": "display_data"
    }
   ],
   "source": [
    "# visualizacion de la importancia mediante un grafico de barras\n",
    "data = [\n",
    "    go.Bar(\n",
    "        y = importancia_predictores[\"predictor\"],\n",
    "        x = importancia_predictores[\"importancia\"],\n",
    "        marker_color = \"steelblue\",\n",
    "        orientation='h',\n",
    "        name = \"Importancia de variables\"\n",
    "    )      \n",
    "]\n",
    "\n",
    "layout = go.Layout(title = \"Importancia de variables en el XG Boost\", xaxis_title = \"Importancia\", yaxis_title = \"Variables\")\n",
    "\n",
    "fig = go.Figure(data = data, layout = layout)\n",
    "\n",
    "fig.show()"
   ]
  },
  {
   "cell_type": "markdown",
   "metadata": {},
   "source": [
    "Modelo con solo las variables más significativas del Random Forest"
   ]
  },
  {
   "cell_type": "code",
   "execution_count": 121,
   "metadata": {},
   "outputs": [],
   "source": [
    "variables = [\"accommodates\",\"latitude\",\"longitude\",\"baths\",\"beds\"]"
   ]
  },
  {
   "cell_type": "code",
   "execution_count": 122,
   "metadata": {},
   "outputs": [],
   "source": [
    "# filtro variables más significativas en los distintos datasets\n",
    "X_train_f = X_train[variables]\n",
    "y_train_f = y_train\n",
    "\n",
    "X_test_f = X_test[variables]\n",
    "y_test_f = y_test\n",
    "\n",
    "X_val = X_val[variables]\n",
    "y_val_f = y_val"
   ]
  },
  {
   "cell_type": "code",
   "execution_count": 124,
   "metadata": {},
   "outputs": [
    {
     "data": {
      "text/html": [
       "<div>\n",
       "<style scoped>\n",
       "    .dataframe tbody tr th:only-of-type {\n",
       "        vertical-align: middle;\n",
       "    }\n",
       "\n",
       "    .dataframe tbody tr th {\n",
       "        vertical-align: top;\n",
       "    }\n",
       "\n",
       "    .dataframe thead th {\n",
       "        text-align: right;\n",
       "    }\n",
       "</style>\n",
       "<table border=\"1\" class=\"dataframe\">\n",
       "  <thead>\n",
       "    <tr style=\"text-align: right;\">\n",
       "      <th></th>\n",
       "      <th>MAE</th>\n",
       "      <th>MSE</th>\n",
       "      <th>RMSE</th>\n",
       "      <th>RMSE_ratio_test</th>\n",
       "      <th>RMSE_ratio_train</th>\n",
       "      <th>R_2_test</th>\n",
       "      <th>R_2_train</th>\n",
       "    </tr>\n",
       "  </thead>\n",
       "  <tbody>\n",
       "    <tr>\n",
       "      <th>0</th>\n",
       "      <td>59.65</td>\n",
       "      <td>8739.27</td>\n",
       "      <td>93.48</td>\n",
       "      <td>0.504</td>\n",
       "      <td>0.434</td>\n",
       "      <td>0.57</td>\n",
       "      <td>0.73</td>\n",
       "    </tr>\n",
       "  </tbody>\n",
       "</table>\n",
       "</div>"
      ],
      "text/plain": [
       "     MAE      MSE   RMSE  RMSE_ratio_test  RMSE_ratio_train  R_2_test  \\\n",
       "0  59.65  8739.27  93.48            0.504             0.434      0.57   \n",
       "\n",
       "   R_2_train  \n",
       "0       0.73  "
      ]
     },
     "metadata": {},
     "output_type": "display_data"
    },
    {
     "data": {
      "image/png": "[encoded data removed]",
      "text/plain": [
       "<Figure size 432x288 with 1 Axes>"
      ]
     },
     "metadata": {
      "needs_background": "light"
     },
     "output_type": "display_data"
    },
    {
     "data": {
      "image/png": "[encoded data removed]",
      "text/plain": [
       "<Figure size 432x288 with 1 Axes>"
      ]
     },
     "metadata": {
      "needs_background": "light"
     },
     "output_type": "display_data"
    }
   ],
   "source": [
    "rfm_f = RandomForestRegressor(\n",
    "          max_depth = 10,\n",
    "          n_jobs = -1, \n",
    "          random_state = 101,\n",
    "          n_estimators = 700\n",
    "    \n",
    ")\n",
    "rfm_f.fit(X_train_f, y_train_f)\n",
    "\n",
    "comment = ''\n",
    "\n",
    "analysis(\n",
    "    model = rfm_f, \n",
    "    X_train =X_train_f, \n",
    "    X_test = X_test_f, \n",
    "    y_train = y_train_f, \n",
    "    y_test = y_test_f\n",
    ")"
   ]
  },
  {
   "cell_type": "code",
   "execution_count": 125,
   "metadata": {},
   "outputs": [
    {
     "name": "stdout",
     "output_type": "stream",
     "text": [
      "Importancia de los predictores en el modelo\n"
     ]
    },
    {
     "data": {
      "text/html": [
       "<div>\n",
       "<style scoped>\n",
       "    .dataframe tbody tr th:only-of-type {\n",
       "        vertical-align: middle;\n",
       "    }\n",
       "\n",
       "    .dataframe tbody tr th {\n",
       "        vertical-align: top;\n",
       "    }\n",
       "\n",
       "    .dataframe thead th {\n",
       "        text-align: right;\n",
       "    }\n",
       "</style>\n",
       "<table border=\"1\" class=\"dataframe\">\n",
       "  <thead>\n",
       "    <tr style=\"text-align: right;\">\n",
       "      <th></th>\n",
       "      <th>index</th>\n",
       "      <th>predictor</th>\n",
       "      <th>importancia</th>\n",
       "    </tr>\n",
       "  </thead>\n",
       "  <tbody>\n",
       "    <tr>\n",
       "      <th>0</th>\n",
       "      <td>2</td>\n",
       "      <td>longitude</td>\n",
       "      <td>0.313765</td>\n",
       "    </tr>\n",
       "    <tr>\n",
       "      <th>1</th>\n",
       "      <td>0</td>\n",
       "      <td>accommodates</td>\n",
       "      <td>0.289339</td>\n",
       "    </tr>\n",
       "    <tr>\n",
       "      <th>2</th>\n",
       "      <td>1</td>\n",
       "      <td>latitude</td>\n",
       "      <td>0.222117</td>\n",
       "    </tr>\n",
       "    <tr>\n",
       "      <th>3</th>\n",
       "      <td>3</td>\n",
       "      <td>baths</td>\n",
       "      <td>0.152028</td>\n",
       "    </tr>\n",
       "    <tr>\n",
       "      <th>4</th>\n",
       "      <td>4</td>\n",
       "      <td>beds</td>\n",
       "      <td>0.022751</td>\n",
       "    </tr>\n",
       "  </tbody>\n",
       "</table>\n",
       "</div>"
      ],
      "text/plain": [
       "   index     predictor  importancia\n",
       "0      2     longitude     0.313765\n",
       "1      0  accommodates     0.289339\n",
       "2      1      latitude     0.222117\n",
       "3      3         baths     0.152028\n",
       "4      4          beds     0.022751"
      ]
     },
     "execution_count": 125,
     "metadata": {},
     "output_type": "execute_result"
    }
   ],
   "source": [
    "importancia_predictores_f = pd.DataFrame(\n",
    "                            {'predictor': variables,\n",
    "                             'importancia': rfm_f.feature_importances_}\n",
    "                            )\n",
    "print(\"Importancia de los predictores en el modelo\")\n",
    "importancia_predictores_f = importancia_predictores_f.sort_values('importancia', ascending=False).head(10).reset_index()\n",
    "importancia_predictores_f"
   ]
  },
  {
   "cell_type": "code",
   "execution_count": 126,
   "metadata": {},
   "outputs": [
    {
     "data": {
      "application/vnd.plotly.v1+json": {
       "config": {
        "plotlyServerURL": "https://plot.ly"
       },
       "data": [
        {
         "marker": {
          "color": "steelblue"
         },
         "name": "Importancia de variables",
         "orientation": "h",
         "type": "bar",
         "x": [
          0.31376519763822214,
          0.2893386839625226,
          0.22211674657793584,
          0.15202834430853213,
          0.022751027512787333
         ],
         "y": [
          "longitude",
          "accommodates",
          "latitude",
          "baths",
          "beds"
         ]
        }
       ],
       "layout": {
        "template": {
         "data": {
          "bar": [
           {
            "error_x": {
             "color": "#2a3f5f"
            },
            "error_y": {
             "color": "#2a3f5f"
            },
            "marker": {
             "line": {
              "color": "#E5ECF6",
              "width": 0.5
             },
             "pattern": {
              "fillmode": "overlay",
              "size": 10,
              "solidity": 0.2
             }
            },
            "type": "bar"
           }
          ],
          "barpolar": [
           {
            "marker": {
             "line": {
              "color": "#E5ECF6",
              "width": 0.5
             },
             "pattern": {
              "fillmode": "overlay",
              "size": 10,
              "solidity": 0.2
             }
            },
            "type": "barpolar"
           }
          ],
          "carpet": [
           {
            "aaxis": {
             "endlinecolor": "#2a3f5f",
             "gridcolor": "white",
             "linecolor": "white",
             "minorgridcolor": "white",
             "startlinecolor": "#2a3f5f"
            },
            "baxis": {
             "endlinecolor": "#2a3f5f",
             "gridcolor": "white",
             "linecolor": "white",
             "minorgridcolor": "white",
             "startlinecolor": "#2a3f5f"
            },
            "type": "carpet"
           }
          ],
          "choropleth": [
           {
            "colorbar": {
             "outlinewidth": 0,
             "ticks": ""
            },
            "type": "choropleth"
           }
          ],
          "contour": [
           {
            "colorbar": {
             "outlinewidth": 0,
             "ticks": ""
            },
            "colorscale": [
             [
              0,
              "#0d0887"
             ],
             [
              0.1111111111111111,
              "#46039f"
             ],
             [
              0.2222222222222222,
              "#7201a8"
             ],
             [
              0.3333333333333333,
              "#9c179e"
             ],
             [
              0.4444444444444444,
              "#bd3786"
             ],
             [
              0.5555555555555556,
              "#d8576b"
             ],
             [
              0.6666666666666666,
              "#ed7953"
             ],
             [
              0.7777777777777778,
              "#fb9f3a"
             ],
             [
              0.8888888888888888,
              "#fdca26"
             ],
             [
              1,
              "#f0f921"
             ]
            ],
            "type": "contour"
           }
          ],
          "contourcarpet": [
           {
            "colorbar": {
             "outlinewidth": 0,
             "ticks": ""
            },
            "type": "contourcarpet"
           }
          ],
          "heatmap": [
           {
            "colorbar": {
             "outlinewidth": 0,
             "ticks": ""
            },
            "colorscale": [
             [
              0,
              "#0d0887"
             ],
             [
              0.1111111111111111,
              "#46039f"
             ],
             [
              0.2222222222222222,
              "#7201a8"
             ],
             [
              0.3333333333333333,
              "#9c179e"
             ],
             [
              0.4444444444444444,
              "#bd3786"
             ],
             [
              0.5555555555555556,
              "#d8576b"
             ],
             [
              0.6666666666666666,
              "#ed7953"
             ],
             [
              0.7777777777777778,
              "#fb9f3a"
             ],
             [
              0.8888888888888888,
              "#fdca26"
             ],
             [
              1,
              "#f0f921"
             ]
            ],
            "type": "heatmap"
           }
          ],
          "heatmapgl": [
           {
            "colorbar": {
             "outlinewidth": 0,
             "ticks": ""
            },
            "colorscale": [
             [
              0,
              "#0d0887"
             ],
             [
              0.1111111111111111,
              "#46039f"
             ],
             [
              0.2222222222222222,
              "#7201a8"
             ],
             [
              0.3333333333333333,
              "#9c179e"
             ],
             [
              0.4444444444444444,
              "#bd3786"
             ],
             [
              0.5555555555555556,
              "#d8576b"
             ],
             [
              0.6666666666666666,
              "#ed7953"
             ],
             [
              0.7777777777777778,
              "#fb9f3a"
             ],
             [
              0.8888888888888888,
              "#fdca26"
             ],
             [
              1,
              "#f0f921"
             ]
            ],
            "type": "heatmapgl"
           }
          ],
          "histogram": [
           {
            "marker": {
             "pattern": {
              "fillmode": "overlay",
              "size": 10,
              "solidity": 0.2
             }
            },
            "type": "histogram"
           }
          ],
          "histogram2d": [
           {
            "colorbar": {
             "outlinewidth": 0,
             "ticks": ""
            },
            "colorscale": [
             [
              0,
              "#0d0887"
             ],
             [
              0.1111111111111111,
              "#46039f"
             ],
             [
              0.2222222222222222,
              "#7201a8"
             ],
             [
              0.3333333333333333,
              "#9c179e"
             ],
             [
              0.4444444444444444,
              "#bd3786"
             ],
             [
              0.5555555555555556,
              "#d8576b"
             ],
             [
              0.6666666666666666,
              "#ed7953"
             ],
             [
              0.7777777777777778,
              "#fb9f3a"
             ],
             [
              0.8888888888888888,
              "#fdca26"
             ],
             [
              1,
              "#f0f921"
             ]
            ],
            "type": "histogram2d"
           }
          ],
          "histogram2dcontour": [
           {
            "colorbar": {
             "outlinewidth": 0,
             "ticks": ""
            },
            "colorscale": [
             [
              0,
              "#0d0887"
             ],
             [
              0.1111111111111111,
              "#46039f"
             ],
             [
              0.2222222222222222,
              "#7201a8"
             ],
             [
              0.3333333333333333,
              "#9c179e"
             ],
             [
              0.4444444444444444,
              "#bd3786"
             ],
             [
              0.5555555555555556,
              "#d8576b"
             ],
             [
              0.6666666666666666,
              "#ed7953"
             ],
             [
              0.7777777777777778,
              "#fb9f3a"
             ],
             [
              0.8888888888888888,
              "#fdca26"
             ],
             [
              1,
              "#f0f921"
             ]
            ],
            "type": "histogram2dcontour"
           }
          ],
          "mesh3d": [
           {
            "colorbar": {
             "outlinewidth": 0,
             "ticks": ""
            },
            "type": "mesh3d"
           }
          ],
          "parcoords": [
           {
            "line": {
             "colorbar": {
              "outlinewidth": 0,
              "ticks": ""
             }
            },
            "type": "parcoords"
           }
          ],
          "pie": [
           {
            "automargin": true,
            "type": "pie"
           }
          ],
          "scatter": [
           {
            "fillpattern": {
             "fillmode": "overlay",
             "size": 10,
             "solidity": 0.2
            },
            "type": "scatter"
           }
          ],
          "scatter3d": [
           {
            "line": {
             "colorbar": {
              "outlinewidth": 0,
              "ticks": ""
             }
            },
            "marker": {
             "colorbar": {
              "outlinewidth": 0,
              "ticks": ""
             }
            },
            "type": "scatter3d"
           }
          ],
          "scattercarpet": [
           {
            "marker": {
             "colorbar": {
              "outlinewidth": 0,
              "ticks": ""
             }
            },
            "type": "scattercarpet"
           }
          ],
          "scattergeo": [
           {
            "marker": {
             "colorbar": {
              "outlinewidth": 0,
              "ticks": ""
             }
            },
            "type": "scattergeo"
           }
          ],
          "scattergl": [
           {
            "marker": {
             "colorbar": {
              "outlinewidth": 0,
              "ticks": ""
             }
            },
            "type": "scattergl"
           }
          ],
          "scattermapbox": [
           {
            "marker": {
             "colorbar": {
              "outlinewidth": 0,
              "ticks": ""
             }
            },
            "type": "scattermapbox"
           }
          ],
          "scatterpolar": [
           {
            "marker": {
             "colorbar": {
              "outlinewidth": 0,
              "ticks": ""
             }
            },
            "type": "scatterpolar"
           }
          ],
          "scatterpolargl": [
           {
            "marker": {
             "colorbar": {
              "outlinewidth": 0,
              "ticks": ""
             }
            },
            "type": "scatterpolargl"
           }
          ],
          "scatterternary": [
           {
            "marker": {
             "colorbar": {
              "outlinewidth": 0,
              "ticks": ""
             }
            },
            "type": "scatterternary"
           }
          ],
          "surface": [
           {
            "colorbar": {
             "outlinewidth": 0,
             "ticks": ""
            },
            "colorscale": [
             [
              0,
              "#0d0887"
             ],
             [
              0.1111111111111111,
              "#46039f"
             ],
             [
              0.2222222222222222,
              "#7201a8"
             ],
             [
              0.3333333333333333,
              "#9c179e"
             ],
             [
              0.4444444444444444,
              "#bd3786"
             ],
             [
              0.5555555555555556,
              "#d8576b"
             ],
             [
              0.6666666666666666,
              "#ed7953"
             ],
             [
              0.7777777777777778,
              "#fb9f3a"
             ],
             [
              0.8888888888888888,
              "#fdca26"
             ],
             [
              1,
              "#f0f921"
             ]
            ],
            "type": "surface"
           }
          ],
          "table": [
           {
            "cells": {
             "fill": {
              "color": "#EBF0F8"
             },
             "line": {
              "color": "white"
             }
            },
            "header": {
             "fill": {
              "color": "#C8D4E3"
             },
             "line": {
              "color": "white"
             }
            },
            "type": "table"
           }
          ]
         },
         "layout": {
          "annotationdefaults": {
           "arrowcolor": "#2a3f5f",
           "arrowhead": 0,
           "arrowwidth": 1
          },
          "autotypenumbers": "strict",
          "coloraxis": {
           "colorbar": {
            "outlinewidth": 0,
            "ticks": ""
           }
          },
          "colorscale": {
           "diverging": [
            [
             0,
             "#8e0152"
            ],
            [
             0.1,
             "#c51b7d"
            ],
            [
             0.2,
             "#de77ae"
            ],
            [
             0.3,
             "#f1b6da"
            ],
            [
             0.4,
             "#fde0ef"
            ],
            [
             0.5,
             "#f7f7f7"
            ],
            [
             0.6,
             "#e6f5d0"
            ],
            [
             0.7,
             "#b8e186"
            ],
            [
             0.8,
             "#7fbc41"
            ],
            [
             0.9,
             "#4d9221"
            ],
            [
             1,
             "#276419"
            ]
           ],
           "sequential": [
            [
             0,
             "#0d0887"
            ],
            [
             0.1111111111111111,
             "#46039f"
            ],
            [
             0.2222222222222222,
             "#7201a8"
            ],
            [
             0.3333333333333333,
             "#9c179e"
            ],
            [
             0.4444444444444444,
             "#bd3786"
            ],
            [
             0.5555555555555556,
             "#d8576b"
            ],
            [
             0.6666666666666666,
             "#ed7953"
            ],
            [
             0.7777777777777778,
             "#fb9f3a"
            ],
            [
             0.8888888888888888,
             "#fdca26"
            ],
            [
             1,
             "#f0f921"
            ]
           ],
           "sequentialminus": [
            [
             0,
             "#0d0887"
            ],
            [
             0.1111111111111111,
             "#46039f"
            ],
            [
             0.2222222222222222,
             "#7201a8"
            ],
            [
             0.3333333333333333,
             "#9c179e"
            ],
            [
             0.4444444444444444,
             "#bd3786"
            ],
            [
             0.5555555555555556,
             "#d8576b"
            ],
            [
             0.6666666666666666,
             "#ed7953"
            ],
            [
             0.7777777777777778,
             "#fb9f3a"
            ],
            [
             0.8888888888888888,
             "#fdca26"
            ],
            [
             1,
             "#f0f921"
            ]
           ]
          },
          "colorway": [
           "#636efa",
           "#EF553B",
           "#00cc96",
           "#ab63fa",
           "#FFA15A",
           "#19d3f3",
           "#FF6692",
           "#B6E880",
           "#FF97FF",
           "#FECB52"
          ],
          "font": {
           "color": "#2a3f5f"
          },
          "geo": {
           "bgcolor": "white",
           "lakecolor": "white",
           "landcolor": "#E5ECF6",
           "showlakes": true,
           "showland": true,
           "subunitcolor": "white"
          },
          "hoverlabel": {
           "align": "left"
          },
          "hovermode": "closest",
          "mapbox": {
           "style": "light"
          },
          "paper_bgcolor": "white",
          "plot_bgcolor": "#E5ECF6",
          "polar": {
           "angularaxis": {
            "gridcolor": "white",
            "linecolor": "white",
            "ticks": ""
           },
           "bgcolor": "#E5ECF6",
           "radialaxis": {
            "gridcolor": "white",
            "linecolor": "white",
            "ticks": ""
           }
          },
          "scene": {
           "xaxis": {
            "backgroundcolor": "#E5ECF6",
            "gridcolor": "white",
            "gridwidth": 2,
            "linecolor": "white",
            "showbackground": true,
            "ticks": "",
            "zerolinecolor": "white"
           },
           "yaxis": {
            "backgroundcolor": "#E5ECF6",
            "gridcolor": "white",
            "gridwidth": 2,
            "linecolor": "white",
            "showbackground": true,
            "ticks": "",
            "zerolinecolor": "white"
           },
           "zaxis": {
            "backgroundcolor": "#E5ECF6",
            "gridcolor": "white",
            "gridwidth": 2,
            "linecolor": "white",
            "showbackground": true,
            "ticks": "",
            "zerolinecolor": "white"
           }
          },
          "shapedefaults": {
           "line": {
            "color": "#2a3f5f"
           }
          },
          "ternary": {
           "aaxis": {
            "gridcolor": "white",
            "linecolor": "white",
            "ticks": ""
           },
           "baxis": {
            "gridcolor": "white",
            "linecolor": "white",
            "ticks": ""
           },
           "bgcolor": "#E5ECF6",
           "caxis": {
            "gridcolor": "white",
            "linecolor": "white",
            "ticks": ""
           }
          },
          "title": {
           "x": 0.05
          },
          "xaxis": {
           "automargin": true,
           "gridcolor": "white",
           "linecolor": "white",
           "ticks": "",
           "title": {
            "standoff": 15
           },
           "zerolinecolor": "white",
           "zerolinewidth": 2
          },
          "yaxis": {
           "automargin": true,
           "gridcolor": "white",
           "linecolor": "white",
           "ticks": "",
           "title": {
            "standoff": 15
           },
           "zerolinecolor": "white",
           "zerolinewidth": 2
          }
         }
        },
        "title": {
         "text": "Importancia de variables en el Random Forest con las variables más significativas"
        },
        "xaxis": {
         "title": {
          "text": "Importancia"
         }
        },
        "yaxis": {
         "title": {
          "text": "Variables"
         }
        }
       }
      }
     },
     "metadata": {},
     "output_type": "display_data"
    }
   ],
   "source": [
    "# visualizacion de la importancia mediante un grafico de barras\n",
    "data = [\n",
    "    go.Bar(\n",
    "        y = importancia_predictores_f[\"predictor\"],\n",
    "        x = importancia_predictores_f[\"importancia\"],\n",
    "        marker_color = \"steelblue\",\n",
    "        orientation='h',\n",
    "        name = \"Importancia de variables\"\n",
    "    )      \n",
    "]\n",
    "\n",
    "layout = go.Layout(title = \"Importancia de variables en el Random Forest con las variables más significativas\", xaxis_title = \"Importancia\", yaxis_title = \"Variables\")\n",
    "\n",
    "fig = go.Figure(data = data, layout = layout)\n",
    "\n",
    "fig.show()"
   ]
  }
 ],
 "metadata": {
  "kernelspec": {
   "display_name": "Python 3.7.4 ('base')",
   "language": "python",
   "name": "python3"
  },
  "language_info": {
   "codemirror_mode": {
    "name": "ipython",
    "version": 3
   },
   "file_extension": ".py",
   "mimetype": "text/x-python",
   "name": "python",
   "nbconvert_exporter": "python",
   "pygments_lexer": "ipython3",
   "version": "3.7.4"
  },
  "orig_nbformat": 4,
  "vscode": {
   "interpreter": {
    "hash": "d6cb13f4b35f7c5107d308a10311d5480ad959116e5a128c8f6854de08ef574d"
   }
  }
 },
 "nbformat": 4,
 "nbformat_minor": 2
}
