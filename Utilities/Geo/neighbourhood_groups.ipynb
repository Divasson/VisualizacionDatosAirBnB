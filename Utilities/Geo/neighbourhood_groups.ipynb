{
 "cells": [
  {
   "cell_type": "code",
   "execution_count": 1,
   "metadata": {},
   "outputs": [],
   "source": [
    "import numpy as np\n",
    "import pandas as pd\n",
    "\n",
    "import plotly.express as px\n",
    "import plotly.io as pio\n",
    "\n",
    "import geopandas \n",
    "import json"
   ]
  },
  {
   "cell_type": "code",
   "execution_count": 4,
   "metadata": {},
   "outputs": [],
   "source": [
    "geosonNeighbourhoods = geopandas.read_file(\"../../Data/neighbourhoods/neighbourhoods.geojson\")\n",
    "jsonGeoNeigh = json.load(open(\"../../Data/neighbourhoods/neighbourhoods.geojson\"))"
   ]
  },
  {
   "cell_type": "code",
   "execution_count": 5,
   "metadata": {},
   "outputs": [
    {
     "data": {
      "text/html": [
       "<div>\n",
       "<style scoped>\n",
       "    .dataframe tbody tr th:only-of-type {\n",
       "        vertical-align: middle;\n",
       "    }\n",
       "\n",
       "    .dataframe tbody tr th {\n",
       "        vertical-align: top;\n",
       "    }\n",
       "\n",
       "    .dataframe thead th {\n",
       "        text-align: right;\n",
       "    }\n",
       "</style>\n",
       "<table border=\"1\" class=\"dataframe\">\n",
       "  <thead>\n",
       "    <tr style=\"text-align: right;\">\n",
       "      <th></th>\n",
       "      <th>neighbourhood</th>\n",
       "      <th>neighbourhood_group</th>\n",
       "      <th>geometry</th>\n",
       "    </tr>\n",
       "  </thead>\n",
       "  <tbody>\n",
       "    <tr>\n",
       "      <th>0</th>\n",
       "      <td>Bayswater</td>\n",
       "      <td>Queens</td>\n",
       "      <td>MULTIPOLYGON (((-73.76671 40.61491, -73.76825 ...</td>\n",
       "    </tr>\n",
       "    <tr>\n",
       "      <th>1</th>\n",
       "      <td>Allerton</td>\n",
       "      <td>Bronx</td>\n",
       "      <td>MULTIPOLYGON (((-73.84860 40.87167, -73.84582 ...</td>\n",
       "    </tr>\n",
       "    <tr>\n",
       "      <th>2</th>\n",
       "      <td>City Island</td>\n",
       "      <td>Bronx</td>\n",
       "      <td>MULTIPOLYGON (((-73.78282 40.84392, -73.78257 ...</td>\n",
       "    </tr>\n",
       "    <tr>\n",
       "      <th>3</th>\n",
       "      <td>Ditmars Steinway</td>\n",
       "      <td>Queens</td>\n",
       "      <td>MULTIPOLYGON (((-73.90160 40.76777, -73.90391 ...</td>\n",
       "    </tr>\n",
       "    <tr>\n",
       "      <th>4</th>\n",
       "      <td>Ozone Park</td>\n",
       "      <td>Queens</td>\n",
       "      <td>MULTIPOLYGON (((-73.83754 40.69136, -73.83108 ...</td>\n",
       "    </tr>\n",
       "  </tbody>\n",
       "</table>\n",
       "</div>"
      ],
      "text/plain": [
       "      neighbourhood neighbourhood_group  \\\n",
       "0         Bayswater              Queens   \n",
       "1          Allerton               Bronx   \n",
       "2       City Island               Bronx   \n",
       "3  Ditmars Steinway              Queens   \n",
       "4        Ozone Park              Queens   \n",
       "\n",
       "                                            geometry  \n",
       "0  MULTIPOLYGON (((-73.76671 40.61491, -73.76825 ...  \n",
       "1  MULTIPOLYGON (((-73.84860 40.87167, -73.84582 ...  \n",
       "2  MULTIPOLYGON (((-73.78282 40.84392, -73.78257 ...  \n",
       "3  MULTIPOLYGON (((-73.90160 40.76777, -73.90391 ...  \n",
       "4  MULTIPOLYGON (((-73.83754 40.69136, -73.83108 ...  "
      ]
     },
     "execution_count": 5,
     "metadata": {},
     "output_type": "execute_result"
    }
   ],
   "source": [
    "geosonNeighbourhoods.head()"
   ]
  },
  {
   "cell_type": "code",
   "execution_count": 7,
   "metadata": {},
   "outputs": [],
   "source": [
    "# from https://medium.com/@rfeers/how-to-merge-polygons-using-geopandas-for-python-merging-polygong-data-science-catalonia-7fe15eef2b14\n",
    "def boundary_generator(gdf,string):\n",
    "    \"\"\"Devuelve el multipolígono de todos los barrios pequeños\n",
    "\n",
    "    Args:\n",
    "        gdf (GeoDataFrame): Geo DataFrame con barrios pequeños, grandes y una geometria\n",
    "        string (str): Nombre del barrio grande\n",
    "\n",
    "    Returns:\n",
    "        MULTYPOLYGON: multipolygono suma\n",
    "    \"\"\"\n",
    "    polygons = gdf.loc[(gdf['neighbourhood_group'] == string)]\n",
    "    polygons = polygons['geometry'].unary_union\n",
    "    return polygons\n"
   ]
  },
  {
   "cell_type": "code",
   "execution_count": null,
   "metadata": {},
   "outputs": [],
   "source": [
    "for geofila"
   ]
  }
 ],
 "metadata": {
  "kernelspec": {
   "display_name": "Python 3.9.13 64-bit (microsoft store)",
   "language": "python",
   "name": "python3"
  },
  "language_info": {
   "codemirror_mode": {
    "name": "ipython",
    "version": 3
   },
   "file_extension": ".py",
   "mimetype": "text/x-python",
   "name": "python",
   "nbconvert_exporter": "python",
   "pygments_lexer": "ipython3",
   "version": "3.9.13"
  },
  "orig_nbformat": 4,
  "vscode": {
   "interpreter": {
    "hash": "4dd880eb94ca7f30a815ecdc2564e9969a0d18df4a36ec8890fdaef4f4f4390a"
   }
  }
 },
 "nbformat": 4,
 "nbformat_minor": 2
}
