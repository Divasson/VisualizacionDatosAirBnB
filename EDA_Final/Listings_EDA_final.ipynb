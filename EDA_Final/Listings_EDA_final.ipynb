{
 "cells": [
  {
   "cell_type": "markdown",
   "metadata": {},
   "source": [
    "# INFO DASHBOARD"
   ]
  },
  {
   "cell_type": "markdown",
   "metadata": {},
   "source": [
    "En este documento se encuentran los gráficos que se van a mostrar en el Dashboard final. Estos gráficos mostrarán información extra sobre los alojamientos de Airbnb de NY:\n",
    "   * Pie chart con tipos de casa\n",
    "   * Distribucion de precios (apilado barrios) - dinamico\n",
    "   * Wordcloud features más repetidas\n",
    "   * Response time y superhosts\n",
    "   * Tabla: accomodates, beds, bathrooms\n",
    "   * Occupancy rate (mapa o grafico??)\n",
    "   * Tabla hosts top10 → % de casas sobre total NY"
   ]
  },
  {
   "cell_type": "markdown",
   "metadata": {},
   "source": [
    "Todos estos datos serán actualizados con los siguientes filtros que se insertarán en el dashboard final (Dash)\n",
    "  1. Tipo de casa\n",
    "  2. Barrio grande o todo NY\n",
    "  3. Slider con rango de precios\n",
    "  4. Nota de reseña"
   ]
  },
  {
   "cell_type": "markdown",
   "metadata": {},
   "source": [
    "## Librerías"
   ]
  },
  {
   "cell_type": "code",
   "execution_count": 1,
   "metadata": {},
   "outputs": [],
   "source": [
    "import json\n",
    "import math\n",
    "from itertools import count\n",
    "from urllib.parse import urlencode\n",
    "\n",
    "import geopandas\n",
    "import matplotlib.pyplot as plt\n",
    "import numpy as np\n",
    "import pandas as pd\n",
    "import plotly.express as px\n",
    "import plotly.figure_factory as ff\n",
    "import plotly.graph_objects as go\n",
    "import plotly.io as pio\n",
    "from cv2 import mean\n",
    "from plotly.subplots import make_subplots\n",
    "from sklearn.decomposition import PCA\n",
    "from sklearn.ensemble import RandomForestClassifier\n",
    "from sklearn.linear_model import LogisticRegression\n",
    "from sklearn.metrics import (accuracy_score, auc, classification_report,\n",
    "                             confusion_matrix, roc_auc_score, roc_curve)\n",
    "from sklearn.model_selection import train_test_split\n",
    "from sklearn.preprocessing import StandardScaler, label_binarize\n",
    "from wordcloud import STOPWORDS, WordCloud\n",
    "\n",
    "pio.renderers.default = 'vscode'\n",
    "pio.templates.default = 'plotly'"
   ]
  },
  {
   "cell_type": "markdown",
   "metadata": {},
   "source": [
    "## Importar datos ya filtrados"
   ]
  },
  {
   "cell_type": "markdown",
   "metadata": {},
   "source": [
    "El filtrado y preprocesado de la información está en el archivo:\n",
    "\n",
    "*Actual: dash_graphs_info.ipynb*"
   ]
  },
  {
   "cell_type": "markdown",
   "metadata": {},
   "source": [
    "Import listings"
   ]
  },
  {
   "cell_type": "code",
   "execution_count": null,
   "metadata": {},
   "outputs": [],
   "source": [
    "listings_filtered_df = pd.read_parquet(\"\")\n",
    "pd.options.display.max_columns = None\n",
    "listings_filtered_df.head()"
   ]
  },
  {
   "cell_type": "markdown",
   "metadata": {},
   "source": [
    "Import geojsons"
   ]
  },
  {
   "cell_type": "code",
   "execution_count": null,
   "metadata": {},
   "outputs": [],
   "source": [
    "# lectura de geoson distritos\n",
    "geosonNeighbourhoods = geopandas.read_file(\"../../Data/neighbourhoods/neighbourhoods.geojson\")\n",
    "jsonGeoNeigh = json.load(open(\"../../Data/neighbourhoods/neighbourhoods.geojson\"))\n",
    "\n",
    "# lectura de geoson barrios\n",
    "bigJSONNeigh = json.load(open(\"../../Data/neighbourhoods/bigneighbourhoods.geojson\"))\n",
    "geosonNeighbourhoodsBig = geopandas.read_file(\"../../Data/neighbourhoods/bigneighbourhoods.geojson\")"
   ]
  },
  {
   "cell_type": "markdown",
   "metadata": {},
   "source": [
    "## Objetivo: Maximizar Rentabilidad"
   ]
  },
  {
   "cell_type": "code",
   "execution_count": null,
   "metadata": {},
   "outputs": [],
   "source": []
  },
  {
   "cell_type": "markdown",
   "metadata": {},
   "source": [
    "## Graficos a enseñar en Dash"
   ]
  },
  {
   "cell_type": "markdown",
   "metadata": {},
   "source": [
    "### Tipo de habitación"
   ]
  },
  {
   "cell_type": "code",
   "execution_count": null,
   "metadata": {},
   "outputs": [],
   "source": []
  },
  {
   "cell_type": "markdown",
   "metadata": {},
   "source": [
    "## Distribución de precios \n",
    "\n",
    "*Price cap $1300*"
   ]
  },
  {
   "cell_type": "markdown",
   "metadata": {},
   "source": [
    "Distribución de precios globales"
   ]
  },
  {
   "cell_type": "code",
   "execution_count": null,
   "metadata": {},
   "outputs": [],
   "source": []
  },
  {
   "cell_type": "markdown",
   "metadata": {},
   "source": [
    "Distribucion de precios por barrios"
   ]
  },
  {
   "cell_type": "code",
   "execution_count": null,
   "metadata": {},
   "outputs": [],
   "source": []
  }
 ],
 "metadata": {
  "kernelspec": {
   "display_name": "Python 3.9.13 64-bit (microsoft store)",
   "language": "python",
   "name": "python3"
  },
  "language_info": {
   "codemirror_mode": {
    "name": "ipython",
    "version": 3
   },
   "file_extension": ".py",
   "mimetype": "text/x-python",
   "name": "python",
   "nbconvert_exporter": "python",
   "pygments_lexer": "ipython3",
   "version": "3.9.13"
  },
  "orig_nbformat": 4,
  "vscode": {
   "interpreter": {
    "hash": "4dd880eb94ca7f30a815ecdc2564e9969a0d18df4a36ec8890fdaef4f4f4390a"
   }
  }
 },
 "nbformat": 4,
 "nbformat_minor": 2
}
