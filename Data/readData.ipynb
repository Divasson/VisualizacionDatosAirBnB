{
 "cells": [
  {
   "cell_type": "code",
   "execution_count": 1,
   "metadata": {},
   "outputs": [],
   "source": [
    "import pandas as pd"
   ]
  },
  {
   "cell_type": "code",
   "execution_count": 4,
   "metadata": {},
   "outputs": [],
   "source": [
    "calendar_total_data = pd.read_parquet(\"./total data/raw data parquet/calendar.parquet\")\n",
    "listings_total_data = pd.read_parquet(\"./total data/raw data parquet/listings.parquet\")\n",
    "reviews_total_data  = pd.concat([pd.read_parquet(\"./total data/raw data parquet/reviews_part_01.parquet\"),pd.read_parquet(\"./total data/raw data parquet/reviews_part_02.parquet\"),pd.read_parquet(\"./total data/raw data parquet/reviews_part_03.parquet\")])"
   ]
  }
 ],
 "metadata": {
  "kernelspec": {
   "display_name": "Python 3.9.13 64-bit (microsoft store)",
   "language": "python",
   "name": "python3"
  },
  "language_info": {
   "codemirror_mode": {
    "name": "ipython",
    "version": 3
   },
   "file_extension": ".py",
   "mimetype": "text/x-python",
   "name": "python",
   "nbconvert_exporter": "python",
   "pygments_lexer": "ipython3",
   "version": "3.9.13"
  },
  "orig_nbformat": 4,
  "vscode": {
   "interpreter": {
    "hash": "4dd880eb94ca7f30a815ecdc2564e9969a0d18df4a36ec8890fdaef4f4f4390a"
   }
  }
 },
 "nbformat": 4,
 "nbformat_minor": 2
}
