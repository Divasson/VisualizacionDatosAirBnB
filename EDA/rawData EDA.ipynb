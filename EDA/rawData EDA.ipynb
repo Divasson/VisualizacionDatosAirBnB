{
 "cells": [
  {
   "cell_type": "markdown",
   "metadata": {},
   "source": [
    "# Imports"
   ]
  },
  {
   "cell_type": "code",
   "execution_count": null,
   "metadata": {},
   "outputs": [],
   "source": [
    "import numpy as np\n",
    "from sklearn.decomposition import PCA\n",
    "import pandas as pd\n",
    "import plotly.express as px\n",
    "import plotly.io as pio\n",
    "from sklearn.model_selection import train_test_split\n",
    "from sklearn.preprocessing import StandardScaler\n",
    "import plotly.graph_objects as go\n",
    "import math\n",
    "from plotly.subplots import make_subplots\n",
    "\n",
    "\n",
    "pio.renderers.default = 'vscode'\n",
    "pio.templates.default = 'plotly'\n",
    "\n",
    "from sklearn.linear_model import LogisticRegression\n",
    "from sklearn.ensemble import RandomForestClassifier\n",
    "\n",
    "\n",
    "from sklearn.metrics import accuracy_score\n",
    "from sklearn.metrics import classification_report\n",
    "from sklearn.metrics import roc_auc_score, roc_curve, auc\n",
    "from sklearn.metrics import confusion_matrix\n",
    "from sklearn.preprocessing import label_binarize\n",
    "\n",
    "\n",
    "import plotly.figure_factory as ff\n"
   ]
  },
  {
   "cell_type": "markdown",
   "metadata": {},
   "source": [
    "## load data"
   ]
  },
  {
   "cell_type": "code",
   "execution_count": null,
   "metadata": {},
   "outputs": [],
   "source": [
    "import pandas as pd\n",
    "\n",
    "calendar_total_data = pd.read_parquet(\"../Data/total data/raw data parquet/calendar.parquet\")\n",
    "\n",
    "reviews_total_data  = pd.concat([pd.read_parquet(\"../Data/total data/raw data parquet/reviews_part_01.parquet\"),pd.read_parquet(\"../Data/total data/raw data parquet/reviews_part_02.parquet\"),pd.read_parquet(\"../Data/total data/raw data parquet/reviews_part_03.parquet\")])\n"
   ]
  },
  {
   "cell_type": "markdown",
   "metadata": {},
   "source": [
    "# EDA"
   ]
  },
  {
   "cell_type": "markdown",
   "metadata": {},
   "source": [
    "## calendar file"
   ]
  },
  {
   "cell_type": "code",
   "execution_count": null,
   "metadata": {},
   "outputs": [],
   "source": [
    "calendar_total_data.size"
   ]
  },
  {
   "cell_type": "code",
   "execution_count": null,
   "metadata": {},
   "outputs": [],
   "source": [
    "calendar_total_data.dtypes"
   ]
  },
  {
   "cell_type": "code",
   "execution_count": null,
   "metadata": {},
   "outputs": [],
   "source": [
    "calendar_total_data.head()"
   ]
  },
  {
   "cell_type": "code",
   "execution_count": null,
   "metadata": {},
   "outputs": [],
   "source": [
    "print(\"El fichero tiene \"+str(len(calendar_total_data[\"listing_id\"].unique()))+\" viviendas\")"
   ]
  },
  {
   "cell_type": "code",
   "execution_count": null,
   "metadata": {},
   "outputs": [],
   "source": [
    "calendar_total_data.isna().sum()"
   ]
  },
  {
   "cell_type": "code",
   "execution_count": null,
   "metadata": {},
   "outputs": [],
   "source": [
    "from pandas import NA\n",
    "\n",
    "\n",
    "calendar_total_data_NAs = pd.concat([calendar_total_data[calendar_total_data[\"price\"].isna()],calendar_total_data[calendar_total_data[\"adjusted_price\"].isna()],calendar_total_data[calendar_total_data[\"minimum_nights\"].isna()],calendar_total_data[calendar_total_data[\"maximum_nights\"].isna()]])\n",
    "calendar_total_data_NAs = calendar_total_data_NAs.drop_duplicates()\n",
    "calendar_total_data_NAs.head()"
   ]
  },
  {
   "cell_type": "code",
   "execution_count": null,
   "metadata": {},
   "outputs": [],
   "source": [
    "print(\"Number of rows without data = \"+str(len(calendar_total_data_NAs.index.unique())) )"
   ]
  },
  {
   "cell_type": "code",
   "execution_count": null,
   "metadata": {},
   "outputs": [],
   "source": [
    "print(\"El número de listings que no tienen datos son \"+str(len(calendar_total_data_NAs[\"listing_id\"].unique())))\n",
    "print(\"Esto representa el \"+str(100*len(calendar_total_data_NAs[\"listing_id\"].unique())/len(calendar_total_data[\"listing_id\"].unique()))+\"% de los ids\")"
   ]
  },
  {
   "cell_type": "code",
   "execution_count": null,
   "metadata": {},
   "outputs": [],
   "source": [
    "calendar_total_no_NA = calendar_total_data.dropna()\n",
    "print(\"Existen \"+str(len(calendar_total_no_NA[\"listing_id\"].unique()))+\" viviendas con todos los datos\")"
   ]
  },
  {
   "cell_type": "code",
   "execution_count": null,
   "metadata": {},
   "outputs": [],
   "source": [
    "calendar_total_no_NA.head()"
   ]
  },
  {
   "cell_type": "code",
   "execution_count": null,
   "metadata": {},
   "outputs": [],
   "source": [
    "calendar_total_no_NA[\"priceNum\"] =calendar_total_no_NA[\"price\"].apply(lambda x: float(x.split()[0].replace('$', '').replace(',','')))\n",
    "calendar_total_no_NA[\"adjPriceNum\"] = calendar_total_no_NA[\"adjusted_price\"].apply(lambda x: float(x.split()[0].replace('$', '').replace(',','')))"
   ]
  },
  {
   "cell_type": "code",
   "execution_count": null,
   "metadata": {},
   "outputs": [],
   "source": [
    "calendar_total_no_NA[\"date\"] = pd.to_datetime(calendar_total_no_NA[\"date\"], errors='coerce')"
   ]
  },
  {
   "cell_type": "code",
   "execution_count": null,
   "metadata": {},
   "outputs": [],
   "source": [
    "calendar_total_no_NA.head()"
   ]
  },
  {
   "cell_type": "code",
   "execution_count": null,
   "metadata": {},
   "outputs": [],
   "source": [
    "fig = px.line(data_frame=calendar_total_no_NA[(calendar_total_no_NA[\"listing_id\"]<=20000)], x='date', y='priceNum', color='listing_id')\n",
    "fig.show()\n"
   ]
  },
  {
   "cell_type": "code",
   "execution_count": null,
   "metadata": {},
   "outputs": [],
   "source": [
    "calendar_total_no_NA[\"diff\"] = calendar_total_no_NA[\"priceNum\"] - calendar_total_no_NA[\"adjPriceNum\"]"
   ]
  },
  {
   "cell_type": "code",
   "execution_count": null,
   "metadata": {},
   "outputs": [],
   "source": [
    "calendar_total_no_NA.groupby(\"listing_id\",as_index=False).mean(\"diff\")[\"diff\"].describe()"
   ]
  },
  {
   "cell_type": "code",
   "execution_count": null,
   "metadata": {},
   "outputs": [],
   "source": []
  },
  {
   "cell_type": "code",
   "execution_count": null,
   "metadata": {},
   "outputs": [],
   "source": []
  }
 ],
 "metadata": {
  "kernelspec": {
   "display_name": "Python 3.9.13 64-bit (microsoft store)",
   "language": "python",
   "name": "python3"
  },
  "language_info": {
   "codemirror_mode": {
    "name": "ipython",
    "version": 3
   },
   "file_extension": ".py",
   "mimetype": "text/x-python",
   "name": "python",
   "nbconvert_exporter": "python",
   "pygments_lexer": "ipython3",
   "version": "3.9.13"
  },
  "orig_nbformat": 4,
  "vscode": {
   "interpreter": {
    "hash": "4dd880eb94ca7f30a815ecdc2564e9969a0d18df4a36ec8890fdaef4f4f4390a"
   }
  }
 },
 "nbformat": 4,
 "nbformat_minor": 2
}
